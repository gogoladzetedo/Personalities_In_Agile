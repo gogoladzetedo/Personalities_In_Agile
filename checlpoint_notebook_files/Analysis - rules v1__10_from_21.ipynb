{
 "cells": [
  {
   "cell_type": "markdown",
   "metadata": {},
   "source": [
    "<h1> The Importance of Personality Traits in Agile Software Development: A Case Study </h1>\n",
    "<hr/>"
   ]
  },
  {
   "cell_type": "markdown",
   "metadata": {},
   "source": [
    "<h2> 1.0 Developers` personality insight analysis <hr />\n",
    "using the open source datasets of eoght software development teams JIRA logs </h2>"
   ]
  },
  {
   "cell_type": "markdown",
   "metadata": {},
   "source": [
    "<h3>1.0.1 load libraries and datasets</h3>"
   ]
  },
  {
   "cell_type": "code",
   "execution_count": 2,
   "metadata": {},
   "outputs": [],
   "source": [
    "import pandas as pd\n",
    "import numpy as np\n",
    "from matplotlib import pyplot as plt\n",
    "from matplotlib.ticker import PercentFormatter\n",
    "from matplotlib.patches import Rectangle\n",
    "import seaborn as sns\n",
    "import re\n",
    "from collections import Counter"
   ]
  },
  {
   "cell_type": "code",
   "execution_count": 3,
   "metadata": {},
   "outputs": [],
   "source": [
    "changelog = pd.read_csv('jiradataset_changelog.csv')\n",
    "issues = pd.read_csv('jiradataset_issues.csv')\n",
    "sprints = pd.read_csv('jiradataset_sprints.csv')\n",
    "users = pd.read_csv('jiradataset_users.csv')"
   ]
  },
  {
   "cell_type": "markdown",
   "metadata": {},
   "source": [
    "<h3> 1.0.2 Check the datasets </h3>\n",
    "\n"
   ]
  },
  {
   "cell_type": "code",
   "execution_count": 4,
   "metadata": {},
   "outputs": [
    {
     "data": {
      "text/html": [
       "<div>\n",
       "<style scoped>\n",
       "    .dataframe tbody tr th:only-of-type {\n",
       "        vertical-align: middle;\n",
       "    }\n",
       "\n",
       "    .dataframe tbody tr th {\n",
       "        vertical-align: top;\n",
       "    }\n",
       "\n",
       "    .dataframe thead th {\n",
       "        text-align: right;\n",
       "    }\n",
       "</style>\n",
       "<table border=\"1\" class=\"dataframe\">\n",
       "  <thead>\n",
       "    <tr style=\"text-align: right;\">\n",
       "      <th></th>\n",
       "      <th>author</th>\n",
       "      <th>created</th>\n",
       "      <th>field</th>\n",
       "      <th>fieldtype</th>\n",
       "      <th>from</th>\n",
       "      <th>fromString</th>\n",
       "      <th>key</th>\n",
       "      <th>project</th>\n",
       "      <th>to</th>\n",
       "      <th>toString</th>\n",
       "    </tr>\n",
       "  </thead>\n",
       "  <tbody>\n",
       "    <tr>\n",
       "      <th>0</th>\n",
       "      <td>jvalkeal</td>\n",
       "      <td>2016-03-03 18:40:53.171</td>\n",
       "      <td>status</td>\n",
       "      <td>jira</td>\n",
       "      <td>10000</td>\n",
       "      <td>To Do</td>\n",
       "      <td>XD-3751</td>\n",
       "      <td>xd</td>\n",
       "      <td>3</td>\n",
       "      <td>In Progress</td>\n",
       "    </tr>\n",
       "    <tr>\n",
       "      <th>1</th>\n",
       "      <td>jvalkeal</td>\n",
       "      <td>2016-03-03 18:41:19.429</td>\n",
       "      <td>Pull Request URL</td>\n",
       "      <td>custom</td>\n",
       "      <td>NaN</td>\n",
       "      <td>NaN</td>\n",
       "      <td>XD-3751</td>\n",
       "      <td>xd</td>\n",
       "      <td>NaN</td>\n",
       "      <td>https://github.com/spring-projects/spring-xd/p...</td>\n",
       "    </tr>\n",
       "    <tr>\n",
       "      <th>2</th>\n",
       "      <td>jvalkeal</td>\n",
       "      <td>2016-03-03 18:41:19.429</td>\n",
       "      <td>status</td>\n",
       "      <td>jira</td>\n",
       "      <td>3</td>\n",
       "      <td>In Progress</td>\n",
       "      <td>XD-3751</td>\n",
       "      <td>xd</td>\n",
       "      <td>10006</td>\n",
       "      <td>In PR</td>\n",
       "    </tr>\n",
       "  </tbody>\n",
       "</table>\n",
       "</div>"
      ],
      "text/plain": [
       "     author                  created             field fieldtype   from  \\\n",
       "0  jvalkeal  2016-03-03 18:40:53.171            status      jira  10000   \n",
       "1  jvalkeal  2016-03-03 18:41:19.429  Pull Request URL    custom    NaN   \n",
       "2  jvalkeal  2016-03-03 18:41:19.429            status      jira      3   \n",
       "\n",
       "    fromString      key project     to  \\\n",
       "0        To Do  XD-3751      xd      3   \n",
       "1          NaN  XD-3751      xd    NaN   \n",
       "2  In Progress  XD-3751      xd  10006   \n",
       "\n",
       "                                            toString  \n",
       "0                                        In Progress  \n",
       "1  https://github.com/spring-projects/spring-xd/p...  \n",
       "2                                              In PR  "
      ]
     },
     "execution_count": 4,
     "metadata": {},
     "output_type": "execute_result"
    }
   ],
   "source": [
    "changelog.head(3)"
   ]
  },
  {
   "cell_type": "code",
   "execution_count": 5,
   "metadata": {},
   "outputs": [
    {
     "data": {
      "text/html": [
       "<div>\n",
       "<style scoped>\n",
       "    .dataframe tbody tr th:only-of-type {\n",
       "        vertical-align: middle;\n",
       "    }\n",
       "\n",
       "    .dataframe tbody tr th {\n",
       "        vertical-align: top;\n",
       "    }\n",
       "\n",
       "    .dataframe thead th {\n",
       "        text-align: right;\n",
       "    }\n",
       "</style>\n",
       "<table border=\"1\" class=\"dataframe\">\n",
       "  <thead>\n",
       "    <tr style=\"text-align: right;\">\n",
       "      <th></th>\n",
       "      <th>fields.assignee.name</th>\n",
       "      <th>fields.components</th>\n",
       "      <th>fields.created</th>\n",
       "      <th>fields.creator.name</th>\n",
       "      <th>fields.description</th>\n",
       "      <th>fields.fixVersions</th>\n",
       "      <th>fields.issuetype.name</th>\n",
       "      <th>fields.issuetype.subtask</th>\n",
       "      <th>fields.priority.name</th>\n",
       "      <th>fields.reporter.name</th>\n",
       "      <th>...</th>\n",
       "      <th>fields.status.name</th>\n",
       "      <th>fields.status.statusCategory.name</th>\n",
       "      <th>fields.summary</th>\n",
       "      <th>fields.updated</th>\n",
       "      <th>fields.versions</th>\n",
       "      <th>fields.watches.watchCount</th>\n",
       "      <th>key</th>\n",
       "      <th>storypoints</th>\n",
       "      <th>project</th>\n",
       "      <th>sprint</th>\n",
       "    </tr>\n",
       "  </thead>\n",
       "  <tbody>\n",
       "    <tr>\n",
       "      <th>0</th>\n",
       "      <td>NaN</td>\n",
       "      <td>[{u'id': u'12786', u'self': u'https://jira.spr...</td>\n",
       "      <td>2016-03-31T22:35:55.000+0000</td>\n",
       "      <td>thomas.risberg</td>\n",
       "      <td>The MapReduce samples should have \"yarn.resour...</td>\n",
       "      <td>[]</td>\n",
       "      <td>Improvement</td>\n",
       "      <td>False</td>\n",
       "      <td>Minor</td>\n",
       "      <td>thomas.risberg</td>\n",
       "      <td>...</td>\n",
       "      <td>To Do</td>\n",
       "      <td>To Do</td>\n",
       "      <td>Add \"yarn.resourcemanager.scheduler.address\" t...</td>\n",
       "      <td>2016-03-31T22:35:55.000+0000</td>\n",
       "      <td>[]</td>\n",
       "      <td>1</td>\n",
       "      <td>XD-3753</td>\n",
       "      <td>2.0</td>\n",
       "      <td>xd</td>\n",
       "      <td>NaN</td>\n",
       "    </tr>\n",
       "    <tr>\n",
       "      <th>1</th>\n",
       "      <td>NaN</td>\n",
       "      <td>[{u'id': u'12784', u'self': u'https://jira.spr...</td>\n",
       "      <td>2016-03-14T18:09:51.000+0000</td>\n",
       "      <td>manju4ever</td>\n",
       "      <td>When i use the admin-ui web portal which runs ...</td>\n",
       "      <td>[]</td>\n",
       "      <td>Bug</td>\n",
       "      <td>False</td>\n",
       "      <td>Trivial</td>\n",
       "      <td>manju4ever</td>\n",
       "      <td>...</td>\n",
       "      <td>To Do</td>\n",
       "      <td>To Do</td>\n",
       "      <td>Admin UI login Page failing to load due to req...</td>\n",
       "      <td>2016-03-14T18:09:51.000+0000</td>\n",
       "      <td>[{u'archived': False, u'description': u'1.3.0 ...</td>\n",
       "      <td>1</td>\n",
       "      <td>XD-3752</td>\n",
       "      <td>20.0</td>\n",
       "      <td>xd</td>\n",
       "      <td>NaN</td>\n",
       "    </tr>\n",
       "    <tr>\n",
       "      <th>2</th>\n",
       "      <td>jvalkeal</td>\n",
       "      <td>[]</td>\n",
       "      <td>2016-03-03T13:22:14.000+0000</td>\n",
       "      <td>jvalkeal</td>\n",
       "      <td>In a case where reactor's ringbuffer is full a...</td>\n",
       "      <td>[]</td>\n",
       "      <td>Bug</td>\n",
       "      <td>False</td>\n",
       "      <td>Major</td>\n",
       "      <td>jvalkeal</td>\n",
       "      <td>...</td>\n",
       "      <td>In PR</td>\n",
       "      <td>In Progress</td>\n",
       "      <td>gpfdist may fail to shutdown with backlog</td>\n",
       "      <td>2016-03-03T18:41:19.000+0000</td>\n",
       "      <td>[{u'archived': False, u'name': u'1.3.1', u'sel...</td>\n",
       "      <td>1</td>\n",
       "      <td>XD-3751</td>\n",
       "      <td>5.0</td>\n",
       "      <td>xd</td>\n",
       "      <td>NaN</td>\n",
       "    </tr>\n",
       "  </tbody>\n",
       "</table>\n",
       "<p>3 rows × 24 columns</p>\n",
       "</div>"
      ],
      "text/plain": [
       "  fields.assignee.name                                  fields.components  \\\n",
       "0                  NaN  [{u'id': u'12786', u'self': u'https://jira.spr...   \n",
       "1                  NaN  [{u'id': u'12784', u'self': u'https://jira.spr...   \n",
       "2             jvalkeal                                                 []   \n",
       "\n",
       "                 fields.created fields.creator.name  \\\n",
       "0  2016-03-31T22:35:55.000+0000      thomas.risberg   \n",
       "1  2016-03-14T18:09:51.000+0000          manju4ever   \n",
       "2  2016-03-03T13:22:14.000+0000            jvalkeal   \n",
       "\n",
       "                                  fields.description fields.fixVersions  \\\n",
       "0  The MapReduce samples should have \"yarn.resour...                 []   \n",
       "1  When i use the admin-ui web portal which runs ...                 []   \n",
       "2  In a case where reactor's ringbuffer is full a...                 []   \n",
       "\n",
       "  fields.issuetype.name  fields.issuetype.subtask fields.priority.name  \\\n",
       "0           Improvement                     False                Minor   \n",
       "1                   Bug                     False              Trivial   \n",
       "2                   Bug                     False                Major   \n",
       "\n",
       "  fields.reporter.name  ... fields.status.name  \\\n",
       "0       thomas.risberg  ...              To Do   \n",
       "1           manju4ever  ...              To Do   \n",
       "2             jvalkeal  ...              In PR   \n",
       "\n",
       "  fields.status.statusCategory.name  \\\n",
       "0                             To Do   \n",
       "1                             To Do   \n",
       "2                       In Progress   \n",
       "\n",
       "                                      fields.summary  \\\n",
       "0  Add \"yarn.resourcemanager.scheduler.address\" t...   \n",
       "1  Admin UI login Page failing to load due to req...   \n",
       "2          gpfdist may fail to shutdown with backlog   \n",
       "\n",
       "                 fields.updated  \\\n",
       "0  2016-03-31T22:35:55.000+0000   \n",
       "1  2016-03-14T18:09:51.000+0000   \n",
       "2  2016-03-03T18:41:19.000+0000   \n",
       "\n",
       "                                     fields.versions  \\\n",
       "0                                                 []   \n",
       "1  [{u'archived': False, u'description': u'1.3.0 ...   \n",
       "2  [{u'archived': False, u'name': u'1.3.1', u'sel...   \n",
       "\n",
       "  fields.watches.watchCount      key storypoints project  sprint  \n",
       "0                         1  XD-3753         2.0      xd     NaN  \n",
       "1                         1  XD-3752        20.0      xd     NaN  \n",
       "2                         1  XD-3751         5.0      xd     NaN  \n",
       "\n",
       "[3 rows x 24 columns]"
      ]
     },
     "execution_count": 5,
     "metadata": {},
     "output_type": "execute_result"
    }
   ],
   "source": [
    "issues.head(3)"
   ]
  },
  {
   "cell_type": "code",
   "execution_count": 6,
   "metadata": {},
   "outputs": [
    {
     "data": {
      "text/html": [
       "<div>\n",
       "<style scoped>\n",
       "    .dataframe tbody tr th:only-of-type {\n",
       "        vertical-align: middle;\n",
       "    }\n",
       "\n",
       "    .dataframe tbody tr th {\n",
       "        vertical-align: top;\n",
       "    }\n",
       "\n",
       "    .dataframe thead th {\n",
       "        text-align: right;\n",
       "    }\n",
       "</style>\n",
       "<table border=\"1\" class=\"dataframe\">\n",
       "  <thead>\n",
       "    <tr style=\"text-align: right;\">\n",
       "      <th></th>\n",
       "      <th>key</th>\n",
       "      <th>project</th>\n",
       "      <th>sprint.completeDate</th>\n",
       "      <th>sprint.endDate</th>\n",
       "      <th>sprint.id</th>\n",
       "      <th>sprint.name</th>\n",
       "      <th>sprint.startDate</th>\n",
       "      <th>sprint.state</th>\n",
       "    </tr>\n",
       "  </thead>\n",
       "  <tbody>\n",
       "    <tr>\n",
       "      <th>0</th>\n",
       "      <td>XD-3744</td>\n",
       "      <td>xd</td>\n",
       "      <td>2016-02-26T16:32:18.620Z</td>\n",
       "      <td>2016-02-26T08:34:00.000Z</td>\n",
       "      <td>108</td>\n",
       "      <td>Sprint 68</td>\n",
       "      <td>2016-02-16T00:38:45.289Z</td>\n",
       "      <td>CLOSED</td>\n",
       "    </tr>\n",
       "    <tr>\n",
       "      <th>1</th>\n",
       "      <td>XD-3743</td>\n",
       "      <td>xd</td>\n",
       "      <td>2016-02-26T16:32:18.620Z</td>\n",
       "      <td>2016-02-26T08:34:00.000Z</td>\n",
       "      <td>108</td>\n",
       "      <td>Sprint 68</td>\n",
       "      <td>2016-02-16T00:38:45.289Z</td>\n",
       "      <td>CLOSED</td>\n",
       "    </tr>\n",
       "    <tr>\n",
       "      <th>2</th>\n",
       "      <td>XD-3742</td>\n",
       "      <td>xd</td>\n",
       "      <td>2016-02-26T16:32:18.620Z</td>\n",
       "      <td>2016-02-26T08:34:00.000Z</td>\n",
       "      <td>108</td>\n",
       "      <td>Sprint 68</td>\n",
       "      <td>2016-02-16T00:38:45.289Z</td>\n",
       "      <td>CLOSED</td>\n",
       "    </tr>\n",
       "  </tbody>\n",
       "</table>\n",
       "</div>"
      ],
      "text/plain": [
       "       key project       sprint.completeDate            sprint.endDate  \\\n",
       "0  XD-3744      xd  2016-02-26T16:32:18.620Z  2016-02-26T08:34:00.000Z   \n",
       "1  XD-3743      xd  2016-02-26T16:32:18.620Z  2016-02-26T08:34:00.000Z   \n",
       "2  XD-3742      xd  2016-02-26T16:32:18.620Z  2016-02-26T08:34:00.000Z   \n",
       "\n",
       "   sprint.id sprint.name          sprint.startDate sprint.state  \n",
       "0        108   Sprint 68  2016-02-16T00:38:45.289Z       CLOSED  \n",
       "1        108   Sprint 68  2016-02-16T00:38:45.289Z       CLOSED  \n",
       "2        108   Sprint 68  2016-02-16T00:38:45.289Z       CLOSED  "
      ]
     },
     "execution_count": 6,
     "metadata": {},
     "output_type": "execute_result"
    }
   ],
   "source": [
    "sprints.head(3)"
   ]
  },
  {
   "cell_type": "code",
   "execution_count": 7,
   "metadata": {},
   "outputs": [
    {
     "data": {
      "text/html": [
       "<div>\n",
       "<style scoped>\n",
       "    .dataframe tbody tr th:only-of-type {\n",
       "        vertical-align: middle;\n",
       "    }\n",
       "\n",
       "    .dataframe tbody tr th {\n",
       "        vertical-align: top;\n",
       "    }\n",
       "\n",
       "    .dataframe thead th {\n",
       "        text-align: right;\n",
       "    }\n",
       "</style>\n",
       "<table border=\"1\" class=\"dataframe\">\n",
       "  <thead>\n",
       "    <tr style=\"text-align: right;\">\n",
       "      <th></th>\n",
       "      <th>Unnamed: 0</th>\n",
       "      <th>displayName</th>\n",
       "      <th>emailAddress</th>\n",
       "      <th>name</th>\n",
       "      <th>project</th>\n",
       "      <th>role</th>\n",
       "      <th>timeZone</th>\n",
       "    </tr>\n",
       "  </thead>\n",
       "  <tbody>\n",
       "    <tr>\n",
       "      <th>0</th>\n",
       "      <td>0</td>\n",
       "      <td>NaN</td>\n",
       "      <td>NaN</td>\n",
       "      <td>NaN</td>\n",
       "      <td>xd</td>\n",
       "      <td>assignee</td>\n",
       "      <td>NaN</td>\n",
       "    </tr>\n",
       "    <tr>\n",
       "      <th>1</th>\n",
       "      <td>2</td>\n",
       "      <td>Janne Valkealahti</td>\n",
       "      <td>janne dot valkealahti at gmail dot com</td>\n",
       "      <td>jvalkeal</td>\n",
       "      <td>xd</td>\n",
       "      <td>assignee</td>\n",
       "      <td>Europe/London</td>\n",
       "    </tr>\n",
       "    <tr>\n",
       "      <th>2</th>\n",
       "      <td>5</td>\n",
       "      <td>Gary Russell</td>\n",
       "      <td>grussell at gopivotal dot com</td>\n",
       "      <td>grussell</td>\n",
       "      <td>xd</td>\n",
       "      <td>assignee</td>\n",
       "      <td>America/New_York</td>\n",
       "    </tr>\n",
       "  </tbody>\n",
       "</table>\n",
       "</div>"
      ],
      "text/plain": [
       "   Unnamed: 0        displayName                            emailAddress  \\\n",
       "0           0                NaN                                     NaN   \n",
       "1           2  Janne Valkealahti  janne dot valkealahti at gmail dot com   \n",
       "2           5       Gary Russell           grussell at gopivotal dot com   \n",
       "\n",
       "       name project      role          timeZone  \n",
       "0       NaN      xd  assignee               NaN  \n",
       "1  jvalkeal      xd  assignee     Europe/London  \n",
       "2  grussell      xd  assignee  America/New_York  "
      ]
     },
     "execution_count": 7,
     "metadata": {},
     "output_type": "execute_result"
    }
   ],
   "source": [
    "users.head(3)"
   ]
  },
  {
   "cell_type": "code",
   "execution_count": 8,
   "metadata": {},
   "outputs": [
    {
     "data": {
      "text/html": [
       "<div>\n",
       "<style scoped>\n",
       "    .dataframe tbody tr th:only-of-type {\n",
       "        vertical-align: middle;\n",
       "    }\n",
       "\n",
       "    .dataframe tbody tr th {\n",
       "        vertical-align: top;\n",
       "    }\n",
       "\n",
       "    .dataframe thead th {\n",
       "        text-align: right;\n",
       "    }\n",
       "</style>\n",
       "<table border=\"1\" class=\"dataframe\">\n",
       "  <thead>\n",
       "    <tr style=\"text-align: right;\">\n",
       "      <th></th>\n",
       "      <th>author</th>\n",
       "      <th>created</th>\n",
       "      <th>field</th>\n",
       "      <th>fieldtype</th>\n",
       "      <th>from</th>\n",
       "      <th>fromString</th>\n",
       "      <th>key</th>\n",
       "      <th>project</th>\n",
       "      <th>to</th>\n",
       "      <th>toString</th>\n",
       "    </tr>\n",
       "  </thead>\n",
       "  <tbody>\n",
       "    <tr>\n",
       "      <th>0</th>\n",
       "      <td>jvalkeal</td>\n",
       "      <td>2016-03-03 18:40:53.171</td>\n",
       "      <td>status</td>\n",
       "      <td>jira</td>\n",
       "      <td>10000</td>\n",
       "      <td>To Do</td>\n",
       "      <td>XD-3751</td>\n",
       "      <td>xd</td>\n",
       "      <td>3</td>\n",
       "      <td>In Progress</td>\n",
       "    </tr>\n",
       "    <tr>\n",
       "      <th>1</th>\n",
       "      <td>jvalkeal</td>\n",
       "      <td>2016-03-03 18:41:19.429</td>\n",
       "      <td>Pull Request URL</td>\n",
       "      <td>custom</td>\n",
       "      <td>NaN</td>\n",
       "      <td>NaN</td>\n",
       "      <td>XD-3751</td>\n",
       "      <td>xd</td>\n",
       "      <td>NaN</td>\n",
       "      <td>https://github.com/spring-projects/spring-xd/p...</td>\n",
       "    </tr>\n",
       "    <tr>\n",
       "      <th>2</th>\n",
       "      <td>jvalkeal</td>\n",
       "      <td>2016-03-03 18:41:19.429</td>\n",
       "      <td>status</td>\n",
       "      <td>jira</td>\n",
       "      <td>3</td>\n",
       "      <td>In Progress</td>\n",
       "      <td>XD-3751</td>\n",
       "      <td>xd</td>\n",
       "      <td>10006</td>\n",
       "      <td>In PR</td>\n",
       "    </tr>\n",
       "  </tbody>\n",
       "</table>\n",
       "</div>"
      ],
      "text/plain": [
       "     author                  created             field fieldtype   from  \\\n",
       "0  jvalkeal  2016-03-03 18:40:53.171            status      jira  10000   \n",
       "1  jvalkeal  2016-03-03 18:41:19.429  Pull Request URL    custom    NaN   \n",
       "2  jvalkeal  2016-03-03 18:41:19.429            status      jira      3   \n",
       "\n",
       "    fromString      key project     to  \\\n",
       "0        To Do  XD-3751      xd      3   \n",
       "1          NaN  XD-3751      xd    NaN   \n",
       "2  In Progress  XD-3751      xd  10006   \n",
       "\n",
       "                                            toString  \n",
       "0                                        In Progress  \n",
       "1  https://github.com/spring-projects/spring-xd/p...  \n",
       "2                                              In PR  "
      ]
     },
     "execution_count": 8,
     "metadata": {},
     "output_type": "execute_result"
    }
   ],
   "source": [
    "changelog.head(3)"
   ]
  },
  {
   "cell_type": "markdown",
   "metadata": {},
   "source": [
    "\n",
    "<h3>1.1 Check the datasets for the manually written textual values</h3>\n",
    "<h5>1.1.1 within 'changelog' take two examplary row values from each unique field, store into dataframe, export into csv and check manually</h5>"
   ]
  },
  {
   "cell_type": "code",
   "execution_count": 9,
   "metadata": {},
   "outputs": [
    {
     "data": {
      "text/html": [
       "<div>\n",
       "<style scoped>\n",
       "    .dataframe tbody tr th:only-of-type {\n",
       "        vertical-align: middle;\n",
       "    }\n",
       "\n",
       "    .dataframe tbody tr th {\n",
       "        vertical-align: top;\n",
       "    }\n",
       "\n",
       "    .dataframe thead th {\n",
       "        text-align: right;\n",
       "    }\n",
       "</style>\n",
       "<table border=\"1\" class=\"dataframe\">\n",
       "  <thead>\n",
       "    <tr style=\"text-align: right;\">\n",
       "      <th></th>\n",
       "      <th>id</th>\n",
       "      <th>field</th>\n",
       "      <th>from</th>\n",
       "      <th>to</th>\n",
       "      <th>fromString</th>\n",
       "      <th>toString</th>\n",
       "    </tr>\n",
       "  </thead>\n",
       "  <tbody>\n",
       "    <tr>\n",
       "      <th>0</th>\n",
       "      <td>1</td>\n",
       "      <td>status</td>\n",
       "      <td>0          To Do\n",
       "2    In Progress\n",
       "Name: fromSt...</td>\n",
       "      <td>0    In Progress\n",
       "2          In PR\n",
       "Name: toStri...</td>\n",
       "      <td>0    10000\n",
       "2        3\n",
       "Name: from, dtype: object</td>\n",
       "      <td>0        3\n",
       "2    10006\n",
       "Name: to, dtype: object</td>\n",
       "    </tr>\n",
       "    <tr>\n",
       "      <th>1</th>\n",
       "      <td>2</td>\n",
       "      <td>Pull Request URL</td>\n",
       "      <td>1     NaN\n",
       "13    NaN\n",
       "Name: fromString, dtype: o...</td>\n",
       "      <td>1     https://github.com/spring-projects/sprin...</td>\n",
       "      <td>1     NaN\n",
       "13    NaN\n",
       "Name: from, dtype: object</td>\n",
       "      <td>1     NaN\n",
       "13    NaN\n",
       "Name: to, dtype: object</td>\n",
       "    </tr>\n",
       "    <tr>\n",
       "      <th>2</th>\n",
       "      <td>3</td>\n",
       "      <td>summary</td>\n",
       "      <td>3    Can completely remove module after puttin...</td>\n",
       "      <td>3    Can completely remove custom module after...</td>\n",
       "      <td>3    NaN\n",
       "5    NaN\n",
       "Name: from, dtype: object</td>\n",
       "      <td>3    NaN\n",
       "5    NaN\n",
       "Name: to, dtype: object</td>\n",
       "    </tr>\n",
       "    <tr>\n",
       "      <th>3</th>\n",
       "      <td>4</td>\n",
       "      <td>issuetype</td>\n",
       "      <td>4     Story\n",
       "17    Story\n",
       "Name: fromString, dtyp...</td>\n",
       "      <td>4             Bug\n",
       "17    Improvement\n",
       "Name: toSt...</td>\n",
       "      <td>4     8\n",
       "17    8\n",
       "Name: from, dtype: object</td>\n",
       "      <td>4     1\n",
       "17    4\n",
       "Name: to, dtype: object</td>\n",
       "    </tr>\n",
       "    <tr>\n",
       "      <th>4</th>\n",
       "      <td>5</td>\n",
       "      <td>description</td>\n",
       "      <td>7    Custom conversion is broken.\\r\\r\\n\\r\\r\\nI...</td>\n",
       "      <td>7    Custom conversion is broken.\\r\\r\\n\\r\\r\\nI...</td>\n",
       "      <td>7    NaN\n",
       "8    NaN\n",
       "Name: from, dtype: object</td>\n",
       "      <td>7    NaN\n",
       "8    NaN\n",
       "Name: to, dtype: object</td>\n",
       "    </tr>\n",
       "  </tbody>\n",
       "</table>\n",
       "</div>"
      ],
      "text/plain": [
       "   id             field                                               from  \\\n",
       "0   1            status  0          To Do\n",
       "2    In Progress\n",
       "Name: fromSt...   \n",
       "1   2  Pull Request URL  1     NaN\n",
       "13    NaN\n",
       "Name: fromString, dtype: o...   \n",
       "2   3           summary  3    Can completely remove module after puttin...   \n",
       "3   4         issuetype  4     Story\n",
       "17    Story\n",
       "Name: fromString, dtyp...   \n",
       "4   5       description  7    Custom conversion is broken.\\r\\r\\n\\r\\r\\nI...   \n",
       "\n",
       "                                                  to  \\\n",
       "0  0    In Progress\n",
       "2          In PR\n",
       "Name: toStri...   \n",
       "1  1     https://github.com/spring-projects/sprin...   \n",
       "2  3    Can completely remove custom module after...   \n",
       "3  4             Bug\n",
       "17    Improvement\n",
       "Name: toSt...   \n",
       "4  7    Custom conversion is broken.\\r\\r\\n\\r\\r\\nI...   \n",
       "\n",
       "                                        fromString  \\\n",
       "0  0    10000\n",
       "2        3\n",
       "Name: from, dtype: object   \n",
       "1    1     NaN\n",
       "13    NaN\n",
       "Name: from, dtype: object   \n",
       "2      3    NaN\n",
       "5    NaN\n",
       "Name: from, dtype: object   \n",
       "3        4     8\n",
       "17    8\n",
       "Name: from, dtype: object   \n",
       "4      7    NaN\n",
       "8    NaN\n",
       "Name: from, dtype: object   \n",
       "\n",
       "                                        toString  \n",
       "0  0        3\n",
       "2    10006\n",
       "Name: to, dtype: object  \n",
       "1    1     NaN\n",
       "13    NaN\n",
       "Name: to, dtype: object  \n",
       "2      3    NaN\n",
       "5    NaN\n",
       "Name: to, dtype: object  \n",
       "3        4     1\n",
       "17    4\n",
       "Name: to, dtype: object  \n",
       "4      7    NaN\n",
       "8    NaN\n",
       "Name: to, dtype: object  "
      ]
     },
     "execution_count": 9,
     "metadata": {},
     "output_type": "execute_result"
    }
   ],
   "source": [
    "# declare the empty series\n",
    "i_row = []\n",
    "field_row = []\n",
    "from_row = []\n",
    "to_row = []\n",
    "from_string_row = []\n",
    "to_string_row = []\n",
    "\n",
    "# loop through each unique field, take top two values from the columns 'fromString', 'toString', 'from' and 'to'\n",
    "# append these two values to the respective series\n",
    "# create dataframe 'df' with these filled series, and export it to .csv file, and check it manually.\n",
    "i = 1\n",
    "for field in changelog['field'].unique():\n",
    "    from_str = changelog[changelog['field'] == field]['fromString'].head(2)\n",
    "    from_ = changelog[changelog['field'] == field]['from'].head(2)\n",
    "    to_str = changelog[changelog['field'] == field]['toString'].head(2)\n",
    "    to_ = changelog[changelog['field'] == field]['to'].head(2)\n",
    "    i_row.append(i)\n",
    "    field_row.append(field)\n",
    "    from_row.append(from_str)\n",
    "    to_row.append(to_str)\n",
    "    from_string_row.append(from_)\n",
    "    to_string_row.append(to_)\n",
    "    i = i + 1\n",
    "df = pd.DataFrame({'id':i_row,\n",
    "                   'field':field_row, \n",
    "                   'from':from_row, \n",
    "                   'to':to_row, \n",
    "                   'fromString':from_string_row, \n",
    "                   'toString':to_string_row })\n",
    "df.to_csv('fields_check.csv')\n",
    "df.head()"
   ]
  },
  {
   "cell_type": "markdown",
   "metadata": {},
   "source": [
    "**After checking the fields, detected the ones withthe written textual values:** <hr/>\n",
    "*'summary', 'description', 'Acceptance Criteria', 'Comment', 'Epic Name',\n",
    " 'Out of Scope', 'QA Test Plan', 'Epic/Theme', 'Migration Impact', 'Business Value'*"
   ]
  },
  {
   "cell_type": "markdown",
   "metadata": {},
   "source": [
    "<h3> 1.2 Prepare 'changelog' dataset with needed columns  </h3> <hr/>\n",
    "Since the jira tasks dataset only have one reporter for each jira task, we need to find the author of actual changes of the textual fields with change log file, as in changelog every action is stored and the author of the change is tracked. "
   ]
  },
  {
   "cell_type": "code",
   "execution_count": 10,
   "metadata": {},
   "outputs": [
    {
     "name": "stderr",
     "output_type": "stream",
     "text": [
      "C:\\ProgramData\\Anaconda3\\lib\\site-packages\\ipykernel_launcher.py:12: SettingWithCopyWarning: \n",
      "A value is trying to be set on a copy of a slice from a DataFrame.\n",
      "Try using .loc[row_indexer,col_indexer] = value instead\n",
      "\n",
      "See the caveats in the documentation: http://pandas.pydata.org/pandas-docs/stable/indexing.html#indexing-view-versus-copy\n",
      "  if sys.path[0] == '':\n"
     ]
    },
    {
     "data": {
      "text/html": [
       "<div>\n",
       "<style scoped>\n",
       "    .dataframe tbody tr th:only-of-type {\n",
       "        vertical-align: middle;\n",
       "    }\n",
       "\n",
       "    .dataframe tbody tr th {\n",
       "        vertical-align: top;\n",
       "    }\n",
       "\n",
       "    .dataframe thead th {\n",
       "        text-align: right;\n",
       "    }\n",
       "</style>\n",
       "<table border=\"1\" class=\"dataframe\">\n",
       "  <thead>\n",
       "    <tr style=\"text-align: right;\">\n",
       "      <th></th>\n",
       "      <th>key</th>\n",
       "      <th>project</th>\n",
       "      <th>author</th>\n",
       "      <th>field</th>\n",
       "      <th>created</th>\n",
       "      <th>text</th>\n",
       "    </tr>\n",
       "  </thead>\n",
       "  <tbody>\n",
       "    <tr>\n",
       "      <th>3</th>\n",
       "      <td>XD-3750</td>\n",
       "      <td>xd</td>\n",
       "      <td>aliiqbal</td>\n",
       "      <td>summary</td>\n",
       "      <td>2016-02-29 10:00:55.086</td>\n",
       "      <td>Can completely remove custom module after putt...</td>\n",
       "    </tr>\n",
       "    <tr>\n",
       "      <th>5</th>\n",
       "      <td>XD-3750</td>\n",
       "      <td>xd</td>\n",
       "      <td>aliiqbal</td>\n",
       "      <td>summary</td>\n",
       "      <td>2016-02-29 10:03:14.662</td>\n",
       "      <td>Can completely remove custom module after putt...</td>\n",
       "    </tr>\n",
       "    <tr>\n",
       "      <th>6</th>\n",
       "      <td>XD-3750</td>\n",
       "      <td>xd</td>\n",
       "      <td>aliiqbal</td>\n",
       "      <td>summary</td>\n",
       "      <td>2016-03-13 10:24:15.636</td>\n",
       "      <td>Cant completely remove custom module after put...</td>\n",
       "    </tr>\n",
       "    <tr>\n",
       "      <th>7</th>\n",
       "      <td>XD-3749</td>\n",
       "      <td>xd</td>\n",
       "      <td>grussell</td>\n",
       "      <td>description</td>\n",
       "      <td>2016-02-26 15:59:57.698</td>\n",
       "      <td>Custom conversion is broken.\\r\\r\\n\\r\\r\\nIf the...</td>\n",
       "    </tr>\n",
       "    <tr>\n",
       "      <th>8</th>\n",
       "      <td>XD-3749</td>\n",
       "      <td>xd</td>\n",
       "      <td>grussell</td>\n",
       "      <td>description</td>\n",
       "      <td>2016-02-26 16:01:28.028</td>\n",
       "      <td>Custom conversion is broken.\\r\\r\\n\\r\\r\\nIf the...</td>\n",
       "    </tr>\n",
       "  </tbody>\n",
       "</table>\n",
       "</div>"
      ],
      "text/plain": [
       "       key project    author        field                  created  \\\n",
       "3  XD-3750      xd  aliiqbal      summary  2016-02-29 10:00:55.086   \n",
       "5  XD-3750      xd  aliiqbal      summary  2016-02-29 10:03:14.662   \n",
       "6  XD-3750      xd  aliiqbal      summary  2016-03-13 10:24:15.636   \n",
       "7  XD-3749      xd  grussell  description  2016-02-26 15:59:57.698   \n",
       "8  XD-3749      xd  grussell  description  2016-02-26 16:01:28.028   \n",
       "\n",
       "                                                text  \n",
       "3  Can completely remove custom module after putt...  \n",
       "5  Can completely remove custom module after putt...  \n",
       "6  Cant completely remove custom module after put...  \n",
       "7  Custom conversion is broken.\\r\\r\\n\\r\\r\\nIf the...  \n",
       "8  Custom conversion is broken.\\r\\r\\n\\r\\r\\nIf the...  "
      ]
     },
     "execution_count": 10,
     "metadata": {},
     "output_type": "execute_result"
    }
   ],
   "source": [
    "# filter changelog with the textual fields\n",
    "log_filtered = changelog[changelog['field'].isin(['summary', 'description', 'Acceptance Criteria', 'Comment', 'Epic Name',\n",
    " 'Out of Scope', 'QA Test Plan', 'Epic/Theme', 'Migration Impact', 'Business Value'])]\n",
    "\n",
    "# take only necessary columns - key (Jira task unique key-name), project (one of the eight project codes), \n",
    "# author (author of change), field (what field has been changed), created (date of the change action),\n",
    "# toString (what textual value was assigned to the field), \n",
    "# and from(what was the value of the field, this only works for comments)\n",
    "\n",
    "cols = ['key', 'project', 'author', 'field', 'created', 'toString', 'from']\n",
    "log_cols = log_filtered[cols].copy(deep=True)\n",
    "log_cols[log_cols['field']!='Comment']['from'] = np.NaN\n",
    "log_cols['text'] = log_cols['from'].combine_first(log_cols['toString'])\n",
    "\n",
    "newcols = ['key', 'project', 'author', 'field', 'created', 'text']\n",
    "log_cols = log_cols[newcols]\n",
    "log_cols.head()"
   ]
  },
  {
   "cell_type": "code",
   "execution_count": null,
   "metadata": {},
   "outputs": [],
   "source": []
  },
  {
   "cell_type": "markdown",
   "metadata": {},
   "source": [
    "<h3> 1.3. Get the unique textual values </h3> \n",
    "<br>discard all the duplicated texts, keep only the latest edits of the fields"
   ]
  },
  {
   "cell_type": "code",
   "execution_count": 11,
   "metadata": {},
   "outputs": [
    {
     "name": "stdout",
     "output_type": "stream",
     "text": [
      "12280 9050 9050\n"
     ]
    }
   ],
   "source": [
    "#1. in descriptions: only leave the latest edited descriptions per unique project key. \n",
    "###(get uniques issues, join log with 'project', 'key', 'status' and get the lates onr by created date.)\n",
    "log_grouped = log_cols.groupby((['project', 'key', 'field', 'author'])).agg({'created':'max'})\n",
    "log_grouped.reset_index(level= [0,1,2], inplace=True)\n",
    "\n",
    "latest_logs_from_issues = pd.merge(log_cols, log_grouped, how = 'inner',\n",
    "                                   left_on = ['project', 'key', 'field', 'created'],\n",
    "                                   right_on = ['project', 'key', 'field', 'created'])\n",
    "\n",
    "print(log_cols.shape[0], log_grouped.shape[0], latest_logs_from_issues.shape[0]) \n",
    "log_cols = latest_logs_from_issues"
   ]
  },
  {
   "cell_type": "code",
   "execution_count": null,
   "metadata": {},
   "outputs": [],
   "source": []
  },
  {
   "cell_type": "code",
   "execution_count": null,
   "metadata": {},
   "outputs": [],
   "source": []
  },
  {
   "cell_type": "code",
   "execution_count": 12,
   "metadata": {},
   "outputs": [
    {
     "data": {
      "text/html": [
       "<div>\n",
       "<style scoped>\n",
       "    .dataframe tbody tr th:only-of-type {\n",
       "        vertical-align: middle;\n",
       "    }\n",
       "\n",
       "    .dataframe tbody tr th {\n",
       "        vertical-align: top;\n",
       "    }\n",
       "\n",
       "    .dataframe thead th {\n",
       "        text-align: right;\n",
       "    }\n",
       "</style>\n",
       "<table border=\"1\" class=\"dataframe\">\n",
       "  <thead>\n",
       "    <tr style=\"text-align: right;\">\n",
       "      <th></th>\n",
       "      <th>key</th>\n",
       "      <th>project</th>\n",
       "      <th>author</th>\n",
       "      <th>field</th>\n",
       "      <th>created</th>\n",
       "      <th>text</th>\n",
       "    </tr>\n",
       "  </thead>\n",
       "  <tbody>\n",
       "    <tr>\n",
       "      <th>0</th>\n",
       "      <td>XD-3750</td>\n",
       "      <td>xd</td>\n",
       "      <td>aliiqbal</td>\n",
       "      <td>summary</td>\n",
       "      <td>2016-03-13 10:24:15.636</td>\n",
       "      <td>Cant completely remove custom module after put...</td>\n",
       "    </tr>\n",
       "    <tr>\n",
       "      <th>1</th>\n",
       "      <td>XD-3749</td>\n",
       "      <td>xd</td>\n",
       "      <td>grussell</td>\n",
       "      <td>description</td>\n",
       "      <td>2016-02-26 16:01:28.028</td>\n",
       "      <td>Custom conversion is broken.\\r\\r\\n\\r\\r\\nIf the...</td>\n",
       "    </tr>\n",
       "    <tr>\n",
       "      <th>2</th>\n",
       "      <td>XD-3748</td>\n",
       "      <td>xd</td>\n",
       "      <td>dgarcia</td>\n",
       "      <td>description</td>\n",
       "      <td>2016-02-24 10:51:45.747</td>\n",
       "      <td>If I try to use &lt;int:message-history/&gt; when de...</td>\n",
       "    </tr>\n",
       "  </tbody>\n",
       "</table>\n",
       "</div>"
      ],
      "text/plain": [
       "       key project    author        field                  created  \\\n",
       "0  XD-3750      xd  aliiqbal      summary  2016-03-13 10:24:15.636   \n",
       "1  XD-3749      xd  grussell  description  2016-02-26 16:01:28.028   \n",
       "2  XD-3748      xd   dgarcia  description  2016-02-24 10:51:45.747   \n",
       "\n",
       "                                                text  \n",
       "0  Cant completely remove custom module after put...  \n",
       "1  Custom conversion is broken.\\r\\r\\n\\r\\r\\nIf the...  \n",
       "2  If I try to use <int:message-history/> when de...  "
      ]
     },
     "execution_count": 12,
     "metadata": {},
     "output_type": "execute_result"
    }
   ],
   "source": [
    "# let's export the dataset before cleaning values, to compare afterwards.\n",
    "log_cols.to_csv('original_text_cols.csv')\n",
    "log_cols.head(3)"
   ]
  },
  {
   "cell_type": "markdown",
   "metadata": {},
   "source": [
    "<h3>1.4 Clean the texts from the unwanted parts and characters </h3> <br>\n",
    "Develoeprs tend to write the code snippets, error messages, system logs and traces and other kinds of technical information into the Jira system. On the other hand, to get the personality insights from the texts written by the developers, we need to have clean texts, therefore we need to detect and remove all the unneccessary parts from the texts."
   ]
  },
  {
   "cell_type": "code",
   "execution_count": 13,
   "metadata": {},
   "outputs": [],
   "source": [
    "# remove the whitespaces. \n",
    "#### ----  Clean the texts: remove the bad characters / similar to trim\n",
    "log_cols['text'] = log_cols['text'].str.replace('\\n', ' ')\n",
    "log_cols['text'] = log_cols['text'].str.replace('\\r', ' ')\n",
    "log_cols['text'] = log_cols['text'].str.replace('\\t', ' ')\n",
    "log_cols['text'] = log_cols['text'].str.replace('\\s', ' ')"
   ]
  },
  {
   "cell_type": "code",
   "execution_count": 14,
   "metadata": {},
   "outputs": [],
   "source": [
    "### --- Clean the texts: \n",
    "def removeCodeSnippet(text):\n",
    "    text = str(text).replace('&nbsp;', ' ')\n",
    "    text = str(text).replace('sp_executesql', ' ')\n",
    "    text = str(text).replace('exec', ' ')\n",
    "    # remove not formatted code and trace part\n",
    "    text = re.sub(\"{noformat}(.+?){noformat}\", '', str(text)) \n",
    "    # remove code snippet (Both, {code} and {code: [programming language]}:\n",
    "    text = re.sub(\"{code(.+?){code}\", '', str(text)) \n",
    "    # remove html tags:\n",
    "    text = re.sub(\"<(.+?)>\", '', str(text))\n",
    "    # remove another type code snippets:\n",
    "    text = re.sub(\"{{(.+?)}}\", '', str(text))\n",
    "    #remove tags\n",
    "    text = re.sub(\"{(.+?)}\", '', str(text))\n",
    "    #remove java calls \n",
    "    text = re.sub('\"jdbc(.+?)\"', \" \", str(text))\n",
    "    # remove module calls\n",
    "    text = re.sub('\"module(.+?)\"', '', str(text)) \n",
    "    # remove job calls\n",
    "    text = re.sub('\"job(.+?)\"', '', str(text)) \n",
    "    # remove SQL Begin-end transactions\n",
    "    text = re.sub('\\s*(B|b)(egin|EGIN)\\s+.+\\s+(E|e)(nd|ND)\\s*', '', str(text))\n",
    "    # remove SQL SELECT Statements\n",
    "    text = re.sub('\\s*(s|S)(elect|ELECT).+(f|F)(rom|ROM)\\s*\\S+(\\s*(w|W)(here|HERE)\\s*\\S+\\s*\\S*\\s*\\S*\\s|)', ' ', str(text))\n",
    "    # remove SQL INSERT statements\n",
    "    text = re.sub('\\s*(I|I)(nsert|NSERT)\\s*(I|i)(nto|NTO)\\s+.+(V|v)(alues|ALUES)\\s*.+\\(.+\\)\\s*', ' ', str(text)) \n",
    "    # remove SQL DELETE statements\n",
    "    text = re.sub('\\s*(d|D)(elete|ELETE)\\s*(f|F)(rom|ROM)\\s*\\S+(\\s*(w|W)(here|HERE)\\s*\\S+\\s*\\S*\\s*\\S*\\s|)', '***', str(text)) \n",
    "    # remove system version information part\n",
    "    text = re.sub('[*][*][*]Version(.+?)[*][*][*]', '***', str(text)) \n",
    "    # remove deployment system descriptions\n",
    "    text = re.sub('[*][*][*]Describe XD Deployment(.+?)[*][*][*]', '***', str(text)) \n",
    "    #remove system component descriptions\n",
    "    text = re.sub('[*][*][*]Describe Other Components(.+?)[*][*][*]', '***', str(text)) \n",
    "    # remove system generated headers within description\n",
    "    text = text.replace('***Description', '')\n",
    "    text = text.replace('***Steps to recreate the problem', '')\n",
    "    text = text.replace('***Error Message:', '')\n",
    "    # remove square brakets with one word in it (since they are tags)\n",
    "    text = re.sub('\\[([^[\\]{}()]+?)\\]', '', str(text))\n",
    "    #remove web links:\n",
    "    text = re.sub('http[s]?://\\S+', ' ', str(text))\n",
    "    #remove local path links (with slashes)\n",
    "    text = re.sub('\\S+?(?=\\/)\\/\\S*\\/\\S*', ' ', str(text))\n",
    "    #remove local path links (with backslashes)\n",
    "    text = re.sub(r'\\S+?(?=\\\\)\\\\\\S*\\\\\\S*', \" \", str(text))    \n",
    "    #remove logs within asterisks\n",
    "    text = re.sub('\\*{50,}(.+?)\\*{50,}', ' ', str(text)) \n",
    "    text = re.sub('\\*+(.+?)\\*+', ' ', str(text))\n",
    "    #remove text with more than 18 character, that usually are the command codes. \n",
    "    text = re.sub('.\\S{15,}.', \" \", str(text))  \n",
    "    # remove email addresses and commands containing @ (mainly used as sql function parameter)\n",
    "    text = re.sub('(\\s|\\S+(?=@))@\\S*', \" \", str(text))\n",
    "    #remove  call commands with \"--\"\n",
    "    text = re.sub(\"--(\\s{0,1})\\S*\", '', str(text))\n",
    "    #remove  call commands with \"-\" - PROBLEM it can also delete normal words that are listed\n",
    "    #text = re.sub(\"-\\S*\", '', str(text))\n",
    "    # remove call commands with \"--\"\n",
    "    text = re.sub(\"~(\\s{0,1})\\S*\", '', str(text))\n",
    "    # remove sql SELECT statements\n",
    "    text = re.sub('SELECT\\s\\S+\\sFROM\\s\\S+\\s(WHERE\\s\\S+\\s\\S+\\s\\S|)*', '', str(text))\n",
    "    # remove websites and one dotted version numbers\n",
    "    text = re.sub('\\S+\\.\\S+', '', str(text))\n",
    "    # remove words containing :\n",
    "    text = re.sub('\\S+\\:\\S+', '', str(text))\n",
    "    # remove command words and versions\n",
    "    text = re.sub('\\S*(_|-|:|\\.)\\S*(_|-|:|\\.)\\S+', '', str(text))\n",
    "    # remove multiple 'at' left after the code snippets cleaning\n",
    "    text = text.replace('at at ', ' ') \n",
    "    #remove multiple whitespaces (needed for removing 'at at' texts, regex is the next command below)\n",
    "    text = re.sub(\"\\s{2,}\", ' ', str(text))\n",
    "    # remove multiple 'at'\n",
    "    text = re.sub('at\\sat\\s', ' ', str(text))\n",
    "    # remove the non-textual characters\n",
    "    text = re.sub(r'(\\||~|=|>|_|\\[|\\]|{|}|--|\\/|\\\\|#)', ' ', str(text))\n",
    "    # remove non-unicode characters\n",
    "    text = re.sub(r'[^\\x00-\\x7F]+','', text)\n",
    "    # remove dates:\n",
    "    text = re.sub('[0-9][0-9](-|\\\\|.|\\/| )([0-9][0-9]|Jan|Feb|Mar|Apr|May|Jun|Jul|Aug|Sep|Oct|Nov|Dec)(-|\\\\|.|\\/| )[0-9][0-9][0-9][0-9] [0-9][0-9]:[0-9][0-9]:[0-9][0-9]', \" \", str(text))\n",
    "    text = re.sub('[0-9][0-9](-|\\\\|.|\\/| )([0-9][0-9]|Jan|Feb|Mar|Apr|May|Jun|Jul|Aug|Sep|Oct|Nov|Dec)(-|\\\\|.|\\/| )[0-9][0-9][0-9][0-9]', \" \", str(text))\n",
    "    text = re.sub('[0-9][0-9](-|\\\\|.|\\/| )([0-9][0-9]|Jan|Feb|Mar|Apr|May|Jun|Jul|Aug|Sep|Oct|Nov|Dec)(-|\\\\|.|\\/| )[0-9][0-9]', \" \", str(text))\n",
    "    text = re.sub('[0-9][0-9][0-9][0-9](-|\\\\|.|\\/| )([0-9][0-9]|Jan|Feb|Mar|Apr|May|Jun|Jul|Aug|Sep|Oct|Nov|Dec)(-|\\\\|.|\\/| )[0-9][0-9] [0-9][0-9]:[0-9][0-9]:[0-9][0-9]', \" \", str(text))\n",
    "    text = re.sub('[0-9][0-9][0-9][0-9](-|\\\\|.|\\/| )([0-9][0-9]|Jan|Feb|Mar|Apr|May|Jun|Jul|Aug|Sep|Oct|Nov|Dec)(-|\\\\|.|\\/| )[0-9][0-9]', \" \", str(text))\n",
    "    #remove multiple whitespaces\n",
    "    text = re.sub(\"\\s{2,}\", ' ', str(text))\n",
    "    \n",
    "    return text"
   ]
  },
  {
   "cell_type": "code",
   "execution_count": null,
   "metadata": {},
   "outputs": [],
   "source": []
  },
  {
   "cell_type": "code",
   "execution_count": null,
   "metadata": {},
   "outputs": [],
   "source": []
  },
  {
   "cell_type": "markdown",
   "metadata": {},
   "source": [
    "apply defined cleaning regex functions to actual text"
   ]
  },
  {
   "cell_type": "code",
   "execution_count": 15,
   "metadata": {},
   "outputs": [],
   "source": [
    "log_cols['text'] = log_cols['text'].apply(removeCodeSnippet)\n",
    "log_cols['text'] = log_cols['text'].apply(lambda x: str.strip(x))"
   ]
  },
  {
   "cell_type": "code",
   "execution_count": 16,
   "metadata": {},
   "outputs": [
    {
     "name": "stdout",
     "output_type": "stream",
     "text": [
      "field\n",
      "Acceptance Criteria      97\n",
      "Business Value            1\n",
      "Comment                 522\n",
      "Epic Name                57\n",
      "Epic/Theme              414\n",
      "Migration Impact          6\n",
      "Out of Scope             10\n",
      "QA Test Plan             21\n",
      "description            4227\n",
      "summary                3695\n",
      "dtype: int64\n"
     ]
    }
   ],
   "source": [
    "#Check the number of rows per field type\n",
    "print(log_cols.groupby('field').size())"
   ]
  },
  {
   "cell_type": "markdown",
   "metadata": {},
   "source": [
    "Based on the number of values, we can ignore all the fields except ***Description, summary and comments***\n",
    "let's export and manually check each of these separately"
   ]
  },
  {
   "cell_type": "code",
   "execution_count": 17,
   "metadata": {},
   "outputs": [],
   "source": [
    "log_cols = log_cols[log_cols['field'].isin(['summary', 'description', 'Comment',\n",
    "                                            'Acceptance Criteria', 'Migration Impact', 'QA Test Plan', 'Out of Scope'])]\n",
    "# create datasets for each field type\n",
    "descriptions = log_cols[log_cols['field'] == 'description']\n",
    "summaries = log_cols[log_cols['field'] == 'summary']\n",
    "comments = log_cols[log_cols['field'] == 'Comment']"
   ]
  },
  {
   "cell_type": "markdown",
   "metadata": {},
   "source": [
    "<h3> 1.5 filter the dataset rows </h3> <hr/>\n",
    "Add the text length column into the combined dataframe"
   ]
  },
  {
   "cell_type": "code",
   "execution_count": 18,
   "metadata": {},
   "outputs": [
    {
     "name": "stderr",
     "output_type": "stream",
     "text": [
      "C:\\ProgramData\\Anaconda3\\lib\\site-packages\\ipykernel_launcher.py:2: SettingWithCopyWarning: \n",
      "A value is trying to be set on a copy of a slice from a DataFrame.\n",
      "Try using .loc[row_indexer,col_indexer] = value instead\n",
      "\n",
      "See the caveats in the documentation: http://pandas.pydata.org/pandas-docs/stable/indexing.html#indexing-view-versus-copy\n",
      "  \n"
     ]
    }
   ],
   "source": [
    "# detect very long texts. likely, these are log traces, we can eliminate from them.\n",
    "log_cols['textLength'] = log_cols['text'].str.len()"
   ]
  },
  {
   "cell_type": "markdown",
   "metadata": {},
   "source": [
    "Check dataset for visible outliers "
   ]
  },
  {
   "cell_type": "code",
   "execution_count": 19,
   "metadata": {},
   "outputs": [
    {
     "data": {
      "text/html": [
       "<div>\n",
       "<style scoped>\n",
       "    .dataframe tbody tr th:only-of-type {\n",
       "        vertical-align: middle;\n",
       "    }\n",
       "\n",
       "    .dataframe tbody tr th {\n",
       "        vertical-align: top;\n",
       "    }\n",
       "\n",
       "    .dataframe thead th {\n",
       "        text-align: right;\n",
       "    }\n",
       "</style>\n",
       "<table border=\"1\" class=\"dataframe\">\n",
       "  <thead>\n",
       "    <tr style=\"text-align: right;\">\n",
       "      <th></th>\n",
       "      <th>key</th>\n",
       "      <th>project</th>\n",
       "      <th>author</th>\n",
       "      <th>field</th>\n",
       "      <th>created</th>\n",
       "      <th>text</th>\n",
       "      <th>textLength</th>\n",
       "    </tr>\n",
       "  </thead>\n",
       "  <tbody>\n",
       "    <tr>\n",
       "      <th>3923</th>\n",
       "      <td>MESOS-830</td>\n",
       "      <td>mesos</td>\n",
       "      <td>greggomann</td>\n",
       "      <td>description</td>\n",
       "      <td>2015-08-03 21:14:43.067</td>\n",
       "      <td>Identify the cause of the following test failu...</td>\n",
       "      <td>13503</td>\n",
       "    </tr>\n",
       "    <tr>\n",
       "      <th>1861</th>\n",
       "      <td>DNN-7299</td>\n",
       "      <td>dnn</td>\n",
       "      <td>zyhfish</td>\n",
       "      <td>description</td>\n",
       "      <td>2015-07-28 02:39:58.500</td>\n",
       "      <td>Clean build warnings in platform solution. War...</td>\n",
       "      <td>8622</td>\n",
       "    </tr>\n",
       "    <tr>\n",
       "      <th>3801</th>\n",
       "      <td>MESOS-2324</td>\n",
       "      <td>mesos</td>\n",
       "      <td>xujyan</td>\n",
       "      <td>description</td>\n",
       "      <td>2015-02-09 21:26:05.755</td>\n",
       "      <td>Using temporary directory I0206 15065 Opened d...</td>\n",
       "      <td>7666</td>\n",
       "    </tr>\n",
       "    <tr>\n",
       "      <th>2763</th>\n",
       "      <td>APSTUD-4677</td>\n",
       "      <td>apstud</td>\n",
       "      <td>ingo</td>\n",
       "      <td>description</td>\n",
       "      <td>2012-04-23 11:32:44</td>\n",
       "      <td>I've already tried to start Aptana as administ...</td>\n",
       "      <td>7001</td>\n",
       "    </tr>\n",
       "    <tr>\n",
       "      <th>7794</th>\n",
       "      <td>TISTUD-6258</td>\n",
       "      <td>tistud</td>\n",
       "      <td>cwilliams</td>\n",
       "      <td>Comment</td>\n",
       "      <td>2014-07-10 14:08:40</td>\n",
       "      <td>Unless I'm missing it, there is no way to atta...</td>\n",
       "      <td>6599</td>\n",
       "    </tr>\n",
       "    <tr>\n",
       "      <th>2689</th>\n",
       "      <td>APSTUD-4842</td>\n",
       "      <td>apstud</td>\n",
       "      <td>cwilliams</td>\n",
       "      <td>description</td>\n",
       "      <td>2012-05-29 11:13:24.000</td>\n",
       "      <td>Option JSHint Option a label ' ' is a statemen...</td>\n",
       "      <td>5648</td>\n",
       "    </tr>\n",
       "    <tr>\n",
       "      <th>2157</th>\n",
       "      <td>DNN-5978</td>\n",
       "      <td>dnn</td>\n",
       "      <td>francesco.rivola</td>\n",
       "      <td>description</td>\n",
       "      <td>2015-12-11 16:27:32.060</td>\n",
       "      <td>- Installed with CE - Log in as Host, in Host ...</td>\n",
       "      <td>4121</td>\n",
       "    </tr>\n",
       "    <tr>\n",
       "      <th>1877</th>\n",
       "      <td>DNN-7231</td>\n",
       "      <td>dnn</td>\n",
       "      <td>KenGrierson</td>\n",
       "      <td>Comment</td>\n",
       "      <td>2015-08-21 18:00:19.634</td>\n",
       "      <td>Upload a few dozen .txt files with unique file...</td>\n",
       "      <td>4093</td>\n",
       "    </tr>\n",
       "    <tr>\n",
       "      <th>5691</th>\n",
       "      <td>TIMOB-18956</td>\n",
       "      <td>timob</td>\n",
       "      <td>patakijv</td>\n",
       "      <td>description</td>\n",
       "      <td>2015-05-26 21:42:06</td>\n",
       "      <td>The documentation confirms that this is missin...</td>\n",
       "      <td>3635</td>\n",
       "    </tr>\n",
       "    <tr>\n",
       "      <th>1640</th>\n",
       "      <td>DNN-8141</td>\n",
       "      <td>dnn</td>\n",
       "      <td>george.alatrash</td>\n",
       "      <td>description</td>\n",
       "      <td>2015-12-22 00:45:21.859</td>\n",
       "      <td>A moniker is a simple name provided for an obj...</td>\n",
       "      <td>3537</td>\n",
       "    </tr>\n",
       "    <tr>\n",
       "      <th>2919</th>\n",
       "      <td>APSTUD-4113</td>\n",
       "      <td>apstud</td>\n",
       "      <td>klindsey</td>\n",
       "      <td>description</td>\n",
       "      <td>2012-05-17 13:38:37</td>\n",
       "      <td>refactor out utility classes to determine if a...</td>\n",
       "      <td>3284</td>\n",
       "    </tr>\n",
       "    <tr>\n",
       "      <th>4510</th>\n",
       "      <td>NEXUS-8883</td>\n",
       "      <td>nexus</td>\n",
       "      <td>jtom</td>\n",
       "      <td>description</td>\n",
       "      <td>2015-06-18 21:08:21.659</td>\n",
       "      <td>Testing NEXUS-8846, I noticed that sorting by ...</td>\n",
       "      <td>3208</td>\n",
       "    </tr>\n",
       "    <tr>\n",
       "      <th>2691</th>\n",
       "      <td>APSTUD-4840</td>\n",
       "      <td>apstud</td>\n",
       "      <td>neill</td>\n",
       "      <td>description</td>\n",
       "      <td>2012-05-21 06:16:55.000</td>\n",
       "      <td>This is a clone of bug APSTUD 4661 as I made t...</td>\n",
       "      <td>3188</td>\n",
       "    </tr>\n",
       "    <tr>\n",
       "      <th>1605</th>\n",
       "      <td>DNN-8530</td>\n",
       "      <td>dnn</td>\n",
       "      <td>KenGrierson</td>\n",
       "      <td>description</td>\n",
       "      <td>2016-04-06 21:01:23.972</td>\n",
       "      <td>Install InBone (Issimo Digital) customer site ...</td>\n",
       "      <td>2869</td>\n",
       "    </tr>\n",
       "    <tr>\n",
       "      <th>4428</th>\n",
       "      <td>NEXUS-9221</td>\n",
       "      <td>nexus</td>\n",
       "      <td>jtom</td>\n",
       "      <td>description</td>\n",
       "      <td>2015-09-23 17:54:15.312</td>\n",
       "      <td>Running proxy test against NX3, I found that I...</td>\n",
       "      <td>2776</td>\n",
       "    </tr>\n",
       "    <tr>\n",
       "      <th>2492</th>\n",
       "      <td>DNN-3344</td>\n",
       "      <td>dnn</td>\n",
       "      <td>Alexey.tregub</td>\n",
       "      <td>description</td>\n",
       "      <td>2013-08-14 17:57:59.894</td>\n",
       "      <td>Inconsistent behaviour of Update page URL butt...</td>\n",
       "      <td>2751</td>\n",
       "    </tr>\n",
       "    <tr>\n",
       "      <th>3874</th>\n",
       "      <td>MESOS-1817</td>\n",
       "      <td>mesos</td>\n",
       "      <td>nnielsen</td>\n",
       "      <td>description</td>\n",
       "      <td>2014-09-19 00:18:32.272</td>\n",
       "      <td>We have run into a problem that cause tasks wh...</td>\n",
       "      <td>2689</td>\n",
       "    </tr>\n",
       "    <tr>\n",
       "      <th>3587</th>\n",
       "      <td>MESOS-3072</td>\n",
       "      <td>mesos</td>\n",
       "      <td>arojas</td>\n",
       "      <td>description</td>\n",
       "      <td>2015-08-12 14:39:54.428</td>\n",
       "      <td>As it stands right now, default of modularized...</td>\n",
       "      <td>2664</td>\n",
       "    </tr>\n",
       "    <tr>\n",
       "      <th>2499</th>\n",
       "      <td>DNN-3263</td>\n",
       "      <td>dnn</td>\n",
       "      <td>philip.beadle</td>\n",
       "      <td>description</td>\n",
       "      <td>2013-08-05 22:46:53.636</td>\n",
       "      <td>Developers who want to build extensions for th...</td>\n",
       "      <td>2650</td>\n",
       "    </tr>\n",
       "    <tr>\n",
       "      <th>2361</th>\n",
       "      <td>DNN-4246</td>\n",
       "      <td>dnn</td>\n",
       "      <td>Alexey.tregub</td>\n",
       "      <td>description</td>\n",
       "      <td>2013-12-03 00:50:56.244</td>\n",
       "      <td>The page permission UI behavior is confusing (...</td>\n",
       "      <td>2630</td>\n",
       "    </tr>\n",
       "  </tbody>\n",
       "</table>\n",
       "</div>"
      ],
      "text/plain": [
       "              key project            author        field  \\\n",
       "3923    MESOS-830   mesos        greggomann  description   \n",
       "1861     DNN-7299     dnn           zyhfish  description   \n",
       "3801   MESOS-2324   mesos            xujyan  description   \n",
       "2763  APSTUD-4677  apstud              ingo  description   \n",
       "7794  TISTUD-6258  tistud         cwilliams      Comment   \n",
       "2689  APSTUD-4842  apstud         cwilliams  description   \n",
       "2157     DNN-5978     dnn  francesco.rivola  description   \n",
       "1877     DNN-7231     dnn       KenGrierson      Comment   \n",
       "5691  TIMOB-18956   timob          patakijv  description   \n",
       "1640     DNN-8141     dnn   george.alatrash  description   \n",
       "2919  APSTUD-4113  apstud          klindsey  description   \n",
       "4510   NEXUS-8883   nexus              jtom  description   \n",
       "2691  APSTUD-4840  apstud             neill  description   \n",
       "1605     DNN-8530     dnn       KenGrierson  description   \n",
       "4428   NEXUS-9221   nexus              jtom  description   \n",
       "2492     DNN-3344     dnn     Alexey.tregub  description   \n",
       "3874   MESOS-1817   mesos          nnielsen  description   \n",
       "3587   MESOS-3072   mesos            arojas  description   \n",
       "2499     DNN-3263     dnn     philip.beadle  description   \n",
       "2361     DNN-4246     dnn     Alexey.tregub  description   \n",
       "\n",
       "                      created  \\\n",
       "3923  2015-08-03 21:14:43.067   \n",
       "1861  2015-07-28 02:39:58.500   \n",
       "3801  2015-02-09 21:26:05.755   \n",
       "2763      2012-04-23 11:32:44   \n",
       "7794      2014-07-10 14:08:40   \n",
       "2689  2012-05-29 11:13:24.000   \n",
       "2157  2015-12-11 16:27:32.060   \n",
       "1877  2015-08-21 18:00:19.634   \n",
       "5691      2015-05-26 21:42:06   \n",
       "1640  2015-12-22 00:45:21.859   \n",
       "2919      2012-05-17 13:38:37   \n",
       "4510  2015-06-18 21:08:21.659   \n",
       "2691  2012-05-21 06:16:55.000   \n",
       "1605  2016-04-06 21:01:23.972   \n",
       "4428  2015-09-23 17:54:15.312   \n",
       "2492  2013-08-14 17:57:59.894   \n",
       "3874  2014-09-19 00:18:32.272   \n",
       "3587  2015-08-12 14:39:54.428   \n",
       "2499  2013-08-05 22:46:53.636   \n",
       "2361  2013-12-03 00:50:56.244   \n",
       "\n",
       "                                                   text  textLength  \n",
       "3923  Identify the cause of the following test failu...       13503  \n",
       "1861  Clean build warnings in platform solution. War...        8622  \n",
       "3801  Using temporary directory I0206 15065 Opened d...        7666  \n",
       "2763  I've already tried to start Aptana as administ...        7001  \n",
       "7794  Unless I'm missing it, there is no way to atta...        6599  \n",
       "2689  Option JSHint Option a label ' ' is a statemen...        5648  \n",
       "2157  - Installed with CE - Log in as Host, in Host ...        4121  \n",
       "1877  Upload a few dozen .txt files with unique file...        4093  \n",
       "5691  The documentation confirms that this is missin...        3635  \n",
       "1640  A moniker is a simple name provided for an obj...        3537  \n",
       "2919  refactor out utility classes to determine if a...        3284  \n",
       "4510  Testing NEXUS-8846, I noticed that sorting by ...        3208  \n",
       "2691  This is a clone of bug APSTUD 4661 as I made t...        3188  \n",
       "1605  Install InBone (Issimo Digital) customer site ...        2869  \n",
       "4428  Running proxy test against NX3, I found that I...        2776  \n",
       "2492  Inconsistent behaviour of Update page URL butt...        2751  \n",
       "3874  We have run into a problem that cause tasks wh...        2689  \n",
       "3587  As it stands right now, default of modularized...        2664  \n",
       "2499  Developers who want to build extensions for th...        2650  \n",
       "2361  The page permission UI behavior is confusing (...        2630  "
      ]
     },
     "execution_count": 19,
     "metadata": {},
     "output_type": "execute_result"
    }
   ],
   "source": [
    "log_cols.sort_values('textLength', ascending=False).head(20)"
   ]
  },
  {
   "cell_type": "code",
   "execution_count": 20,
   "metadata": {},
   "outputs": [],
   "source": [
    "#remove outliers\n",
    "# I have checked them manually, \n",
    "#these are the ones that the text cleaning functions could not properly clean and contain mostly the code snippet or logs\n",
    "#log_cols = log_cols.drop([3923, 1861, 3801, 2763, 7794, 2157])"
   ]
  },
  {
   "cell_type": "markdown",
   "metadata": {},
   "source": [
    "Export dataset to csv file and explore manually"
   ]
  },
  {
   "cell_type": "code",
   "execution_count": 21,
   "metadata": {},
   "outputs": [],
   "source": [
    "log_cols.to_csv('log_cols.csv')"
   ]
  },
  {
   "cell_type": "markdown",
   "metadata": {},
   "source": [
    "Plot the distribution of all text lengths.\n",
    "also let's take a look at the distribution of the text lengths which falls in the top 90% of all values, the bottom 10% of the values and the ones that fall in between."
   ]
  },
  {
   "cell_type": "code",
   "execution_count": 22,
   "metadata": {},
   "outputs": [
    {
     "name": "stdout",
     "output_type": "stream",
     "text": [
      "nr of rows from 5% to 95%:  7707\n",
      "nr of rows above 95% and minimum length of them:  429 839\n",
      "nr of rows below 5% and maximum length of them:  442 24\n",
      "Total number of rows in dataset 8578\n"
     ]
    }
   ],
   "source": [
    "cut_val = round((int(log_cols.shape[0]) * 0.05))\n",
    "cut_val_top_length = log_cols.sort_values('textLength', ascending=False).head(cut_val).iloc[cut_val-1].textLength\n",
    "cut_val_bottom_length = log_cols.sort_values('textLength', ascending=True).head(cut_val).iloc[cut_val-1].textLength\n",
    "\n",
    "print('nr of rows from 5% to 95%: ', log_cols[(log_cols['textLength']<cut_val_top_length) & (log_cols['textLength']>cut_val_bottom_length)].shape[0])\n",
    "print('nr of rows above 95% and minimum length of them: ', log_cols[log_cols['textLength']>=cut_val_top_length].shape[0], cut_val_top_length)\n",
    "print('nr of rows below 5% and maximum length of them: ',log_cols[log_cols['textLength']<=cut_val_bottom_length].shape[0], cut_val_bottom_length)\n",
    "print('Total number of rows in dataset', log_cols.shape[0])"
   ]
  },
  {
   "cell_type": "markdown",
   "metadata": {},
   "source": [
    "Define the histogram plot function that shows percentage of each bin"
   ]
  },
  {
   "cell_type": "code",
   "execution_count": 23,
   "metadata": {},
   "outputs": [],
   "source": [
    "def hist_with_perc(_data1, _bins1, _title1, _xlabel, _ylabel, _color,\n",
    "                  _data2, _bins2, _title2, \n",
    "                  _data3, _bins3, _title3, \n",
    "                  _data4, _bins4, _title4):\n",
    "\n",
    "    fig = plt.figure(figsize=(16, 10))\n",
    "    for i in range(0, 4):\n",
    "        if i ==0:\n",
    "            _data=_data1\n",
    "            _bins=_bins1\n",
    "            _title=_title1\n",
    "        elif i ==1:\n",
    "            _data=_data2\n",
    "            _bins=_bins2\n",
    "            _title=_title2\n",
    "        elif i ==2:\n",
    "            _data=_data3\n",
    "            _bins=_bins3\n",
    "            _title=_title3\n",
    "        elif i ==3:\n",
    "            _data=_data4\n",
    "            _bins=_bins4\n",
    "            _title=_title4\n",
    "        ax = fig.add_subplot(2,2,i+1)\n",
    "        counts, bins, patches = ax.hist(_data, facecolor=_color, edgecolor='gray', bins=_bins)\n",
    "        ax.set_xticks(bins.round(0))\n",
    "        plt.xticks(rotation=45)\n",
    "        plt.title(_title, fontsize=20)\n",
    "        plt.ylabel(_ylabel, fontsize=15)\n",
    "        plt.xlabel(_xlabel, fontsize=15)\n",
    "        plt.subplots_adjust(bottom=0.15, hspace=0.5)\n",
    "        bin_x_centers = 0.5 * np.diff(bins) + bins[:-1]\n",
    "        bin_y_centers = ax.get_yticks()[1] * 0.25\n",
    "        for i in range(len(bins)-1):\n",
    "            bin_label = \"{0:,}\".format(counts[i]) + \"  ({0:,.2f}%)\".format((counts[i]/counts.sum())*100)\n",
    "            plt.text(bin_x_centers[i], bin_y_centers, bin_label, rotation=90, rotation_mode='anchor')\n",
    "    plt.show()    "
   ]
  },
  {
   "cell_type": "code",
   "execution_count": 24,
   "metadata": {},
   "outputs": [
    {
     "data": {
      "image/png": "[encoded data removed]",
      "text/plain": [
       "<Figure size 1152x720 with 4 Axes>"
      ]
     },
     "metadata": {
      "needs_background": "light"
     },
     "output_type": "display_data"
    }
   ],
   "source": [
    "hist_with_perc(log_cols['textLength'], 15,'text lengths \\n in the whole dataset','text length','Count','lightblue'\n",
    "            , log_cols[log_cols['textLength']>=cut_val_top_length]['textLength'],15,'the longest 5%  texts lengths \\n in the dataset'\n",
    "            , log_cols[log_cols['textLength']<=cut_val_bottom_length]['textLength'],15,'shortest 5%  texts lengths \\n in the dataset'\n",
    "            , log_cols[(log_cols['textLength']<cut_val_top_length)&(log_cols['textLength']>cut_val_bottom_length)].textLength,15,'the texts between 5%-95% percentile length \\n in the dataset')"
   ]
  },
  {
   "cell_type": "markdown",
   "metadata": {},
   "source": [
    "**After analysis, need to decide to remove certain percent of the longest and shortest texts.**\n",
    "Currently, plan to remove top 1% and bottom 2% of rows. \n",
    "<hr/>\n",
    "*Remove the rows which have too long and too short texts code below*"
   ]
  },
  {
   "cell_type": "code",
   "execution_count": 25,
   "metadata": {},
   "outputs": [
    {
     "name": "stdout",
     "output_type": "stream",
     "text": [
      "Total number of rows in dataset: 8578\n",
      "Number of top 1% of the rows:  86\n",
      "Number of bottom 2% of the rows:  172\n",
      "length of the text, above which to filter out the rows:  1504\n",
      "length of the text, below which to filter out the rows:  13\n"
     ]
    }
   ],
   "source": [
    "#detect the number of rows that fall in top % and bottom %\n",
    "top= 0.01\n",
    "bottom = 0.02\n",
    "cutoff_percent_top = round((int(log_cols.shape[0]) * top))\n",
    "cutoff_percent_bottom = round((int(log_cols.shape[0]) * bottom))\n",
    "print('Total number of rows in dataset:', str(log_cols.shape[0]))\n",
    "print('Number of top '+str(round(top*100))+'% of the rows: ', str(cutoff_percent_top))\n",
    "print('Number of bottom '+str(round(bottom*100))+'% of the rows: ', str(cutoff_percent_bottom))\n",
    "\n",
    "value_Longest = log_cols.sort_values('textLength', ascending=False).head(cutoff_percent_top).iloc[cutoff_percent_top-1].textLength\n",
    "value_shortest = log_cols.sort_values('textLength', ascending=True).head(cutoff_percent_bottom).iloc[cutoff_percent_bottom-1].textLength\n",
    "\n",
    "print('length of the text, above which to filter out the rows: ', str(value_Longest))\n",
    "print('length of the text, below which to filter out the rows: ', str(value_shortest))\n",
    "\n",
    "#log_cols[log_cols['textLength']<=value_shortest].to_csv('shortest_3pct.csv')\n",
    "#log_cols[log_cols['textLength']>=value_Longest].to_csv('longest_7pct.csv')"
   ]
  },
  {
   "cell_type": "code",
   "execution_count": 26,
   "metadata": {},
   "outputs": [],
   "source": [
    "log_cut = log_cols[(log_cols['textLength']>value_shortest) & (log_cols['textLength']<value_Longest)]"
   ]
  },
  {
   "cell_type": "markdown",
   "metadata": {},
   "source": [
    "<h3> 1.6 Combine all texts by developers </h3><br>\n",
    "group the texts together that are manually written by the same developer in the same project. The whole texts willbe used as an input for third-party personality insights API. "
   ]
  },
  {
   "cell_type": "code",
   "execution_count": 27,
   "metadata": {},
   "outputs": [
    {
     "name": "stdout",
     "output_type": "stream",
     "text": [
      "(618, 6)\n"
     ]
    },
    {
     "data": {
      "text/html": [
       "<div>\n",
       "<style scoped>\n",
       "    .dataframe tbody tr th:only-of-type {\n",
       "        vertical-align: middle;\n",
       "    }\n",
       "\n",
       "    .dataframe tbody tr th {\n",
       "        vertical-align: top;\n",
       "    }\n",
       "\n",
       "    .dataframe thead th {\n",
       "        text-align: right;\n",
       "    }\n",
       "</style>\n",
       "<table border=\"1\" class=\"dataframe\">\n",
       "  <thead>\n",
       "    <tr style=\"text-align: right;\">\n",
       "      <th></th>\n",
       "      <th>project</th>\n",
       "      <th>user</th>\n",
       "      <th>text</th>\n",
       "      <th>count_of_texts</th>\n",
       "      <th>words_in_text</th>\n",
       "      <th>texts_length</th>\n",
       "    </tr>\n",
       "  </thead>\n",
       "  <tbody>\n",
       "    <tr>\n",
       "      <th>0</th>\n",
       "      <td>xd</td>\n",
       "      <td>aliiqbal</td>\n",
       "      <td>Cant completely remove custom module after put...</td>\n",
       "      <td>1</td>\n",
       "      <td>9</td>\n",
       "      <td>64</td>\n",
       "    </tr>\n",
       "    <tr>\n",
       "      <th>1</th>\n",
       "      <td>xd</td>\n",
       "      <td>grussell</td>\n",
       "      <td>Custom conversion is broken. If the custom doe...</td>\n",
       "      <td>59</td>\n",
       "      <td>1891</td>\n",
       "      <td>11088</td>\n",
       "    </tr>\n",
       "    <tr>\n",
       "      <th>2</th>\n",
       "      <td>xd</td>\n",
       "      <td>dgarcia</td>\n",
       "      <td>If I try to use when developing a Spring XD mo...</td>\n",
       "      <td>1</td>\n",
       "      <td>30</td>\n",
       "      <td>152</td>\n",
       "    </tr>\n",
       "  </tbody>\n",
       "</table>\n",
       "</div>"
      ],
      "text/plain": [
       "  project      user                                               text  \\\n",
       "0      xd  aliiqbal  Cant completely remove custom module after put...   \n",
       "1      xd  grussell  Custom conversion is broken. If the custom doe...   \n",
       "2      xd   dgarcia  If I try to use when developing a Spring XD mo...   \n",
       "\n",
       "   count_of_texts  words_in_text  texts_length  \n",
       "0               1              9            64  \n",
       "1              59           1891         11088  \n",
       "2               1             30           152  "
      ]
     },
     "execution_count": 27,
     "metadata": {},
     "output_type": "execute_result"
    }
   ],
   "source": [
    "\n",
    "# loop through the projects, then through the authors and combine the texts written by the given author in the given project\n",
    "# store the project, author and text data into series and form a data frame.\n",
    "\n",
    "df_proj_name = []\n",
    "df_user_name = []\n",
    "df_user_text = []\n",
    "df_texts_count = []\n",
    "df_texts_length = []\n",
    "df_words_in_text = []\n",
    "for project in log_cut['project'].unique():\n",
    "    for dev_user in log_cut[log_cut['project']==project]['author'].unique():\n",
    "        user_txt = ''       \n",
    "        texts_count = 0\n",
    "        texts_length = 0\n",
    "        words_in_text = 0\n",
    "        curr_df = log_cut[(log_cut['project']==project) & (log_cut['author']==dev_user)]\n",
    "        for index, row in curr_df.iterrows():\n",
    "            user_txt = str(user_txt) + str(row['text']) + '. '\n",
    "            texts_count = texts_count + 1\n",
    "            texts_length = texts_length + len(row['text'])\n",
    "            words_in_text = words_in_text + len(row['text'].split()) \n",
    "        df_proj_name.append(project)\n",
    "        df_user_name.append(dev_user)\n",
    "        df_user_text.append(user_txt)\n",
    "        df_texts_count.append(texts_count)\n",
    "        df_texts_length.append(texts_length)\n",
    "        df_words_in_text.append(words_in_text)\n",
    "    \n",
    "user_text_combined = pd.DataFrame({'project':df_proj_name,\n",
    "                   'user':df_user_name, \n",
    "                   'text':df_user_text,\n",
    "                    'count_of_texts':df_texts_count,\n",
    "                    'words_in_text':df_words_in_text,\n",
    "                    'texts_length':df_texts_length})\n",
    "     \n",
    "user_text_combined.to_csv('user_text_combined.csv')\n",
    "print(user_text_combined.shape)\n",
    "user_text_combined.head(3)"
   ]
  },
  {
   "cell_type": "markdown",
   "metadata": {},
   "source": [
    "**<font color=\"red\">!!! Important notice</font>** IBM Watson says that minimum of 600 words are required for the proper personality report."
   ]
  },
  {
   "cell_type": "code",
   "execution_count": 28,
   "metadata": {},
   "outputs": [
    {
     "data": {
      "text/plain": [
       "108"
      ]
     },
     "execution_count": 28,
     "metadata": {},
     "output_type": "execute_result"
    }
   ],
   "source": [
    "user_text_combined[user_text_combined['words_in_text']>=600].shape[0]"
   ]
  },
  {
   "cell_type": "markdown",
   "metadata": {},
   "source": [
    "<h3>Combine the texts of the users, that are present in different projects.</h3>"
   ]
  },
  {
   "cell_type": "markdown",
   "metadata": {},
   "source": [
    "get the unique users per Name(displayName), Email(emailAddress), Username(name), Project(project)"
   ]
  },
  {
   "cell_type": "code",
   "execution_count": 29,
   "metadata": {},
   "outputs": [],
   "source": [
    "users_df = users[['displayName','emailAddress','name','project']]\n",
    "users_df = users_df[['displayName','emailAddress','name','project']].drop_duplicates()"
   ]
  },
  {
   "cell_type": "markdown",
   "metadata": {},
   "source": [
    "Merge the users dataframe with the user_texts dataframe with username and project code <br/>\n",
    "Clean the email addresses, to match one normalized format."
   ]
  },
  {
   "cell_type": "code",
   "execution_count": 30,
   "metadata": {},
   "outputs": [],
   "source": [
    "user_all_texts_emails = pd.merge(user_text_combined, users_df, how = 'left',\n",
    "                                   left_on = ['project', 'user'],\n",
    "                                   right_on = ['project', 'name'])[['project','user','text','count_of_texts','words_in_text','texts_length','emailAddress']]\n",
    "user_all_texts_emails['emailAddress'] = user_all_texts_emails['emailAddress'].str.replace(' dot org', '.org')\n",
    "user_all_texts_emails['emailAddress'] = user_all_texts_emails['emailAddress'].str.replace(' dot io', '.io')\n",
    "user_all_texts_emails['emailAddress'] = user_all_texts_emails['emailAddress'].str.replace(' dot me', '.me')\n",
    "user_all_texts_emails['emailAddress'] = user_all_texts_emails['emailAddress'].str.replace(' dot com', '.com')\n",
    "user_all_texts_emails['emailAddress'] = user_all_texts_emails['emailAddress'].str.replace(' dot fr', '.fr')\n",
    "user_all_texts_emails['emailAddress'] = user_all_texts_emails['emailAddress'].str.replace(' dot ', '.')\n",
    "user_all_texts_emails['emailAddress'] = user_all_texts_emails['emailAddress'].str.replace(' at ', '@')\n",
    "user_all_texts_emails['emailAddress'] = user_all_texts_emails['emailAddress'].str.replace(' ', '')"
   ]
  },
  {
   "cell_type": "markdown",
   "metadata": {},
   "source": [
    "Identify the users with emails, that are present in more than one project.<br/>\n",
    "Identify the users with emails, that are present in only one project. <br />\n",
    "identify the users with no emails.<br>\n",
    "For the users that are present in more than one project, combine texts from all projects, and update the number of words/textlength columns."
   ]
  },
  {
   "cell_type": "code",
   "execution_count": 31,
   "metadata": {},
   "outputs": [],
   "source": [
    "users_proj = user_all_texts_emails[['user', 'emailAddress', 'project']].groupby(['user', 'emailAddress']).count()\n",
    "users_proj.reset_index(level= [0,1], inplace=True)\n",
    "\n",
    "users_with_duplicates = users_proj[users_proj['project']>1][['user', 'emailAddress']]\n",
    "users_with_single = users_proj[users_proj['project']==1][['user', 'emailAddress']]\n",
    "users_with_single_noemail=user_all_texts_emails[pd.isnull(user_all_texts_emails.emailAddress)==True][['user', 'emailAddress']]\n",
    "\n",
    "for i in range(0, users_with_duplicates.shape[0]):\n",
    "    user_name = users_with_duplicates.iloc[i]['user']\n",
    "    user_email = users_with_duplicates.iloc[i]['emailAddress']   \n",
    "    df = (user_all_texts_emails[(user_all_texts_emails['user']==user_name) & (user_all_texts_emails['emailAddress']==user_email)])\n",
    "    text_=''\n",
    "    count_of_texts_=0\n",
    "    words_in_text_=0\n",
    "    texts_length_=0\n",
    "    for k in range(0, df.shape[0]):\n",
    "        text_ = text_ + df.iloc[k]['text']\n",
    "        count_of_texts_ = count_of_texts_ + df.iloc[k]['count_of_texts']\n",
    "        words_in_text_ = words_in_text_ + df.iloc[k]['words_in_text']\n",
    "        texts_length_ = texts_length_ + df.iloc[k]['texts_length']\n",
    "    user_all_texts_emails.loc[(user_all_texts_emails['user']==user_name) \n",
    "                              & (user_all_texts_emails['emailAddress']==user_email), 'text']=text_\n",
    "    user_all_texts_emails.loc[(user_all_texts_emails['user']==user_name) \n",
    "                              & (user_all_texts_emails['emailAddress']==user_email), 'count_of_texts']=count_of_texts_\n",
    "    user_all_texts_emails.loc[(user_all_texts_emails['user']==user_name) \n",
    "                              & (user_all_texts_emails['emailAddress']==user_email), 'words_in_text']=words_in_text_\n",
    "    user_all_texts_emails.loc[(user_all_texts_emails['user']==user_name) \n",
    "                              & (user_all_texts_emails['emailAddress']==user_email), 'texts_length']=texts_length_"
   ]
  },
  {
   "cell_type": "markdown",
   "metadata": {},
   "source": [
    "Check, after these changes, how many users are valid for IBM Watson Personality Insights check"
   ]
  },
  {
   "cell_type": "code",
   "execution_count": 32,
   "metadata": {},
   "outputs": [
    {
     "name": "stdout",
     "output_type": "stream",
     "text": [
      "before these changes:  108 \n",
      " after these changes:  136\n"
     ]
    }
   ],
   "source": [
    "print('before these changes: ', user_text_combined[user_text_combined['words_in_text']>=600].shape[0], '\\n',\n",
    "      'after these changes: ', user_all_texts_emails[user_all_texts_emails['words_in_text']>=600].shape[0])"
   ]
  },
  {
   "cell_type": "code",
   "execution_count": 33,
   "metadata": {},
   "outputs": [
    {
     "data": {
      "text/html": [
       "<div>\n",
       "<style scoped>\n",
       "    .dataframe tbody tr th:only-of-type {\n",
       "        vertical-align: middle;\n",
       "    }\n",
       "\n",
       "    .dataframe tbody tr th {\n",
       "        vertical-align: top;\n",
       "    }\n",
       "\n",
       "    .dataframe thead th {\n",
       "        text-align: right;\n",
       "    }\n",
       "</style>\n",
       "<table border=\"1\" class=\"dataframe\">\n",
       "  <thead>\n",
       "    <tr style=\"text-align: right;\">\n",
       "      <th></th>\n",
       "      <th>project</th>\n",
       "      <th>user</th>\n",
       "      <th>text</th>\n",
       "      <th>count_of_texts</th>\n",
       "      <th>words_in_text</th>\n",
       "      <th>texts_length</th>\n",
       "      <th>emailAddress</th>\n",
       "    </tr>\n",
       "  </thead>\n",
       "  <tbody>\n",
       "    <tr>\n",
       "      <th>1</th>\n",
       "      <td>xd</td>\n",
       "      <td>grussell</td>\n",
       "      <td>Custom conversion is broken. If the custom doe...</td>\n",
       "      <td>59</td>\n",
       "      <td>1891</td>\n",
       "      <td>11088</td>\n",
       "      <td>grussell@gopivotal.com</td>\n",
       "    </tr>\n",
       "    <tr>\n",
       "      <th>3</th>\n",
       "      <td>xd</td>\n",
       "      <td>mark.pollack</td>\n",
       "      <td>Update Spring-AMQP to RabbitMQ Client to. Enab...</td>\n",
       "      <td>340</td>\n",
       "      <td>6429</td>\n",
       "      <td>38305</td>\n",
       "      <td>mpollack@gopivotal.com</td>\n",
       "    </tr>\n",
       "    <tr>\n",
       "      <th>4</th>\n",
       "      <td>xd</td>\n",
       "      <td>david_geary</td>\n",
       "      <td>All modules that allow groovy (filter, script,...</td>\n",
       "      <td>7</td>\n",
       "      <td>886</td>\n",
       "      <td>5063</td>\n",
       "      <td>d.geary@sophiasearch.com</td>\n",
       "    </tr>\n",
       "    <tr>\n",
       "      <th>5</th>\n",
       "      <td>xd</td>\n",
       "      <td>dturanski</td>\n",
       "      <td>User provides a jar file exposing a custom bea...</td>\n",
       "      <td>57</td>\n",
       "      <td>1409</td>\n",
       "      <td>8615</td>\n",
       "      <td>dturanski@gopivotal.com</td>\n",
       "    </tr>\n",
       "    <tr>\n",
       "      <th>6</th>\n",
       "      <td>xd</td>\n",
       "      <td>sabby</td>\n",
       "      <td>Spring flo issue with unexpected char. As a de...</td>\n",
       "      <td>390</td>\n",
       "      <td>7131</td>\n",
       "      <td>41490</td>\n",
       "      <td>sanandan@pivotal.io</td>\n",
       "    </tr>\n",
       "  </tbody>\n",
       "</table>\n",
       "</div>"
      ],
      "text/plain": [
       "  project          user                                               text  \\\n",
       "1      xd      grussell  Custom conversion is broken. If the custom doe...   \n",
       "3      xd  mark.pollack  Update Spring-AMQP to RabbitMQ Client to. Enab...   \n",
       "4      xd   david_geary  All modules that allow groovy (filter, script,...   \n",
       "5      xd     dturanski  User provides a jar file exposing a custom bea...   \n",
       "6      xd         sabby  Spring flo issue with unexpected char. As a de...   \n",
       "\n",
       "   count_of_texts  words_in_text  texts_length              emailAddress  \n",
       "1              59           1891         11088    grussell@gopivotal.com  \n",
       "3             340           6429         38305    mpollack@gopivotal.com  \n",
       "4               7            886          5063  d.geary@sophiasearch.com  \n",
       "5              57           1409          8615   dturanski@gopivotal.com  \n",
       "6             390           7131         41490       sanandan@pivotal.io  "
      ]
     },
     "execution_count": 33,
     "metadata": {},
     "output_type": "execute_result"
    }
   ],
   "source": [
    "user_all_texts_emails[user_all_texts_emails['words_in_text']>=600].head()"
   ]
  },
  {
   "cell_type": "markdown",
   "metadata": {},
   "source": [
    "<h3> Identify duplicated users accounts and show the unique users that meet words coutn criteria of IBM Watson </h3>"
   ]
  },
  {
   "cell_type": "markdown",
   "metadata": {},
   "source": [
    "Get the users with texts that match IBM Watson criteria - minimum 600 words. "
   ]
  },
  {
   "cell_type": "code",
   "execution_count": 34,
   "metadata": {},
   "outputs": [],
   "source": [
    "valid_user_texts = user_all_texts_emails[user_all_texts_emails['words_in_text']>=600]"
   ]
  },
  {
   "cell_type": "code",
   "execution_count": 35,
   "metadata": {},
   "outputs": [
    {
     "name": "stdout",
     "output_type": "stream",
     "text": [
      "136\n"
     ]
    },
    {
     "data": {
      "text/html": [
       "<div>\n",
       "<style scoped>\n",
       "    .dataframe tbody tr th:only-of-type {\n",
       "        vertical-align: middle;\n",
       "    }\n",
       "\n",
       "    .dataframe tbody tr th {\n",
       "        vertical-align: top;\n",
       "    }\n",
       "\n",
       "    .dataframe thead th {\n",
       "        text-align: right;\n",
       "    }\n",
       "</style>\n",
       "<table border=\"1\" class=\"dataframe\">\n",
       "  <thead>\n",
       "    <tr style=\"text-align: right;\">\n",
       "      <th></th>\n",
       "      <th>project</th>\n",
       "      <th>user</th>\n",
       "      <th>text</th>\n",
       "      <th>count_of_texts</th>\n",
       "      <th>words_in_text</th>\n",
       "      <th>texts_length</th>\n",
       "      <th>emailAddress</th>\n",
       "    </tr>\n",
       "  </thead>\n",
       "  <tbody>\n",
       "    <tr>\n",
       "      <th>1</th>\n",
       "      <td>xd</td>\n",
       "      <td>grussell</td>\n",
       "      <td>Custom conversion is broken. If the custom doe...</td>\n",
       "      <td>59</td>\n",
       "      <td>1891</td>\n",
       "      <td>11088</td>\n",
       "      <td>grussell@gopivotal.com</td>\n",
       "    </tr>\n",
       "    <tr>\n",
       "      <th>3</th>\n",
       "      <td>xd</td>\n",
       "      <td>mark.pollack</td>\n",
       "      <td>Update Spring-AMQP to RabbitMQ Client to. Enab...</td>\n",
       "      <td>340</td>\n",
       "      <td>6429</td>\n",
       "      <td>38305</td>\n",
       "      <td>mpollack@gopivotal.com</td>\n",
       "    </tr>\n",
       "    <tr>\n",
       "      <th>4</th>\n",
       "      <td>xd</td>\n",
       "      <td>david_geary</td>\n",
       "      <td>All modules that allow groovy (filter, script,...</td>\n",
       "      <td>7</td>\n",
       "      <td>886</td>\n",
       "      <td>5063</td>\n",
       "      <td>d.geary@sophiasearch.com</td>\n",
       "    </tr>\n",
       "  </tbody>\n",
       "</table>\n",
       "</div>"
      ],
      "text/plain": [
       "  project          user                                               text  \\\n",
       "1      xd      grussell  Custom conversion is broken. If the custom doe...   \n",
       "3      xd  mark.pollack  Update Spring-AMQP to RabbitMQ Client to. Enab...   \n",
       "4      xd   david_geary  All modules that allow groovy (filter, script,...   \n",
       "\n",
       "   count_of_texts  words_in_text  texts_length              emailAddress  \n",
       "1              59           1891         11088    grussell@gopivotal.com  \n",
       "3             340           6429         38305    mpollack@gopivotal.com  \n",
       "4               7            886          5063  d.geary@sophiasearch.com  "
      ]
     },
     "execution_count": 35,
     "metadata": {},
     "output_type": "execute_result"
    }
   ],
   "source": [
    "print(valid_user_texts.shape[0])\n",
    "valid_user_texts.head(3)"
   ]
  },
  {
   "cell_type": "markdown",
   "metadata": {},
   "source": [
    "Some users have emailAddress value missing ('NaN'), we need to transform NaN value to '-' to make sure duplicates and group_by functions work properly."
   ]
  },
  {
   "cell_type": "code",
   "execution_count": 36,
   "metadata": {},
   "outputs": [
    {
     "name": "stdout",
     "output_type": "stream",
     "text": [
      "Total number of unique users in valid user texts dataset:  100\n"
     ]
    },
    {
     "name": "stderr",
     "output_type": "stream",
     "text": [
      "C:\\ProgramData\\Anaconda3\\lib\\site-packages\\pandas\\core\\indexing.py:543: SettingWithCopyWarning: \n",
      "A value is trying to be set on a copy of a slice from a DataFrame.\n",
      "Try using .loc[row_indexer,col_indexer] = value instead\n",
      "\n",
      "See the caveats in the documentation: http://pandas.pydata.org/pandas-docs/stable/indexing.html#indexing-view-versus-copy\n",
      "  self.obj[item] = s\n"
     ]
    },
    {
     "data": {
      "text/html": [
       "<div>\n",
       "<style scoped>\n",
       "    .dataframe tbody tr th:only-of-type {\n",
       "        vertical-align: middle;\n",
       "    }\n",
       "\n",
       "    .dataframe tbody tr th {\n",
       "        vertical-align: top;\n",
       "    }\n",
       "\n",
       "    .dataframe thead th {\n",
       "        text-align: right;\n",
       "    }\n",
       "</style>\n",
       "<table border=\"1\" class=\"dataframe\">\n",
       "  <thead>\n",
       "    <tr style=\"text-align: right;\">\n",
       "      <th></th>\n",
       "      <th>user</th>\n",
       "      <th>emailAddress</th>\n",
       "    </tr>\n",
       "  </thead>\n",
       "  <tbody>\n",
       "    <tr>\n",
       "      <th>1</th>\n",
       "      <td>grussell</td>\n",
       "      <td>grussell@gopivotal.com</td>\n",
       "    </tr>\n",
       "    <tr>\n",
       "      <th>3</th>\n",
       "      <td>mark.pollack</td>\n",
       "      <td>mpollack@gopivotal.com</td>\n",
       "    </tr>\n",
       "    <tr>\n",
       "      <th>4</th>\n",
       "      <td>david_geary</td>\n",
       "      <td>d.geary@sophiasearch.com</td>\n",
       "    </tr>\n",
       "  </tbody>\n",
       "</table>\n",
       "</div>"
      ],
      "text/plain": [
       "           user              emailAddress\n",
       "1      grussell    grussell@gopivotal.com\n",
       "3  mark.pollack    mpollack@gopivotal.com\n",
       "4   david_geary  d.geary@sophiasearch.com"
      ]
     },
     "execution_count": 36,
     "metadata": {},
     "output_type": "execute_result"
    }
   ],
   "source": [
    "valid_user_texts.loc[pd.isnull(valid_user_texts.emailAddress)==True,'emailAddress'] = '-'\n",
    "#valid_user_texts[['user','emailAddress']].drop_duplicates().to_csv('valid_users_unique.csv')\n",
    "print('Total number of unique users in valid user texts dataset: ', valid_user_texts[['user','emailAddress']].drop_duplicates().shape[0])\n",
    "valid_user_texts[['user','emailAddress']].drop_duplicates().head(3)"
   ]
  },
  {
   "cell_type": "markdown",
   "metadata": {},
   "source": [
    "Now, let's see the unique users per each project"
   ]
  },
  {
   "cell_type": "code",
   "execution_count": 37,
   "metadata": {},
   "outputs": [
    {
     "data": {
      "text/html": [
       "<div>\n",
       "<style scoped>\n",
       "    .dataframe tbody tr th:only-of-type {\n",
       "        vertical-align: middle;\n",
       "    }\n",
       "\n",
       "    .dataframe tbody tr th {\n",
       "        vertical-align: top;\n",
       "    }\n",
       "\n",
       "    .dataframe thead th {\n",
       "        text-align: right;\n",
       "    }\n",
       "</style>\n",
       "<table border=\"1\" class=\"dataframe\">\n",
       "  <thead>\n",
       "    <tr style=\"text-align: right;\">\n",
       "      <th></th>\n",
       "      <th>user</th>\n",
       "    </tr>\n",
       "    <tr>\n",
       "      <th>project</th>\n",
       "      <th></th>\n",
       "    </tr>\n",
       "  </thead>\n",
       "  <tbody>\n",
       "    <tr>\n",
       "      <th>tistud</th>\n",
       "      <td>33</td>\n",
       "    </tr>\n",
       "    <tr>\n",
       "      <th>timob</th>\n",
       "      <td>30</td>\n",
       "    </tr>\n",
       "    <tr>\n",
       "      <th>dnn</th>\n",
       "      <td>20</td>\n",
       "    </tr>\n",
       "    <tr>\n",
       "      <th>xd</th>\n",
       "      <td>15</td>\n",
       "    </tr>\n",
       "    <tr>\n",
       "      <th>mesos</th>\n",
       "      <td>12</td>\n",
       "    </tr>\n",
       "    <tr>\n",
       "      <th>nexus</th>\n",
       "      <td>11</td>\n",
       "    </tr>\n",
       "    <tr>\n",
       "      <th>apstud</th>\n",
       "      <td>10</td>\n",
       "    </tr>\n",
       "    <tr>\n",
       "      <th>mule</th>\n",
       "      <td>5</td>\n",
       "    </tr>\n",
       "  </tbody>\n",
       "</table>\n",
       "</div>"
      ],
      "text/plain": [
       "         user\n",
       "project      \n",
       "tistud     33\n",
       "timob      30\n",
       "dnn        20\n",
       "xd         15\n",
       "mesos      12\n",
       "nexus      11\n",
       "apstud     10\n",
       "mule        5"
      ]
     },
     "execution_count": 37,
     "metadata": {},
     "output_type": "execute_result"
    }
   ],
   "source": [
    "#valid_user_texts.groupby(['project']).count().to_csv('project_users.csv')\n",
    "valid_user_texts[['project', 'user']].groupby(['project']).count().sort_values('user', ascending=False)"
   ]
  },
  {
   "cell_type": "markdown",
   "metadata": {},
   "source": [
    "<h2>Prepare data for watson</h2>"
   ]
  },
  {
   "cell_type": "markdown",
   "metadata": {},
   "source": [
    "Get the unique users and their texts."
   ]
  },
  {
   "cell_type": "code",
   "execution_count": 38,
   "metadata": {},
   "outputs": [
    {
     "name": "stdout",
     "output_type": "stream",
     "text": [
      "100\n"
     ]
    },
    {
     "data": {
      "text/html": [
       "<div>\n",
       "<style scoped>\n",
       "    .dataframe tbody tr th:only-of-type {\n",
       "        vertical-align: middle;\n",
       "    }\n",
       "\n",
       "    .dataframe tbody tr th {\n",
       "        vertical-align: top;\n",
       "    }\n",
       "\n",
       "    .dataframe thead th {\n",
       "        text-align: right;\n",
       "    }\n",
       "</style>\n",
       "<table border=\"1\" class=\"dataframe\">\n",
       "  <thead>\n",
       "    <tr style=\"text-align: right;\">\n",
       "      <th></th>\n",
       "      <th>user</th>\n",
       "      <th>emailAddress</th>\n",
       "      <th>text</th>\n",
       "    </tr>\n",
       "  </thead>\n",
       "  <tbody>\n",
       "    <tr>\n",
       "      <th>1</th>\n",
       "      <td>grussell</td>\n",
       "      <td>grussell@gopivotal.com</td>\n",
       "      <td>Custom conversion is broken. If the custom doe...</td>\n",
       "    </tr>\n",
       "    <tr>\n",
       "      <th>3</th>\n",
       "      <td>mark.pollack</td>\n",
       "      <td>mpollack@gopivotal.com</td>\n",
       "      <td>Update Spring-AMQP to RabbitMQ Client to. Enab...</td>\n",
       "    </tr>\n",
       "    <tr>\n",
       "      <th>4</th>\n",
       "      <td>david_geary</td>\n",
       "      <td>d.geary@sophiasearch.com</td>\n",
       "      <td>All modules that allow groovy (filter, script,...</td>\n",
       "    </tr>\n",
       "    <tr>\n",
       "      <th>5</th>\n",
       "      <td>dturanski</td>\n",
       "      <td>dturanski@gopivotal.com</td>\n",
       "      <td>User provides a jar file exposing a custom bea...</td>\n",
       "    </tr>\n",
       "    <tr>\n",
       "      <th>6</th>\n",
       "      <td>sabby</td>\n",
       "      <td>sanandan@pivotal.io</td>\n",
       "      <td>Spring flo issue with unexpected char. As a de...</td>\n",
       "    </tr>\n",
       "  </tbody>\n",
       "</table>\n",
       "</div>"
      ],
      "text/plain": [
       "           user              emailAddress  \\\n",
       "1      grussell    grussell@gopivotal.com   \n",
       "3  mark.pollack    mpollack@gopivotal.com   \n",
       "4   david_geary  d.geary@sophiasearch.com   \n",
       "5     dturanski   dturanski@gopivotal.com   \n",
       "6         sabby       sanandan@pivotal.io   \n",
       "\n",
       "                                                text  \n",
       "1  Custom conversion is broken. If the custom doe...  \n",
       "3  Update Spring-AMQP to RabbitMQ Client to. Enab...  \n",
       "4  All modules that allow groovy (filter, script,...  \n",
       "5  User provides a jar file exposing a custom bea...  \n",
       "6  Spring flo issue with unexpected char. As a de...  "
      ]
     },
     "execution_count": 38,
     "metadata": {},
     "output_type": "execute_result"
    }
   ],
   "source": [
    "valid_user_texts_unique = valid_user_texts[['user','emailAddress', 'text']].drop_duplicates()\n",
    "print(valid_user_texts_unique.shape[0])\n",
    "valid_user_texts_unique.head()"
   ]
  },
  {
   "cell_type": "code",
   "execution_count": 39,
   "metadata": {},
   "outputs": [],
   "source": [
    "#valid_user_texts_unique.to_csv('valid_user_texts_unique.csv')"
   ]
  },
  {
   "cell_type": "code",
   "execution_count": 40,
   "metadata": {},
   "outputs": [
    {
     "data": {
      "text/html": [
       "<div>\n",
       "<style scoped>\n",
       "    .dataframe tbody tr th:only-of-type {\n",
       "        vertical-align: middle;\n",
       "    }\n",
       "\n",
       "    .dataframe tbody tr th {\n",
       "        vertical-align: top;\n",
       "    }\n",
       "\n",
       "    .dataframe thead th {\n",
       "        text-align: right;\n",
       "    }\n",
       "</style>\n",
       "<table border=\"1\" class=\"dataframe\">\n",
       "  <thead>\n",
       "    <tr style=\"text-align: right;\">\n",
       "      <th></th>\n",
       "      <th>user</th>\n",
       "      <th>emailAddress</th>\n",
       "      <th>text</th>\n",
       "    </tr>\n",
       "  </thead>\n",
       "  <tbody>\n",
       "    <tr>\n",
       "      <th>1</th>\n",
       "      <td>grussell</td>\n",
       "      <td>grussell@gopivotal.com</td>\n",
       "      <td>Custom conversion is broken. If the custom doe...</td>\n",
       "    </tr>\n",
       "    <tr>\n",
       "      <th>3</th>\n",
       "      <td>mark.pollack</td>\n",
       "      <td>mpollack@gopivotal.com</td>\n",
       "      <td>Update Spring-AMQP to RabbitMQ Client to. Enab...</td>\n",
       "    </tr>\n",
       "    <tr>\n",
       "      <th>4</th>\n",
       "      <td>david_geary</td>\n",
       "      <td>d.geary@sophiasearch.com</td>\n",
       "      <td>All modules that allow groovy (filter, script,...</td>\n",
       "    </tr>\n",
       "    <tr>\n",
       "      <th>5</th>\n",
       "      <td>dturanski</td>\n",
       "      <td>dturanski@gopivotal.com</td>\n",
       "      <td>User provides a jar file exposing a custom bea...</td>\n",
       "    </tr>\n",
       "    <tr>\n",
       "      <th>6</th>\n",
       "      <td>sabby</td>\n",
       "      <td>sanandan@pivotal.io</td>\n",
       "      <td>Spring flo issue with unexpected char. As a de...</td>\n",
       "    </tr>\n",
       "  </tbody>\n",
       "</table>\n",
       "</div>"
      ],
      "text/plain": [
       "           user              emailAddress  \\\n",
       "1      grussell    grussell@gopivotal.com   \n",
       "3  mark.pollack    mpollack@gopivotal.com   \n",
       "4   david_geary  d.geary@sophiasearch.com   \n",
       "5     dturanski   dturanski@gopivotal.com   \n",
       "6         sabby       sanandan@pivotal.io   \n",
       "\n",
       "                                                text  \n",
       "1  Custom conversion is broken. If the custom doe...  \n",
       "3  Update Spring-AMQP to RabbitMQ Client to. Enab...  \n",
       "4  All modules that allow groovy (filter, script,...  \n",
       "5  User provides a jar file exposing a custom bea...  \n",
       "6  Spring flo issue with unexpected char. As a de...  "
      ]
     },
     "execution_count": 40,
     "metadata": {},
     "output_type": "execute_result"
    }
   ],
   "source": [
    "valid_user_texts_unique.head()"
   ]
  },
  {
   "cell_type": "markdown",
   "metadata": {},
   "source": [
    "<h2> Get IBM Watson personality insight results </h2>"
   ]
  },
  {
   "cell_type": "code",
   "execution_count": 41,
   "metadata": {},
   "outputs": [
    {
     "data": {
      "text/plain": [
       "'\\nanother account credentials:\\nBFsOsCFLvQgZHLicoAj_ywnJ_92h0ry0gTgKudmuDmjm\\nhttps://gateway-lon.watsonplatform.net/personality-insights/api\\n'"
      ]
     },
     "execution_count": 41,
     "metadata": {},
     "output_type": "execute_result"
    }
   ],
   "source": [
    "from __future__ import print_function\n",
    "import json\n",
    "from os.path import join, dirname\n",
    "from ibm_watson import PersonalityInsightsV3\n",
    "import csv\n",
    "import os\n",
    "from datetime import datetime\n",
    "\n",
    "service = PersonalityInsightsV3(\n",
    "    version='2017-10-13',\n",
    "    ## url is optional, and defaults to the URL below. Use the correct URL for your region.\n",
    "    url='https://gateway-lon.watsonplatform.net/personality-insights/api',\n",
    "    iam_apikey='oUImnq_VXfyDypESNM8rmtJOpzUzg6Zsp_TnZxmwHotR')\n",
    "\n",
    "'''\n",
    "another account credentials:\n",
    "BFsOsCFLvQgZHLicoAj_ywnJ_92h0ry0gTgKudmuDmjm\n",
    "https://gateway-lon.watsonplatform.net/personality-insights/api\n",
    "'''"
   ]
  },
  {
   "cell_type": "code",
   "execution_count": null,
   "metadata": {},
   "outputs": [],
   "source": []
  },
  {
   "cell_type": "code",
   "execution_count": 49,
   "metadata": {},
   "outputs": [],
   "source": [
    "user_personalities = pd.DataFrame(columns=('user', 'emailAddress', \n",
    "                                           'openness', 'o_raw', 'o_sign',\n",
    "                                           'conscientiousness', 'c_raw', 'c_sign',\n",
    "                                           'extraversion', 'e_raw', 'e_sign',\n",
    "                                           'agreeableness', 'a_raw', 'a_sign',\n",
    "                                           'neuroticism', 'n_raw', 'n_sign'))\n",
    "\n",
    "for i in range(0, valid_user_texts_unique.shape[0]):\n",
    "    user_ = valid_user_texts_unique.iloc[i]['user']\n",
    "    email_ = valid_user_texts_unique.iloc[i]['emailAddress']\n",
    "    text_ = valid_user_texts_unique.iloc[i]['text']\n",
    "    \n",
    "    # define destination json structure Save input JSON file for each user \n",
    "    data = {}\n",
    "    data['contentItems'] = []\n",
    "    data['contentItems'].append({\n",
    "        'content': text_,\n",
    "        'contenttype': 'application/json',\n",
    "        'created': datetime.now().toordinal(),\n",
    "        'id': i,\n",
    "        'language':'en',\n",
    "        'user_name':user_,\n",
    "        'email':email_\n",
    "    })\n",
    "\n",
    "    input_json_file = 'json_input/' + user_ + ';' + email_ + '.json'\n",
    "    with open(input_json_file, 'w') as outfile:\n",
    "        json.dump(data, outfile)\n",
    "\n",
    "    # Call IBM Watson Personality Insights for each user \n",
    "    with open(join(dirname('__file__'), input_json_file)) as \\\n",
    "        profile_json:\n",
    "        profile = service.profile(\n",
    "        profile_json.read(),\n",
    "        'application/json',\n",
    "        raw_scores=True,\n",
    "        consumption_preferences=False).get_result()\n",
    "\n",
    "    # Save the personality insights result into output JSON file for each user\n",
    "    output_json_file = 'json_output/' + user_ + ';' + email_ + '_result.json'\n",
    "    with open(output_json_file, 'w') as outfile:\n",
    "        json.dump(profile, outfile)\n",
    "    \n",
    "    # parse JSON, loop through each personality and get the scores\n",
    "    personalities = []\n",
    "    for p in range(0, 5):\n",
    "        trait_id = profile['personality'][p]['name']\n",
    "        percentile = profile['personality'][p]['percentile']\n",
    "        significant = profile['personality'][p]['significant']\n",
    "        raw_score = profile['personality'][p]['raw_score']\n",
    "\n",
    "        if trait_id == 'Openness':\n",
    "            big5_openness = percentile\n",
    "            big5_o_raw = raw_score\n",
    "            big5_o_sign = significant\n",
    "        elif trait_id=='Conscientiousness':\n",
    "            big5_conscientiousness = percentile\n",
    "            big5_c_raw = raw_score\n",
    "            big5_c_sign = significant\n",
    "        elif trait_id == 'Extraversion':\n",
    "            big5_extraversion = percentile\n",
    "            big5_e_raw = raw_score\n",
    "            big5_e_sign = significant\n",
    "        elif trait_id == 'Agreeableness':\n",
    "            big5_agreeableness = percentile\n",
    "            big5_a_raw = raw_score\n",
    "            big5_a_sign = significant\n",
    "        elif trait_id == 'Emotional range':\n",
    "            big5_neuroticism = percentile\n",
    "            big5_n_raw = raw_score\n",
    "            big5_n_sign = significant\n",
    "    \n",
    "    # Save the user personalities into dataset\n",
    "    user_personalities = user_personalities.append([{\n",
    "        'user':user_, 'emailAddress':email_, \n",
    "       'openness':big5_openness, 'o_raw':big5_o_raw, 'o_sign':big5_o_sign,\n",
    "       'conscientiousness':big5_conscientiousness, 'c_raw':big5_c_raw, 'c_sign':big5_c_sign,\n",
    "       'extraversion':big5_extraversion, 'e_raw':big5_e_raw, 'e_sign':big5_e_sign,\n",
    "       'agreeableness':big5_agreeableness, 'a_raw':big5_a_raw, 'a_sign':big5_a_sign,\n",
    "       'neuroticism':big5_neuroticism, 'n_raw':big5_n_raw, 'n_sign':big5_n_sign\n",
    "    }])"
   ]
  },
  {
   "cell_type": "markdown",
   "metadata": {},
   "source": [
    "<hr/><font color=\"red\" size=\"4\">**!!!** read about the raw scores here: </font> <pre>https://cloud.ibm.com/docs/services/personality-insights?topic=personality-insights-numeric#rawScores-numeric </pre><hr/> "
   ]
  },
  {
   "cell_type": "code",
   "execution_count": 43,
   "metadata": {},
   "outputs": [],
   "source": [
    "user_personalities=pd.read_csv('user_personalities.csv')"
   ]
  },
  {
   "cell_type": "code",
   "execution_count": 44,
   "metadata": {},
   "outputs": [
    {
     "data": {
      "text/html": [
       "<div>\n",
       "<style scoped>\n",
       "    .dataframe tbody tr th:only-of-type {\n",
       "        vertical-align: middle;\n",
       "    }\n",
       "\n",
       "    .dataframe tbody tr th {\n",
       "        vertical-align: top;\n",
       "    }\n",
       "\n",
       "    .dataframe thead th {\n",
       "        text-align: right;\n",
       "    }\n",
       "</style>\n",
       "<table border=\"1\" class=\"dataframe\">\n",
       "  <thead>\n",
       "    <tr style=\"text-align: right;\">\n",
       "      <th></th>\n",
       "      <th>Unnamed: 0</th>\n",
       "      <th>Unnamed: 0.1</th>\n",
       "      <th>user</th>\n",
       "      <th>emailAddress</th>\n",
       "      <th>openness</th>\n",
       "      <th>o_raw</th>\n",
       "      <th>o_sign</th>\n",
       "      <th>conscientiousness</th>\n",
       "      <th>c_raw</th>\n",
       "      <th>c_sign</th>\n",
       "      <th>extraversion</th>\n",
       "      <th>e_raw</th>\n",
       "      <th>e_sign</th>\n",
       "      <th>agreeableness</th>\n",
       "      <th>a_raw</th>\n",
       "      <th>a_sign</th>\n",
       "      <th>neuroticism</th>\n",
       "      <th>n_raw</th>\n",
       "      <th>n_sign</th>\n",
       "    </tr>\n",
       "  </thead>\n",
       "  <tbody>\n",
       "    <tr>\n",
       "      <th>0</th>\n",
       "      <td>0</td>\n",
       "      <td>0</td>\n",
       "      <td>grussell</td>\n",
       "      <td>grussell@gopivotal.com</td>\n",
       "      <td>0.970</td>\n",
       "      <td>0.809</td>\n",
       "      <td>True</td>\n",
       "      <td>0.339</td>\n",
       "      <td>0.609</td>\n",
       "      <td>True</td>\n",
       "      <td>0.126</td>\n",
       "      <td>0.500</td>\n",
       "      <td>True</td>\n",
       "      <td>0.000</td>\n",
       "      <td>0.590</td>\n",
       "      <td>True</td>\n",
       "      <td>0.102</td>\n",
       "      <td>0.446</td>\n",
       "      <td>True</td>\n",
       "    </tr>\n",
       "    <tr>\n",
       "      <th>1</th>\n",
       "      <td>1</td>\n",
       "      <td>0</td>\n",
       "      <td>mark.pollack</td>\n",
       "      <td>mpollack@gopivotal.com</td>\n",
       "      <td>0.945</td>\n",
       "      <td>0.800</td>\n",
       "      <td>True</td>\n",
       "      <td>0.525</td>\n",
       "      <td>0.631</td>\n",
       "      <td>True</td>\n",
       "      <td>0.072</td>\n",
       "      <td>0.486</td>\n",
       "      <td>True</td>\n",
       "      <td>0.000</td>\n",
       "      <td>0.605</td>\n",
       "      <td>True</td>\n",
       "      <td>0.234</td>\n",
       "      <td>0.487</td>\n",
       "      <td>True</td>\n",
       "    </tr>\n",
       "    <tr>\n",
       "      <th>2</th>\n",
       "      <td>2</td>\n",
       "      <td>0</td>\n",
       "      <td>david_geary</td>\n",
       "      <td>d.geary@sophiasearch.com</td>\n",
       "      <td>0.965</td>\n",
       "      <td>0.807</td>\n",
       "      <td>True</td>\n",
       "      <td>0.555</td>\n",
       "      <td>0.634</td>\n",
       "      <td>True</td>\n",
       "      <td>0.310</td>\n",
       "      <td>0.529</td>\n",
       "      <td>True</td>\n",
       "      <td>0.002</td>\n",
       "      <td>0.630</td>\n",
       "      <td>True</td>\n",
       "      <td>0.658</td>\n",
       "      <td>0.573</td>\n",
       "      <td>True</td>\n",
       "    </tr>\n",
       "    <tr>\n",
       "      <th>3</th>\n",
       "      <td>3</td>\n",
       "      <td>0</td>\n",
       "      <td>dturanski</td>\n",
       "      <td>dturanski@gopivotal.com</td>\n",
       "      <td>0.963</td>\n",
       "      <td>0.806</td>\n",
       "      <td>True</td>\n",
       "      <td>0.483</td>\n",
       "      <td>0.626</td>\n",
       "      <td>True</td>\n",
       "      <td>0.097</td>\n",
       "      <td>0.493</td>\n",
       "      <td>True</td>\n",
       "      <td>0.000</td>\n",
       "      <td>0.606</td>\n",
       "      <td>True</td>\n",
       "      <td>0.115</td>\n",
       "      <td>0.451</td>\n",
       "      <td>True</td>\n",
       "    </tr>\n",
       "    <tr>\n",
       "      <th>4</th>\n",
       "      <td>4</td>\n",
       "      <td>0</td>\n",
       "      <td>sabby</td>\n",
       "      <td>sanandan@pivotal.io</td>\n",
       "      <td>0.823</td>\n",
       "      <td>0.778</td>\n",
       "      <td>True</td>\n",
       "      <td>0.349</td>\n",
       "      <td>0.610</td>\n",
       "      <td>True</td>\n",
       "      <td>0.096</td>\n",
       "      <td>0.493</td>\n",
       "      <td>True</td>\n",
       "      <td>0.000</td>\n",
       "      <td>0.610</td>\n",
       "      <td>True</td>\n",
       "      <td>0.314</td>\n",
       "      <td>0.505</td>\n",
       "      <td>True</td>\n",
       "    </tr>\n",
       "  </tbody>\n",
       "</table>\n",
       "</div>"
      ],
      "text/plain": [
       "   Unnamed: 0  Unnamed: 0.1          user              emailAddress  openness  \\\n",
       "0           0             0      grussell    grussell@gopivotal.com     0.970   \n",
       "1           1             0  mark.pollack    mpollack@gopivotal.com     0.945   \n",
       "2           2             0   david_geary  d.geary@sophiasearch.com     0.965   \n",
       "3           3             0     dturanski   dturanski@gopivotal.com     0.963   \n",
       "4           4             0         sabby       sanandan@pivotal.io     0.823   \n",
       "\n",
       "   o_raw  o_sign  conscientiousness  c_raw  c_sign  extraversion  e_raw  \\\n",
       "0  0.809    True              0.339  0.609    True         0.126  0.500   \n",
       "1  0.800    True              0.525  0.631    True         0.072  0.486   \n",
       "2  0.807    True              0.555  0.634    True         0.310  0.529   \n",
       "3  0.806    True              0.483  0.626    True         0.097  0.493   \n",
       "4  0.778    True              0.349  0.610    True         0.096  0.493   \n",
       "\n",
       "   e_sign  agreeableness  a_raw  a_sign  neuroticism  n_raw  n_sign  \n",
       "0    True          0.000  0.590    True        0.102  0.446    True  \n",
       "1    True          0.000  0.605    True        0.234  0.487    True  \n",
       "2    True          0.002  0.630    True        0.658  0.573    True  \n",
       "3    True          0.000  0.606    True        0.115  0.451    True  \n",
       "4    True          0.000  0.610    True        0.314  0.505    True  "
      ]
     },
     "execution_count": 44,
     "metadata": {},
     "output_type": "execute_result"
    }
   ],
   "source": [
    "pd.set_option('display.float_format', lambda x: '%.3f' % x)\n",
    "user_personalities.to_csv('user_personalities.csv')\n",
    "user_personalities.head()"
   ]
  },
  {
   "cell_type": "code",
   "execution_count": 45,
   "metadata": {},
   "outputs": [
    {
     "data": {
      "image/png": "[encoded data removed]",
      "text/plain": [
       "<Figure size 1008x432 with 10 Axes>"
      ]
     },
     "metadata": {
      "needs_background": "light"
     },
     "output_type": "display_data"
    }
   ],
   "source": [
    "# Plot\n",
    "fig, axes = plt.subplots(2, 5, figsize=(14,6), sharex=False, sharey=False)\n",
    "colors = ['tab:blue', 'tab:purple', 'tab:red', 'tab:orange', 'tab:olive',\n",
    "         'tab:blue', 'tab:purple', 'tab:red', 'tab:orange', 'tab:olive']\n",
    "traits = ['openness', 'conscientiousness', 'extraversion', 'agreeableness', 'neuroticism',\n",
    "         'o_raw', 'c_raw', 'e_raw', 'a_raw', 'n_raw']\n",
    "\n",
    "for i, (axx, trait_) in enumerate(zip(axes.flatten(), traits)):\n",
    "    x = user_personalities[trait_]\n",
    "    axx.hist(x, alpha=0.8, bins=25, label=trait_, color=colors[i])\n",
    "    axx.set_title(trait_)\n",
    "\n",
    "plt.suptitle('Histogram of all users personality trait raw scores and percentiles', y=1.05, size=16)\n",
    "plt.tight_layout();"
   ]
  },
  {
   "cell_type": "markdown",
   "metadata": {},
   "source": [
    "join the personalities dataframe to projects "
   ]
  },
  {
   "cell_type": "code",
   "execution_count": 46,
   "metadata": {},
   "outputs": [
    {
     "name": "stdout",
     "output_type": "stream",
     "text": [
      "136 136\n"
     ]
    }
   ],
   "source": [
    "user_personalities.head()\n",
    "#valid_user_texts['project', 'user', 'emailAddress']\n",
    "p_cols = ['project']\n",
    "for col in user_personalities.columns:\n",
    "    p_cols.append(col)\n",
    "project_user_personalities = pd.merge(user_personalities, valid_user_texts, how = 'inner',\n",
    "                                   left_on = ['user', 'emailAddress'],\n",
    "                                   right_on = ['user', 'emailAddress'])[p_cols]\n",
    "\n",
    "print(valid_user_texts.shape[0], project_user_personalities.shape[0])"
   ]
  },
  {
   "cell_type": "markdown",
   "metadata": {},
   "source": [
    "Let's see the personality traits percentiles and raw scores distribution within the eight projects. <br>\n",
    "Define and show the plot with the projects/percentiles and scores "
   ]
  },
  {
   "cell_type": "code",
   "execution_count": 47,
   "metadata": {},
   "outputs": [],
   "source": [
    "def boxpl(dt, x_cols, y_cols, title):\n",
    "    n = 1\n",
    "    x_cnt = len(x_cols)\n",
    "    y_cnt = len(y_cols)\n",
    "    figure = plt.figure(figsize=(18, 3.5 * x_cnt))\n",
    "    for x_ax in x_cols:\n",
    "        for i in y_cols:\n",
    "            ax = figure.add_subplot(x_cnt, y_cnt, n)\n",
    "            #ax.set_title(i)\n",
    "            g = sns.boxplot(x = dt[x_ax], y = dt[i])\n",
    "            g.set_xticklabels(g.get_xticklabels(), rotation=30)\n",
    "            plt.suptitle(title, size=16)\n",
    "            plt.subplots_adjust(bottom=0.15, wspace=0.4)\n",
    "            n = n + 1"
   ]
  },
  {
   "cell_type": "code",
   "execution_count": 48,
   "metadata": {},
   "outputs": [
    {
     "data": {
      "image/png": "[encoded data removed]",
      "text/plain": [
       "<Figure size 1296x252 with 5 Axes>"
      ]
     },
     "metadata": {
      "needs_background": "light"
     },
     "output_type": "display_data"
    },
    {
     "data": {
      "image/png": "[encoded data removed]",
      "text/plain": [
       "<Figure size 1296x252 with 5 Axes>"
      ]
     },
     "metadata": {
      "needs_background": "light"
     },
     "output_type": "display_data"
    }
   ],
   "source": [
    "y_cols = ['openness', 'conscientiousness', 'extraversion', 'agreeableness', 'neuroticism']\n",
    "x_cols = ['project']\n",
    "title = 'Personality trait percentiles for projects'\n",
    "boxpl(project_user_personalities, x_cols, y_cols, title)\n",
    "\n",
    "y_cols = ['o_raw', 'c_raw', 'e_raw', 'a_raw', 'n_raw']\n",
    "x_cols = ['project']\n",
    "title = 'Perconality trait raw scores for projects'\n",
    "boxpl(project_user_personalities, x_cols, y_cols, title)"
   ]
  },
  {
   "cell_type": "code",
   "execution_count": null,
   "metadata": {},
   "outputs": [],
   "source": []
  },
  {
   "cell_type": "code",
   "execution_count": null,
   "metadata": {},
   "outputs": [],
   "source": []
  },
  {
   "cell_type": "code",
   "execution_count": null,
   "metadata": {},
   "outputs": [],
   "source": []
  },
  {
   "cell_type": "markdown",
   "metadata": {},
   "source": [
    "<h2> Calculation of metrics </h2>"
   ]
  },
  {
   "cell_type": "markdown",
   "metadata": {},
   "source": [
    "<h3> Time </h3>"
   ]
  },
  {
   "cell_type": "markdown",
   "metadata": {},
   "source": [
    "First, let's define the time spent per task by the developer: time that is passed while the task was set to 'In Progress' status.\n",
    "In technical terms, this is the time between the two log records when 1) the task status was set to 'In Progress'\n",
    "and 2)task status was changed from 'In Progress'. \n"
   ]
  },
  {
   "cell_type": "markdown",
   "metadata": {},
   "source": [
    "Get the records from Jira change log, that have status set from In Progress to something else, and the records that have set status set to In Progress from something else."
   ]
  },
  {
   "cell_type": "code",
   "execution_count": 49,
   "metadata": {},
   "outputs": [
    {
     "data": {
      "text/html": [
       "<div>\n",
       "<style scoped>\n",
       "    .dataframe tbody tr th:only-of-type {\n",
       "        vertical-align: middle;\n",
       "    }\n",
       "\n",
       "    .dataframe tbody tr th {\n",
       "        vertical-align: top;\n",
       "    }\n",
       "\n",
       "    .dataframe thead th {\n",
       "        text-align: right;\n",
       "    }\n",
       "</style>\n",
       "<table border=\"1\" class=\"dataframe\">\n",
       "  <thead>\n",
       "    <tr style=\"text-align: right;\">\n",
       "      <th></th>\n",
       "      <th>index</th>\n",
       "      <th>author</th>\n",
       "      <th>created</th>\n",
       "      <th>field</th>\n",
       "      <th>fieldtype</th>\n",
       "      <th>from</th>\n",
       "      <th>fromString</th>\n",
       "      <th>key</th>\n",
       "      <th>project</th>\n",
       "      <th>to</th>\n",
       "      <th>toString</th>\n",
       "    </tr>\n",
       "  </thead>\n",
       "  <tbody>\n",
       "    <tr>\n",
       "      <th>0</th>\n",
       "      <td>0</td>\n",
       "      <td>jvalkeal</td>\n",
       "      <td>2016-03-03 18:40:53.171</td>\n",
       "      <td>status</td>\n",
       "      <td>jira</td>\n",
       "      <td>10000</td>\n",
       "      <td>To Do</td>\n",
       "      <td>XD-3751</td>\n",
       "      <td>xd</td>\n",
       "      <td>3</td>\n",
       "      <td>In Progress</td>\n",
       "    </tr>\n",
       "    <tr>\n",
       "      <th>1</th>\n",
       "      <td>12</td>\n",
       "      <td>grussell</td>\n",
       "      <td>2016-02-29 19:43:42.553</td>\n",
       "      <td>status</td>\n",
       "      <td>jira</td>\n",
       "      <td>10000</td>\n",
       "      <td>To Do</td>\n",
       "      <td>XD-3748</td>\n",
       "      <td>xd</td>\n",
       "      <td>3</td>\n",
       "      <td>In Progress</td>\n",
       "    </tr>\n",
       "    <tr>\n",
       "      <th>2</th>\n",
       "      <td>19</td>\n",
       "      <td>mark.pollack</td>\n",
       "      <td>2016-02-23 18:18:59.225</td>\n",
       "      <td>status</td>\n",
       "      <td>jira</td>\n",
       "      <td>10000</td>\n",
       "      <td>To Do</td>\n",
       "      <td>XD-3746</td>\n",
       "      <td>xd</td>\n",
       "      <td>3</td>\n",
       "      <td>In Progress</td>\n",
       "    </tr>\n",
       "    <tr>\n",
       "      <th>3</th>\n",
       "      <td>25</td>\n",
       "      <td>mark.pollack</td>\n",
       "      <td>2016-02-23 18:04:22.616</td>\n",
       "      <td>status</td>\n",
       "      <td>jira</td>\n",
       "      <td>10000</td>\n",
       "      <td>To Do</td>\n",
       "      <td>XD-3745</td>\n",
       "      <td>xd</td>\n",
       "      <td>3</td>\n",
       "      <td>In Progress</td>\n",
       "    </tr>\n",
       "    <tr>\n",
       "      <th>4</th>\n",
       "      <td>37</td>\n",
       "      <td>grussell</td>\n",
       "      <td>2016-02-22 15:49:30.944</td>\n",
       "      <td>status</td>\n",
       "      <td>jira</td>\n",
       "      <td>10000</td>\n",
       "      <td>To Do</td>\n",
       "      <td>XD-3744</td>\n",
       "      <td>xd</td>\n",
       "      <td>3</td>\n",
       "      <td>In Progress</td>\n",
       "    </tr>\n",
       "  </tbody>\n",
       "</table>\n",
       "</div>"
      ],
      "text/plain": [
       "   index        author                  created   field fieldtype   from  \\\n",
       "0      0      jvalkeal  2016-03-03 18:40:53.171  status      jira  10000   \n",
       "1     12      grussell  2016-02-29 19:43:42.553  status      jira  10000   \n",
       "2     19  mark.pollack  2016-02-23 18:18:59.225  status      jira  10000   \n",
       "3     25  mark.pollack  2016-02-23 18:04:22.616  status      jira  10000   \n",
       "4     37      grussell  2016-02-22 15:49:30.944  status      jira  10000   \n",
       "\n",
       "  fromString      key project to     toString  \n",
       "0      To Do  XD-3751      xd  3  In Progress  \n",
       "1      To Do  XD-3748      xd  3  In Progress  \n",
       "2      To Do  XD-3746      xd  3  In Progress  \n",
       "3      To Do  XD-3745      xd  3  In Progress  \n",
       "4      To Do  XD-3744      xd  3  In Progress  "
      ]
     },
     "execution_count": 49,
     "metadata": {},
     "output_type": "execute_result"
    }
   ],
   "source": [
    "changelog_from_inprogress = changelog[(changelog['field']=='status') \n",
    "                                    & (changelog['fromString']=='In Progress')\n",
    "                                    & (changelog['toString']!='In Progress')].reset_index()\n",
    "changelog_to_inprogress = changelog[(changelog['field']=='status') \n",
    "                                    & (changelog['toString']=='In Progress') \n",
    "                                    & (changelog['fromString']!='In Progress')].reset_index()\n",
    "changelog_to_inprogress.head()"
   ]
  },
  {
   "cell_type": "markdown",
   "metadata": {},
   "source": [
    "let's join these two datasets, and have one row for each from-to in progress status record.\n",
    "Technically: loop through each record where task status was changed form 'In Progress' to some other status (this record indicates that developer has stopped working on it). For each of these records, find the one latest record, where task status was set to 'In Progress' (this record indicates that developer has started working on it). With this operation we will get starting and ending time of work on the task by developer, and we will just need to calculate time difference.\n",
    "<hr> In case when several developers have worked on one task - the function will calculate time for each of them separately.\n",
    "<br> In case when one developer has set status to 'In Progress' multiple times within one task, the function will calculate the sum amount, so that one developer will have one number of minutes spent for one task. "
   ]
  },
  {
   "cell_type": "code",
   "execution_count": 50,
   "metadata": {},
   "outputs": [],
   "source": [
    "changelog_from_inprogress['prev_status'] = np.nan\n",
    "changelog_from_inprogress['prev_status_created'] = np.nan\n",
    "changelog_from_inprogress['created'] = pd.to_datetime(changelog_from_inprogress['created'])\n",
    "changelog_to_inprogress['created'] = pd.to_datetime(changelog_to_inprogress['created'])\n",
    "\n",
    "for index, row in changelog_from_inprogress.iterrows():\n",
    "    _key = row['key']\n",
    "    _project = row['project']\n",
    "    _created = row['created']\n",
    "    _to_row = changelog_to_inprogress[(((changelog_to_inprogress['key'] == _key)\n",
    "                            & (changelog_to_inprogress['project'] == _project))\n",
    "                            & (pd.to_datetime(changelog_to_inprogress['created']) < pd.to_datetime(_created)))].sort_values('created', ascending=False).head(1)\n",
    "    for st in _to_row['fromString']:\n",
    "        _prev_st = st \n",
    "    for cr in _to_row['created']:\n",
    "        _prev_st_created = cr \n",
    "    \n",
    "    changelog_from_inprogress.loc[index,'prev_status'] = _prev_st\n",
    "    changelog_from_inprogress.loc[index,'prev_status_created'] = _prev_st_created"
   ]
  },
  {
   "cell_type": "markdown",
   "metadata": {},
   "source": [
    "Calcualte minutes spent on each task"
   ]
  },
  {
   "cell_type": "code",
   "execution_count": 51,
   "metadata": {},
   "outputs": [
    {
     "data": {
      "text/html": [
       "<div>\n",
       "<style scoped>\n",
       "    .dataframe tbody tr th:only-of-type {\n",
       "        vertical-align: middle;\n",
       "    }\n",
       "\n",
       "    .dataframe tbody tr th {\n",
       "        vertical-align: top;\n",
       "    }\n",
       "\n",
       "    .dataframe thead th {\n",
       "        text-align: right;\n",
       "    }\n",
       "</style>\n",
       "<table border=\"1\" class=\"dataframe\">\n",
       "  <thead>\n",
       "    <tr style=\"text-align: right;\">\n",
       "      <th></th>\n",
       "      <th>index</th>\n",
       "      <th>author</th>\n",
       "      <th>created</th>\n",
       "      <th>field</th>\n",
       "      <th>fieldtype</th>\n",
       "      <th>from</th>\n",
       "      <th>fromString</th>\n",
       "      <th>key</th>\n",
       "      <th>project</th>\n",
       "      <th>to</th>\n",
       "      <th>toString</th>\n",
       "      <th>prev_status</th>\n",
       "      <th>prev_status_created</th>\n",
       "      <th>minutes_spent</th>\n",
       "    </tr>\n",
       "  </thead>\n",
       "  <tbody>\n",
       "    <tr>\n",
       "      <th>0</th>\n",
       "      <td>2</td>\n",
       "      <td>jvalkeal</td>\n",
       "      <td>2016-03-03 18:41:19.429</td>\n",
       "      <td>status</td>\n",
       "      <td>jira</td>\n",
       "      <td>3</td>\n",
       "      <td>In Progress</td>\n",
       "      <td>XD-3751</td>\n",
       "      <td>xd</td>\n",
       "      <td>10006</td>\n",
       "      <td>In PR</td>\n",
       "      <td>To Do</td>\n",
       "      <td>2016-03-03 18:40:53.171000</td>\n",
       "      <td>0.438</td>\n",
       "    </tr>\n",
       "    <tr>\n",
       "      <th>1</th>\n",
       "      <td>14</td>\n",
       "      <td>grussell</td>\n",
       "      <td>2016-02-29 21:11:29.703</td>\n",
       "      <td>status</td>\n",
       "      <td>jira</td>\n",
       "      <td>3</td>\n",
       "      <td>In Progress</td>\n",
       "      <td>XD-3748</td>\n",
       "      <td>xd</td>\n",
       "      <td>10006</td>\n",
       "      <td>In PR</td>\n",
       "      <td>To Do</td>\n",
       "      <td>2016-02-29 19:43:42.553000</td>\n",
       "      <td>87.786</td>\n",
       "    </tr>\n",
       "    <tr>\n",
       "      <th>2</th>\n",
       "      <td>20</td>\n",
       "      <td>mark.pollack</td>\n",
       "      <td>2016-02-23 18:19:04.071</td>\n",
       "      <td>status</td>\n",
       "      <td>jira</td>\n",
       "      <td>3</td>\n",
       "      <td>In Progress</td>\n",
       "      <td>XD-3746</td>\n",
       "      <td>xd</td>\n",
       "      <td>10006</td>\n",
       "      <td>In PR</td>\n",
       "      <td>To Do</td>\n",
       "      <td>2016-02-23 18:18:59.225000</td>\n",
       "      <td>0.081</td>\n",
       "    </tr>\n",
       "  </tbody>\n",
       "</table>\n",
       "</div>"
      ],
      "text/plain": [
       "   index        author                 created   field fieldtype from  \\\n",
       "0      2      jvalkeal 2016-03-03 18:41:19.429  status      jira    3   \n",
       "1     14      grussell 2016-02-29 21:11:29.703  status      jira    3   \n",
       "2     20  mark.pollack 2016-02-23 18:19:04.071  status      jira    3   \n",
       "\n",
       "    fromString      key project     to toString prev_status  \\\n",
       "0  In Progress  XD-3751      xd  10006    In PR       To Do   \n",
       "1  In Progress  XD-3748      xd  10006    In PR       To Do   \n",
       "2  In Progress  XD-3746      xd  10006    In PR       To Do   \n",
       "\n",
       "          prev_status_created  minutes_spent  \n",
       "0  2016-03-03 18:40:53.171000          0.438  \n",
       "1  2016-02-29 19:43:42.553000         87.786  \n",
       "2  2016-02-23 18:18:59.225000          0.081  "
      ]
     },
     "execution_count": 51,
     "metadata": {},
     "output_type": "execute_result"
    }
   ],
   "source": [
    "changelog_from_inprogress['minutes_spent']=(pd.to_datetime(changelog_from_inprogress['created'])\n",
    "                            - pd.to_datetime(changelog_from_inprogress['prev_status_created'])) / np.timedelta64(1, 'm')\n",
    "changelog_from_inprogress.head(3)"
   ]
  },
  {
   "cell_type": "markdown",
   "metadata": {},
   "source": [
    "Sum up the time by the same users for the same tasks"
   ]
  },
  {
   "cell_type": "code",
   "execution_count": 52,
   "metadata": {},
   "outputs": [],
   "source": [
    "user_key_timespent=changelog_from_inprogress.groupby(['key', 'project', 'author']).agg({'minutes_spent':'sum'})\n",
    "user_key_timespent.reset_index(level= [0,1,2], inplace=True)"
   ]
  },
  {
   "cell_type": "code",
   "execution_count": 53,
   "metadata": {},
   "outputs": [
    {
     "data": {
      "text/html": [
       "<div>\n",
       "<style scoped>\n",
       "    .dataframe tbody tr th:only-of-type {\n",
       "        vertical-align: middle;\n",
       "    }\n",
       "\n",
       "    .dataframe tbody tr th {\n",
       "        vertical-align: top;\n",
       "    }\n",
       "\n",
       "    .dataframe thead th {\n",
       "        text-align: right;\n",
       "    }\n",
       "</style>\n",
       "<table border=\"1\" class=\"dataframe\">\n",
       "  <thead>\n",
       "    <tr style=\"text-align: right;\">\n",
       "      <th></th>\n",
       "      <th>key</th>\n",
       "      <th>project</th>\n",
       "      <th>author</th>\n",
       "      <th>minutes_spent</th>\n",
       "    </tr>\n",
       "  </thead>\n",
       "  <tbody>\n",
       "    <tr>\n",
       "      <th>0</th>\n",
       "      <td>APSTUD-1378</td>\n",
       "      <td>apstud</td>\n",
       "      <td>cwilliams</td>\n",
       "      <td>340.033</td>\n",
       "    </tr>\n",
       "    <tr>\n",
       "      <th>1</th>\n",
       "      <td>APSTUD-1469</td>\n",
       "      <td>apstud</td>\n",
       "      <td>mstepanov</td>\n",
       "      <td>121.633</td>\n",
       "    </tr>\n",
       "    <tr>\n",
       "      <th>2</th>\n",
       "      <td>APSTUD-1469</td>\n",
       "      <td>apstud</td>\n",
       "      <td>sgibly</td>\n",
       "      <td>54.717</td>\n",
       "    </tr>\n",
       "  </tbody>\n",
       "</table>\n",
       "</div>"
      ],
      "text/plain": [
       "           key project     author  minutes_spent\n",
       "0  APSTUD-1378  apstud  cwilliams        340.033\n",
       "1  APSTUD-1469  apstud  mstepanov        121.633\n",
       "2  APSTUD-1469  apstud     sgibly         54.717"
      ]
     },
     "execution_count": 53,
     "metadata": {},
     "output_type": "execute_result"
    }
   ],
   "source": [
    "user_key_timespent.head(3)"
   ]
  },
  {
   "cell_type": "markdown",
   "metadata": {},
   "source": [
    "Let's join the time spendings dataset with the users dataset, that are valid for personality traits check."
   ]
  },
  {
   "cell_type": "code",
   "execution_count": 54,
   "metadata": {},
   "outputs": [],
   "source": [
    "valid_users_times = pd.merge(user_personalities, user_key_timespent, how = 'inner',\n",
    "        left_on = 'user', right_on = 'author')[['user', 'emailAddress', 'project', 'key', 'minutes_spent']]"
   ]
  },
  {
   "cell_type": "code",
   "execution_count": 55,
   "metadata": {},
   "outputs": [
    {
     "data": {
      "text/html": [
       "<div>\n",
       "<style scoped>\n",
       "    .dataframe tbody tr th:only-of-type {\n",
       "        vertical-align: middle;\n",
       "    }\n",
       "\n",
       "    .dataframe tbody tr th {\n",
       "        vertical-align: top;\n",
       "    }\n",
       "\n",
       "    .dataframe thead th {\n",
       "        text-align: right;\n",
       "    }\n",
       "</style>\n",
       "<table border=\"1\" class=\"dataframe\">\n",
       "  <thead>\n",
       "    <tr style=\"text-align: right;\">\n",
       "      <th></th>\n",
       "      <th>user</th>\n",
       "      <th>emailAddress</th>\n",
       "      <th>project</th>\n",
       "      <th>key</th>\n",
       "      <th>minutes_spent</th>\n",
       "    </tr>\n",
       "  </thead>\n",
       "  <tbody>\n",
       "    <tr>\n",
       "      <th>0</th>\n",
       "      <td>grussell</td>\n",
       "      <td>grussell@gopivotal.com</td>\n",
       "      <td>xd</td>\n",
       "      <td>XD-1127</td>\n",
       "      <td>0.578</td>\n",
       "    </tr>\n",
       "    <tr>\n",
       "      <th>1</th>\n",
       "      <td>grussell</td>\n",
       "      <td>grussell@gopivotal.com</td>\n",
       "      <td>xd</td>\n",
       "      <td>XD-1153</td>\n",
       "      <td>1452.161</td>\n",
       "    </tr>\n",
       "    <tr>\n",
       "      <th>2</th>\n",
       "      <td>grussell</td>\n",
       "      <td>grussell@gopivotal.com</td>\n",
       "      <td>xd</td>\n",
       "      <td>XD-1164</td>\n",
       "      <td>73.852</td>\n",
       "    </tr>\n",
       "    <tr>\n",
       "      <th>3</th>\n",
       "      <td>grussell</td>\n",
       "      <td>grussell@gopivotal.com</td>\n",
       "      <td>xd</td>\n",
       "      <td>XD-128</td>\n",
       "      <td>1688.373</td>\n",
       "    </tr>\n",
       "    <tr>\n",
       "      <th>4</th>\n",
       "      <td>grussell</td>\n",
       "      <td>grussell@gopivotal.com</td>\n",
       "      <td>xd</td>\n",
       "      <td>XD-1338</td>\n",
       "      <td>20246.750</td>\n",
       "    </tr>\n",
       "  </tbody>\n",
       "</table>\n",
       "</div>"
      ],
      "text/plain": [
       "       user            emailAddress project      key  minutes_spent\n",
       "0  grussell  grussell@gopivotal.com      xd  XD-1127          0.578\n",
       "1  grussell  grussell@gopivotal.com      xd  XD-1153       1452.161\n",
       "2  grussell  grussell@gopivotal.com      xd  XD-1164         73.852\n",
       "3  grussell  grussell@gopivotal.com      xd   XD-128       1688.373\n",
       "4  grussell  grussell@gopivotal.com      xd  XD-1338      20246.750"
      ]
     },
     "execution_count": 55,
     "metadata": {},
     "output_type": "execute_result"
    }
   ],
   "source": [
    "valid_users_times.head()"
   ]
  },
  {
   "cell_type": "code",
   "execution_count": 56,
   "metadata": {},
   "outputs": [
    {
     "name": "stdout",
     "output_type": "stream",
     "text": [
      "100 8094\n"
     ]
    }
   ],
   "source": [
    "print(user_personalities.shape[0], valid_users_times.shape[0])"
   ]
  },
  {
   "cell_type": "markdown",
   "metadata": {},
   "source": [
    "Based on the times spent by the developers, let's define the high, normal and low time spend categories.\n",
    "First, let's find the values where to split the rows: first < 33.33% time spend - low time spending, from 33.33% to 66.66% medium time spent, and from 66.66% and more - high time spending."
   ]
  },
  {
   "cell_type": "code",
   "execution_count": 57,
   "metadata": {},
   "outputs": [
    {
     "name": "stdout",
     "output_type": "stream",
     "text": [
      "2698 1687.0954833333333 73.58333333333333\n",
      "nr of rows from  33.33 % to  66.67 % :  2698\n",
      "nr of rows above  66.67 %:  2698\n",
      "nr of rows below,  33.33 %:  2698\n",
      "Total number of rows in dataset:  8094\n"
     ]
    }
   ],
   "source": [
    "_percentile=0.3333\n",
    "_rownumber_within_percentile = round((int(valid_users_times.shape[0]) * _percentile))\n",
    "_top_percentile_rows_filter_value_minutes = valid_users_times.sort_values('minutes_spent', ascending=False).head(_rownumber_within_percentile).iloc[_rownumber_within_percentile-1].minutes_spent\n",
    "_bottom_percentile_rows_filter_value_minutes = valid_users_times.sort_values('minutes_spent', ascending=True).head(_rownumber_within_percentile).iloc[_rownumber_within_percentile-1].minutes_spent\n",
    "\n",
    "print(_rownumber_within_percentile, _top_percentile_rows_filter_value_minutes, _bottom_percentile_rows_filter_value_minutes)\n",
    "print('nr of rows from ', _percentile*100, '% to ',\n",
    "      str(100-100*_percentile), '% : ',\n",
    "      valid_users_times[(valid_users_times['minutes_spent']<_top_percentile_rows_filter_value_minutes) & \n",
    "                        ( valid_users_times['minutes_spent']>_bottom_percentile_rows_filter_value_minutes)].shape[0])\n",
    "\n",
    "print('nr of rows above ', str(100-100*_percentile), '%: ',\n",
    "      valid_users_times[valid_users_times['minutes_spent']>=_top_percentile_rows_filter_value_minutes].shape[0])\n",
    "\n",
    "print('nr of rows below, ', _percentile*100, '%: ',\n",
    "      valid_users_times[valid_users_times['minutes_spent']<=_bottom_percentile_rows_filter_value_minutes].shape[0])\n",
    "\n",
    "print('Total number of rows in dataset: ', valid_users_times.shape[0])"
   ]
  },
  {
   "cell_type": "code",
   "execution_count": 125,
   "metadata": {},
   "outputs": [
    {
     "data": {
      "text/html": [
       "<div>\n",
       "<style scoped>\n",
       "    .dataframe tbody tr th:only-of-type {\n",
       "        vertical-align: middle;\n",
       "    }\n",
       "\n",
       "    .dataframe tbody tr th {\n",
       "        vertical-align: top;\n",
       "    }\n",
       "\n",
       "    .dataframe thead th {\n",
       "        text-align: right;\n",
       "    }\n",
       "</style>\n",
       "<table border=\"1\" class=\"dataframe\">\n",
       "  <thead>\n",
       "    <tr style=\"text-align: right;\">\n",
       "      <th></th>\n",
       "      <th>user</th>\n",
       "    </tr>\n",
       "    <tr>\n",
       "      <th>time_spending_category</th>\n",
       "      <th></th>\n",
       "    </tr>\n",
       "  </thead>\n",
       "  <tbody>\n",
       "    <tr>\n",
       "      <th>time_high</th>\n",
       "      <td>2698</td>\n",
       "    </tr>\n",
       "    <tr>\n",
       "      <th>time_low</th>\n",
       "      <td>2698</td>\n",
       "    </tr>\n",
       "    <tr>\n",
       "      <th>time_medium</th>\n",
       "      <td>2698</td>\n",
       "    </tr>\n",
       "  </tbody>\n",
       "</table>\n",
       "</div>"
      ],
      "text/plain": [
       "                        user\n",
       "time_spending_category      \n",
       "time_high               2698\n",
       "time_low                2698\n",
       "time_medium             2698"
      ]
     },
     "execution_count": 125,
     "metadata": {},
     "output_type": "execute_result"
    }
   ],
   "source": [
    "valid_users_times['time_spending_category'] = np.nan\n",
    "\n",
    "valid_users_times.loc[(valid_users_times['minutes_spent']<_top_percentile_rows_filter_value_minutes) & \n",
    "                        ( valid_users_times['minutes_spent']>_bottom_percentile_rows_filter_value_minutes)\n",
    "                  , 'time_spending_category'] = 'time_medium'\n",
    "\n",
    "valid_users_times.loc[valid_users_times['minutes_spent']>=_top_percentile_rows_filter_value_minutes\n",
    "                      , 'time_spending_category']='time_high'\n",
    "\n",
    "valid_users_times.loc[valid_users_times['minutes_spent']<=_bottom_percentile_rows_filter_value_minutes\n",
    "                      , 'time_spending_category']='time_low'\n",
    "# check the actual values\n",
    "valid_users_times[['time_spending_category', 'user']].groupby('time_spending_category').count()"
   ]
  },
  {
   "cell_type": "code",
   "execution_count": 126,
   "metadata": {
    "scrolled": true
   },
   "outputs": [
    {
     "data": {
      "text/html": [
       "<div>\n",
       "<style scoped>\n",
       "    .dataframe tbody tr th:only-of-type {\n",
       "        vertical-align: middle;\n",
       "    }\n",
       "\n",
       "    .dataframe tbody tr th {\n",
       "        vertical-align: top;\n",
       "    }\n",
       "\n",
       "    .dataframe thead th {\n",
       "        text-align: right;\n",
       "    }\n",
       "</style>\n",
       "<table border=\"1\" class=\"dataframe\">\n",
       "  <thead>\n",
       "    <tr style=\"text-align: right;\">\n",
       "      <th></th>\n",
       "      <th>user</th>\n",
       "      <th>emailAddress</th>\n",
       "      <th>project</th>\n",
       "      <th>key</th>\n",
       "      <th>minutes_spent</th>\n",
       "      <th>time_spending_category</th>\n",
       "    </tr>\n",
       "  </thead>\n",
       "  <tbody>\n",
       "    <tr>\n",
       "      <th>0</th>\n",
       "      <td>grussell</td>\n",
       "      <td>grussell@gopivotal.com</td>\n",
       "      <td>xd</td>\n",
       "      <td>XD-1127</td>\n",
       "      <td>0.578</td>\n",
       "      <td>time_low</td>\n",
       "    </tr>\n",
       "    <tr>\n",
       "      <th>1</th>\n",
       "      <td>grussell</td>\n",
       "      <td>grussell@gopivotal.com</td>\n",
       "      <td>xd</td>\n",
       "      <td>XD-1153</td>\n",
       "      <td>1452.161</td>\n",
       "      <td>time_medium</td>\n",
       "    </tr>\n",
       "    <tr>\n",
       "      <th>2</th>\n",
       "      <td>grussell</td>\n",
       "      <td>grussell@gopivotal.com</td>\n",
       "      <td>xd</td>\n",
       "      <td>XD-1164</td>\n",
       "      <td>73.852</td>\n",
       "      <td>time_medium</td>\n",
       "    </tr>\n",
       "    <tr>\n",
       "      <th>3</th>\n",
       "      <td>grussell</td>\n",
       "      <td>grussell@gopivotal.com</td>\n",
       "      <td>xd</td>\n",
       "      <td>XD-128</td>\n",
       "      <td>1688.373</td>\n",
       "      <td>time_high</td>\n",
       "    </tr>\n",
       "    <tr>\n",
       "      <th>4</th>\n",
       "      <td>grussell</td>\n",
       "      <td>grussell@gopivotal.com</td>\n",
       "      <td>xd</td>\n",
       "      <td>XD-1338</td>\n",
       "      <td>20246.750</td>\n",
       "      <td>time_high</td>\n",
       "    </tr>\n",
       "  </tbody>\n",
       "</table>\n",
       "</div>"
      ],
      "text/plain": [
       "       user            emailAddress project      key  minutes_spent  \\\n",
       "0  grussell  grussell@gopivotal.com      xd  XD-1127          0.578   \n",
       "1  grussell  grussell@gopivotal.com      xd  XD-1153       1452.161   \n",
       "2  grussell  grussell@gopivotal.com      xd  XD-1164         73.852   \n",
       "3  grussell  grussell@gopivotal.com      xd   XD-128       1688.373   \n",
       "4  grussell  grussell@gopivotal.com      xd  XD-1338      20246.750   \n",
       "\n",
       "  time_spending_category  \n",
       "0               time_low  \n",
       "1            time_medium  \n",
       "2            time_medium  \n",
       "3              time_high  \n",
       "4              time_high  "
      ]
     },
     "execution_count": 126,
     "metadata": {},
     "output_type": "execute_result"
    }
   ],
   "source": [
    "valid_users_times.head()"
   ]
  },
  {
   "cell_type": "markdown",
   "metadata": {},
   "source": [
    "Now, let's group the data the following way: to have one record for each user, and columns will be number of tasks where the user had low, medium and high time spendings."
   ]
  },
  {
   "cell_type": "code",
   "execution_count": 127,
   "metadata": {},
   "outputs": [
    {
     "name": "stdout",
     "output_type": "stream",
     "text": [
      "80\n"
     ]
    },
    {
     "data": {
      "text/html": [
       "<div>\n",
       "<style scoped>\n",
       "    .dataframe tbody tr th:only-of-type {\n",
       "        vertical-align: middle;\n",
       "    }\n",
       "\n",
       "    .dataframe tbody tr th {\n",
       "        vertical-align: top;\n",
       "    }\n",
       "\n",
       "    .dataframe thead th {\n",
       "        text-align: right;\n",
       "    }\n",
       "</style>\n",
       "<table border=\"1\" class=\"dataframe\">\n",
       "  <thead>\n",
       "    <tr style=\"text-align: right;\">\n",
       "      <th></th>\n",
       "      <th>user</th>\n",
       "      <th>low_timespent_tasks</th>\n",
       "      <th>medium_timespent_tasks</th>\n",
       "      <th>high_timespent_tasks</th>\n",
       "    </tr>\n",
       "  </thead>\n",
       "  <tbody>\n",
       "    <tr>\n",
       "      <th>0</th>\n",
       "      <td>grussell</td>\n",
       "      <td>28.000</td>\n",
       "      <td>35.000</td>\n",
       "      <td>22.000</td>\n",
       "    </tr>\n",
       "    <tr>\n",
       "      <th>1</th>\n",
       "      <td>mark.pollack</td>\n",
       "      <td>68.000</td>\n",
       "      <td>73.000</td>\n",
       "      <td>169.000</td>\n",
       "    </tr>\n",
       "    <tr>\n",
       "      <th>2</th>\n",
       "      <td>dturanski</td>\n",
       "      <td>40.000</td>\n",
       "      <td>25.000</td>\n",
       "      <td>71.000</td>\n",
       "    </tr>\n",
       "    <tr>\n",
       "      <th>3</th>\n",
       "      <td>sabby</td>\n",
       "      <td>67.000</td>\n",
       "      <td>29.000</td>\n",
       "      <td>87.000</td>\n",
       "    </tr>\n",
       "    <tr>\n",
       "      <th>4</th>\n",
       "      <td>thomas.risberg</td>\n",
       "      <td>41.000</td>\n",
       "      <td>47.000</td>\n",
       "      <td>57.000</td>\n",
       "    </tr>\n",
       "  </tbody>\n",
       "</table>\n",
       "</div>"
      ],
      "text/plain": [
       "             user  low_timespent_tasks  medium_timespent_tasks  \\\n",
       "0        grussell               28.000                  35.000   \n",
       "1    mark.pollack               68.000                  73.000   \n",
       "2       dturanski               40.000                  25.000   \n",
       "3           sabby               67.000                  29.000   \n",
       "4  thomas.risberg               41.000                  47.000   \n",
       "\n",
       "   high_timespent_tasks  \n",
       "0                22.000  \n",
       "1               169.000  \n",
       "2                71.000  \n",
       "3                87.000  \n",
       "4                57.000  "
      ]
     },
     "execution_count": 127,
     "metadata": {},
     "output_type": "execute_result"
    }
   ],
   "source": [
    "import pandasql as ps\n",
    "\n",
    "q1 = \"\"\"\n",
    "Select U.user, low_timespent_tasks, medium_timespent_tasks, high_timespent_tasks\n",
    "From \n",
    "    (\n",
    "    Select distinct user From valid_users_times) AS U\n",
    "    Left Join ( SELECT user, count(*) AS low_timespent_tasks\n",
    "    FROM valid_users_times AS F WHERE time_spending_category = 'time_low' Group By user\n",
    "    ) AS Low ON U.user = Low.user\n",
    "    Left Join (SELECT user, count(*) AS medium_timespent_tasks\n",
    "    FROM valid_users_times AS F WHERE time_spending_category = 'time_medium' Group By user\n",
    "    ) AS medium on U.user = medium.user\n",
    "    Left Join ( SELECT user, count(*) AS high_timespent_tasks\n",
    "    FROM valid_users_times AS F WHERE time_spending_category = 'time_high' Group By user\n",
    "    ) AS high ON U.user = high.user\n",
    "\"\"\"\n",
    "\n",
    "valid_user_time_agg = ps.sqldf(q1, locals())\n",
    "print(valid_user_time_agg.shape[0])\n",
    "valid_user_time_agg.head()"
   ]
  },
  {
   "cell_type": "code",
   "execution_count": 128,
   "metadata": {},
   "outputs": [
    {
     "name": "stdout",
     "output_type": "stream",
     "text": [
      "61\n",
      "80\n"
     ]
    }
   ],
   "source": [
    "print(valid_user_time_agg[(pd.isnull(valid_user_time_agg['low_timespent_tasks'])==False)\n",
    "                         & (pd.isnull(valid_user_time_agg['medium_timespent_tasks'])==False)\n",
    "                         & (pd.isnull(valid_user_time_agg['high_timespent_tasks'])==False)].shape[0])\n",
    "\n",
    "print(valid_user_time_agg[(pd.isnull(valid_user_time_agg['low_timespent_tasks'])==False)\n",
    "                         | (pd.isnull(valid_user_time_agg['medium_timespent_tasks'])==False)\n",
    "                         | (pd.isnull(valid_user_time_agg['high_timespent_tasks'])==False)].shape[0])"
   ]
  },
  {
   "cell_type": "markdown",
   "metadata": {},
   "source": [
    "<h3>Categorical variable Metrics</h3>"
   ]
  },
  {
   "cell_type": "markdown",
   "metadata": {},
   "source": [
    "Let's define the functions that will return the dataset of given metrics and their aggregates."
   ]
  },
  {
   "cell_type": "code",
   "execution_count": 411,
   "metadata": {},
   "outputs": [],
   "source": [
    "def categorical_metric(field, multiple_fields, field_in_issues, field_exclusion_filter, values_filter, cat1_list, cat1_label, cat2_list, cat2_label, cat3_list, cat3_label):\n",
    "    #create table from the log with this specific field\n",
    "    if len(multiple_fields)>0:\n",
    "        log_dt = changelog[(changelog['field'].isin(multiple_fields))]\n",
    "    else:\n",
    "        log_dt = changelog[(changelog['field'].isin([field]))]\n",
    "    \n",
    "    #code when exclusion field values are passed\n",
    "    if len(field_exclusion_filter) > 0:\n",
    "        #merge to issues table and add the \n",
    "        log_dt = pd.merge(log_dt, issues[['key', field_in_issues]].drop_duplicates()\n",
    "                     , how='inner', left_on = 'key', right_on='key')[['author', 'created', 'field', 'fieldtype', 'from', 'fromString', 'key',\n",
    "                    'project', 'to', 'toString', field_in_issues]]\n",
    "        log_dt = log_dt[log_dt[field_in_issues]!=field_exclusion_filter]\n",
    "        log_dt = log_dt[log_dt['toString'].isin(values_filter)]\n",
    "        \n",
    "    #add new column to the previous log table for this field. Assign the values based on categories defined in list\n",
    "    log_dt[field] = np.nan\n",
    "    log_dt.loc[(log_dt.toString.isin(cat1_list)), field]=cat1_label\n",
    "    log_dt.loc[(log_dt.toString.isin(cat2_list)), field]=cat2_label\n",
    "    log_dt.loc[(log_dt.toString.isin(cat3_list)), field]=cat3_label\n",
    "    \n",
    "    #join table to user personalities table\n",
    "    valid_users_metrics = pd.merge(user_personalities, log_dt, how = 'inner',\n",
    "        left_on = 'user', right_on = 'author')[['user', 'emailAddress', 'project', 'key', 'created', field]]\n",
    "    \n",
    "    # take only the latest edit of the field by the user on the specific task\n",
    "    #if field=='status':\n",
    "    valid_users_metrics_grouped = valid_users_metrics.groupby(['user', 'emailAddress', 'project', 'key']).agg({'created':'max'})\n",
    "    valid_users_metrics_grouped.reset_index(level= [0,1,2], inplace=True)\n",
    "    valid_users_metrics_grouped2 = valid_users_metrics.groupby(['user', 'emailAddress', 'project', 'key', 'created']).agg({field:'max'})\n",
    "    valid_users_metrics_grouped2.reset_index(level= [0,1,2,3], inplace=True)\n",
    "\n",
    "    latest_valid_users_metrics = pd.merge(valid_users_metrics_grouped2, valid_users_metrics_grouped, how = 'inner',\n",
    "                                       left_on = ['user', 'emailAddress', 'project', 'key', 'created'],\n",
    "                                       right_on = ['user', 'emailAddress', 'project', 'key', 'created'])[\n",
    "        ['user', 'emailAddress', 'project', 'key', field]]\n",
    "\n",
    "    latest_valid_users_metrics = latest_valid_users_metrics.drop_duplicates()\n",
    "    #else:\n",
    "    #    latest_valid_users_metrics= valid_users_metrics#.drop_duplicates()\n",
    "    return latest_valid_users_metrics\n",
    "    \n",
    "def categorical_metric_agg(data, field, cat1_label, cat2_label, cat3_label):\n",
    "    valid_users_metrics = data\n",
    "    #Aggregate the metrics per user\n",
    "    agg_query = \"\"\" SELECT U.user,\"\"\"+cat1_label+\"\"\", \"\"\"+cat2_label+\"\"\", \"\"\"+cat3_label+\"\"\", \n",
    "    CASE WHEN COALESCE(\"\"\"+cat1_label+\"\"\", 0)>=COALESCE(\"\"\"+cat2_label+\"\"\", 0) AND COALESCE(\"\"\"+cat1_label+\"\"\", 0)>=COALESCE(\"\"\"+cat3_label+\"\"\", 0) THEN '\"\"\"+cat1_label+\"\"\"'\n",
    "         WHEN COALESCE(\"\"\"+cat2_label+\"\"\", 0)>=COALESCE(\"\"\"+cat3_label+\"\"\", 0) AND COALESCE(\"\"\"+cat2_label+\"\"\", 0)>=COALESCE(\"\"\"+cat1_label+\"\"\", 0) THEN '\"\"\"+cat2_label+\"\"\"'\n",
    "         WHEN COALESCE(\"\"\"+cat3_label+\"\"\", 0)>=COALESCE(\"\"\"+cat2_label+\"\"\", 0) AND COALESCE(\"\"\"+cat3_label+\"\"\", 0)>=COALESCE(\"\"\"+cat1_label+\"\"\", 0) THEN '\"\"\"+cat3_label+\"\"\"'\n",
    "    END AS metric\n",
    "    FROM (SELECT DISTINCT user FROM valid_users_metrics) AS U\n",
    "    LEFT JOIN ( SELECT user, COUNT(*) AS \"\"\"+cat1_label+\"\"\" FROM valid_users_metrics AS F WHERE \"\"\"+field+\"\"\" = '\"\"\"+cat1_label+\"\"\"' GROUP BY user) AS T1 ON U.user = T1.user\n",
    "    LEFT JOIN ( SELECT user, count(*) AS \"\"\"+cat2_label+\"\"\" FROM valid_users_metrics AS F WHERE \"\"\"+field+\"\"\" = '\"\"\"+cat2_label+\"\"\"' GROUP BY user) AS T2 on U.user = T2.user\n",
    "    LEFT JOIN ( SELECT user, count(*) AS \"\"\"+cat3_label+\"\"\" FROM valid_users_metrics AS F WHERE \"\"\"+field+\"\"\" = '\"\"\"+cat3_label+\"\"\"' GROUP BY user) AS T3 ON U.user = T3.user\n",
    "    \"\"\"\n",
    "    valid_users_metrics_agg = ps.sqldf(agg_query, locals())\n",
    "    return valid_users_metrics_agg"
   ]
  },
  {
   "cell_type": "markdown",
   "metadata": {},
   "source": [
    "<h2> State </h2>"
   ]
  },
  {
   "cell_type": "markdown",
   "metadata": {},
   "source": [
    "First, let's check what statuses and status categories are present in issues and changelog datasets "
   ]
  },
  {
   "cell_type": "code",
   "execution_count": 412,
   "metadata": {},
   "outputs": [
    {
     "data": {
      "text/html": [
       "<div>\n",
       "<style scoped>\n",
       "    .dataframe tbody tr th:only-of-type {\n",
       "        vertical-align: middle;\n",
       "    }\n",
       "\n",
       "    .dataframe tbody tr th {\n",
       "        vertical-align: top;\n",
       "    }\n",
       "\n",
       "    .dataframe thead th {\n",
       "        text-align: right;\n",
       "    }\n",
       "</style>\n",
       "<table border=\"1\" class=\"dataframe\">\n",
       "  <thead>\n",
       "    <tr style=\"text-align: right;\">\n",
       "      <th></th>\n",
       "      <th>toString</th>\n",
       "      <th>author</th>\n",
       "    </tr>\n",
       "  </thead>\n",
       "  <tbody>\n",
       "    <tr>\n",
       "      <th>0</th>\n",
       "      <td>In Progress</td>\n",
       "      <td>11986</td>\n",
       "    </tr>\n",
       "    <tr>\n",
       "      <th>1</th>\n",
       "      <td>Closed</td>\n",
       "      <td>11236</td>\n",
       "    </tr>\n",
       "    <tr>\n",
       "      <th>2</th>\n",
       "      <td>Resolved</td>\n",
       "      <td>10583</td>\n",
       "    </tr>\n",
       "    <tr>\n",
       "      <th>3</th>\n",
       "      <td>Done</td>\n",
       "      <td>3201</td>\n",
       "    </tr>\n",
       "    <tr>\n",
       "      <th>4</th>\n",
       "      <td>Reopened</td>\n",
       "      <td>3171</td>\n",
       "    </tr>\n",
       "  </tbody>\n",
       "</table>\n",
       "</div>"
      ],
      "text/plain": [
       "      toString  author\n",
       "0  In Progress   11986\n",
       "1       Closed   11236\n",
       "2     Resolved   10583\n",
       "3         Done    3201\n",
       "4     Reopened    3171"
      ]
     },
     "execution_count": 412,
     "metadata": {},
     "output_type": "execute_result"
    }
   ],
   "source": [
    "statuses = changelog[changelog['field']=='status'][['toString', 'author']].groupby(\n",
    "    'toString').count().sort_values('author', ascending=False)\n",
    "statuses.reset_index(level= [0], inplace=True)\n",
    "statuses.head()"
   ]
  },
  {
   "cell_type": "markdown",
   "metadata": {},
   "source": [
    "Now, let's define our own categories and assign changelog abses status names to the ones we defined.\n",
    "Then, create separate datasets for each of these defined statuses, by filtering the changelog dataset, and then aggregate these datasets to take only the user and the number of the rows."
   ]
  },
  {
   "cell_type": "code",
   "execution_count": 437,
   "metadata": {
    "scrolled": false
   },
   "outputs": [
    {
     "name": "stderr",
     "output_type": "stream",
     "text": [
      "C:\\ProgramData\\Anaconda3\\lib\\site-packages\\ipykernel_launcher.py:18: SettingWithCopyWarning: \n",
      "A value is trying to be set on a copy of a slice from a DataFrame.\n",
      "Try using .loc[row_indexer,col_indexer] = value instead\n",
      "\n",
      "See the caveats in the documentation: http://pandas.pydata.org/pandas-docs/stable/indexing.html#indexing-view-versus-copy\n",
      "C:\\ProgramData\\Anaconda3\\lib\\site-packages\\pandas\\core\\indexing.py:543: SettingWithCopyWarning: \n",
      "A value is trying to be set on a copy of a slice from a DataFrame.\n",
      "Try using .loc[row_indexer,col_indexer] = value instead\n",
      "\n",
      "See the caveats in the documentation: http://pandas.pydata.org/pandas-docs/stable/indexing.html#indexing-view-versus-copy\n",
      "  self.obj[item] = s\n",
      "C:\\ProgramData\\Anaconda3\\lib\\site-packages\\pandas\\core\\indexing.py:190: SettingWithCopyWarning: \n",
      "A value is trying to be set on a copy of a slice from a DataFrame\n",
      "\n",
      "See the caveats in the documentation: http://pandas.pydata.org/pandas-docs/stable/indexing.html#indexing-view-versus-copy\n",
      "  self._setitem_with_indexer(indexer, value)\n",
      "C:\\ProgramData\\Anaconda3\\lib\\site-packages\\ipykernel_launcher.py:20: SettingWithCopyWarning: \n",
      "A value is trying to be set on a copy of a slice from a DataFrame\n",
      "\n",
      "See the caveats in the documentation: http://pandas.pydata.org/pandas-docs/stable/indexing.html#indexing-view-versus-copy\n",
      "C:\\ProgramData\\Anaconda3\\lib\\site-packages\\ipykernel_launcher.py:21: SettingWithCopyWarning: \n",
      "A value is trying to be set on a copy of a slice from a DataFrame\n",
      "\n",
      "See the caveats in the documentation: http://pandas.pydata.org/pandas-docs/stable/indexing.html#indexing-view-versus-copy\n"
     ]
    }
   ],
   "source": [
    "_todo = ['To Do', 'Open', 'Reopened', 'Reviewable', 'To Be Merged', 'Scoped', 'Refine', 'New', 'Raw'\n",
    "        , 'Waiting for Response', 'To Be Tested', 'Pending 3rd-Party', 'Defered', 'Triaged']\n",
    "_inprogress = ['Pull Request Submitted', 'Planned Development', 'In Progress', 'In PR', 'In Review', 'In  Review'\n",
    "               , 'Writing', 'Waiting for Review', 'Testing In Progress']\n",
    "_done = ['Closed', 'Resolved', 'Done', 'Inactive - Pending Closure', 'Accepted']\n",
    "states_df = categorical_metric('status','','','','',_todo,'status_todo',_inprogress,'status_inprogress',_done,'status_done')\n",
    "states_df_agg = categorical_metric_agg(states_df, 'status','status_todo', 'status_inprogress', 'status_done')"
   ]
  },
  {
   "cell_type": "code",
   "execution_count": 438,
   "metadata": {},
   "outputs": [
    {
     "name": "stdout",
     "output_type": "stream",
     "text": [
      "21585 21585 21585\n",
      "10701 10701\n"
     ]
    }
   ],
   "source": [
    "print(states_df.shape[0], \n",
    "      states_df.drop_duplicates().shape[0],\n",
    "      states_df[['user', 'key']].drop_duplicates().shape[0])\n",
    "states_df[['user','key','status']].groupby(['user','status']).count().reset_index().sort_values('key', ascending=False).head(100)\n",
    "\n",
    "query=\"\"\"\n",
    "SELECT s.*, g.keys_count, g.keys_to_delete, CASE WHEN g.keys_to_delete >= s.RowNum THEN 'Yes' ELSE 'No' END as ToDelete\n",
    "FROM (SELECT *, ROW_NUMBER() OVER(PARTITION BY user, emailAddress, project, status ORDER BY 1) AS RowNum\n",
    "FROM states_df) AS s\n",
    "INNER JOIN (SELECT user, emailAddress, project, status, COUNT(*) AS keys_count, CAST(COUNT(*)*0.5 AS INT) AS keys_to_delete\n",
    "FROM states_df GROUP BY user, emailAddress, project, status) AS g\n",
    "ON g.user = s.user AND g.emailAddress = s.emailAddress AND g.project = s.project AND s.status = g.status\n",
    "\"\"\"\n",
    "states_df = ps.sqldf(query, locals())\n",
    "print(states_df[states_df['ToDelete']=='Yes'].shape[0], states_df[states_df['ToDelete']=='Yes'].shape[0])\n",
    "states_df = states_df[states_df['ToDelete']=='No'].copy(deep=True)"
   ]
  },
  {
   "cell_type": "code",
   "execution_count": 386,
   "metadata": {
    "scrolled": true
   },
   "outputs": [],
   "source": [
    "#states_df[states_df['ToDelete']=='No'].shape[0]\n"
   ]
  },
  {
   "cell_type": "code",
   "execution_count": 436,
   "metadata": {},
   "outputs": [
    {
     "data": {
      "text/plain": [
       "8784"
      ]
     },
     "execution_count": 436,
     "metadata": {},
     "output_type": "execute_result"
    }
   ],
   "source": [
    "states_df.shape[0]"
   ]
  },
  {
   "cell_type": "markdown",
   "metadata": {},
   "source": [
    "Check how many from these users have all three status tasks available, or at least one status task available:"
   ]
  },
  {
   "cell_type": "code",
   "execution_count": 415,
   "metadata": {},
   "outputs": [
    {
     "name": "stdout",
     "output_type": "stream",
     "text": [
      "69\n",
      "97\n"
     ]
    },
    {
     "data": {
      "text/html": [
       "<div>\n",
       "<style scoped>\n",
       "    .dataframe tbody tr th:only-of-type {\n",
       "        vertical-align: middle;\n",
       "    }\n",
       "\n",
       "    .dataframe tbody tr th {\n",
       "        vertical-align: top;\n",
       "    }\n",
       "\n",
       "    .dataframe thead th {\n",
       "        text-align: right;\n",
       "    }\n",
       "</style>\n",
       "<table border=\"1\" class=\"dataframe\">\n",
       "  <thead>\n",
       "    <tr style=\"text-align: right;\">\n",
       "      <th></th>\n",
       "      <th>user</th>\n",
       "      <th>status_todo</th>\n",
       "      <th>status_inprogress</th>\n",
       "      <th>status_done</th>\n",
       "      <th>metric</th>\n",
       "    </tr>\n",
       "  </thead>\n",
       "  <tbody>\n",
       "    <tr>\n",
       "      <th>0</th>\n",
       "      <td>Alexey.tregub</td>\n",
       "      <td>9.000</td>\n",
       "      <td>5.000</td>\n",
       "      <td>255.000</td>\n",
       "      <td>status_done</td>\n",
       "    </tr>\n",
       "    <tr>\n",
       "      <th>1</th>\n",
       "      <td>KenGrierson</td>\n",
       "      <td>23.000</td>\n",
       "      <td>6.000</td>\n",
       "      <td>274.000</td>\n",
       "      <td>status_done</td>\n",
       "    </tr>\n",
       "    <tr>\n",
       "      <th>2</th>\n",
       "      <td>adam-mesos</td>\n",
       "      <td>5.000</td>\n",
       "      <td>6.000</td>\n",
       "      <td>93.000</td>\n",
       "      <td>status_done</td>\n",
       "    </tr>\n",
       "    <tr>\n",
       "      <th>3</th>\n",
       "      <td>agrueso</td>\n",
       "      <td>4.000</td>\n",
       "      <td>39.000</td>\n",
       "      <td>86.000</td>\n",
       "      <td>status_done</td>\n",
       "    </tr>\n",
       "    <tr>\n",
       "      <th>4</th>\n",
       "      <td>agx</td>\n",
       "      <td>2.000</td>\n",
       "      <td>19.000</td>\n",
       "      <td>36.000</td>\n",
       "      <td>status_done</td>\n",
       "    </tr>\n",
       "  </tbody>\n",
       "</table>\n",
       "</div>"
      ],
      "text/plain": [
       "            user  status_todo  status_inprogress  status_done       metric\n",
       "0  Alexey.tregub        9.000              5.000      255.000  status_done\n",
       "1    KenGrierson       23.000              6.000      274.000  status_done\n",
       "2     adam-mesos        5.000              6.000       93.000  status_done\n",
       "3        agrueso        4.000             39.000       86.000  status_done\n",
       "4            agx        2.000             19.000       36.000  status_done"
      ]
     },
     "execution_count": 415,
     "metadata": {},
     "output_type": "execute_result"
    }
   ],
   "source": [
    "print(states_df_agg[(pd.isnull(states_df_agg['status_done'])==False)\n",
    "                         & (pd.isnull(states_df_agg['status_todo'])==False)\n",
    "                         & (pd.isnull(states_df_agg['status_inprogress'])==False)].shape[0])\n",
    "\n",
    "print(states_df_agg[(pd.isnull(states_df_agg['status_done'])==False)\n",
    "                         | (pd.isnull(states_df_agg['status_todo'])==False)\n",
    "                         | (pd.isnull(states_df_agg['status_inprogress'])==False)].shape[0])\n",
    "states_df_agg.head()"
   ]
  },
  {
   "cell_type": "markdown",
   "metadata": {},
   "source": [
    "<h2> Task Prioritization <h/2>"
   ]
  },
  {
   "cell_type": "markdown",
   "metadata": {},
   "source": [
    "Let's see what are the priority values in changelog dataset, and how many records has each of these priority value"
   ]
  },
  {
   "cell_type": "code",
   "execution_count": 390,
   "metadata": {},
   "outputs": [
    {
     "data": {
      "text/html": [
       "<div>\n",
       "<style scoped>\n",
       "    .dataframe tbody tr th:only-of-type {\n",
       "        vertical-align: middle;\n",
       "    }\n",
       "\n",
       "    .dataframe tbody tr th {\n",
       "        vertical-align: top;\n",
       "    }\n",
       "\n",
       "    .dataframe thead th {\n",
       "        text-align: right;\n",
       "    }\n",
       "</style>\n",
       "<table border=\"1\" class=\"dataframe\">\n",
       "  <thead>\n",
       "    <tr style=\"text-align: right;\">\n",
       "      <th></th>\n",
       "      <th>author</th>\n",
       "    </tr>\n",
       "    <tr>\n",
       "      <th>toString</th>\n",
       "      <th></th>\n",
       "    </tr>\n",
       "  </thead>\n",
       "  <tbody>\n",
       "    <tr>\n",
       "      <th>High</th>\n",
       "      <td>1978</td>\n",
       "    </tr>\n",
       "    <tr>\n",
       "      <th>Medium</th>\n",
       "      <td>1267</td>\n",
       "    </tr>\n",
       "    <tr>\n",
       "      <th>Critical</th>\n",
       "      <td>1031</td>\n",
       "    </tr>\n",
       "    <tr>\n",
       "      <th>Major</th>\n",
       "      <td>742</td>\n",
       "    </tr>\n",
       "    <tr>\n",
       "      <th>Low</th>\n",
       "      <td>670</td>\n",
       "    </tr>\n",
       "    <tr>\n",
       "      <th>Blocker</th>\n",
       "      <td>254</td>\n",
       "    </tr>\n",
       "    <tr>\n",
       "      <th>Minor</th>\n",
       "      <td>240</td>\n",
       "    </tr>\n",
       "    <tr>\n",
       "      <th>None</th>\n",
       "      <td>166</td>\n",
       "    </tr>\n",
       "    <tr>\n",
       "      <th>Trivial</th>\n",
       "      <td>89</td>\n",
       "    </tr>\n",
       "    <tr>\n",
       "      <th>To be reviewed</th>\n",
       "      <td>3</td>\n",
       "    </tr>\n",
       "  </tbody>\n",
       "</table>\n",
       "</div>"
      ],
      "text/plain": [
       "                author\n",
       "toString              \n",
       "High              1978\n",
       "Medium            1267\n",
       "Critical          1031\n",
       "Major              742\n",
       "Low                670\n",
       "Blocker            254\n",
       "Minor              240\n",
       "None               166\n",
       "Trivial             89\n",
       "To be reviewed       3"
      ]
     },
     "execution_count": 390,
     "metadata": {},
     "output_type": "execute_result"
    }
   ],
   "source": [
    "changelog[changelog['field']=='priority'][['toString', 'author']].groupby(\n",
    "    'toString').count().sort_values('author', ascending=False)"
   ]
  },
  {
   "cell_type": "markdown",
   "metadata": {},
   "source": [
    "Let's define our own priority categories and assign changelog priority names to the ones we defined. \n",
    "Then, create separate datasets for each of these defined priorities, by filtering the changelog dataset, and then aggregate these datasets to take only the user and the number of the rows."
   ]
  },
  {
   "cell_type": "code",
   "execution_count": 416,
   "metadata": {},
   "outputs": [
    {
     "name": "stderr",
     "output_type": "stream",
     "text": [
      "C:\\ProgramData\\Anaconda3\\lib\\site-packages\\ipykernel_launcher.py:18: SettingWithCopyWarning: \n",
      "A value is trying to be set on a copy of a slice from a DataFrame.\n",
      "Try using .loc[row_indexer,col_indexer] = value instead\n",
      "\n",
      "See the caveats in the documentation: http://pandas.pydata.org/pandas-docs/stable/indexing.html#indexing-view-versus-copy\n",
      "C:\\ProgramData\\Anaconda3\\lib\\site-packages\\pandas\\core\\indexing.py:543: SettingWithCopyWarning: \n",
      "A value is trying to be set on a copy of a slice from a DataFrame.\n",
      "Try using .loc[row_indexer,col_indexer] = value instead\n",
      "\n",
      "See the caveats in the documentation: http://pandas.pydata.org/pandas-docs/stable/indexing.html#indexing-view-versus-copy\n",
      "  self.obj[item] = s\n",
      "C:\\ProgramData\\Anaconda3\\lib\\site-packages\\pandas\\core\\indexing.py:190: SettingWithCopyWarning: \n",
      "A value is trying to be set on a copy of a slice from a DataFrame\n",
      "\n",
      "See the caveats in the documentation: http://pandas.pydata.org/pandas-docs/stable/indexing.html#indexing-view-versus-copy\n",
      "  self._setitem_with_indexer(indexer, value)\n",
      "C:\\ProgramData\\Anaconda3\\lib\\site-packages\\ipykernel_launcher.py:20: SettingWithCopyWarning: \n",
      "A value is trying to be set on a copy of a slice from a DataFrame\n",
      "\n",
      "See the caveats in the documentation: http://pandas.pydata.org/pandas-docs/stable/indexing.html#indexing-view-versus-copy\n",
      "C:\\ProgramData\\Anaconda3\\lib\\site-packages\\ipykernel_launcher.py:21: SettingWithCopyWarning: \n",
      "A value is trying to be set on a copy of a slice from a DataFrame\n",
      "\n",
      "See the caveats in the documentation: http://pandas.pydata.org/pandas-docs/stable/indexing.html#indexing-view-versus-copy\n"
     ]
    }
   ],
   "source": [
    "_high = ['High', 'Critical', 'Blocker']\n",
    "_medium = ['Medium', 'Major']\n",
    "_low = ['Low', 'Minor', 'None', 'Trivial', 'To be reviewed']\n",
    "\n",
    "priorities_df = categorical_metric('priority','','','','',_high,'priority_high',_medium,'priority_medium',_low,'priority_low')\n",
    "priorities_df_agg = categorical_metric_agg(priorities_df, 'priority','priority_high', 'priority_medium', 'priority_low')"
   ]
  },
  {
   "cell_type": "code",
   "execution_count": 417,
   "metadata": {},
   "outputs": [
    {
     "name": "stdout",
     "output_type": "stream",
     "text": [
      "4796 4796 4796\n"
     ]
    },
    {
     "data": {
      "text/html": [
       "<div>\n",
       "<style scoped>\n",
       "    .dataframe tbody tr th:only-of-type {\n",
       "        vertical-align: middle;\n",
       "    }\n",
       "\n",
       "    .dataframe tbody tr th {\n",
       "        vertical-align: top;\n",
       "    }\n",
       "\n",
       "    .dataframe thead th {\n",
       "        text-align: right;\n",
       "    }\n",
       "</style>\n",
       "<table border=\"1\" class=\"dataframe\">\n",
       "  <thead>\n",
       "    <tr style=\"text-align: right;\">\n",
       "      <th></th>\n",
       "      <th>user</th>\n",
       "      <th>emailAddress</th>\n",
       "      <th>project</th>\n",
       "      <th>key</th>\n",
       "      <th>priority</th>\n",
       "    </tr>\n",
       "  </thead>\n",
       "  <tbody>\n",
       "    <tr>\n",
       "      <th>0</th>\n",
       "      <td>Alexey.tregub</td>\n",
       "      <td>-</td>\n",
       "      <td>dnn</td>\n",
       "      <td>DNN-3344</td>\n",
       "      <td>priority_high</td>\n",
       "    </tr>\n",
       "    <tr>\n",
       "      <th>1</th>\n",
       "      <td>Alexey.tregub</td>\n",
       "      <td>-</td>\n",
       "      <td>dnn</td>\n",
       "      <td>DNN-3957</td>\n",
       "      <td>priority_high</td>\n",
       "    </tr>\n",
       "    <tr>\n",
       "      <th>2</th>\n",
       "      <td>Alexey.tregub</td>\n",
       "      <td>-</td>\n",
       "      <td>dnn</td>\n",
       "      <td>DNN-3966</td>\n",
       "      <td>priority_high</td>\n",
       "    </tr>\n",
       "    <tr>\n",
       "      <th>3</th>\n",
       "      <td>Alexey.tregub</td>\n",
       "      <td>-</td>\n",
       "      <td>dnn</td>\n",
       "      <td>DNN-4117</td>\n",
       "      <td>priority_medium</td>\n",
       "    </tr>\n",
       "    <tr>\n",
       "      <th>4</th>\n",
       "      <td>KenGrierson</td>\n",
       "      <td>-</td>\n",
       "      <td>dnn</td>\n",
       "      <td>DNN-3445</td>\n",
       "      <td>priority_high</td>\n",
       "    </tr>\n",
       "  </tbody>\n",
       "</table>\n",
       "</div>"
      ],
      "text/plain": [
       "            user emailAddress project       key         priority\n",
       "0  Alexey.tregub            -     dnn  DNN-3344    priority_high\n",
       "1  Alexey.tregub            -     dnn  DNN-3957    priority_high\n",
       "2  Alexey.tregub            -     dnn  DNN-3966    priority_high\n",
       "3  Alexey.tregub            -     dnn  DNN-4117  priority_medium\n",
       "4    KenGrierson            -     dnn  DNN-3445    priority_high"
      ]
     },
     "execution_count": 417,
     "metadata": {},
     "output_type": "execute_result"
    }
   ],
   "source": [
    "print(priorities_df.shape[0], \n",
    "      priorities_df.drop_duplicates().shape[0],\n",
    "      priorities_df[['user', 'key']].drop_duplicates().shape[0])\n",
    "priorities_df.head()"
   ]
  },
  {
   "cell_type": "markdown",
   "metadata": {},
   "source": [
    "Check how many from these users have all three priority tasks available, and the number of users that have at least one piroritization available"
   ]
  },
  {
   "cell_type": "code",
   "execution_count": 418,
   "metadata": {},
   "outputs": [
    {
     "name": "stdout",
     "output_type": "stream",
     "text": [
      "31\n",
      "81\n"
     ]
    },
    {
     "data": {
      "text/html": [
       "<div>\n",
       "<style scoped>\n",
       "    .dataframe tbody tr th:only-of-type {\n",
       "        vertical-align: middle;\n",
       "    }\n",
       "\n",
       "    .dataframe tbody tr th {\n",
       "        vertical-align: top;\n",
       "    }\n",
       "\n",
       "    .dataframe thead th {\n",
       "        text-align: right;\n",
       "    }\n",
       "</style>\n",
       "<table border=\"1\" class=\"dataframe\">\n",
       "  <thead>\n",
       "    <tr style=\"text-align: right;\">\n",
       "      <th></th>\n",
       "      <th>user</th>\n",
       "      <th>priority_high</th>\n",
       "      <th>priority_medium</th>\n",
       "      <th>priority_low</th>\n",
       "      <th>metric</th>\n",
       "    </tr>\n",
       "  </thead>\n",
       "  <tbody>\n",
       "    <tr>\n",
       "      <th>0</th>\n",
       "      <td>Alexey.tregub</td>\n",
       "      <td>3.000</td>\n",
       "      <td>1.000</td>\n",
       "      <td>nan</td>\n",
       "      <td>priority_high</td>\n",
       "    </tr>\n",
       "    <tr>\n",
       "      <th>1</th>\n",
       "      <td>KenGrierson</td>\n",
       "      <td>15.000</td>\n",
       "      <td>1.000</td>\n",
       "      <td>nan</td>\n",
       "      <td>priority_high</td>\n",
       "    </tr>\n",
       "    <tr>\n",
       "      <th>2</th>\n",
       "      <td>adam-mesos</td>\n",
       "      <td>8.000</td>\n",
       "      <td>2.000</td>\n",
       "      <td>2.000</td>\n",
       "      <td>priority_high</td>\n",
       "    </tr>\n",
       "    <tr>\n",
       "      <th>3</th>\n",
       "      <td>agrueso</td>\n",
       "      <td>nan</td>\n",
       "      <td>1.000</td>\n",
       "      <td>nan</td>\n",
       "      <td>priority_medium</td>\n",
       "    </tr>\n",
       "    <tr>\n",
       "      <th>4</th>\n",
       "      <td>alejandro.nosenzo</td>\n",
       "      <td>2.000</td>\n",
       "      <td>nan</td>\n",
       "      <td>4.000</td>\n",
       "      <td>priority_low</td>\n",
       "    </tr>\n",
       "  </tbody>\n",
       "</table>\n",
       "</div>"
      ],
      "text/plain": [
       "                user  priority_high  priority_medium  priority_low  \\\n",
       "0      Alexey.tregub          3.000            1.000           nan   \n",
       "1        KenGrierson         15.000            1.000           nan   \n",
       "2         adam-mesos          8.000            2.000         2.000   \n",
       "3            agrueso            nan            1.000           nan   \n",
       "4  alejandro.nosenzo          2.000              nan         4.000   \n",
       "\n",
       "            metric  \n",
       "0    priority_high  \n",
       "1    priority_high  \n",
       "2    priority_high  \n",
       "3  priority_medium  \n",
       "4     priority_low  "
      ]
     },
     "execution_count": 418,
     "metadata": {},
     "output_type": "execute_result"
    }
   ],
   "source": [
    "print(priorities_df_agg[(pd.isnull(priorities_df_agg['priority_high'])==False)\n",
    "                         & (pd.isnull(priorities_df_agg['priority_medium'])==False)\n",
    "                         & (pd.isnull(priorities_df_agg['priority_low'])==False)].shape[0])\n",
    "\n",
    "print(priorities_df_agg[(pd.isnull(priorities_df_agg['priority_high'])==False)\n",
    "                         | (pd.isnull(priorities_df_agg['priority_medium'])==False)\n",
    "                         | (pd.isnull(priorities_df_agg['priority_low'])==False)].shape[0])\n",
    "priorities_df_agg.head()"
   ]
  },
  {
   "cell_type": "markdown",
   "metadata": {},
   "source": [
    "<h2>Estimation</h2>"
   ]
  },
  {
   "cell_type": "code",
   "execution_count": 419,
   "metadata": {},
   "outputs": [
    {
     "data": {
      "text/plain": [
       "[Text(0, 0.5, 'apstud'),\n",
       " Text(0, 1.5, 'dnn'),\n",
       " Text(0, 2.5, 'mesos'),\n",
       " Text(0, 3.5, 'mule'),\n",
       " Text(0, 4.5, 'nexus'),\n",
       " Text(0, 5.5, 'timob'),\n",
       " Text(0, 6.5, 'tistud'),\n",
       " Text(0, 7.5, 'xd')]"
      ]
     },
     "execution_count": 419,
     "metadata": {},
     "output_type": "execute_result"
    },
    {
     "data": {
      "image/png": "[encoded data removed]",
      "text/plain": [
       "<Figure size 1440x288 with 2 Axes>"
      ]
     },
     "metadata": {},
     "output_type": "display_data"
    }
   ],
   "source": [
    "unique_keys = issues[['key', 'project', 'storypoints', 'fields.issuetype.name']].drop_duplicates()\n",
    "proj_story_tab = pd.crosstab(unique_keys['project'], unique_keys['storypoints'], values = unique_keys['key'], aggfunc='count')\n",
    "hm = sns.set(rc={'figure.figsize':(20,4)})\n",
    "g = sns.heatmap(proj_story_tab, annot=True, cmap='Greens', fmt='g')\n",
    "g.set_yticklabels(g.get_yticklabels(), rotation=45)"
   ]
  },
  {
   "cell_type": "code",
   "execution_count": 420,
   "metadata": {},
   "outputs": [],
   "source": [
    "#field_in_issues, field_exclusion_filter, values_filter\n",
    "\n",
    "story_points = ['0', '0.5', '1', '2', '3', '5', '8', '13', '20', '21', '40', '100']\n",
    "story_fields = ['Story Points', 'Actual Story Points']\n",
    "field = 'StoryPoints'\n",
    "e_low = ['0', '0.5', '1', '2', '3']\n",
    "e_medium = ['3', '5']\n",
    "e_high = ['8', '13', '20', '21', '40', '100']\n",
    "\n",
    "\n",
    "estimates_df = categorical_metric(field,story_fields,'fields.issuetype.name','Epic',story_points,e_high,'estimation_high',e_medium,'estimation_medium',e_low,'estimation_low')\n",
    "estimates_df_agg = categorical_metric_agg(estimates_df, '`'+field+'`','estimation_high', 'estimation_medium', 'estimation_low')"
   ]
  },
  {
   "cell_type": "code",
   "execution_count": 421,
   "metadata": {},
   "outputs": [
    {
     "data": {
      "text/html": [
       "<div>\n",
       "<style scoped>\n",
       "    .dataframe tbody tr th:only-of-type {\n",
       "        vertical-align: middle;\n",
       "    }\n",
       "\n",
       "    .dataframe tbody tr th {\n",
       "        vertical-align: top;\n",
       "    }\n",
       "\n",
       "    .dataframe thead th {\n",
       "        text-align: right;\n",
       "    }\n",
       "</style>\n",
       "<table border=\"1\" class=\"dataframe\">\n",
       "  <thead>\n",
       "    <tr style=\"text-align: right;\">\n",
       "      <th></th>\n",
       "      <th>user</th>\n",
       "      <th>emailAddress</th>\n",
       "      <th>project</th>\n",
       "      <th>key</th>\n",
       "      <th>StoryPoints</th>\n",
       "    </tr>\n",
       "  </thead>\n",
       "  <tbody>\n",
       "    <tr>\n",
       "      <th>0</th>\n",
       "      <td>adam-mesos</td>\n",
       "      <td>adam@mesosphere.io</td>\n",
       "      <td>mesos</td>\n",
       "      <td>MESOS-1733</td>\n",
       "      <td>estimation_medium</td>\n",
       "    </tr>\n",
       "    <tr>\n",
       "      <th>1</th>\n",
       "      <td>adam-mesos</td>\n",
       "      <td>adam@mesosphere.io</td>\n",
       "      <td>mesos</td>\n",
       "      <td>MESOS-2043</td>\n",
       "      <td>estimation_medium</td>\n",
       "    </tr>\n",
       "    <tr>\n",
       "      <th>2</th>\n",
       "      <td>adam-mesos</td>\n",
       "      <td>adam@mesosphere.io</td>\n",
       "      <td>mesos</td>\n",
       "      <td>MESOS-2110</td>\n",
       "      <td>estimation_high</td>\n",
       "    </tr>\n",
       "    <tr>\n",
       "      <th>3</th>\n",
       "      <td>adam-mesos</td>\n",
       "      <td>adam@mesosphere.io</td>\n",
       "      <td>mesos</td>\n",
       "      <td>MESOS-2222</td>\n",
       "      <td>estimation_low</td>\n",
       "    </tr>\n",
       "    <tr>\n",
       "      <th>4</th>\n",
       "      <td>adam-mesos</td>\n",
       "      <td>adam@mesosphere.io</td>\n",
       "      <td>mesos</td>\n",
       "      <td>MESOS-2315</td>\n",
       "      <td>estimation_low</td>\n",
       "    </tr>\n",
       "  </tbody>\n",
       "</table>\n",
       "</div>"
      ],
      "text/plain": [
       "         user        emailAddress project         key        StoryPoints\n",
       "0  adam-mesos  adam@mesosphere.io   mesos  MESOS-1733  estimation_medium\n",
       "1  adam-mesos  adam@mesosphere.io   mesos  MESOS-2043  estimation_medium\n",
       "2  adam-mesos  adam@mesosphere.io   mesos  MESOS-2110    estimation_high\n",
       "3  adam-mesos  adam@mesosphere.io   mesos  MESOS-2222     estimation_low\n",
       "4  adam-mesos  adam@mesosphere.io   mesos  MESOS-2315     estimation_low"
      ]
     },
     "execution_count": 421,
     "metadata": {},
     "output_type": "execute_result"
    }
   ],
   "source": [
    "estimates_df.head()"
   ]
  },
  {
   "cell_type": "code",
   "execution_count": 422,
   "metadata": {},
   "outputs": [
    {
     "name": "stdout",
     "output_type": "stream",
     "text": [
      "6901 6901\n"
     ]
    }
   ],
   "source": [
    "print(estimates_df.shape[0],estimates_df[['user', 'key']].drop_duplicates().shape[0])"
   ]
  },
  {
   "cell_type": "code",
   "execution_count": 423,
   "metadata": {},
   "outputs": [
    {
     "name": "stdout",
     "output_type": "stream",
     "text": [
      "76 64\n"
     ]
    }
   ],
   "source": [
    "print(estimates_df_agg.shape[0], \n",
    "      changelog[(changelog['field'].isin(story_fields)) & (changelog['author']=='grussell')]['key'].drop_duplicates().shape[0])"
   ]
  },
  {
   "cell_type": "code",
   "execution_count": 424,
   "metadata": {},
   "outputs": [
    {
     "name": "stdout",
     "output_type": "stream",
     "text": [
      "46\n",
      "76\n"
     ]
    }
   ],
   "source": [
    "print(estimates_df_agg[(pd.isnull(estimates_df_agg['estimation_high'])==False)\n",
    "                         & (pd.isnull(estimates_df_agg['estimation_medium'])==False)\n",
    "                         & (pd.isnull(estimates_df_agg['estimation_low'])==False)].shape[0])\n",
    "\n",
    "print(estimates_df_agg[(pd.isnull(estimates_df_agg['estimation_high'])==False)\n",
    "                         | (pd.isnull(estimates_df_agg['estimation_medium'])==False)\n",
    "                         | (pd.isnull(estimates_df_agg['estimation_low'])==False)].shape[0])"
   ]
  },
  {
   "cell_type": "code",
   "execution_count": null,
   "metadata": {},
   "outputs": [],
   "source": []
  },
  {
   "cell_type": "code",
   "execution_count": null,
   "metadata": {},
   "outputs": [],
   "source": []
  },
  {
   "cell_type": "markdown",
   "metadata": {},
   "source": [
    "<h2>Association Rules</h2>"
   ]
  },
  {
   "cell_type": "markdown",
   "metadata": {},
   "source": [
    "<h4>Prepare datasets for association rule mining</h4>"
   ]
  },
  {
   "cell_type": "code",
   "execution_count": 93,
   "metadata": {},
   "outputs": [],
   "source": [
    "from apyori import apriori"
   ]
  },
  {
   "cell_type": "code",
   "execution_count": 77,
   "metadata": {},
   "outputs": [],
   "source": [
    "def get_association_rules_df(items_df,var1, var2, min_support_, min_confidence_, filter_twosets):\n",
    "    items = items_df[[var1,var2]].values\n",
    "    rules = apriori(items, min_support = min_support_, min_confidence = min_confidence_)\n",
    "    rules_list = list(rules)\n",
    "    assoc_df = pd.DataFrame(columns =(['antescedent', 'consequent', 'support', 'confidence', 'lift', 'inverse_rule_confidence']))\n",
    "    for relation_recordset in rules_list:\n",
    "        for rel_recordset_element in relation_recordset[2]:\n",
    "            element_nr = 0\n",
    "            for order_statistics in list(rel_recordset_element):\n",
    "                if element_nr == 0:  antescedent= str(list(order_statistics))\n",
    "                elif element_nr == 1:consequent = str(list(order_statistics))\n",
    "                elif element_nr == 2:confidence = order_statistics\n",
    "                elif element_nr == 3:lift = order_statistics\n",
    "                element_nr = element_nr + 1 \n",
    "            assoc_df = assoc_df.append({'antescedent':antescedent, 'consequent': consequent, 'support':relation_recordset[1]\n",
    "                                        , 'confidence': confidence, 'lift':lift, 'inverse_rule_confidence':'-'}\n",
    "                               ,  ignore_index = True)    \n",
    "    if filter_twosets==True:\n",
    "        assoc_df=assoc_df[assoc_df['antescedent']!='[]']\n",
    "    return assoc_df.sort_values('antescedent', ascending = False)\n",
    "\n",
    "def get_all_metric_associations(items_df, metric, min_support_, min_confidence_, filter_twosets):\n",
    "    df = pd.DataFrame(columns =(['antescedent', 'consequent', 'support', 'confidence', 'lift', 'inverse_rule_confidence']))\n",
    "    for col in items_df.columns:\n",
    "        if (col!='user') & (col!=metric):\n",
    "            df_=get_association_rules_df(items_df, metric, col, min_support_, min_confidence_, filter_twosets)\n",
    "            sql_query=\"SELECT * FROM df_ UNION ALL SELECT * FROM df\"\n",
    "            df = ps.sqldf(sql_query, locals())\n",
    "    return df\n",
    "\n",
    "def heatmap_rule_stats(df, min_support_=0, min_confidence_=0):\n",
    "    df = df[(df['support']>=min_support_) & (df['confidence']>=min_confidence_)]\n",
    "    if df.shape[0]>0:\n",
    "        tab_df = df\n",
    "        tab_sup = pd.crosstab(tab_df['antescedent'], tab_df['consequent'], values = round(tab_df['support'], 2), aggfunc='max')\n",
    "        tab_conf = pd.crosstab(tab_df['antescedent'], tab_df['consequent'], values = round(tab_df['confidence'], 2), aggfunc='max')\n",
    "        tab_lif = pd.crosstab(tab_df['antescedent'], tab_df['consequent'], values = round(tab_df['lift'], 2), aggfunc='max')\n",
    "        colors = ['Blues', 'BuPu', 'YlGnBu']\n",
    "        i=1\n",
    "        fig = plt.figure(figsize=(18, 14))\n",
    "        for var in (['support', 'confidence', 'lift']):\n",
    "            fig.add_subplot(2,2,i)\n",
    "            if var=='support':src_tab = tab_sup \n",
    "            elif var=='confidence':src_tab = tab_conf\n",
    "            elif var=='lift':src_tab = tab_lif\n",
    "            g = sns.heatmap(src_tab, annot=True, cmap=colors[i-1], fmt='g')\n",
    "            plt.title(var, fontsize=15)\n",
    "            plt.subplots_adjust(bottom=0.15, hspace=0.8, wspace = 0.4)\n",
    "            i=i+1\n",
    "    else:\n",
    "        print('No associations match min support and confidence criteria')"
   ]
  },
  {
   "cell_type": "code",
   "execution_count": null,
   "metadata": {},
   "outputs": [],
   "source": []
  },
  {
   "cell_type": "code",
   "execution_count": null,
   "metadata": {},
   "outputs": [],
   "source": []
  },
  {
   "cell_type": "code",
   "execution_count": 400,
   "metadata": {},
   "outputs": [
    {
     "data": {
      "text/html": [
       "<div>\n",
       "<style scoped>\n",
       "    .dataframe tbody tr th:only-of-type {\n",
       "        vertical-align: middle;\n",
       "    }\n",
       "\n",
       "    .dataframe tbody tr th {\n",
       "        vertical-align: top;\n",
       "    }\n",
       "\n",
       "    .dataframe thead th {\n",
       "        text-align: right;\n",
       "    }\n",
       "</style>\n",
       "<table border=\"1\" class=\"dataframe\">\n",
       "  <thead>\n",
       "    <tr style=\"text-align: right;\">\n",
       "      <th></th>\n",
       "      <th>Unnamed: 0</th>\n",
       "      <th>Unnamed: 0.1</th>\n",
       "      <th>user</th>\n",
       "      <th>emailAddress</th>\n",
       "      <th>openness</th>\n",
       "      <th>o_raw</th>\n",
       "      <th>o_sign</th>\n",
       "      <th>conscientiousness</th>\n",
       "      <th>c_raw</th>\n",
       "      <th>c_sign</th>\n",
       "      <th>...</th>\n",
       "      <th>a_raw</th>\n",
       "      <th>a_sign</th>\n",
       "      <th>neuroticism</th>\n",
       "      <th>n_raw</th>\n",
       "      <th>n_sign</th>\n",
       "      <th>Is_open</th>\n",
       "      <th>Is_conscientious</th>\n",
       "      <th>Is_extravert</th>\n",
       "      <th>Is_agreeable</th>\n",
       "      <th>Is_neurotic</th>\n",
       "    </tr>\n",
       "  </thead>\n",
       "  <tbody>\n",
       "    <tr>\n",
       "      <th>0</th>\n",
       "      <td>0</td>\n",
       "      <td>0</td>\n",
       "      <td>grussell</td>\n",
       "      <td>grussell@gopivotal.com</td>\n",
       "      <td>0.970</td>\n",
       "      <td>0.809</td>\n",
       "      <td>True</td>\n",
       "      <td>0.339</td>\n",
       "      <td>0.609</td>\n",
       "      <td>True</td>\n",
       "      <td>...</td>\n",
       "      <td>0.590</td>\n",
       "      <td>True</td>\n",
       "      <td>0.102</td>\n",
       "      <td>0.446</td>\n",
       "      <td>True</td>\n",
       "      <td>Yes_openness</td>\n",
       "      <td>No_conscientiousness</td>\n",
       "      <td>Yes_extraversion</td>\n",
       "      <td>No_agreeableness</td>\n",
       "      <td>No_neuroticism</td>\n",
       "    </tr>\n",
       "    <tr>\n",
       "      <th>1</th>\n",
       "      <td>1</td>\n",
       "      <td>0</td>\n",
       "      <td>mark.pollack</td>\n",
       "      <td>mpollack@gopivotal.com</td>\n",
       "      <td>0.945</td>\n",
       "      <td>0.800</td>\n",
       "      <td>True</td>\n",
       "      <td>0.525</td>\n",
       "      <td>0.631</td>\n",
       "      <td>True</td>\n",
       "      <td>...</td>\n",
       "      <td>0.605</td>\n",
       "      <td>True</td>\n",
       "      <td>0.234</td>\n",
       "      <td>0.487</td>\n",
       "      <td>True</td>\n",
       "      <td>No_openness</td>\n",
       "      <td>Yes_conscientiousness</td>\n",
       "      <td>Yes_extraversion</td>\n",
       "      <td>Yes_agreeableness</td>\n",
       "      <td>No_neuroticism</td>\n",
       "    </tr>\n",
       "    <tr>\n",
       "      <th>2</th>\n",
       "      <td>2</td>\n",
       "      <td>0</td>\n",
       "      <td>david_geary</td>\n",
       "      <td>d.geary@sophiasearch.com</td>\n",
       "      <td>0.965</td>\n",
       "      <td>0.807</td>\n",
       "      <td>True</td>\n",
       "      <td>0.555</td>\n",
       "      <td>0.634</td>\n",
       "      <td>True</td>\n",
       "      <td>...</td>\n",
       "      <td>0.630</td>\n",
       "      <td>True</td>\n",
       "      <td>0.658</td>\n",
       "      <td>0.573</td>\n",
       "      <td>True</td>\n",
       "      <td>Yes_openness</td>\n",
       "      <td>Yes_conscientiousness</td>\n",
       "      <td>Yes_extraversion</td>\n",
       "      <td>Yes_agreeableness</td>\n",
       "      <td>Yes_neuroticism</td>\n",
       "    </tr>\n",
       "    <tr>\n",
       "      <th>3</th>\n",
       "      <td>3</td>\n",
       "      <td>0</td>\n",
       "      <td>dturanski</td>\n",
       "      <td>dturanski@gopivotal.com</td>\n",
       "      <td>0.963</td>\n",
       "      <td>0.806</td>\n",
       "      <td>True</td>\n",
       "      <td>0.483</td>\n",
       "      <td>0.626</td>\n",
       "      <td>True</td>\n",
       "      <td>...</td>\n",
       "      <td>0.606</td>\n",
       "      <td>True</td>\n",
       "      <td>0.115</td>\n",
       "      <td>0.451</td>\n",
       "      <td>True</td>\n",
       "      <td>Yes_openness</td>\n",
       "      <td>Yes_conscientiousness</td>\n",
       "      <td>Yes_extraversion</td>\n",
       "      <td>Yes_agreeableness</td>\n",
       "      <td>No_neuroticism</td>\n",
       "    </tr>\n",
       "    <tr>\n",
       "      <th>4</th>\n",
       "      <td>4</td>\n",
       "      <td>0</td>\n",
       "      <td>sabby</td>\n",
       "      <td>sanandan@pivotal.io</td>\n",
       "      <td>0.823</td>\n",
       "      <td>0.778</td>\n",
       "      <td>True</td>\n",
       "      <td>0.349</td>\n",
       "      <td>0.610</td>\n",
       "      <td>True</td>\n",
       "      <td>...</td>\n",
       "      <td>0.610</td>\n",
       "      <td>True</td>\n",
       "      <td>0.314</td>\n",
       "      <td>0.505</td>\n",
       "      <td>True</td>\n",
       "      <td>No_openness</td>\n",
       "      <td>No_conscientiousness</td>\n",
       "      <td>Yes_extraversion</td>\n",
       "      <td>Yes_agreeableness</td>\n",
       "      <td>No_neuroticism</td>\n",
       "    </tr>\n",
       "  </tbody>\n",
       "</table>\n",
       "<p>5 rows × 24 columns</p>\n",
       "</div>"
      ],
      "text/plain": [
       "   Unnamed: 0  Unnamed: 0.1          user              emailAddress  openness  \\\n",
       "0           0             0      grussell    grussell@gopivotal.com     0.970   \n",
       "1           1             0  mark.pollack    mpollack@gopivotal.com     0.945   \n",
       "2           2             0   david_geary  d.geary@sophiasearch.com     0.965   \n",
       "3           3             0     dturanski   dturanski@gopivotal.com     0.963   \n",
       "4           4             0         sabby       sanandan@pivotal.io     0.823   \n",
       "\n",
       "   o_raw  o_sign  conscientiousness  c_raw  c_sign  ...  a_raw  a_sign  \\\n",
       "0  0.809    True              0.339  0.609    True  ...  0.590    True   \n",
       "1  0.800    True              0.525  0.631    True  ...  0.605    True   \n",
       "2  0.807    True              0.555  0.634    True  ...  0.630    True   \n",
       "3  0.806    True              0.483  0.626    True  ...  0.606    True   \n",
       "4  0.778    True              0.349  0.610    True  ...  0.610    True   \n",
       "\n",
       "   neuroticism  n_raw  n_sign       Is_open       Is_conscientious  \\\n",
       "0        0.102  0.446    True  Yes_openness   No_conscientiousness   \n",
       "1        0.234  0.487    True   No_openness  Yes_conscientiousness   \n",
       "2        0.658  0.573    True  Yes_openness  Yes_conscientiousness   \n",
       "3        0.115  0.451    True  Yes_openness  Yes_conscientiousness   \n",
       "4        0.314  0.505    True   No_openness   No_conscientiousness   \n",
       "\n",
       "       Is_extravert       Is_agreeable      Is_neurotic  \n",
       "0  Yes_extraversion   No_agreeableness   No_neuroticism  \n",
       "1  Yes_extraversion  Yes_agreeableness   No_neuroticism  \n",
       "2  Yes_extraversion  Yes_agreeableness  Yes_neuroticism  \n",
       "3  Yes_extraversion  Yes_agreeableness   No_neuroticism  \n",
       "4  Yes_extraversion  Yes_agreeableness   No_neuroticism  \n",
       "\n",
       "[5 rows x 24 columns]"
      ]
     },
     "execution_count": 400,
     "metadata": {},
     "output_type": "execute_result"
    }
   ],
   "source": [
    "user_personalities.head()\n",
    "#user_personalities =user_personalities.drop(columns=['Is_Open'])"
   ]
  },
  {
   "cell_type": "code",
   "execution_count": 439,
   "metadata": {},
   "outputs": [
    {
     "name": "stdout",
     "output_type": "stream",
     "text": [
      "              user\n",
      "Is_open           \n",
      "No_openness     50\n",
      "Yes_openness    50 \n",
      "                        user\n",
      "Is_conscientious           \n",
      "No_conscientiousness     48\n",
      "Yes_conscientiousness    52 \n",
      "                   user\n",
      "Is_extravert          \n",
      "No_extraversion     47\n",
      "Yes_extraversion    53 \n",
      "                    user\n",
      "Is_agreeable           \n",
      "No_agreeableness     50\n",
      "Yes_agreeableness    50 \n",
      "                  user\n",
      "Is_neurotic          \n",
      "No_neuroticism     54\n",
      "Yes_neuroticism    46\n",
      "60\n"
     ]
    }
   ],
   "source": [
    "user_personalities['Is_open']           =user_personalities['o_raw'].apply(          lambda x: 'Yes_openness' if x>np.mean(user_personalities['o_raw'])          else 'No_openness')\n",
    "user_personalities['Is_conscientious'] =user_personalities['c_raw'].apply( lambda x: 'Yes_conscientiousness' if x>np.mean(user_personalities['c_raw']) else 'No_conscientiousness')\n",
    "user_personalities['Is_extravert']      =user_personalities['e_raw'].apply(      lambda x: 'Yes_extraversion' if x>np.mean(user_personalities['e_raw'])      else 'No_extraversion')\n",
    "user_personalities['Is_agreeable']     =user_personalities['a_raw'].apply(     lambda x: 'Yes_agreeableness' if x>np.mean(user_personalities['a_raw'])     else 'No_agreeableness')\n",
    "user_personalities['Is_neurotic']       =user_personalities['n_raw'].apply(       lambda x: 'Yes_neuroticism' if x>np.mean(user_personalities['n_raw'])       else 'No_neuroticism')\n",
    "\n",
    "\n",
    "print(user_personalities[['Is_open', 'user']].groupby('Is_open').count(),'\\n',\n",
    "user_personalities[['Is_conscientious', 'user']].groupby('Is_conscientious').count(),'\\n',\n",
    "user_personalities[['Is_extravert', 'user']].groupby('Is_extravert').count(),'\\n',\n",
    "user_personalities[['Is_agreeable', 'user']].groupby('Is_agreeable').count(),'\\n',\n",
    "user_personalities[['Is_neurotic', 'user']].groupby('Is_neurotic').count())\n",
    "\n",
    "query = \"\"\"\n",
    "SELECT U.user FROM user_personalities AS U\n",
    "INNER JOIN (SELECT DISTINCT user FROM estimates_df) AS E on U.user = E.user\n",
    "INNER JOIN (SELECT DISTINCT user FROM priorities_df) AS P on U.user = P.user\n",
    "INNER JOIN (SELECT DISTINCT user FROM states_df) AS S on U.user = S.user\n",
    "INNER JOIN (SELECT DISTINCT user FROM valid_users_times) AS T on U.user = T.user\n",
    "\"\"\"\n",
    "all_mterics_available_users = ps.sqldf(query, locals())\n",
    "print(all_mterics_available_users.shape[0])\n"
   ]
  },
  {
   "cell_type": "code",
   "execution_count": 440,
   "metadata": {},
   "outputs": [
    {
     "name": "stdout",
     "output_type": "stream",
     "text": [
      "estimates_df--- total nr of records:  6901 ; unique users:  76\n",
      "priorities_df--- total nr of records:  4796 ; unique users:  81\n",
      "states_df--- total nr of records:  10884 ; unique users:  97\n",
      "valid_users_times--- total nr of records:  8094 ; unique users:  80\n"
     ]
    },
    {
     "data": {
      "text/plain": [
       "array([[<matplotlib.axes._subplots.AxesSubplot object at 0x000002CC52077438>]],\n",
       "      dtype=object)"
      ]
     },
     "execution_count": 440,
     "metadata": {},
     "output_type": "execute_result"
    },
    {
     "data": {
      "image/png": "[encoded data removed]",
      "text/plain": [
       "<Figure size 1440x288 with 1 Axes>"
      ]
     },
     "metadata": {},
     "output_type": "display_data"
    }
   ],
   "source": [
    "print('estimates_df---', 'total nr of records: ', estimates_df.shape[0], '; unique users: ',estimates_df.user.drop_duplicates().shape[0])\n",
    "print('priorities_df---', 'total nr of records: ',priorities_df.shape[0], '; unique users: ',priorities_df.user.drop_duplicates().shape[0])\n",
    "print('states_df---', 'total nr of records: ',states_df.shape[0], '; unique users: ',states_df.user.drop_duplicates().shape[0])\n",
    "print('valid_users_times---', 'total nr of records: ',valid_users_times.shape[0], '; unique users: ',valid_users_times.user.drop_duplicates().shape[0])\n",
    "\n",
    "states_df.groupby('user').count().reset_index()[['user', 'emailAddress']].hist(bins = 30)"
   ]
  },
  {
   "cell_type": "code",
   "execution_count": null,
   "metadata": {},
   "outputs": [],
   "source": []
  },
  {
   "cell_type": "code",
   "execution_count": 441,
   "metadata": {},
   "outputs": [],
   "source": [
    "estimates_assoc_df = pd.merge(user_personalities, estimates_df, how='inner', left_on = 'user', right_on = 'user')[[\n",
    "    'user','StoryPoints','Is_open','Is_conscientious', 'Is_extravert', 'Is_agreeable', 'Is_neurotic']] \n",
    "priorities_assoc_df = pd.merge(user_personalities, priorities_df, how='inner', left_on = 'user', right_on = 'user')[[\n",
    "    'user','priority','Is_open','Is_conscientious', 'Is_extravert', 'Is_agreeable', 'Is_neurotic']] \n",
    "states_assoc_df = pd.merge(user_personalities, states_df, how='inner', left_on = 'user', right_on = 'user')[[\n",
    "    'user','status','Is_open','Is_conscientious', 'Is_extravert', 'Is_agreeable', 'Is_neurotic']] \n",
    "times_assoc_df = pd.merge(user_personalities, valid_users_times, how='inner', left_on = 'user', right_on = 'user')[[\n",
    "    'user','time_spending_category','Is_open','Is_conscientious', 'Is_extravert', 'Is_agreeable', 'Is_neurotic']]"
   ]
  },
  {
   "cell_type": "code",
   "execution_count": 442,
   "metadata": {},
   "outputs": [
    {
     "name": "stdout",
     "output_type": "stream",
     "text": [
      "0 1 0 0\n"
     ]
    }
   ],
   "source": [
    "print(estimates_assoc_df[pd.isnull(estimates_assoc_df['StoryPoints'])==True].shape[0],\n",
    "      priorities_assoc_df[pd.isnull(priorities_assoc_df['priority'])==True].shape[0],\n",
    "      states_assoc_df[pd.isnull(states_assoc_df['status'])==True].shape[0],\n",
    "      times_assoc_df[pd.isnull(times_assoc_df['time_spending_category'])==True].shape[0])\n",
    "\n",
    "priorities_assoc_df = priorities_assoc_df[pd.isnull(priorities_assoc_df['priority'])==False]\n",
    "states_assoc_df = states_assoc_df[pd.isnull(states_assoc_df['status'])==False]"
   ]
  },
  {
   "cell_type": "code",
   "execution_count": 443,
   "metadata": {},
   "outputs": [],
   "source": [
    "estimates_assoc_openness = estimates_assoc_df[[\n",
    "    'StoryPoints','Is_open']].values\n",
    "estimates_assoc_conscientiousness = estimates_assoc_df[[\n",
    "    'StoryPoints','Is_conscientious']].values\n",
    "estimates_assoc_extraversion = estimates_assoc_df[[\n",
    "    'StoryPoints', 'Is_extravert']].values\n",
    "estimates_assoc_agreeableness = estimates_assoc_df[[\n",
    "    'StoryPoints','Is_agreeable']].values\n",
    "estimates_assoc_neuroticism = estimates_assoc_df[[\n",
    "    'StoryPoints','Is_neurotic']].values"
   ]
  },
  {
   "cell_type": "code",
   "execution_count": null,
   "metadata": {},
   "outputs": [],
   "source": []
  },
  {
   "cell_type": "code",
   "execution_count": 444,
   "metadata": {},
   "outputs": [],
   "source": [
    "traits = ['Is_open', 'Is_conscientious', 'Is_extravert', 'Is_agreeable', 'Is_neurotic']\n",
    "for trait in traits:\n",
    "    query=\"\"\"\n",
    "    SELECT time_spending_category AS metric, \"\"\"+trait+\"\"\" as trait  FROM times_assoc_df \n",
    "    UNION ALL SELECT StoryPoints, \"\"\"+trait+\"\"\" FROM estimates_assoc_df \n",
    "    UNION ALL SELECT priority, \"\"\"+trait+\"\"\" FROM priorities_assoc_df \n",
    "    UNION ALL SELECT status, \"\"\"+trait+\"\"\" FROM states_assoc_df\"\"\"\n",
    "    if trait=='Is_open':o_all = ps.sqldf(query, locals())\n",
    "    elif trait=='Is_conscientious':c_all = ps.sqldf(query, locals())\n",
    "    elif trait=='Is_extravert':e_all = ps.sqldf(query, locals())\n",
    "    elif trait=='Is_agreeable':a_all = ps.sqldf(query, locals())\n",
    "    elif trait=='Is_neurotic':n_all = ps.sqldf(query, locals())"
   ]
  },
  {
   "cell_type": "code",
   "execution_count": null,
   "metadata": {},
   "outputs": [],
   "source": []
  },
  {
   "cell_type": "code",
   "execution_count": 445,
   "metadata": {},
   "outputs": [],
   "source": [
    "o_all_rules = get_association_rules_df(o_all,'metric','trait', 0.0001, 0.0001, True)\n",
    "c_all_rules = get_association_rules_df(c_all,'metric','trait', 0.0001, 0.0001, True)\n",
    "e_all_rules = get_association_rules_df(e_all,'metric','trait', 0.0001, 0.0001, True)\n",
    "a_all_rules = get_association_rules_df(a_all,'metric','trait', 0.0001, 0.0001, True)\n",
    "n_all_rules = get_association_rules_df(n_all,'metric','trait', 0.0001, 0.0001, True)"
   ]
  },
  {
   "cell_type": "code",
   "execution_count": 466,
   "metadata": {},
   "outputs": [
    {
     "data": {
      "image/png": "[encoded data removed]",
      "text/plain": [
       "<Figure size 1296x1008 with 6 Axes>"
      ]
     },
     "metadata": {},
     "output_type": "display_data"
    }
   ],
   "source": [
    "heatmap_rule_stats(n_all_rules, min_support_=0.001, min_confidence_=0.001)\n",
    "#0.05, 0.2"
   ]
  },
  {
   "cell_type": "code",
   "execution_count": null,
   "metadata": {},
   "outputs": [],
   "source": []
  },
  {
   "cell_type": "code",
   "execution_count": null,
   "metadata": {},
   "outputs": [],
   "source": []
  },
  {
   "cell_type": "code",
   "execution_count": null,
   "metadata": {},
   "outputs": [],
   "source": []
  },
  {
   "cell_type": "code",
   "execution_count": null,
   "metadata": {},
   "outputs": [],
   "source": []
  },
  {
   "cell_type": "code",
   "execution_count": null,
   "metadata": {},
   "outputs": [],
   "source": []
  },
  {
   "cell_type": "code",
   "execution_count": null,
   "metadata": {},
   "outputs": [],
   "source": [
    "times_personalities = pd.merge(user_personalities\n",
    "    , valid_users_times[(valid_users_times['minutes_spent']>0)&(valid_users_times['minutes_spent']<100000)]\n",
    "    , how='inner', left_on = 'user', right_on = 'user')[[\n",
    "    'user','minutes_spent', 'time_spending_category','Is_open','Is_conscientious', 'Is_extravert', 'Is_agreeable', 'Is_neurotic']] \n",
    "times_personalities.head()"
   ]
  },
  {
   "cell_type": "code",
   "execution_count": null,
   "metadata": {},
   "outputs": [],
   "source": [
    "def boxpl2(dt, x_cols, y_cols, title):\n",
    "    n = 1\n",
    "    x_cnt = len(x_cols)\n",
    "    y_cnt = len(y_cols)\n",
    "    figure = plt.figure(figsize=(18, 15))\n",
    "    for x_ax in x_cols:\n",
    "        for i in y_cols:\n",
    "            ax = figure.add_subplot(1, 5, n)\n",
    "            #ax.set_title(i)\n",
    "            g = sns.boxplot(x = dt[x_ax], y = dt[i])\n",
    "            g.set_xticklabels(g.get_xticklabels(), rotation=30)\n",
    "            plt.suptitle(title, size=16)\n",
    "            plt.subplots_adjust(bottom=0.15, wspace=0.4)"
   ]
  },
  {
   "cell_type": "code",
   "execution_count": null,
   "metadata": {},
   "outputs": [],
   "source": [
    "boxpl2(times_personalities\n",
    "      , ['Is_open', 'Is_conscientious', 'Is_extravert', 'Is_agreeable', 'Is_neurotic']\n",
    "      , ['minutes_spent']\n",
    "      , 'Time spending for each personality trait')"
   ]
  },
  {
   "cell_type": "code",
   "execution_count": null,
   "metadata": {},
   "outputs": [],
   "source": [
    "times_personalities.groupby(trait).agg({'minutes_spent':[np.mean,np.median]})"
   ]
  },
  {
   "cell_type": "code",
   "execution_count": null,
   "metadata": {},
   "outputs": [],
   "source": [
    "p = 0.05\n",
    "for trait in ['Is_open', 'Is_conscientious', 'Is_extravert', 'Is_agreeable', 'Is_neurotic']:\n",
    "    trait_yes = times_personalities[(times_personalities[trait].apply(lambda x: x[:3]))=='Yes']['minutes_spent']\n",
    "    trait_no = times_personalities[(times_personalities[trait].apply(lambda x: x[:2]))=='No']['minutes_spent']\n",
    "    statistic,p_value=mannwhitneyu(trait_yes,trait_no)\n",
    "    if p>p_value:result ='different'\n",
    "    elif p<=p_value:result ='equal'\n",
    "    print('personality trait: ',trait, 'datasets are:',result\n",
    "          , '. \\nU-test results- statistic: ', statistic\n",
    "          , ';p-value: ',format(p_value, '.28f'), ';\\n')"
   ]
  },
  {
   "cell_type": "code",
   "execution_count": null,
   "metadata": {},
   "outputs": [],
   "source": []
  },
  {
   "cell_type": "code",
   "execution_count": null,
   "metadata": {},
   "outputs": [],
   "source": []
  },
  {
   "cell_type": "code",
   "execution_count": null,
   "metadata": {},
   "outputs": [],
   "source": []
  },
  {
   "cell_type": "markdown",
   "metadata": {},
   "source": [
    "<h1> <font color='red'> !!!</font> </h1>\n",
    "<h2> All Code below is still under the development and experimental. Should not be taken into account yet <h2>"
   ]
  },
  {
   "cell_type": "code",
   "execution_count": null,
   "metadata": {},
   "outputs": [],
   "source": [
    "%history -g"
   ]
  },
  {
   "cell_type": "code",
   "execution_count": null,
   "metadata": {},
   "outputs": [],
   "source": []
  },
  {
   "cell_type": "code",
   "execution_count": null,
   "metadata": {},
   "outputs": [],
   "source": []
  },
  {
   "cell_type": "code",
   "execution_count": null,
   "metadata": {},
   "outputs": [],
   "source": []
  },
  {
   "cell_type": "code",
   "execution_count": null,
   "metadata": {},
   "outputs": [],
   "source": []
  },
  {
   "cell_type": "code",
   "execution_count": null,
   "metadata": {},
   "outputs": [],
   "source": []
  },
  {
   "cell_type": "code",
   "execution_count": null,
   "metadata": {},
   "outputs": [],
   "source": []
  },
  {
   "cell_type": "code",
   "execution_count": null,
   "metadata": {},
   "outputs": [],
   "source": []
  },
  {
   "cell_type": "code",
   "execution_count": null,
   "metadata": {},
   "outputs": [],
   "source": [
    "import pandasql as ps\n",
    "print(changelog_to_inprogress.shape[0], changelog_from_inprogress.shape[0])"
   ]
  },
  {
   "cell_type": "code",
   "execution_count": null,
   "metadata": {},
   "outputs": [],
   "source": [
    "q1 = \"\"\"\n",
    "SELECT count(*)\n",
    "FROM changelog_from_inprogress AS F\n",
    "OUTTER APPLY (\n",
    "    SELECT * \n",
    "    FROM changelog_to_inprogress AS T\n",
    "    WHERE (1 = 1)\n",
    "        AND F.key = T.key \n",
    "        AND F.project = T.project \n",
    "        AND F.created > T.created\n",
    "    LIMIT 1) AS T\n",
    "\"\"\"\n",
    "\n",
    "print(ps.sqldf(q1, locals()))"
   ]
  },
  {
   "cell_type": "code",
   "execution_count": null,
   "metadata": {},
   "outputs": [],
   "source": []
  },
  {
   "cell_type": "code",
   "execution_count": null,
   "metadata": {},
   "outputs": [],
   "source": []
  },
  {
   "cell_type": "code",
   "execution_count": null,
   "metadata": {},
   "outputs": [],
   "source": []
  }
 ],
 "metadata": {
  "kernelspec": {
   "display_name": "Python 3",
   "language": "python",
   "name": "python3"
  },
  "language_info": {
   "codemirror_mode": {
    "name": "ipython",
    "version": 3
   },
   "file_extension": ".py",
   "mimetype": "text/x-python",
   "name": "python",
   "nbconvert_exporter": "python",
   "pygments_lexer": "ipython3",
   "version": "3.7.3"
  }
 },
 "nbformat": 4,
 "nbformat_minor": 2
}
