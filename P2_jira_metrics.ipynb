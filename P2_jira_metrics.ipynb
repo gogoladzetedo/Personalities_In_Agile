{
 "cells": [
  {
   "cell_type": "markdown",
   "metadata": {},
   "source": [
    "<h1> The Importance of Personality Traits in Agile Software Development: A Case Study </h1>\n",
    "<hr/>"
   ]
  },
  {
   "cell_type": "markdown",
   "metadata": {},
   "source": [
    "<h2> 1.0 Developers` personality insight analysis <hr />\n",
    "using the open source datasets of eoght software development teams JIRA logs </h2>"
   ]
  },
  {
   "cell_type": "markdown",
   "metadata": {},
   "source": [
    "<h3>1.0.1 load libraries and datasets</h3>"
   ]
  },
  {
   "cell_type": "code",
   "execution_count": 1,
   "metadata": {},
   "outputs": [],
   "source": [
    "import pandas as pd\n",
    "import numpy as np\n",
    "from matplotlib import pyplot as plt\n",
    "from matplotlib.ticker import PercentFormatter\n",
    "from matplotlib.patches import Rectangle\n",
    "import seaborn as sns\n",
    "import re\n",
    "from collections import Counter\n",
    "import pandasql as ps\n",
    "from apyori import apriori"
   ]
  },
  {
   "cell_type": "code",
   "execution_count": 2,
   "metadata": {},
   "outputs": [],
   "source": [
    "changelog = pd.read_csv('original_data/jiradataset_changelog.csv')\n",
    "issues = pd.read_csv('original_data/jiradataset_issues.csv')\n",
    "sprints = pd.read_csv('original_data/jiradataset_sprints.csv')\n",
    "users = pd.read_csv('original_data/jiradataset_users.csv')"
   ]
  },
  {
   "cell_type": "markdown",
   "metadata": {},
   "source": [
    "<h3> Read IBM Watson personality traits results data </h3>\n",
    "\n"
   ]
  },
  {
   "cell_type": "code",
   "execution_count": 42,
   "metadata": {},
   "outputs": [],
   "source": [
    "user_personalities=pd.read_csv('input_data/user_personalities.csv')\n",
    "pd.set_option('display.float_format', lambda x: '%.3f' % x)"
   ]
  },
  {
   "cell_type": "markdown",
   "metadata": {},
   "source": [
    "<h2> Calculation of metrics </h2>"
   ]
  },
  {
   "cell_type": "markdown",
   "metadata": {},
   "source": [
    "<h3> Time </h3>"
   ]
  },
  {
   "cell_type": "markdown",
   "metadata": {},
   "source": [
    "First, let's define the time spent per task by the developer: time that is passed while the task was set to 'In Progress' status.\n",
    "In technical terms, this is the time between the two log records when 1) the task status was set to 'In Progress'\n",
    "and 2)task status was changed from 'In Progress'. \n"
   ]
  },
  {
   "cell_type": "markdown",
   "metadata": {},
   "source": [
    "Get the records from Jira change log, that have status set from In Progress to something else, and the records that have set status set to In Progress from something else."
   ]
  },
  {
   "cell_type": "code",
   "execution_count": 9,
   "metadata": {},
   "outputs": [
    {
     "data": {
      "text/html": [
       "<div>\n",
       "<style scoped>\n",
       "    .dataframe tbody tr th:only-of-type {\n",
       "        vertical-align: middle;\n",
       "    }\n",
       "\n",
       "    .dataframe tbody tr th {\n",
       "        vertical-align: top;\n",
       "    }\n",
       "\n",
       "    .dataframe thead th {\n",
       "        text-align: right;\n",
       "    }\n",
       "</style>\n",
       "<table border=\"1\" class=\"dataframe\">\n",
       "  <thead>\n",
       "    <tr style=\"text-align: right;\">\n",
       "      <th></th>\n",
       "      <th>index</th>\n",
       "      <th>author</th>\n",
       "      <th>created</th>\n",
       "      <th>field</th>\n",
       "      <th>fieldtype</th>\n",
       "      <th>from</th>\n",
       "      <th>fromString</th>\n",
       "      <th>key</th>\n",
       "      <th>project</th>\n",
       "      <th>to</th>\n",
       "      <th>toString</th>\n",
       "    </tr>\n",
       "  </thead>\n",
       "  <tbody>\n",
       "    <tr>\n",
       "      <th>0</th>\n",
       "      <td>0</td>\n",
       "      <td>jvalkeal</td>\n",
       "      <td>2016-03-03 18:40:53.171</td>\n",
       "      <td>status</td>\n",
       "      <td>jira</td>\n",
       "      <td>10000</td>\n",
       "      <td>To Do</td>\n",
       "      <td>XD-3751</td>\n",
       "      <td>xd</td>\n",
       "      <td>3</td>\n",
       "      <td>In Progress</td>\n",
       "    </tr>\n",
       "    <tr>\n",
       "      <th>1</th>\n",
       "      <td>12</td>\n",
       "      <td>grussell</td>\n",
       "      <td>2016-02-29 19:43:42.553</td>\n",
       "      <td>status</td>\n",
       "      <td>jira</td>\n",
       "      <td>10000</td>\n",
       "      <td>To Do</td>\n",
       "      <td>XD-3748</td>\n",
       "      <td>xd</td>\n",
       "      <td>3</td>\n",
       "      <td>In Progress</td>\n",
       "    </tr>\n",
       "    <tr>\n",
       "      <th>2</th>\n",
       "      <td>19</td>\n",
       "      <td>mark.pollack</td>\n",
       "      <td>2016-02-23 18:18:59.225</td>\n",
       "      <td>status</td>\n",
       "      <td>jira</td>\n",
       "      <td>10000</td>\n",
       "      <td>To Do</td>\n",
       "      <td>XD-3746</td>\n",
       "      <td>xd</td>\n",
       "      <td>3</td>\n",
       "      <td>In Progress</td>\n",
       "    </tr>\n",
       "    <tr>\n",
       "      <th>3</th>\n",
       "      <td>25</td>\n",
       "      <td>mark.pollack</td>\n",
       "      <td>2016-02-23 18:04:22.616</td>\n",
       "      <td>status</td>\n",
       "      <td>jira</td>\n",
       "      <td>10000</td>\n",
       "      <td>To Do</td>\n",
       "      <td>XD-3745</td>\n",
       "      <td>xd</td>\n",
       "      <td>3</td>\n",
       "      <td>In Progress</td>\n",
       "    </tr>\n",
       "    <tr>\n",
       "      <th>4</th>\n",
       "      <td>37</td>\n",
       "      <td>grussell</td>\n",
       "      <td>2016-02-22 15:49:30.944</td>\n",
       "      <td>status</td>\n",
       "      <td>jira</td>\n",
       "      <td>10000</td>\n",
       "      <td>To Do</td>\n",
       "      <td>XD-3744</td>\n",
       "      <td>xd</td>\n",
       "      <td>3</td>\n",
       "      <td>In Progress</td>\n",
       "    </tr>\n",
       "  </tbody>\n",
       "</table>\n",
       "</div>"
      ],
      "text/plain": [
       "   index        author                  created   field fieldtype   from  \\\n",
       "0      0      jvalkeal  2016-03-03 18:40:53.171  status      jira  10000   \n",
       "1     12      grussell  2016-02-29 19:43:42.553  status      jira  10000   \n",
       "2     19  mark.pollack  2016-02-23 18:18:59.225  status      jira  10000   \n",
       "3     25  mark.pollack  2016-02-23 18:04:22.616  status      jira  10000   \n",
       "4     37      grussell  2016-02-22 15:49:30.944  status      jira  10000   \n",
       "\n",
       "  fromString      key project to     toString  \n",
       "0      To Do  XD-3751      xd  3  In Progress  \n",
       "1      To Do  XD-3748      xd  3  In Progress  \n",
       "2      To Do  XD-3746      xd  3  In Progress  \n",
       "3      To Do  XD-3745      xd  3  In Progress  \n",
       "4      To Do  XD-3744      xd  3  In Progress  "
      ]
     },
     "execution_count": 9,
     "metadata": {},
     "output_type": "execute_result"
    }
   ],
   "source": [
    "changelog_from_inprogress = changelog[(changelog['field']=='status') \n",
    "                                    & (changelog['fromString']=='In Progress')\n",
    "                                    & (changelog['toString']!='In Progress')].reset_index()\n",
    "changelog_to_inprogress = changelog[(changelog['field']=='status') \n",
    "                                    & (changelog['toString']=='In Progress') \n",
    "                                    & (changelog['fromString']!='In Progress')].reset_index()\n",
    "changelog_to_inprogress.head()"
   ]
  },
  {
   "cell_type": "markdown",
   "metadata": {},
   "source": [
    "let's join these two datasets, and have one row for each from-to in progress status record.\n",
    "Technically: loop through each record where task status was changed form 'In Progress' to some other status (this record indicates that developer has stopped working on it). For each of these records, find the one latest record, where task status was set to 'In Progress' (this record indicates that developer has started working on it). With this operation we will get starting and ending time of work on the task by developer, and we will just need to calculate time difference.\n",
    "<hr> In case when several developers have worked on one task - the function will calculate time for each of them separately.\n",
    "<br> In case when one developer has set status to 'In Progress' multiple times within one task, the function will calculate the sum amount, so that one developer will have one number of minutes spent for one task. "
   ]
  },
  {
   "cell_type": "code",
   "execution_count": 10,
   "metadata": {},
   "outputs": [],
   "source": [
    "changelog_from_inprogress['prev_status'] = np.nan\n",
    "changelog_from_inprogress['prev_status_created'] = np.nan\n",
    "changelog_from_inprogress['created'] = pd.to_datetime(changelog_from_inprogress['created'])\n",
    "changelog_to_inprogress['created'] = pd.to_datetime(changelog_to_inprogress['created'])\n",
    "\n",
    "for index, row in changelog_from_inprogress.iterrows():\n",
    "    _key = row['key']\n",
    "    _project = row['project']\n",
    "    _created = row['created']\n",
    "    _to_row = changelog_to_inprogress[(((changelog_to_inprogress['key'] == _key)\n",
    "                            & (changelog_to_inprogress['project'] == _project))\n",
    "                            & (pd.to_datetime(changelog_to_inprogress['created']) < pd.to_datetime(_created)))].sort_values('created', ascending=False).head(1)\n",
    "    for st in _to_row['fromString']:\n",
    "        _prev_st = st \n",
    "    for cr in _to_row['created']:\n",
    "        _prev_st_created = cr \n",
    "    \n",
    "    changelog_from_inprogress.loc[index,'prev_status'] = _prev_st\n",
    "    changelog_from_inprogress.loc[index,'prev_status_created'] = _prev_st_created"
   ]
  },
  {
   "cell_type": "markdown",
   "metadata": {},
   "source": [
    "Calcualte minutes spent on each task"
   ]
  },
  {
   "cell_type": "code",
   "execution_count": 11,
   "metadata": {},
   "outputs": [
    {
     "data": {
      "text/html": [
       "<div>\n",
       "<style scoped>\n",
       "    .dataframe tbody tr th:only-of-type {\n",
       "        vertical-align: middle;\n",
       "    }\n",
       "\n",
       "    .dataframe tbody tr th {\n",
       "        vertical-align: top;\n",
       "    }\n",
       "\n",
       "    .dataframe thead th {\n",
       "        text-align: right;\n",
       "    }\n",
       "</style>\n",
       "<table border=\"1\" class=\"dataframe\">\n",
       "  <thead>\n",
       "    <tr style=\"text-align: right;\">\n",
       "      <th></th>\n",
       "      <th>index</th>\n",
       "      <th>author</th>\n",
       "      <th>created</th>\n",
       "      <th>field</th>\n",
       "      <th>fieldtype</th>\n",
       "      <th>from</th>\n",
       "      <th>fromString</th>\n",
       "      <th>key</th>\n",
       "      <th>project</th>\n",
       "      <th>to</th>\n",
       "      <th>toString</th>\n",
       "      <th>prev_status</th>\n",
       "      <th>prev_status_created</th>\n",
       "      <th>minutes_spent</th>\n",
       "    </tr>\n",
       "  </thead>\n",
       "  <tbody>\n",
       "    <tr>\n",
       "      <th>0</th>\n",
       "      <td>2</td>\n",
       "      <td>jvalkeal</td>\n",
       "      <td>2016-03-03 18:41:19.429</td>\n",
       "      <td>status</td>\n",
       "      <td>jira</td>\n",
       "      <td>3</td>\n",
       "      <td>In Progress</td>\n",
       "      <td>XD-3751</td>\n",
       "      <td>xd</td>\n",
       "      <td>10006</td>\n",
       "      <td>In PR</td>\n",
       "      <td>To Do</td>\n",
       "      <td>2016-03-03 18:40:53.171000</td>\n",
       "      <td>0.438</td>\n",
       "    </tr>\n",
       "    <tr>\n",
       "      <th>1</th>\n",
       "      <td>14</td>\n",
       "      <td>grussell</td>\n",
       "      <td>2016-02-29 21:11:29.703</td>\n",
       "      <td>status</td>\n",
       "      <td>jira</td>\n",
       "      <td>3</td>\n",
       "      <td>In Progress</td>\n",
       "      <td>XD-3748</td>\n",
       "      <td>xd</td>\n",
       "      <td>10006</td>\n",
       "      <td>In PR</td>\n",
       "      <td>To Do</td>\n",
       "      <td>2016-02-29 19:43:42.553000</td>\n",
       "      <td>87.786</td>\n",
       "    </tr>\n",
       "    <tr>\n",
       "      <th>2</th>\n",
       "      <td>20</td>\n",
       "      <td>mark.pollack</td>\n",
       "      <td>2016-02-23 18:19:04.071</td>\n",
       "      <td>status</td>\n",
       "      <td>jira</td>\n",
       "      <td>3</td>\n",
       "      <td>In Progress</td>\n",
       "      <td>XD-3746</td>\n",
       "      <td>xd</td>\n",
       "      <td>10006</td>\n",
       "      <td>In PR</td>\n",
       "      <td>To Do</td>\n",
       "      <td>2016-02-23 18:18:59.225000</td>\n",
       "      <td>0.081</td>\n",
       "    </tr>\n",
       "  </tbody>\n",
       "</table>\n",
       "</div>"
      ],
      "text/plain": [
       "   index        author                 created   field fieldtype from  \\\n",
       "0      2      jvalkeal 2016-03-03 18:41:19.429  status      jira    3   \n",
       "1     14      grussell 2016-02-29 21:11:29.703  status      jira    3   \n",
       "2     20  mark.pollack 2016-02-23 18:19:04.071  status      jira    3   \n",
       "\n",
       "    fromString      key project     to toString prev_status  \\\n",
       "0  In Progress  XD-3751      xd  10006    In PR       To Do   \n",
       "1  In Progress  XD-3748      xd  10006    In PR       To Do   \n",
       "2  In Progress  XD-3746      xd  10006    In PR       To Do   \n",
       "\n",
       "          prev_status_created  minutes_spent  \n",
       "0  2016-03-03 18:40:53.171000          0.438  \n",
       "1  2016-02-29 19:43:42.553000         87.786  \n",
       "2  2016-02-23 18:18:59.225000          0.081  "
      ]
     },
     "execution_count": 11,
     "metadata": {},
     "output_type": "execute_result"
    }
   ],
   "source": [
    "changelog_from_inprogress['minutes_spent']=(pd.to_datetime(changelog_from_inprogress['created'])\n",
    "                            - pd.to_datetime(changelog_from_inprogress['prev_status_created'])) / np.timedelta64(1, 'm')\n",
    "changelog_from_inprogress.head(3)"
   ]
  },
  {
   "cell_type": "markdown",
   "metadata": {},
   "source": [
    "Sum up the time by the same users for the same tasks"
   ]
  },
  {
   "cell_type": "code",
   "execution_count": 12,
   "metadata": {},
   "outputs": [],
   "source": [
    "user_key_timespent=changelog_from_inprogress.groupby(['key', 'project', 'author']).agg({'minutes_spent':'sum'})\n",
    "user_key_timespent.reset_index(level= [0,1,2], inplace=True)"
   ]
  },
  {
   "cell_type": "code",
   "execution_count": 13,
   "metadata": {},
   "outputs": [
    {
     "data": {
      "text/html": [
       "<div>\n",
       "<style scoped>\n",
       "    .dataframe tbody tr th:only-of-type {\n",
       "        vertical-align: middle;\n",
       "    }\n",
       "\n",
       "    .dataframe tbody tr th {\n",
       "        vertical-align: top;\n",
       "    }\n",
       "\n",
       "    .dataframe thead th {\n",
       "        text-align: right;\n",
       "    }\n",
       "</style>\n",
       "<table border=\"1\" class=\"dataframe\">\n",
       "  <thead>\n",
       "    <tr style=\"text-align: right;\">\n",
       "      <th></th>\n",
       "      <th>key</th>\n",
       "      <th>project</th>\n",
       "      <th>author</th>\n",
       "      <th>minutes_spent</th>\n",
       "    </tr>\n",
       "  </thead>\n",
       "  <tbody>\n",
       "    <tr>\n",
       "      <th>0</th>\n",
       "      <td>APSTUD-1378</td>\n",
       "      <td>apstud</td>\n",
       "      <td>cwilliams</td>\n",
       "      <td>340.033</td>\n",
       "    </tr>\n",
       "    <tr>\n",
       "      <th>1</th>\n",
       "      <td>APSTUD-1469</td>\n",
       "      <td>apstud</td>\n",
       "      <td>mstepanov</td>\n",
       "      <td>121.633</td>\n",
       "    </tr>\n",
       "    <tr>\n",
       "      <th>2</th>\n",
       "      <td>APSTUD-1469</td>\n",
       "      <td>apstud</td>\n",
       "      <td>sgibly</td>\n",
       "      <td>54.717</td>\n",
       "    </tr>\n",
       "  </tbody>\n",
       "</table>\n",
       "</div>"
      ],
      "text/plain": [
       "           key project     author  minutes_spent\n",
       "0  APSTUD-1378  apstud  cwilliams        340.033\n",
       "1  APSTUD-1469  apstud  mstepanov        121.633\n",
       "2  APSTUD-1469  apstud     sgibly         54.717"
      ]
     },
     "execution_count": 13,
     "metadata": {},
     "output_type": "execute_result"
    }
   ],
   "source": [
    "user_key_timespent.head(3)"
   ]
  },
  {
   "cell_type": "code",
   "execution_count": 14,
   "metadata": {},
   "outputs": [],
   "source": [
    "user_key_timespent = user_key_timespent[user_key_timespent['minutes_spent']>0]"
   ]
  },
  {
   "cell_type": "markdown",
   "metadata": {},
   "source": [
    "Let's join the time spendings dataset with the users dataset, that are valid for personality traits check."
   ]
  },
  {
   "cell_type": "code",
   "execution_count": 15,
   "metadata": {},
   "outputs": [],
   "source": [
    "valid_users_times = pd.merge(user_personalities, user_key_timespent, how = 'inner',\n",
    "        left_on = 'user', right_on = 'author')[['user', 'project', 'key', 'minutes_spent']]"
   ]
  },
  {
   "cell_type": "code",
   "execution_count": 16,
   "metadata": {},
   "outputs": [
    {
     "data": {
      "text/html": [
       "<div>\n",
       "<style scoped>\n",
       "    .dataframe tbody tr th:only-of-type {\n",
       "        vertical-align: middle;\n",
       "    }\n",
       "\n",
       "    .dataframe tbody tr th {\n",
       "        vertical-align: top;\n",
       "    }\n",
       "\n",
       "    .dataframe thead th {\n",
       "        text-align: right;\n",
       "    }\n",
       "</style>\n",
       "<table border=\"1\" class=\"dataframe\">\n",
       "  <thead>\n",
       "    <tr style=\"text-align: right;\">\n",
       "      <th></th>\n",
       "      <th>user</th>\n",
       "      <th>project</th>\n",
       "      <th>key</th>\n",
       "      <th>minutes_spent</th>\n",
       "    </tr>\n",
       "  </thead>\n",
       "  <tbody>\n",
       "    <tr>\n",
       "      <th>0</th>\n",
       "      <td>grussell</td>\n",
       "      <td>xd</td>\n",
       "      <td>XD-1127</td>\n",
       "      <td>0.578</td>\n",
       "    </tr>\n",
       "    <tr>\n",
       "      <th>1</th>\n",
       "      <td>grussell</td>\n",
       "      <td>xd</td>\n",
       "      <td>XD-1153</td>\n",
       "      <td>1452.161</td>\n",
       "    </tr>\n",
       "    <tr>\n",
       "      <th>2</th>\n",
       "      <td>grussell</td>\n",
       "      <td>xd</td>\n",
       "      <td>XD-1164</td>\n",
       "      <td>73.852</td>\n",
       "    </tr>\n",
       "    <tr>\n",
       "      <th>3</th>\n",
       "      <td>grussell</td>\n",
       "      <td>xd</td>\n",
       "      <td>XD-128</td>\n",
       "      <td>1688.373</td>\n",
       "    </tr>\n",
       "    <tr>\n",
       "      <th>4</th>\n",
       "      <td>grussell</td>\n",
       "      <td>xd</td>\n",
       "      <td>XD-1338</td>\n",
       "      <td>20246.750</td>\n",
       "    </tr>\n",
       "  </tbody>\n",
       "</table>\n",
       "</div>"
      ],
      "text/plain": [
       "       user project      key  minutes_spent\n",
       "0  grussell      xd  XD-1127          0.578\n",
       "1  grussell      xd  XD-1153       1452.161\n",
       "2  grussell      xd  XD-1164         73.852\n",
       "3  grussell      xd   XD-128       1688.373\n",
       "4  grussell      xd  XD-1338      20246.750"
      ]
     },
     "execution_count": 16,
     "metadata": {},
     "output_type": "execute_result"
    }
   ],
   "source": [
    "valid_users_times.head()"
   ]
  },
  {
   "cell_type": "code",
   "execution_count": 17,
   "metadata": {},
   "outputs": [
    {
     "name": "stdout",
     "output_type": "stream",
     "text": [
      "100 8093\n"
     ]
    }
   ],
   "source": [
    "print(user_personalities.shape[0], valid_users_times.shape[0])"
   ]
  },
  {
   "cell_type": "code",
   "execution_count": 18,
   "metadata": {},
   "outputs": [
    {
     "data": {
      "image/png": "[encoded data removed]",
      "text/plain": [
       "<Figure size 864x432 with 1 Axes>"
      ]
     },
     "metadata": {
      "needs_background": "light"
     },
     "output_type": "display_data"
    }
   ],
   "source": [
    "fig = plt.figure(figsize=(12, 6))\n",
    "valid_users_times['minutes_spent'].hist(bins=150)\n",
    "plt.title('Time spending distribution', fontsize=15)\n",
    "plt.xlabel('minutes spent', fontsize=15)\n",
    "plt.savefig('picture_output/time_1.jpg')"
   ]
  },
  {
   "cell_type": "code",
   "execution_count": 19,
   "metadata": {},
   "outputs": [
    {
     "data": {
      "image/png": "[encoded data removed]",
      "text/plain": [
       "<Figure size 864x432 with 1 Axes>"
      ]
     },
     "metadata": {
      "needs_background": "light"
     },
     "output_type": "display_data"
    }
   ],
   "source": [
    "fig = plt.figure(figsize=(12, 6))\n",
    "valid_users_times[(valid_users_times['minutes_spent']<5000) & (valid_users_times['minutes_spent']>1)]['minutes_spent'].hist(bins=150)\n",
    "plt.title('Time spending distribution [filtered: > 1 minute AND <5000 minutes]', fontsize=15)\n",
    "plt.xlabel('minutes spent', fontsize=15)\n",
    "plt.savefig('picture_output/time_2.jpg')"
   ]
  },
  {
   "cell_type": "markdown",
   "metadata": {},
   "source": [
    "Based on the times spent by the developers, let's define the high, normal and low time spend categories.\n",
    "First, let's find the values where to split the rows: first < 33.33% time spend - low time spending, from 33.33% to 66.66% medium time spent, and from 66.66% and more - high time spending."
   ]
  },
  {
   "cell_type": "code",
   "execution_count": 20,
   "metadata": {},
   "outputs": [
    {
     "name": "stdout",
     "output_type": "stream",
     "text": [
      "2516 4159 2400.3375833333334 480.6338333333333\n",
      "nr of rows from  51.39 % to  68.91 % :  1418\n",
      "nr of rows above  68.91 %:  2516\n",
      "nr of rows below,  51.39 %:  4159\n",
      "Total number of rows in dataset:  8093\n"
     ]
    }
   ],
   "source": [
    "_top_percentile=0.3109\n",
    "_bottom_percentile=0.5139\n",
    "_rownumber_within_top_percentile = round((int(valid_users_times.shape[0]) * _top_percentile))\n",
    "_rownumber_within_bottom_percentile = round((int(valid_users_times.shape[0]) * _bottom_percentile))\n",
    "_top_percentile_rows_filter_value_minutes = valid_users_times.sort_values('minutes_spent', ascending=False).head(_rownumber_within_top_percentile).iloc[_rownumber_within_top_percentile-1].minutes_spent\n",
    "_bottom_percentile_rows_filter_value_minutes = valid_users_times.sort_values('minutes_spent', ascending=True).head(_rownumber_within_bottom_percentile).iloc[_rownumber_within_bottom_percentile-1].minutes_spent\n",
    "\n",
    "print(_rownumber_within_top_percentile, _rownumber_within_bottom_percentile, _top_percentile_rows_filter_value_minutes, _bottom_percentile_rows_filter_value_minutes)\n",
    "print('nr of rows from ', _bottom_percentile*100, '% to ',\n",
    "      str(100-100*_top_percentile), '% : ',\n",
    "      valid_users_times[(valid_users_times['minutes_spent']<_top_percentile_rows_filter_value_minutes) & \n",
    "                        ( valid_users_times['minutes_spent']>_bottom_percentile_rows_filter_value_minutes)].shape[0])\n",
    "\n",
    "print('nr of rows above ', str(100-100*_top_percentile), '%: ',\n",
    "      valid_users_times[valid_users_times['minutes_spent']>=_top_percentile_rows_filter_value_minutes].shape[0])\n",
    "\n",
    "print('nr of rows below, ', _bottom_percentile*100, '%: ',\n",
    "      valid_users_times[valid_users_times['minutes_spent']<=_bottom_percentile_rows_filter_value_minutes].shape[0])\n",
    "\n",
    "print('Total number of rows in dataset: ', valid_users_times.shape[0])"
   ]
  },
  {
   "cell_type": "code",
   "execution_count": 21,
   "metadata": {},
   "outputs": [
    {
     "data": {
      "text/html": [
       "<div>\n",
       "<style scoped>\n",
       "    .dataframe tbody tr th:only-of-type {\n",
       "        vertical-align: middle;\n",
       "    }\n",
       "\n",
       "    .dataframe tbody tr th {\n",
       "        vertical-align: top;\n",
       "    }\n",
       "\n",
       "    .dataframe thead th {\n",
       "        text-align: right;\n",
       "    }\n",
       "</style>\n",
       "<table border=\"1\" class=\"dataframe\">\n",
       "  <thead>\n",
       "    <tr style=\"text-align: right;\">\n",
       "      <th></th>\n",
       "      <th>user</th>\n",
       "    </tr>\n",
       "    <tr>\n",
       "      <th>time_spending_category</th>\n",
       "      <th></th>\n",
       "    </tr>\n",
       "  </thead>\n",
       "  <tbody>\n",
       "    <tr>\n",
       "      <th>time_high</th>\n",
       "      <td>2516</td>\n",
       "    </tr>\n",
       "    <tr>\n",
       "      <th>time_low</th>\n",
       "      <td>4159</td>\n",
       "    </tr>\n",
       "    <tr>\n",
       "      <th>time_medium</th>\n",
       "      <td>1418</td>\n",
       "    </tr>\n",
       "  </tbody>\n",
       "</table>\n",
       "</div>"
      ],
      "text/plain": [
       "                        user\n",
       "time_spending_category      \n",
       "time_high               2516\n",
       "time_low                4159\n",
       "time_medium             1418"
      ]
     },
     "execution_count": 21,
     "metadata": {},
     "output_type": "execute_result"
    }
   ],
   "source": [
    "valid_users_times['time_spending_category'] = np.nan\n",
    "\n",
    "valid_users_times.loc[(valid_users_times['minutes_spent']<_top_percentile_rows_filter_value_minutes) & \n",
    "                        ( valid_users_times['minutes_spent']>_bottom_percentile_rows_filter_value_minutes)\n",
    "                  , 'time_spending_category'] = 'time_medium'\n",
    "\n",
    "valid_users_times.loc[valid_users_times['minutes_spent']>=_top_percentile_rows_filter_value_minutes\n",
    "                      , 'time_spending_category']='time_high'\n",
    "\n",
    "valid_users_times.loc[valid_users_times['minutes_spent']<=_bottom_percentile_rows_filter_value_minutes\n",
    "                      , 'time_spending_category']='time_low'\n",
    "# check the actual values\n",
    "valid_users_times[['time_spending_category', 'user']].groupby('time_spending_category').count()"
   ]
  },
  {
   "cell_type": "code",
   "execution_count": 22,
   "metadata": {
    "scrolled": true
   },
   "outputs": [
    {
     "data": {
      "text/html": [
       "<div>\n",
       "<style scoped>\n",
       "    .dataframe tbody tr th:only-of-type {\n",
       "        vertical-align: middle;\n",
       "    }\n",
       "\n",
       "    .dataframe tbody tr th {\n",
       "        vertical-align: top;\n",
       "    }\n",
       "\n",
       "    .dataframe thead th {\n",
       "        text-align: right;\n",
       "    }\n",
       "</style>\n",
       "<table border=\"1\" class=\"dataframe\">\n",
       "  <thead>\n",
       "    <tr style=\"text-align: right;\">\n",
       "      <th></th>\n",
       "      <th>user</th>\n",
       "      <th>project</th>\n",
       "      <th>key</th>\n",
       "      <th>minutes_spent</th>\n",
       "      <th>time_spending_category</th>\n",
       "    </tr>\n",
       "  </thead>\n",
       "  <tbody>\n",
       "    <tr>\n",
       "      <th>0</th>\n",
       "      <td>grussell</td>\n",
       "      <td>xd</td>\n",
       "      <td>XD-1127</td>\n",
       "      <td>0.578</td>\n",
       "      <td>time_low</td>\n",
       "    </tr>\n",
       "    <tr>\n",
       "      <th>1</th>\n",
       "      <td>grussell</td>\n",
       "      <td>xd</td>\n",
       "      <td>XD-1153</td>\n",
       "      <td>1452.161</td>\n",
       "      <td>time_medium</td>\n",
       "    </tr>\n",
       "    <tr>\n",
       "      <th>2</th>\n",
       "      <td>grussell</td>\n",
       "      <td>xd</td>\n",
       "      <td>XD-1164</td>\n",
       "      <td>73.852</td>\n",
       "      <td>time_low</td>\n",
       "    </tr>\n",
       "    <tr>\n",
       "      <th>3</th>\n",
       "      <td>grussell</td>\n",
       "      <td>xd</td>\n",
       "      <td>XD-128</td>\n",
       "      <td>1688.373</td>\n",
       "      <td>time_medium</td>\n",
       "    </tr>\n",
       "    <tr>\n",
       "      <th>4</th>\n",
       "      <td>grussell</td>\n",
       "      <td>xd</td>\n",
       "      <td>XD-1338</td>\n",
       "      <td>20246.750</td>\n",
       "      <td>time_high</td>\n",
       "    </tr>\n",
       "  </tbody>\n",
       "</table>\n",
       "</div>"
      ],
      "text/plain": [
       "       user project      key  minutes_spent time_spending_category\n",
       "0  grussell      xd  XD-1127          0.578               time_low\n",
       "1  grussell      xd  XD-1153       1452.161            time_medium\n",
       "2  grussell      xd  XD-1164         73.852               time_low\n",
       "3  grussell      xd   XD-128       1688.373            time_medium\n",
       "4  grussell      xd  XD-1338      20246.750              time_high"
      ]
     },
     "execution_count": 22,
     "metadata": {},
     "output_type": "execute_result"
    }
   ],
   "source": [
    "valid_users_times.head()"
   ]
  },
  {
   "cell_type": "markdown",
   "metadata": {},
   "source": [
    "Now, let's group the data the following way: to have one record for each user, and columns will be number of tasks where the user had low, medium and high time spendings."
   ]
  },
  {
   "cell_type": "code",
   "execution_count": 23,
   "metadata": {},
   "outputs": [
    {
     "name": "stdout",
     "output_type": "stream",
     "text": [
      "80\n"
     ]
    },
    {
     "data": {
      "text/html": [
       "<div>\n",
       "<style scoped>\n",
       "    .dataframe tbody tr th:only-of-type {\n",
       "        vertical-align: middle;\n",
       "    }\n",
       "\n",
       "    .dataframe tbody tr th {\n",
       "        vertical-align: top;\n",
       "    }\n",
       "\n",
       "    .dataframe thead th {\n",
       "        text-align: right;\n",
       "    }\n",
       "</style>\n",
       "<table border=\"1\" class=\"dataframe\">\n",
       "  <thead>\n",
       "    <tr style=\"text-align: right;\">\n",
       "      <th></th>\n",
       "      <th>user</th>\n",
       "      <th>low_timespent_tasks</th>\n",
       "      <th>medium_timespent_tasks</th>\n",
       "      <th>high_timespent_tasks</th>\n",
       "    </tr>\n",
       "  </thead>\n",
       "  <tbody>\n",
       "    <tr>\n",
       "      <th>0</th>\n",
       "      <td>grussell</td>\n",
       "      <td>50.000</td>\n",
       "      <td>16.000</td>\n",
       "      <td>19.000</td>\n",
       "    </tr>\n",
       "    <tr>\n",
       "      <th>1</th>\n",
       "      <td>mark.pollack</td>\n",
       "      <td>97.000</td>\n",
       "      <td>61.000</td>\n",
       "      <td>152.000</td>\n",
       "    </tr>\n",
       "    <tr>\n",
       "      <th>2</th>\n",
       "      <td>dturanski</td>\n",
       "      <td>56.000</td>\n",
       "      <td>14.000</td>\n",
       "      <td>66.000</td>\n",
       "    </tr>\n",
       "    <tr>\n",
       "      <th>3</th>\n",
       "      <td>sabby</td>\n",
       "      <td>76.000</td>\n",
       "      <td>26.000</td>\n",
       "      <td>81.000</td>\n",
       "    </tr>\n",
       "    <tr>\n",
       "      <th>4</th>\n",
       "      <td>thomas.risberg</td>\n",
       "      <td>66.000</td>\n",
       "      <td>24.000</td>\n",
       "      <td>55.000</td>\n",
       "    </tr>\n",
       "  </tbody>\n",
       "</table>\n",
       "</div>"
      ],
      "text/plain": [
       "             user  low_timespent_tasks  medium_timespent_tasks  \\\n",
       "0        grussell               50.000                  16.000   \n",
       "1    mark.pollack               97.000                  61.000   \n",
       "2       dturanski               56.000                  14.000   \n",
       "3           sabby               76.000                  26.000   \n",
       "4  thomas.risberg               66.000                  24.000   \n",
       "\n",
       "   high_timespent_tasks  \n",
       "0                19.000  \n",
       "1               152.000  \n",
       "2                66.000  \n",
       "3                81.000  \n",
       "4                55.000  "
      ]
     },
     "execution_count": 23,
     "metadata": {},
     "output_type": "execute_result"
    }
   ],
   "source": [
    "q1 = \"\"\"\n",
    "Select U.user, low_timespent_tasks, medium_timespent_tasks, high_timespent_tasks\n",
    "From \n",
    "    (\n",
    "    Select distinct user From valid_users_times) AS U\n",
    "    Left Join ( SELECT user, count(*) AS low_timespent_tasks\n",
    "    FROM valid_users_times AS F WHERE time_spending_category = 'time_low' Group By user\n",
    "    ) AS Low ON U.user = Low.user\n",
    "    Left Join (SELECT user, count(*) AS medium_timespent_tasks\n",
    "    FROM valid_users_times AS F WHERE time_spending_category = 'time_medium' Group By user\n",
    "    ) AS medium on U.user = medium.user\n",
    "    Left Join ( SELECT user, count(*) AS high_timespent_tasks\n",
    "    FROM valid_users_times AS F WHERE time_spending_category = 'time_high' Group By user\n",
    "    ) AS high ON U.user = high.user\n",
    "\"\"\"\n",
    "\n",
    "valid_user_time_agg = ps.sqldf(q1, locals())\n",
    "print(valid_user_time_agg.shape[0])\n",
    "valid_user_time_agg.head()"
   ]
  },
  {
   "cell_type": "code",
   "execution_count": 24,
   "metadata": {},
   "outputs": [
    {
     "name": "stdout",
     "output_type": "stream",
     "text": [
      "64\n",
      "80\n"
     ]
    }
   ],
   "source": [
    "print(valid_user_time_agg[(pd.isnull(valid_user_time_agg['low_timespent_tasks'])==False)\n",
    "                         & (pd.isnull(valid_user_time_agg['medium_timespent_tasks'])==False)\n",
    "                         & (pd.isnull(valid_user_time_agg['high_timespent_tasks'])==False)].shape[0])\n",
    "\n",
    "print(valid_user_time_agg[(pd.isnull(valid_user_time_agg['low_timespent_tasks'])==False)\n",
    "                         | (pd.isnull(valid_user_time_agg['medium_timespent_tasks'])==False)\n",
    "                         | (pd.isnull(valid_user_time_agg['high_timespent_tasks'])==False)].shape[0])"
   ]
  },
  {
   "cell_type": "markdown",
   "metadata": {},
   "source": [
    "<h3>Categorical variable Metrics</h3>"
   ]
  },
  {
   "cell_type": "markdown",
   "metadata": {},
   "source": [
    "Let's define the functions that will return the dataset of given metrics and their aggregates."
   ]
  },
  {
   "cell_type": "code",
   "execution_count": 25,
   "metadata": {},
   "outputs": [],
   "source": [
    "def categorical_metric(field, multiple_fields, field_in_issues, field_exclusion_filter, values_filter, cat1_list, cat1_label, cat2_list, cat2_label, cat3_list, cat3_label):\n",
    "    #create table from the log with this specific field\n",
    "    if len(multiple_fields)>0:\n",
    "        log_dt = changelog[(changelog['field'].isin(multiple_fields))]\n",
    "    else:\n",
    "        log_dt = changelog[(changelog['field'].isin([field]))]\n",
    "    \n",
    "    #code when exclusion field values are passed\n",
    "    if len(field_exclusion_filter) > 0:\n",
    "        #merge to issues table and add the \n",
    "        log_dt = pd.merge(log_dt, issues[['key', field_in_issues]].drop_duplicates()\n",
    "                     , how='inner', left_on = 'key', right_on='key')[['author', 'created', 'field', 'fieldtype', 'from', 'fromString', 'key',\n",
    "                    'project', 'to', 'toString', field_in_issues]]\n",
    "        log_dt = log_dt[log_dt[field_in_issues]!=field_exclusion_filter]\n",
    "        log_dt = log_dt[log_dt['toString'].isin(values_filter)]\n",
    "        \n",
    "    #add new column to the previous log table for this field. Assign the values based on categories defined in list\n",
    "    log_dt[field] = np.nan\n",
    "    log_dt.loc[(log_dt.toString.isin(cat1_list)), field]=cat1_label\n",
    "    log_dt.loc[(log_dt.toString.isin(cat2_list)), field]=cat2_label\n",
    "    log_dt.loc[(log_dt.toString.isin(cat3_list)), field]=cat3_label\n",
    "    \n",
    "    #join table to user personalities table\n",
    "    valid_users_metrics = pd.merge(user_personalities, log_dt, how = 'inner',\n",
    "        left_on = 'user', right_on = 'author')[['user', 'project', 'key', 'created', field]]\n",
    "    \n",
    "    # take only the latest edit of the field by the user on the specific task\n",
    "    valid_users_metrics_grouped = valid_users_metrics.groupby(['user', 'project', 'key']).agg({'created':'max'})\n",
    "    valid_users_metrics_grouped.reset_index(level= [0,1,2], inplace=True)\n",
    "    valid_users_metrics_grouped2 = valid_users_metrics.groupby(['user', 'project', 'key', 'created']).agg({field:'max'})\n",
    "    valid_users_metrics_grouped2.reset_index(level= [0,1,2,3], inplace=True)\n",
    "\n",
    "    latest_valid_users_metrics = pd.merge(valid_users_metrics_grouped2, valid_users_metrics_grouped, how = 'inner',\n",
    "                                       left_on = ['user', 'project', 'key', 'created'],\n",
    "                                       right_on = ['user', 'project', 'key', 'created'])[\n",
    "        ['user', 'project', 'key', field]]\n",
    "\n",
    "    latest_valid_users_metrics = latest_valid_users_metrics.drop_duplicates()\n",
    "    #else:\n",
    "    #    latest_valid_users_metrics= valid_users_metrics#.drop_duplicates()\n",
    "    return latest_valid_users_metrics\n",
    "    \n",
    "def categorical_metric_agg(data, field, cat1_label, cat2_label, cat3_label):\n",
    "    valid_users_metrics = data\n",
    "    #Aggregate the metrics per user\n",
    "    agg_query = \"\"\" SELECT U.user,\"\"\"+cat1_label+\"\"\", \"\"\"+cat2_label+\"\"\", \"\"\"+cat3_label+\"\"\", \n",
    "    CASE WHEN COALESCE(\"\"\"+cat1_label+\"\"\", 0)>=COALESCE(\"\"\"+cat2_label+\"\"\", 0) AND COALESCE(\"\"\"+cat1_label+\"\"\", 0)>=COALESCE(\"\"\"+cat3_label+\"\"\", 0) THEN '\"\"\"+cat1_label+\"\"\"'\n",
    "         WHEN COALESCE(\"\"\"+cat2_label+\"\"\", 0)>=COALESCE(\"\"\"+cat3_label+\"\"\", 0) AND COALESCE(\"\"\"+cat2_label+\"\"\", 0)>=COALESCE(\"\"\"+cat1_label+\"\"\", 0) THEN '\"\"\"+cat2_label+\"\"\"'\n",
    "         WHEN COALESCE(\"\"\"+cat3_label+\"\"\", 0)>=COALESCE(\"\"\"+cat2_label+\"\"\", 0) AND COALESCE(\"\"\"+cat3_label+\"\"\", 0)>=COALESCE(\"\"\"+cat1_label+\"\"\", 0) THEN '\"\"\"+cat3_label+\"\"\"'\n",
    "    END AS metric\n",
    "    FROM (SELECT DISTINCT user FROM valid_users_metrics) AS U\n",
    "    LEFT JOIN ( SELECT user, COUNT(*) AS \"\"\"+cat1_label+\"\"\" FROM valid_users_metrics AS F WHERE \"\"\"+field+\"\"\" = '\"\"\"+cat1_label+\"\"\"' GROUP BY user) AS T1 ON U.user = T1.user\n",
    "    LEFT JOIN ( SELECT user, count(*) AS \"\"\"+cat2_label+\"\"\" FROM valid_users_metrics AS F WHERE \"\"\"+field+\"\"\" = '\"\"\"+cat2_label+\"\"\"' GROUP BY user) AS T2 on U.user = T2.user\n",
    "    LEFT JOIN ( SELECT user, count(*) AS \"\"\"+cat3_label+\"\"\" FROM valid_users_metrics AS F WHERE \"\"\"+field+\"\"\" = '\"\"\"+cat3_label+\"\"\"' GROUP BY user) AS T3 ON U.user = T3.user\n",
    "    \"\"\"\n",
    "    valid_users_metrics_agg = ps.sqldf(agg_query, locals())\n",
    "    return valid_users_metrics_agg"
   ]
  },
  {
   "cell_type": "markdown",
   "metadata": {},
   "source": [
    "<h2> State </h2>"
   ]
  },
  {
   "cell_type": "markdown",
   "metadata": {},
   "source": [
    "First, let's check what statuses and status categories are present in issues and changelog datasets "
   ]
  },
  {
   "cell_type": "code",
   "execution_count": 26,
   "metadata": {},
   "outputs": [
    {
     "data": {
      "text/html": [
       "<div>\n",
       "<style scoped>\n",
       "    .dataframe tbody tr th:only-of-type {\n",
       "        vertical-align: middle;\n",
       "    }\n",
       "\n",
       "    .dataframe tbody tr th {\n",
       "        vertical-align: top;\n",
       "    }\n",
       "\n",
       "    .dataframe thead th {\n",
       "        text-align: right;\n",
       "    }\n",
       "</style>\n",
       "<table border=\"1\" class=\"dataframe\">\n",
       "  <thead>\n",
       "    <tr style=\"text-align: right;\">\n",
       "      <th></th>\n",
       "      <th>toString</th>\n",
       "      <th>author</th>\n",
       "    </tr>\n",
       "  </thead>\n",
       "  <tbody>\n",
       "    <tr>\n",
       "      <th>0</th>\n",
       "      <td>In Progress</td>\n",
       "      <td>11986</td>\n",
       "    </tr>\n",
       "    <tr>\n",
       "      <th>1</th>\n",
       "      <td>Closed</td>\n",
       "      <td>11236</td>\n",
       "    </tr>\n",
       "    <tr>\n",
       "      <th>2</th>\n",
       "      <td>Resolved</td>\n",
       "      <td>10583</td>\n",
       "    </tr>\n",
       "    <tr>\n",
       "      <th>3</th>\n",
       "      <td>Done</td>\n",
       "      <td>3201</td>\n",
       "    </tr>\n",
       "    <tr>\n",
       "      <th>4</th>\n",
       "      <td>Reopened</td>\n",
       "      <td>3171</td>\n",
       "    </tr>\n",
       "  </tbody>\n",
       "</table>\n",
       "</div>"
      ],
      "text/plain": [
       "      toString  author\n",
       "0  In Progress   11986\n",
       "1       Closed   11236\n",
       "2     Resolved   10583\n",
       "3         Done    3201\n",
       "4     Reopened    3171"
      ]
     },
     "execution_count": 26,
     "metadata": {},
     "output_type": "execute_result"
    }
   ],
   "source": [
    "statuses = changelog[changelog['field']=='status'][['toString', 'author']].groupby(\n",
    "    'toString').count().sort_values('author', ascending=False)\n",
    "statuses.reset_index(level= [0], inplace=True)\n",
    "statuses.head()"
   ]
  },
  {
   "cell_type": "markdown",
   "metadata": {},
   "source": [
    "Now, let's define our own categories and assign changelog abses status names to the ones we defined.\n",
    "Then, create separate datasets for each of these defined statuses, by filtering the changelog dataset, and then aggregate these datasets to take only the user and the number of the rows."
   ]
  },
  {
   "cell_type": "code",
   "execution_count": 27,
   "metadata": {
    "scrolled": false
   },
   "outputs": [
    {
     "name": "stderr",
     "output_type": "stream",
     "text": [
      "C:\\ProgramData\\Anaconda3\\lib\\site-packages\\ipykernel_launcher.py:18: SettingWithCopyWarning: \n",
      "A value is trying to be set on a copy of a slice from a DataFrame.\n",
      "Try using .loc[row_indexer,col_indexer] = value instead\n",
      "\n",
      "See the caveats in the documentation: http://pandas.pydata.org/pandas-docs/stable/indexing.html#indexing-view-versus-copy\n",
      "C:\\ProgramData\\Anaconda3\\lib\\site-packages\\pandas\\core\\indexing.py:543: SettingWithCopyWarning: \n",
      "A value is trying to be set on a copy of a slice from a DataFrame.\n",
      "Try using .loc[row_indexer,col_indexer] = value instead\n",
      "\n",
      "See the caveats in the documentation: http://pandas.pydata.org/pandas-docs/stable/indexing.html#indexing-view-versus-copy\n",
      "  self.obj[item] = s\n",
      "C:\\ProgramData\\Anaconda3\\lib\\site-packages\\pandas\\core\\indexing.py:190: SettingWithCopyWarning: \n",
      "A value is trying to be set on a copy of a slice from a DataFrame\n",
      "\n",
      "See the caveats in the documentation: http://pandas.pydata.org/pandas-docs/stable/indexing.html#indexing-view-versus-copy\n",
      "  self._setitem_with_indexer(indexer, value)\n",
      "C:\\ProgramData\\Anaconda3\\lib\\site-packages\\ipykernel_launcher.py:20: SettingWithCopyWarning: \n",
      "A value is trying to be set on a copy of a slice from a DataFrame\n",
      "\n",
      "See the caveats in the documentation: http://pandas.pydata.org/pandas-docs/stable/indexing.html#indexing-view-versus-copy\n",
      "C:\\ProgramData\\Anaconda3\\lib\\site-packages\\ipykernel_launcher.py:21: SettingWithCopyWarning: \n",
      "A value is trying to be set on a copy of a slice from a DataFrame\n",
      "\n",
      "See the caveats in the documentation: http://pandas.pydata.org/pandas-docs/stable/indexing.html#indexing-view-versus-copy\n"
     ]
    }
   ],
   "source": [
    "_todo = ['To Do', 'Open', 'Reopened', 'Reviewable', 'To Be Merged', 'Scoped', 'Refine', 'New', 'Raw'\n",
    "        , 'Waiting for Response', 'To Be Tested', 'Pending 3rd-Party', 'Defered', 'Triaged']\n",
    "_inprogress = ['Pull Request Submitted', 'Planned Development', 'In Progress', 'In PR', 'In Review', 'In  Review'\n",
    "               , 'Writing', 'Waiting for Review', 'Testing In Progress']\n",
    "_done = ['Closed', 'Resolved', 'Done', 'Inactive - Pending Closure', 'Accepted']\n",
    "states_df = categorical_metric('status','','','','',_todo,'status_todo',_inprogress,'status_inprogress',_done,'status_done')\n",
    "states_df_agg = categorical_metric_agg(states_df, 'status','status_todo', 'status_inprogress', 'status_done')"
   ]
  },
  {
   "cell_type": "code",
   "execution_count": 28,
   "metadata": {},
   "outputs": [
    {
     "name": "stdout",
     "output_type": "stream",
     "text": [
      "21585 21585 21585\n"
     ]
    },
    {
     "data": {
      "text/plain": [
       "\"states_df = ps.sqldf(query, locals())\\nprint(states_df[states_df['ToDelete']=='Yes'].shape[0], states_df[states_df['ToDelete']=='Yes'].shape[0])\\nstates_df = states_df[states_df['ToDelete']=='No'].copy(deep=True)\\n\""
      ]
     },
     "execution_count": 28,
     "metadata": {},
     "output_type": "execute_result"
    }
   ],
   "source": [
    "print(states_df.shape[0], \n",
    "      states_df.drop_duplicates().shape[0],\n",
    "      states_df[['user', 'key']].drop_duplicates().shape[0])\n",
    "states_df[['user','key','status']].groupby(['user','status']).count().reset_index().sort_values('key', ascending=False).head(100)\n",
    "\n",
    "\n",
    "\n",
    "query=\"\"\"\n",
    "SELECT s.*, g.keys_count, g.keys_to_delete, CASE WHEN g.keys_to_delete >= s.RowNum THEN 'Yes' ELSE 'No' END as ToDelete\n",
    "FROM (SELECT *, ROW_NUMBER() OVER(PARTITION BY user, emailAddress, project, status ORDER BY 1) AS RowNum\n",
    "FROM states_df) AS s\n",
    "INNER JOIN (SELECT user, emailAddress, project, status, COUNT(*) AS keys_count, CAST(COUNT(*)*0.5 AS INT) AS keys_to_delete\n",
    "FROM states_df GROUP BY user, emailAddress, project, status) AS g\n",
    "ON g.user = s.user AND g.emailAddress = s.emailAddress AND g.project = s.project AND s.status = g.status\n",
    "\"\"\"\n",
    "\n",
    "\"\"\"states_df = ps.sqldf(query, locals())\n",
    "print(states_df[states_df['ToDelete']=='Yes'].shape[0], states_df[states_df['ToDelete']=='Yes'].shape[0])\n",
    "states_df = states_df[states_df['ToDelete']=='No'].copy(deep=True)\n",
    "\"\"\"\n",
    "\n"
   ]
  },
  {
   "cell_type": "code",
   "execution_count": 165,
   "metadata": {},
   "outputs": [
    {
     "data": {
      "text/plain": [
       "21585"
      ]
     },
     "execution_count": 165,
     "metadata": {},
     "output_type": "execute_result"
    }
   ],
   "source": [
    "states_df.shape[0]"
   ]
  },
  {
   "cell_type": "markdown",
   "metadata": {},
   "source": [
    "Check how many from these users have all three status tasks available, or at least one status task available:"
   ]
  },
  {
   "cell_type": "code",
   "execution_count": 29,
   "metadata": {},
   "outputs": [
    {
     "name": "stdout",
     "output_type": "stream",
     "text": [
      "69\n",
      "97\n"
     ]
    },
    {
     "data": {
      "text/html": [
       "<div>\n",
       "<style scoped>\n",
       "    .dataframe tbody tr th:only-of-type {\n",
       "        vertical-align: middle;\n",
       "    }\n",
       "\n",
       "    .dataframe tbody tr th {\n",
       "        vertical-align: top;\n",
       "    }\n",
       "\n",
       "    .dataframe thead th {\n",
       "        text-align: right;\n",
       "    }\n",
       "</style>\n",
       "<table border=\"1\" class=\"dataframe\">\n",
       "  <thead>\n",
       "    <tr style=\"text-align: right;\">\n",
       "      <th></th>\n",
       "      <th>user</th>\n",
       "      <th>status_todo</th>\n",
       "      <th>status_inprogress</th>\n",
       "      <th>status_done</th>\n",
       "      <th>metric</th>\n",
       "    </tr>\n",
       "  </thead>\n",
       "  <tbody>\n",
       "    <tr>\n",
       "      <th>0</th>\n",
       "      <td>Alexey.tregub</td>\n",
       "      <td>9.000</td>\n",
       "      <td>5.000</td>\n",
       "      <td>255.000</td>\n",
       "      <td>status_done</td>\n",
       "    </tr>\n",
       "    <tr>\n",
       "      <th>1</th>\n",
       "      <td>KenGrierson</td>\n",
       "      <td>23.000</td>\n",
       "      <td>6.000</td>\n",
       "      <td>274.000</td>\n",
       "      <td>status_done</td>\n",
       "    </tr>\n",
       "    <tr>\n",
       "      <th>2</th>\n",
       "      <td>adam-mesos</td>\n",
       "      <td>5.000</td>\n",
       "      <td>6.000</td>\n",
       "      <td>93.000</td>\n",
       "      <td>status_done</td>\n",
       "    </tr>\n",
       "    <tr>\n",
       "      <th>3</th>\n",
       "      <td>agrueso</td>\n",
       "      <td>4.000</td>\n",
       "      <td>39.000</td>\n",
       "      <td>86.000</td>\n",
       "      <td>status_done</td>\n",
       "    </tr>\n",
       "    <tr>\n",
       "      <th>4</th>\n",
       "      <td>agx</td>\n",
       "      <td>2.000</td>\n",
       "      <td>19.000</td>\n",
       "      <td>36.000</td>\n",
       "      <td>status_done</td>\n",
       "    </tr>\n",
       "  </tbody>\n",
       "</table>\n",
       "</div>"
      ],
      "text/plain": [
       "            user  status_todo  status_inprogress  status_done       metric\n",
       "0  Alexey.tregub        9.000              5.000      255.000  status_done\n",
       "1    KenGrierson       23.000              6.000      274.000  status_done\n",
       "2     adam-mesos        5.000              6.000       93.000  status_done\n",
       "3        agrueso        4.000             39.000       86.000  status_done\n",
       "4            agx        2.000             19.000       36.000  status_done"
      ]
     },
     "execution_count": 29,
     "metadata": {},
     "output_type": "execute_result"
    }
   ],
   "source": [
    "print(states_df_agg[(pd.isnull(states_df_agg['status_done'])==False)\n",
    "                         & (pd.isnull(states_df_agg['status_todo'])==False)\n",
    "                         & (pd.isnull(states_df_agg['status_inprogress'])==False)].shape[0])\n",
    "\n",
    "print(states_df_agg[(pd.isnull(states_df_agg['status_done'])==False)\n",
    "                         | (pd.isnull(states_df_agg['status_todo'])==False)\n",
    "                         | (pd.isnull(states_df_agg['status_inprogress'])==False)].shape[0])\n",
    "states_df_agg.head()"
   ]
  },
  {
   "cell_type": "markdown",
   "metadata": {},
   "source": [
    "<h2> Task Prioritization <h/2>"
   ]
  },
  {
   "cell_type": "markdown",
   "metadata": {},
   "source": [
    "Let's see what are the priority values in changelog dataset, and how many records has each of these priority value"
   ]
  },
  {
   "cell_type": "code",
   "execution_count": 30,
   "metadata": {},
   "outputs": [
    {
     "data": {
      "text/html": [
       "<div>\n",
       "<style scoped>\n",
       "    .dataframe tbody tr th:only-of-type {\n",
       "        vertical-align: middle;\n",
       "    }\n",
       "\n",
       "    .dataframe tbody tr th {\n",
       "        vertical-align: top;\n",
       "    }\n",
       "\n",
       "    .dataframe thead th {\n",
       "        text-align: right;\n",
       "    }\n",
       "</style>\n",
       "<table border=\"1\" class=\"dataframe\">\n",
       "  <thead>\n",
       "    <tr style=\"text-align: right;\">\n",
       "      <th></th>\n",
       "      <th>author</th>\n",
       "    </tr>\n",
       "    <tr>\n",
       "      <th>toString</th>\n",
       "      <th></th>\n",
       "    </tr>\n",
       "  </thead>\n",
       "  <tbody>\n",
       "    <tr>\n",
       "      <th>High</th>\n",
       "      <td>1978</td>\n",
       "    </tr>\n",
       "    <tr>\n",
       "      <th>Medium</th>\n",
       "      <td>1267</td>\n",
       "    </tr>\n",
       "    <tr>\n",
       "      <th>Critical</th>\n",
       "      <td>1031</td>\n",
       "    </tr>\n",
       "    <tr>\n",
       "      <th>Major</th>\n",
       "      <td>742</td>\n",
       "    </tr>\n",
       "    <tr>\n",
       "      <th>Low</th>\n",
       "      <td>670</td>\n",
       "    </tr>\n",
       "    <tr>\n",
       "      <th>Blocker</th>\n",
       "      <td>254</td>\n",
       "    </tr>\n",
       "    <tr>\n",
       "      <th>Minor</th>\n",
       "      <td>240</td>\n",
       "    </tr>\n",
       "    <tr>\n",
       "      <th>None</th>\n",
       "      <td>166</td>\n",
       "    </tr>\n",
       "    <tr>\n",
       "      <th>Trivial</th>\n",
       "      <td>89</td>\n",
       "    </tr>\n",
       "    <tr>\n",
       "      <th>To be reviewed</th>\n",
       "      <td>3</td>\n",
       "    </tr>\n",
       "  </tbody>\n",
       "</table>\n",
       "</div>"
      ],
      "text/plain": [
       "                author\n",
       "toString              \n",
       "High              1978\n",
       "Medium            1267\n",
       "Critical          1031\n",
       "Major              742\n",
       "Low                670\n",
       "Blocker            254\n",
       "Minor              240\n",
       "None               166\n",
       "Trivial             89\n",
       "To be reviewed       3"
      ]
     },
     "execution_count": 30,
     "metadata": {},
     "output_type": "execute_result"
    }
   ],
   "source": [
    "changelog[changelog['field']=='priority'][['toString', 'author']].groupby(\n",
    "    'toString').count().sort_values('author', ascending=False)"
   ]
  },
  {
   "cell_type": "markdown",
   "metadata": {},
   "source": [
    "Let's define our own priority categories and assign changelog priority names to the ones we defined. \n",
    "Then, create separate datasets for each of these defined priorities, by filtering the changelog dataset, and then aggregate these datasets to take only the user and the number of the rows."
   ]
  },
  {
   "cell_type": "code",
   "execution_count": 31,
   "metadata": {},
   "outputs": [
    {
     "name": "stderr",
     "output_type": "stream",
     "text": [
      "C:\\ProgramData\\Anaconda3\\lib\\site-packages\\ipykernel_launcher.py:18: SettingWithCopyWarning: \n",
      "A value is trying to be set on a copy of a slice from a DataFrame.\n",
      "Try using .loc[row_indexer,col_indexer] = value instead\n",
      "\n",
      "See the caveats in the documentation: http://pandas.pydata.org/pandas-docs/stable/indexing.html#indexing-view-versus-copy\n",
      "C:\\ProgramData\\Anaconda3\\lib\\site-packages\\pandas\\core\\indexing.py:543: SettingWithCopyWarning: \n",
      "A value is trying to be set on a copy of a slice from a DataFrame.\n",
      "Try using .loc[row_indexer,col_indexer] = value instead\n",
      "\n",
      "See the caveats in the documentation: http://pandas.pydata.org/pandas-docs/stable/indexing.html#indexing-view-versus-copy\n",
      "  self.obj[item] = s\n",
      "C:\\ProgramData\\Anaconda3\\lib\\site-packages\\pandas\\core\\indexing.py:190: SettingWithCopyWarning: \n",
      "A value is trying to be set on a copy of a slice from a DataFrame\n",
      "\n",
      "See the caveats in the documentation: http://pandas.pydata.org/pandas-docs/stable/indexing.html#indexing-view-versus-copy\n",
      "  self._setitem_with_indexer(indexer, value)\n",
      "C:\\ProgramData\\Anaconda3\\lib\\site-packages\\ipykernel_launcher.py:20: SettingWithCopyWarning: \n",
      "A value is trying to be set on a copy of a slice from a DataFrame\n",
      "\n",
      "See the caveats in the documentation: http://pandas.pydata.org/pandas-docs/stable/indexing.html#indexing-view-versus-copy\n",
      "C:\\ProgramData\\Anaconda3\\lib\\site-packages\\ipykernel_launcher.py:21: SettingWithCopyWarning: \n",
      "A value is trying to be set on a copy of a slice from a DataFrame\n",
      "\n",
      "See the caveats in the documentation: http://pandas.pydata.org/pandas-docs/stable/indexing.html#indexing-view-versus-copy\n"
     ]
    }
   ],
   "source": [
    "_high = ['High', 'Critical', 'Blocker']\n",
    "_medium = ['Medium', 'Major']\n",
    "_low = ['Low', 'Minor', 'None', 'Trivial', 'To be reviewed']\n",
    "\n",
    "priorities_df = categorical_metric('priority','','','','',_high,'priority_high',_medium,'priority_medium',_low,'priority_low')\n",
    "priorities_df_agg = categorical_metric_agg(priorities_df, 'priority','priority_high', 'priority_medium', 'priority_low')"
   ]
  },
  {
   "cell_type": "code",
   "execution_count": 32,
   "metadata": {},
   "outputs": [
    {
     "name": "stdout",
     "output_type": "stream",
     "text": [
      "4796 4796 4796\n"
     ]
    },
    {
     "data": {
      "text/html": [
       "<div>\n",
       "<style scoped>\n",
       "    .dataframe tbody tr th:only-of-type {\n",
       "        vertical-align: middle;\n",
       "    }\n",
       "\n",
       "    .dataframe tbody tr th {\n",
       "        vertical-align: top;\n",
       "    }\n",
       "\n",
       "    .dataframe thead th {\n",
       "        text-align: right;\n",
       "    }\n",
       "</style>\n",
       "<table border=\"1\" class=\"dataframe\">\n",
       "  <thead>\n",
       "    <tr style=\"text-align: right;\">\n",
       "      <th></th>\n",
       "      <th>user</th>\n",
       "      <th>project</th>\n",
       "      <th>key</th>\n",
       "      <th>priority</th>\n",
       "    </tr>\n",
       "  </thead>\n",
       "  <tbody>\n",
       "    <tr>\n",
       "      <th>0</th>\n",
       "      <td>Alexey.tregub</td>\n",
       "      <td>dnn</td>\n",
       "      <td>DNN-3344</td>\n",
       "      <td>priority_high</td>\n",
       "    </tr>\n",
       "    <tr>\n",
       "      <th>1</th>\n",
       "      <td>Alexey.tregub</td>\n",
       "      <td>dnn</td>\n",
       "      <td>DNN-3957</td>\n",
       "      <td>priority_high</td>\n",
       "    </tr>\n",
       "    <tr>\n",
       "      <th>2</th>\n",
       "      <td>Alexey.tregub</td>\n",
       "      <td>dnn</td>\n",
       "      <td>DNN-3966</td>\n",
       "      <td>priority_high</td>\n",
       "    </tr>\n",
       "    <tr>\n",
       "      <th>3</th>\n",
       "      <td>Alexey.tregub</td>\n",
       "      <td>dnn</td>\n",
       "      <td>DNN-4117</td>\n",
       "      <td>priority_medium</td>\n",
       "    </tr>\n",
       "    <tr>\n",
       "      <th>4</th>\n",
       "      <td>KenGrierson</td>\n",
       "      <td>dnn</td>\n",
       "      <td>DNN-3445</td>\n",
       "      <td>priority_high</td>\n",
       "    </tr>\n",
       "  </tbody>\n",
       "</table>\n",
       "</div>"
      ],
      "text/plain": [
       "            user project       key         priority\n",
       "0  Alexey.tregub     dnn  DNN-3344    priority_high\n",
       "1  Alexey.tregub     dnn  DNN-3957    priority_high\n",
       "2  Alexey.tregub     dnn  DNN-3966    priority_high\n",
       "3  Alexey.tregub     dnn  DNN-4117  priority_medium\n",
       "4    KenGrierson     dnn  DNN-3445    priority_high"
      ]
     },
     "execution_count": 32,
     "metadata": {},
     "output_type": "execute_result"
    }
   ],
   "source": [
    "print(priorities_df.shape[0], \n",
    "      priorities_df.drop_duplicates().shape[0],\n",
    "      priorities_df[['user', 'key']].drop_duplicates().shape[0])\n",
    "priorities_df.head()"
   ]
  },
  {
   "cell_type": "markdown",
   "metadata": {},
   "source": [
    "Check how many from these users have all three priority tasks available, and the number of users that have at least one piroritization available"
   ]
  },
  {
   "cell_type": "code",
   "execution_count": 33,
   "metadata": {},
   "outputs": [
    {
     "name": "stdout",
     "output_type": "stream",
     "text": [
      "31\n",
      "81\n"
     ]
    },
    {
     "data": {
      "text/html": [
       "<div>\n",
       "<style scoped>\n",
       "    .dataframe tbody tr th:only-of-type {\n",
       "        vertical-align: middle;\n",
       "    }\n",
       "\n",
       "    .dataframe tbody tr th {\n",
       "        vertical-align: top;\n",
       "    }\n",
       "\n",
       "    .dataframe thead th {\n",
       "        text-align: right;\n",
       "    }\n",
       "</style>\n",
       "<table border=\"1\" class=\"dataframe\">\n",
       "  <thead>\n",
       "    <tr style=\"text-align: right;\">\n",
       "      <th></th>\n",
       "      <th>user</th>\n",
       "      <th>priority_high</th>\n",
       "      <th>priority_medium</th>\n",
       "      <th>priority_low</th>\n",
       "      <th>metric</th>\n",
       "    </tr>\n",
       "  </thead>\n",
       "  <tbody>\n",
       "    <tr>\n",
       "      <th>0</th>\n",
       "      <td>Alexey.tregub</td>\n",
       "      <td>3.000</td>\n",
       "      <td>1.000</td>\n",
       "      <td>nan</td>\n",
       "      <td>priority_high</td>\n",
       "    </tr>\n",
       "    <tr>\n",
       "      <th>1</th>\n",
       "      <td>KenGrierson</td>\n",
       "      <td>15.000</td>\n",
       "      <td>1.000</td>\n",
       "      <td>nan</td>\n",
       "      <td>priority_high</td>\n",
       "    </tr>\n",
       "    <tr>\n",
       "      <th>2</th>\n",
       "      <td>adam-mesos</td>\n",
       "      <td>8.000</td>\n",
       "      <td>2.000</td>\n",
       "      <td>2.000</td>\n",
       "      <td>priority_high</td>\n",
       "    </tr>\n",
       "    <tr>\n",
       "      <th>3</th>\n",
       "      <td>agrueso</td>\n",
       "      <td>nan</td>\n",
       "      <td>1.000</td>\n",
       "      <td>nan</td>\n",
       "      <td>priority_medium</td>\n",
       "    </tr>\n",
       "    <tr>\n",
       "      <th>4</th>\n",
       "      <td>alejandro.nosenzo</td>\n",
       "      <td>2.000</td>\n",
       "      <td>nan</td>\n",
       "      <td>4.000</td>\n",
       "      <td>priority_low</td>\n",
       "    </tr>\n",
       "  </tbody>\n",
       "</table>\n",
       "</div>"
      ],
      "text/plain": [
       "                user  priority_high  priority_medium  priority_low  \\\n",
       "0      Alexey.tregub          3.000            1.000           nan   \n",
       "1        KenGrierson         15.000            1.000           nan   \n",
       "2         adam-mesos          8.000            2.000         2.000   \n",
       "3            agrueso            nan            1.000           nan   \n",
       "4  alejandro.nosenzo          2.000              nan         4.000   \n",
       "\n",
       "            metric  \n",
       "0    priority_high  \n",
       "1    priority_high  \n",
       "2    priority_high  \n",
       "3  priority_medium  \n",
       "4     priority_low  "
      ]
     },
     "execution_count": 33,
     "metadata": {},
     "output_type": "execute_result"
    }
   ],
   "source": [
    "print(priorities_df_agg[(pd.isnull(priorities_df_agg['priority_high'])==False)\n",
    "                         & (pd.isnull(priorities_df_agg['priority_medium'])==False)\n",
    "                         & (pd.isnull(priorities_df_agg['priority_low'])==False)].shape[0])\n",
    "\n",
    "print(priorities_df_agg[(pd.isnull(priorities_df_agg['priority_high'])==False)\n",
    "                         | (pd.isnull(priorities_df_agg['priority_medium'])==False)\n",
    "                         | (pd.isnull(priorities_df_agg['priority_low'])==False)].shape[0])\n",
    "priorities_df_agg.head()"
   ]
  },
  {
   "cell_type": "markdown",
   "metadata": {},
   "source": [
    "<h2>Estimation</h2>"
   ]
  },
  {
   "cell_type": "code",
   "execution_count": 34,
   "metadata": {},
   "outputs": [
    {
     "data": {
      "text/plain": [
       "[Text(0, 0.5, 'apstud'),\n",
       " Text(0, 1.5, 'dnn'),\n",
       " Text(0, 2.5, 'mesos'),\n",
       " Text(0, 3.5, 'mule'),\n",
       " Text(0, 4.5, 'nexus'),\n",
       " Text(0, 5.5, 'timob'),\n",
       " Text(0, 6.5, 'tistud'),\n",
       " Text(0, 7.5, 'xd')]"
      ]
     },
     "execution_count": 34,
     "metadata": {},
     "output_type": "execute_result"
    },
    {
     "data": {
      "image/png": "[encoded data removed]",
      "text/plain": [
       "<Figure size 1440x288 with 2 Axes>"
      ]
     },
     "metadata": {},
     "output_type": "display_data"
    }
   ],
   "source": [
    "unique_keys = issues[['key', 'project', 'storypoints', 'fields.issuetype.name']].drop_duplicates()\n",
    "proj_story_tab = pd.crosstab(unique_keys['project'], unique_keys['storypoints'], values = unique_keys['key'], aggfunc='count')\n",
    "hm = sns.set(rc={'figure.figsize':(20,4)})\n",
    "g = sns.heatmap(proj_story_tab, annot=True, cmap='Greens', fmt='g')\n",
    "g.set_yticklabels(g.get_yticklabels(), rotation=45)"
   ]
  },
  {
   "cell_type": "code",
   "execution_count": 35,
   "metadata": {},
   "outputs": [],
   "source": [
    "#field_in_issues, field_exclusion_filter, values_filter\n",
    "\n",
    "story_points = ['0', '0.5', '1', '2', '3', '5', '8', '13', '20', '40', '100']\n",
    "story_fields = ['Story Points', 'Actual Story Points']\n",
    "field = 'StoryPoints'\n",
    "e_low = ['0', '0.5', '1']\n",
    "e_medium = ['2', '3']\n",
    "e_high = ['5', '8', '13', '20', '40', '100']\n",
    "\n",
    "\n",
    "estimates_df = categorical_metric(field,story_fields,'fields.issuetype.name','Epic',story_points,e_high,'estimation_high',e_medium,'estimation_medium',e_low,'estimation_low')\n",
    "estimates_df_agg = categorical_metric_agg(estimates_df, '`'+field+'`','estimation_high', 'estimation_medium', 'estimation_low')"
   ]
  },
  {
   "cell_type": "code",
   "execution_count": 36,
   "metadata": {},
   "outputs": [
    {
     "data": {
      "text/html": [
       "<div>\n",
       "<style scoped>\n",
       "    .dataframe tbody tr th:only-of-type {\n",
       "        vertical-align: middle;\n",
       "    }\n",
       "\n",
       "    .dataframe tbody tr th {\n",
       "        vertical-align: top;\n",
       "    }\n",
       "\n",
       "    .dataframe thead th {\n",
       "        text-align: right;\n",
       "    }\n",
       "</style>\n",
       "<table border=\"1\" class=\"dataframe\">\n",
       "  <thead>\n",
       "    <tr style=\"text-align: right;\">\n",
       "      <th></th>\n",
       "      <th>user</th>\n",
       "      <th>project</th>\n",
       "      <th>key</th>\n",
       "      <th>StoryPoints</th>\n",
       "    </tr>\n",
       "  </thead>\n",
       "  <tbody>\n",
       "    <tr>\n",
       "      <th>0</th>\n",
       "      <td>adam-mesos</td>\n",
       "      <td>mesos</td>\n",
       "      <td>MESOS-1733</td>\n",
       "      <td>estimation_high</td>\n",
       "    </tr>\n",
       "    <tr>\n",
       "      <th>1</th>\n",
       "      <td>adam-mesos</td>\n",
       "      <td>mesos</td>\n",
       "      <td>MESOS-2043</td>\n",
       "      <td>estimation_high</td>\n",
       "    </tr>\n",
       "    <tr>\n",
       "      <th>2</th>\n",
       "      <td>adam-mesos</td>\n",
       "      <td>mesos</td>\n",
       "      <td>MESOS-2110</td>\n",
       "      <td>estimation_high</td>\n",
       "    </tr>\n",
       "    <tr>\n",
       "      <th>3</th>\n",
       "      <td>adam-mesos</td>\n",
       "      <td>mesos</td>\n",
       "      <td>MESOS-2222</td>\n",
       "      <td>estimation_medium</td>\n",
       "    </tr>\n",
       "    <tr>\n",
       "      <th>4</th>\n",
       "      <td>adam-mesos</td>\n",
       "      <td>mesos</td>\n",
       "      <td>MESOS-2315</td>\n",
       "      <td>estimation_medium</td>\n",
       "    </tr>\n",
       "  </tbody>\n",
       "</table>\n",
       "</div>"
      ],
      "text/plain": [
       "         user project         key        StoryPoints\n",
       "0  adam-mesos   mesos  MESOS-1733    estimation_high\n",
       "1  adam-mesos   mesos  MESOS-2043    estimation_high\n",
       "2  adam-mesos   mesos  MESOS-2110    estimation_high\n",
       "3  adam-mesos   mesos  MESOS-2222  estimation_medium\n",
       "4  adam-mesos   mesos  MESOS-2315  estimation_medium"
      ]
     },
     "execution_count": 36,
     "metadata": {},
     "output_type": "execute_result"
    }
   ],
   "source": [
    "estimates_df.head()"
   ]
  },
  {
   "cell_type": "code",
   "execution_count": 37,
   "metadata": {},
   "outputs": [
    {
     "name": "stdout",
     "output_type": "stream",
     "text": [
      "6840 6840\n"
     ]
    }
   ],
   "source": [
    "print(estimates_df.shape[0],estimates_df[['user', 'key']].drop_duplicates().shape[0])"
   ]
  },
  {
   "cell_type": "code",
   "execution_count": 38,
   "metadata": {},
   "outputs": [
    {
     "name": "stdout",
     "output_type": "stream",
     "text": [
      "76 64\n"
     ]
    }
   ],
   "source": [
    "print(estimates_df_agg.shape[0], \n",
    "      changelog[(changelog['field'].isin(story_fields)) & (changelog['author']=='grussell')]['key'].drop_duplicates().shape[0])"
   ]
  },
  {
   "cell_type": "code",
   "execution_count": 39,
   "metadata": {},
   "outputs": [
    {
     "name": "stdout",
     "output_type": "stream",
     "text": [
      "56\n",
      "76\n"
     ]
    }
   ],
   "source": [
    "print(estimates_df_agg[(pd.isnull(estimates_df_agg['estimation_high'])==False)\n",
    "                         & (pd.isnull(estimates_df_agg['estimation_medium'])==False)\n",
    "                         & (pd.isnull(estimates_df_agg['estimation_low'])==False)].shape[0])\n",
    "\n",
    "print(estimates_df_agg[(pd.isnull(estimates_df_agg['estimation_high'])==False)\n",
    "                         | (pd.isnull(estimates_df_agg['estimation_medium'])==False)\n",
    "                         | (pd.isnull(estimates_df_agg['estimation_low'])==False)].shape[0])"
   ]
  },
  {
   "cell_type": "code",
   "execution_count": 40,
   "metadata": {},
   "outputs": [],
   "source": [
    "estimates_df.to_csv('input_data/estimates_df.csv')\n",
    "states_df.to_csv('input_data/states_df.csv')\n",
    "priorities_df.to_csv('input_data/priorities_df.csv')\n",
    "valid_users_times.to_csv('input_data/valid_users_times.csv')"
   ]
  }
 ],
 "metadata": {
  "kernelspec": {
   "display_name": "Python 3",
   "language": "python",
   "name": "python3"
  },
  "language_info": {
   "codemirror_mode": {
    "name": "ipython",
    "version": 3
   },
   "file_extension": ".py",
   "mimetype": "text/x-python",
   "name": "python",
   "nbconvert_exporter": "python",
   "pygments_lexer": "ipython3",
   "version": "3.7.3"
  }
 },
 "nbformat": 4,
 "nbformat_minor": 2
}
