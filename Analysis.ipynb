{
 "cells": [
  {
   "cell_type": "markdown",
   "metadata": {},
   "source": [
    "<h1> The Importance of Personality Traits in Agile Software Development: A Case Study </h1>\n",
    "<hr/>"
   ]
  },
  {
   "cell_type": "markdown",
   "metadata": {},
   "source": [
    "<h2> 1.0 Developers` personality insight analysis <hr />\n",
    "using the open source datasets of eoght software development teams JIRA logs </h2>"
   ]
  },
  {
   "cell_type": "markdown",
   "metadata": {},
   "source": [
    "<h3>1.0.1 load libraries and datasets</h3>"
   ]
  },
  {
   "cell_type": "code",
   "execution_count": 1,
   "metadata": {},
   "outputs": [],
   "source": [
    "import pandas as pd\n",
    "import numpy as np\n",
    "from matplotlib import pyplot as plt\n",
    "from matplotlib.ticker import PercentFormatter\n",
    "from matplotlib.patches import Rectangle\n",
    "import seaborn as sns\n",
    "import re\n",
    "from collections import Counter"
   ]
  },
  {
   "cell_type": "code",
   "execution_count": 497,
   "metadata": {},
   "outputs": [],
   "source": [
    "changelog = pd.read_csv('jiradataset_changelog.csv')\n",
    "issues = pd.read_csv('jiradataset_issues.csv')\n",
    "sprints = pd.read_csv('jiradataset_sprints.csv')\n",
    "users = pd.read_csv('jiradataset_users.csv')"
   ]
  },
  {
   "cell_type": "markdown",
   "metadata": {},
   "source": [
    "<h3> 1.0.2 Check the datasets </h3>\n",
    "\n"
   ]
  },
  {
   "cell_type": "code",
   "execution_count": 3,
   "metadata": {},
   "outputs": [
    {
     "data": {
      "text/html": [
       "<div>\n",
       "<style scoped>\n",
       "    .dataframe tbody tr th:only-of-type {\n",
       "        vertical-align: middle;\n",
       "    }\n",
       "\n",
       "    .dataframe tbody tr th {\n",
       "        vertical-align: top;\n",
       "    }\n",
       "\n",
       "    .dataframe thead th {\n",
       "        text-align: right;\n",
       "    }\n",
       "</style>\n",
       "<table border=\"1\" class=\"dataframe\">\n",
       "  <thead>\n",
       "    <tr style=\"text-align: right;\">\n",
       "      <th></th>\n",
       "      <th>author</th>\n",
       "      <th>created</th>\n",
       "      <th>field</th>\n",
       "      <th>fieldtype</th>\n",
       "      <th>from</th>\n",
       "      <th>fromString</th>\n",
       "      <th>key</th>\n",
       "      <th>project</th>\n",
       "      <th>to</th>\n",
       "      <th>toString</th>\n",
       "    </tr>\n",
       "  </thead>\n",
       "  <tbody>\n",
       "    <tr>\n",
       "      <th>0</th>\n",
       "      <td>jvalkeal</td>\n",
       "      <td>2016-03-03 18:40:53.171</td>\n",
       "      <td>status</td>\n",
       "      <td>jira</td>\n",
       "      <td>10000</td>\n",
       "      <td>To Do</td>\n",
       "      <td>XD-3751</td>\n",
       "      <td>xd</td>\n",
       "      <td>3</td>\n",
       "      <td>In Progress</td>\n",
       "    </tr>\n",
       "    <tr>\n",
       "      <th>1</th>\n",
       "      <td>jvalkeal</td>\n",
       "      <td>2016-03-03 18:41:19.429</td>\n",
       "      <td>Pull Request URL</td>\n",
       "      <td>custom</td>\n",
       "      <td>NaN</td>\n",
       "      <td>NaN</td>\n",
       "      <td>XD-3751</td>\n",
       "      <td>xd</td>\n",
       "      <td>NaN</td>\n",
       "      <td>https://github.com/spring-projects/spring-xd/p...</td>\n",
       "    </tr>\n",
       "    <tr>\n",
       "      <th>2</th>\n",
       "      <td>jvalkeal</td>\n",
       "      <td>2016-03-03 18:41:19.429</td>\n",
       "      <td>status</td>\n",
       "      <td>jira</td>\n",
       "      <td>3</td>\n",
       "      <td>In Progress</td>\n",
       "      <td>XD-3751</td>\n",
       "      <td>xd</td>\n",
       "      <td>10006</td>\n",
       "      <td>In PR</td>\n",
       "    </tr>\n",
       "  </tbody>\n",
       "</table>\n",
       "</div>"
      ],
      "text/plain": [
       "     author                  created             field fieldtype   from  \\\n",
       "0  jvalkeal  2016-03-03 18:40:53.171            status      jira  10000   \n",
       "1  jvalkeal  2016-03-03 18:41:19.429  Pull Request URL    custom    NaN   \n",
       "2  jvalkeal  2016-03-03 18:41:19.429            status      jira      3   \n",
       "\n",
       "    fromString      key project     to  \\\n",
       "0        To Do  XD-3751      xd      3   \n",
       "1          NaN  XD-3751      xd    NaN   \n",
       "2  In Progress  XD-3751      xd  10006   \n",
       "\n",
       "                                            toString  \n",
       "0                                        In Progress  \n",
       "1  https://github.com/spring-projects/spring-xd/p...  \n",
       "2                                              In PR  "
      ]
     },
     "execution_count": 3,
     "metadata": {},
     "output_type": "execute_result"
    }
   ],
   "source": [
    "changelog.head(3)"
   ]
  },
  {
   "cell_type": "code",
   "execution_count": 4,
   "metadata": {},
   "outputs": [
    {
     "data": {
      "text/html": [
       "<div>\n",
       "<style scoped>\n",
       "    .dataframe tbody tr th:only-of-type {\n",
       "        vertical-align: middle;\n",
       "    }\n",
       "\n",
       "    .dataframe tbody tr th {\n",
       "        vertical-align: top;\n",
       "    }\n",
       "\n",
       "    .dataframe thead th {\n",
       "        text-align: right;\n",
       "    }\n",
       "</style>\n",
       "<table border=\"1\" class=\"dataframe\">\n",
       "  <thead>\n",
       "    <tr style=\"text-align: right;\">\n",
       "      <th></th>\n",
       "      <th>fields.assignee.name</th>\n",
       "      <th>fields.components</th>\n",
       "      <th>fields.created</th>\n",
       "      <th>fields.creator.name</th>\n",
       "      <th>fields.description</th>\n",
       "      <th>fields.fixVersions</th>\n",
       "      <th>fields.issuetype.name</th>\n",
       "      <th>fields.issuetype.subtask</th>\n",
       "      <th>fields.priority.name</th>\n",
       "      <th>fields.reporter.name</th>\n",
       "      <th>...</th>\n",
       "      <th>fields.status.name</th>\n",
       "      <th>fields.status.statusCategory.name</th>\n",
       "      <th>fields.summary</th>\n",
       "      <th>fields.updated</th>\n",
       "      <th>fields.versions</th>\n",
       "      <th>fields.watches.watchCount</th>\n",
       "      <th>key</th>\n",
       "      <th>storypoints</th>\n",
       "      <th>project</th>\n",
       "      <th>sprint</th>\n",
       "    </tr>\n",
       "  </thead>\n",
       "  <tbody>\n",
       "    <tr>\n",
       "      <th>0</th>\n",
       "      <td>NaN</td>\n",
       "      <td>[{u'id': u'12786', u'self': u'https://jira.spr...</td>\n",
       "      <td>2016-03-31T22:35:55.000+0000</td>\n",
       "      <td>thomas.risberg</td>\n",
       "      <td>The MapReduce samples should have \"yarn.resour...</td>\n",
       "      <td>[]</td>\n",
       "      <td>Improvement</td>\n",
       "      <td>False</td>\n",
       "      <td>Minor</td>\n",
       "      <td>thomas.risberg</td>\n",
       "      <td>...</td>\n",
       "      <td>To Do</td>\n",
       "      <td>To Do</td>\n",
       "      <td>Add \"yarn.resourcemanager.scheduler.address\" t...</td>\n",
       "      <td>2016-03-31T22:35:55.000+0000</td>\n",
       "      <td>[]</td>\n",
       "      <td>1</td>\n",
       "      <td>XD-3753</td>\n",
       "      <td>2.0</td>\n",
       "      <td>xd</td>\n",
       "      <td>NaN</td>\n",
       "    </tr>\n",
       "    <tr>\n",
       "      <th>1</th>\n",
       "      <td>NaN</td>\n",
       "      <td>[{u'id': u'12784', u'self': u'https://jira.spr...</td>\n",
       "      <td>2016-03-14T18:09:51.000+0000</td>\n",
       "      <td>manju4ever</td>\n",
       "      <td>When i use the admin-ui web portal which runs ...</td>\n",
       "      <td>[]</td>\n",
       "      <td>Bug</td>\n",
       "      <td>False</td>\n",
       "      <td>Trivial</td>\n",
       "      <td>manju4ever</td>\n",
       "      <td>...</td>\n",
       "      <td>To Do</td>\n",
       "      <td>To Do</td>\n",
       "      <td>Admin UI login Page failing to load due to req...</td>\n",
       "      <td>2016-03-14T18:09:51.000+0000</td>\n",
       "      <td>[{u'archived': False, u'description': u'1.3.0 ...</td>\n",
       "      <td>1</td>\n",
       "      <td>XD-3752</td>\n",
       "      <td>20.0</td>\n",
       "      <td>xd</td>\n",
       "      <td>NaN</td>\n",
       "    </tr>\n",
       "    <tr>\n",
       "      <th>2</th>\n",
       "      <td>jvalkeal</td>\n",
       "      <td>[]</td>\n",
       "      <td>2016-03-03T13:22:14.000+0000</td>\n",
       "      <td>jvalkeal</td>\n",
       "      <td>In a case where reactor's ringbuffer is full a...</td>\n",
       "      <td>[]</td>\n",
       "      <td>Bug</td>\n",
       "      <td>False</td>\n",
       "      <td>Major</td>\n",
       "      <td>jvalkeal</td>\n",
       "      <td>...</td>\n",
       "      <td>In PR</td>\n",
       "      <td>In Progress</td>\n",
       "      <td>gpfdist may fail to shutdown with backlog</td>\n",
       "      <td>2016-03-03T18:41:19.000+0000</td>\n",
       "      <td>[{u'archived': False, u'name': u'1.3.1', u'sel...</td>\n",
       "      <td>1</td>\n",
       "      <td>XD-3751</td>\n",
       "      <td>5.0</td>\n",
       "      <td>xd</td>\n",
       "      <td>NaN</td>\n",
       "    </tr>\n",
       "  </tbody>\n",
       "</table>\n",
       "<p>3 rows × 24 columns</p>\n",
       "</div>"
      ],
      "text/plain": [
       "  fields.assignee.name                                  fields.components  \\\n",
       "0                  NaN  [{u'id': u'12786', u'self': u'https://jira.spr...   \n",
       "1                  NaN  [{u'id': u'12784', u'self': u'https://jira.spr...   \n",
       "2             jvalkeal                                                 []   \n",
       "\n",
       "                 fields.created fields.creator.name  \\\n",
       "0  2016-03-31T22:35:55.000+0000      thomas.risberg   \n",
       "1  2016-03-14T18:09:51.000+0000          manju4ever   \n",
       "2  2016-03-03T13:22:14.000+0000            jvalkeal   \n",
       "\n",
       "                                  fields.description fields.fixVersions  \\\n",
       "0  The MapReduce samples should have \"yarn.resour...                 []   \n",
       "1  When i use the admin-ui web portal which runs ...                 []   \n",
       "2  In a case where reactor's ringbuffer is full a...                 []   \n",
       "\n",
       "  fields.issuetype.name  fields.issuetype.subtask fields.priority.name  \\\n",
       "0           Improvement                     False                Minor   \n",
       "1                   Bug                     False              Trivial   \n",
       "2                   Bug                     False                Major   \n",
       "\n",
       "  fields.reporter.name  ... fields.status.name  \\\n",
       "0       thomas.risberg  ...              To Do   \n",
       "1           manju4ever  ...              To Do   \n",
       "2             jvalkeal  ...              In PR   \n",
       "\n",
       "  fields.status.statusCategory.name  \\\n",
       "0                             To Do   \n",
       "1                             To Do   \n",
       "2                       In Progress   \n",
       "\n",
       "                                      fields.summary  \\\n",
       "0  Add \"yarn.resourcemanager.scheduler.address\" t...   \n",
       "1  Admin UI login Page failing to load due to req...   \n",
       "2          gpfdist may fail to shutdown with backlog   \n",
       "\n",
       "                 fields.updated  \\\n",
       "0  2016-03-31T22:35:55.000+0000   \n",
       "1  2016-03-14T18:09:51.000+0000   \n",
       "2  2016-03-03T18:41:19.000+0000   \n",
       "\n",
       "                                     fields.versions  \\\n",
       "0                                                 []   \n",
       "1  [{u'archived': False, u'description': u'1.3.0 ...   \n",
       "2  [{u'archived': False, u'name': u'1.3.1', u'sel...   \n",
       "\n",
       "  fields.watches.watchCount      key storypoints project  sprint  \n",
       "0                         1  XD-3753         2.0      xd     NaN  \n",
       "1                         1  XD-3752        20.0      xd     NaN  \n",
       "2                         1  XD-3751         5.0      xd     NaN  \n",
       "\n",
       "[3 rows x 24 columns]"
      ]
     },
     "execution_count": 4,
     "metadata": {},
     "output_type": "execute_result"
    }
   ],
   "source": [
    "issues.head(3)"
   ]
  },
  {
   "cell_type": "code",
   "execution_count": 5,
   "metadata": {},
   "outputs": [
    {
     "data": {
      "text/html": [
       "<div>\n",
       "<style scoped>\n",
       "    .dataframe tbody tr th:only-of-type {\n",
       "        vertical-align: middle;\n",
       "    }\n",
       "\n",
       "    .dataframe tbody tr th {\n",
       "        vertical-align: top;\n",
       "    }\n",
       "\n",
       "    .dataframe thead th {\n",
       "        text-align: right;\n",
       "    }\n",
       "</style>\n",
       "<table border=\"1\" class=\"dataframe\">\n",
       "  <thead>\n",
       "    <tr style=\"text-align: right;\">\n",
       "      <th></th>\n",
       "      <th>key</th>\n",
       "      <th>project</th>\n",
       "      <th>sprint.completeDate</th>\n",
       "      <th>sprint.endDate</th>\n",
       "      <th>sprint.id</th>\n",
       "      <th>sprint.name</th>\n",
       "      <th>sprint.startDate</th>\n",
       "      <th>sprint.state</th>\n",
       "    </tr>\n",
       "  </thead>\n",
       "  <tbody>\n",
       "    <tr>\n",
       "      <th>0</th>\n",
       "      <td>XD-3744</td>\n",
       "      <td>xd</td>\n",
       "      <td>2016-02-26T16:32:18.620Z</td>\n",
       "      <td>2016-02-26T08:34:00.000Z</td>\n",
       "      <td>108</td>\n",
       "      <td>Sprint 68</td>\n",
       "      <td>2016-02-16T00:38:45.289Z</td>\n",
       "      <td>CLOSED</td>\n",
       "    </tr>\n",
       "    <tr>\n",
       "      <th>1</th>\n",
       "      <td>XD-3743</td>\n",
       "      <td>xd</td>\n",
       "      <td>2016-02-26T16:32:18.620Z</td>\n",
       "      <td>2016-02-26T08:34:00.000Z</td>\n",
       "      <td>108</td>\n",
       "      <td>Sprint 68</td>\n",
       "      <td>2016-02-16T00:38:45.289Z</td>\n",
       "      <td>CLOSED</td>\n",
       "    </tr>\n",
       "    <tr>\n",
       "      <th>2</th>\n",
       "      <td>XD-3742</td>\n",
       "      <td>xd</td>\n",
       "      <td>2016-02-26T16:32:18.620Z</td>\n",
       "      <td>2016-02-26T08:34:00.000Z</td>\n",
       "      <td>108</td>\n",
       "      <td>Sprint 68</td>\n",
       "      <td>2016-02-16T00:38:45.289Z</td>\n",
       "      <td>CLOSED</td>\n",
       "    </tr>\n",
       "  </tbody>\n",
       "</table>\n",
       "</div>"
      ],
      "text/plain": [
       "       key project       sprint.completeDate            sprint.endDate  \\\n",
       "0  XD-3744      xd  2016-02-26T16:32:18.620Z  2016-02-26T08:34:00.000Z   \n",
       "1  XD-3743      xd  2016-02-26T16:32:18.620Z  2016-02-26T08:34:00.000Z   \n",
       "2  XD-3742      xd  2016-02-26T16:32:18.620Z  2016-02-26T08:34:00.000Z   \n",
       "\n",
       "   sprint.id sprint.name          sprint.startDate sprint.state  \n",
       "0        108   Sprint 68  2016-02-16T00:38:45.289Z       CLOSED  \n",
       "1        108   Sprint 68  2016-02-16T00:38:45.289Z       CLOSED  \n",
       "2        108   Sprint 68  2016-02-16T00:38:45.289Z       CLOSED  "
      ]
     },
     "execution_count": 5,
     "metadata": {},
     "output_type": "execute_result"
    }
   ],
   "source": [
    "sprints.head(3)"
   ]
  },
  {
   "cell_type": "code",
   "execution_count": 6,
   "metadata": {},
   "outputs": [
    {
     "data": {
      "text/html": [
       "<div>\n",
       "<style scoped>\n",
       "    .dataframe tbody tr th:only-of-type {\n",
       "        vertical-align: middle;\n",
       "    }\n",
       "\n",
       "    .dataframe tbody tr th {\n",
       "        vertical-align: top;\n",
       "    }\n",
       "\n",
       "    .dataframe thead th {\n",
       "        text-align: right;\n",
       "    }\n",
       "</style>\n",
       "<table border=\"1\" class=\"dataframe\">\n",
       "  <thead>\n",
       "    <tr style=\"text-align: right;\">\n",
       "      <th></th>\n",
       "      <th>Unnamed: 0</th>\n",
       "      <th>displayName</th>\n",
       "      <th>emailAddress</th>\n",
       "      <th>name</th>\n",
       "      <th>project</th>\n",
       "      <th>role</th>\n",
       "      <th>timeZone</th>\n",
       "    </tr>\n",
       "  </thead>\n",
       "  <tbody>\n",
       "    <tr>\n",
       "      <th>0</th>\n",
       "      <td>0</td>\n",
       "      <td>NaN</td>\n",
       "      <td>NaN</td>\n",
       "      <td>NaN</td>\n",
       "      <td>xd</td>\n",
       "      <td>assignee</td>\n",
       "      <td>NaN</td>\n",
       "    </tr>\n",
       "    <tr>\n",
       "      <th>1</th>\n",
       "      <td>2</td>\n",
       "      <td>Janne Valkealahti</td>\n",
       "      <td>janne dot valkealahti at gmail dot com</td>\n",
       "      <td>jvalkeal</td>\n",
       "      <td>xd</td>\n",
       "      <td>assignee</td>\n",
       "      <td>Europe/London</td>\n",
       "    </tr>\n",
       "    <tr>\n",
       "      <th>2</th>\n",
       "      <td>5</td>\n",
       "      <td>Gary Russell</td>\n",
       "      <td>grussell at gopivotal dot com</td>\n",
       "      <td>grussell</td>\n",
       "      <td>xd</td>\n",
       "      <td>assignee</td>\n",
       "      <td>America/New_York</td>\n",
       "    </tr>\n",
       "  </tbody>\n",
       "</table>\n",
       "</div>"
      ],
      "text/plain": [
       "   Unnamed: 0        displayName                            emailAddress  \\\n",
       "0           0                NaN                                     NaN   \n",
       "1           2  Janne Valkealahti  janne dot valkealahti at gmail dot com   \n",
       "2           5       Gary Russell           grussell at gopivotal dot com   \n",
       "\n",
       "       name project      role          timeZone  \n",
       "0       NaN      xd  assignee               NaN  \n",
       "1  jvalkeal      xd  assignee     Europe/London  \n",
       "2  grussell      xd  assignee  America/New_York  "
      ]
     },
     "execution_count": 6,
     "metadata": {},
     "output_type": "execute_result"
    }
   ],
   "source": [
    "users.head(3)"
   ]
  },
  {
   "cell_type": "code",
   "execution_count": 7,
   "metadata": {},
   "outputs": [
    {
     "data": {
      "text/html": [
       "<div>\n",
       "<style scoped>\n",
       "    .dataframe tbody tr th:only-of-type {\n",
       "        vertical-align: middle;\n",
       "    }\n",
       "\n",
       "    .dataframe tbody tr th {\n",
       "        vertical-align: top;\n",
       "    }\n",
       "\n",
       "    .dataframe thead th {\n",
       "        text-align: right;\n",
       "    }\n",
       "</style>\n",
       "<table border=\"1\" class=\"dataframe\">\n",
       "  <thead>\n",
       "    <tr style=\"text-align: right;\">\n",
       "      <th></th>\n",
       "      <th>author</th>\n",
       "      <th>created</th>\n",
       "      <th>field</th>\n",
       "      <th>fieldtype</th>\n",
       "      <th>from</th>\n",
       "      <th>fromString</th>\n",
       "      <th>key</th>\n",
       "      <th>project</th>\n",
       "      <th>to</th>\n",
       "      <th>toString</th>\n",
       "    </tr>\n",
       "  </thead>\n",
       "  <tbody>\n",
       "    <tr>\n",
       "      <th>0</th>\n",
       "      <td>jvalkeal</td>\n",
       "      <td>2016-03-03 18:40:53.171</td>\n",
       "      <td>status</td>\n",
       "      <td>jira</td>\n",
       "      <td>10000</td>\n",
       "      <td>To Do</td>\n",
       "      <td>XD-3751</td>\n",
       "      <td>xd</td>\n",
       "      <td>3</td>\n",
       "      <td>In Progress</td>\n",
       "    </tr>\n",
       "    <tr>\n",
       "      <th>1</th>\n",
       "      <td>jvalkeal</td>\n",
       "      <td>2016-03-03 18:41:19.429</td>\n",
       "      <td>Pull Request URL</td>\n",
       "      <td>custom</td>\n",
       "      <td>NaN</td>\n",
       "      <td>NaN</td>\n",
       "      <td>XD-3751</td>\n",
       "      <td>xd</td>\n",
       "      <td>NaN</td>\n",
       "      <td>https://github.com/spring-projects/spring-xd/p...</td>\n",
       "    </tr>\n",
       "    <tr>\n",
       "      <th>2</th>\n",
       "      <td>jvalkeal</td>\n",
       "      <td>2016-03-03 18:41:19.429</td>\n",
       "      <td>status</td>\n",
       "      <td>jira</td>\n",
       "      <td>3</td>\n",
       "      <td>In Progress</td>\n",
       "      <td>XD-3751</td>\n",
       "      <td>xd</td>\n",
       "      <td>10006</td>\n",
       "      <td>In PR</td>\n",
       "    </tr>\n",
       "  </tbody>\n",
       "</table>\n",
       "</div>"
      ],
      "text/plain": [
       "     author                  created             field fieldtype   from  \\\n",
       "0  jvalkeal  2016-03-03 18:40:53.171            status      jira  10000   \n",
       "1  jvalkeal  2016-03-03 18:41:19.429  Pull Request URL    custom    NaN   \n",
       "2  jvalkeal  2016-03-03 18:41:19.429            status      jira      3   \n",
       "\n",
       "    fromString      key project     to  \\\n",
       "0        To Do  XD-3751      xd      3   \n",
       "1          NaN  XD-3751      xd    NaN   \n",
       "2  In Progress  XD-3751      xd  10006   \n",
       "\n",
       "                                            toString  \n",
       "0                                        In Progress  \n",
       "1  https://github.com/spring-projects/spring-xd/p...  \n",
       "2                                              In PR  "
      ]
     },
     "execution_count": 7,
     "metadata": {},
     "output_type": "execute_result"
    }
   ],
   "source": [
    "changelog.head(3)"
   ]
  },
  {
   "cell_type": "markdown",
   "metadata": {},
   "source": [
    "\n",
    "<h3>1.1 Check the datasets for the manually written textual values</h3>\n",
    "<h5>1.1.1 within 'changelog' take two examplary row values from each unique field, store into dataframe, export into csv and check manually</h5>"
   ]
  },
  {
   "cell_type": "code",
   "execution_count": 8,
   "metadata": {},
   "outputs": [
    {
     "data": {
      "text/html": [
       "<div>\n",
       "<style scoped>\n",
       "    .dataframe tbody tr th:only-of-type {\n",
       "        vertical-align: middle;\n",
       "    }\n",
       "\n",
       "    .dataframe tbody tr th {\n",
       "        vertical-align: top;\n",
       "    }\n",
       "\n",
       "    .dataframe thead th {\n",
       "        text-align: right;\n",
       "    }\n",
       "</style>\n",
       "<table border=\"1\" class=\"dataframe\">\n",
       "  <thead>\n",
       "    <tr style=\"text-align: right;\">\n",
       "      <th></th>\n",
       "      <th>id</th>\n",
       "      <th>field</th>\n",
       "      <th>from</th>\n",
       "      <th>to</th>\n",
       "      <th>fromString</th>\n",
       "      <th>toString</th>\n",
       "    </tr>\n",
       "  </thead>\n",
       "  <tbody>\n",
       "    <tr>\n",
       "      <th>0</th>\n",
       "      <td>1</td>\n",
       "      <td>status</td>\n",
       "      <td>0          To Do\n",
       "2    In Progress\n",
       "Name: fromSt...</td>\n",
       "      <td>0    In Progress\n",
       "2          In PR\n",
       "Name: toStri...</td>\n",
       "      <td>0    10000\n",
       "2        3\n",
       "Name: from, dtype: object</td>\n",
       "      <td>0        3\n",
       "2    10006\n",
       "Name: to, dtype: object</td>\n",
       "    </tr>\n",
       "    <tr>\n",
       "      <th>1</th>\n",
       "      <td>2</td>\n",
       "      <td>Pull Request URL</td>\n",
       "      <td>1     NaN\n",
       "13    NaN\n",
       "Name: fromString, dtype: o...</td>\n",
       "      <td>1     https://github.com/spring-projects/sprin...</td>\n",
       "      <td>1     NaN\n",
       "13    NaN\n",
       "Name: from, dtype: object</td>\n",
       "      <td>1     NaN\n",
       "13    NaN\n",
       "Name: to, dtype: object</td>\n",
       "    </tr>\n",
       "    <tr>\n",
       "      <th>2</th>\n",
       "      <td>3</td>\n",
       "      <td>summary</td>\n",
       "      <td>3    Can completely remove module after puttin...</td>\n",
       "      <td>3    Can completely remove custom module after...</td>\n",
       "      <td>3    NaN\n",
       "5    NaN\n",
       "Name: from, dtype: object</td>\n",
       "      <td>3    NaN\n",
       "5    NaN\n",
       "Name: to, dtype: object</td>\n",
       "    </tr>\n",
       "    <tr>\n",
       "      <th>3</th>\n",
       "      <td>4</td>\n",
       "      <td>issuetype</td>\n",
       "      <td>4     Story\n",
       "17    Story\n",
       "Name: fromString, dtyp...</td>\n",
       "      <td>4             Bug\n",
       "17    Improvement\n",
       "Name: toSt...</td>\n",
       "      <td>4     8\n",
       "17    8\n",
       "Name: from, dtype: object</td>\n",
       "      <td>4     1\n",
       "17    4\n",
       "Name: to, dtype: object</td>\n",
       "    </tr>\n",
       "    <tr>\n",
       "      <th>4</th>\n",
       "      <td>5</td>\n",
       "      <td>description</td>\n",
       "      <td>7    Custom conversion is broken.\\r\\r\\n\\r\\r\\nI...</td>\n",
       "      <td>7    Custom conversion is broken.\\r\\r\\n\\r\\r\\nI...</td>\n",
       "      <td>7    NaN\n",
       "8    NaN\n",
       "Name: from, dtype: object</td>\n",
       "      <td>7    NaN\n",
       "8    NaN\n",
       "Name: to, dtype: object</td>\n",
       "    </tr>\n",
       "  </tbody>\n",
       "</table>\n",
       "</div>"
      ],
      "text/plain": [
       "   id             field                                               from  \\\n",
       "0   1            status  0          To Do\n",
       "2    In Progress\n",
       "Name: fromSt...   \n",
       "1   2  Pull Request URL  1     NaN\n",
       "13    NaN\n",
       "Name: fromString, dtype: o...   \n",
       "2   3           summary  3    Can completely remove module after puttin...   \n",
       "3   4         issuetype  4     Story\n",
       "17    Story\n",
       "Name: fromString, dtyp...   \n",
       "4   5       description  7    Custom conversion is broken.\\r\\r\\n\\r\\r\\nI...   \n",
       "\n",
       "                                                  to  \\\n",
       "0  0    In Progress\n",
       "2          In PR\n",
       "Name: toStri...   \n",
       "1  1     https://github.com/spring-projects/sprin...   \n",
       "2  3    Can completely remove custom module after...   \n",
       "3  4             Bug\n",
       "17    Improvement\n",
       "Name: toSt...   \n",
       "4  7    Custom conversion is broken.\\r\\r\\n\\r\\r\\nI...   \n",
       "\n",
       "                                        fromString  \\\n",
       "0  0    10000\n",
       "2        3\n",
       "Name: from, dtype: object   \n",
       "1    1     NaN\n",
       "13    NaN\n",
       "Name: from, dtype: object   \n",
       "2      3    NaN\n",
       "5    NaN\n",
       "Name: from, dtype: object   \n",
       "3        4     8\n",
       "17    8\n",
       "Name: from, dtype: object   \n",
       "4      7    NaN\n",
       "8    NaN\n",
       "Name: from, dtype: object   \n",
       "\n",
       "                                        toString  \n",
       "0  0        3\n",
       "2    10006\n",
       "Name: to, dtype: object  \n",
       "1    1     NaN\n",
       "13    NaN\n",
       "Name: to, dtype: object  \n",
       "2      3    NaN\n",
       "5    NaN\n",
       "Name: to, dtype: object  \n",
       "3        4     1\n",
       "17    4\n",
       "Name: to, dtype: object  \n",
       "4      7    NaN\n",
       "8    NaN\n",
       "Name: to, dtype: object  "
      ]
     },
     "execution_count": 8,
     "metadata": {},
     "output_type": "execute_result"
    }
   ],
   "source": [
    "# declare the empty series\n",
    "i_row = []\n",
    "field_row = []\n",
    "from_row = []\n",
    "to_row = []\n",
    "from_string_row = []\n",
    "to_string_row = []\n",
    "\n",
    "# loop through each unique field, take top two values from the columns 'fromString', 'toString', 'from' and 'to'\n",
    "# append these two values to the respective series\n",
    "# create dataframe 'df' with these filled series, and export it to .csv file, and check it manually.\n",
    "i = 1\n",
    "for field in changelog['field'].unique():\n",
    "    from_str = changelog[changelog['field'] == field]['fromString'].head(2)\n",
    "    from_ = changelog[changelog['field'] == field]['from'].head(2)\n",
    "    to_str = changelog[changelog['field'] == field]['toString'].head(2)\n",
    "    to_ = changelog[changelog['field'] == field]['to'].head(2)\n",
    "    i_row.append(i)\n",
    "    field_row.append(field)\n",
    "    from_row.append(from_str)\n",
    "    to_row.append(to_str)\n",
    "    from_string_row.append(from_)\n",
    "    to_string_row.append(to_)\n",
    "    i = i + 1\n",
    "df = pd.DataFrame({'id':i_row,\n",
    "                   'field':field_row, \n",
    "                   'from':from_row, \n",
    "                   'to':to_row, \n",
    "                   'fromString':from_string_row, \n",
    "                   'toString':to_string_row })\n",
    "df.to_csv('fields_check.csv')\n",
    "df.head()"
   ]
  },
  {
   "cell_type": "markdown",
   "metadata": {},
   "source": [
    "**After checking the fields, detected the ones withthe written textual values:** <hr/>\n",
    "*'summary', 'description', 'Acceptance Criteria', 'Comment', 'Epic Name',\n",
    " 'Out of Scope', 'QA Test Plan', 'Epic/Theme', 'Migration Impact', 'Business Value'*"
   ]
  },
  {
   "cell_type": "markdown",
   "metadata": {},
   "source": [
    "<h3> 1.2 Prepare 'changelog' dataset with needed columns  </h3> <hr/>\n",
    "Since the jira tasks dataset only have one reporter for each jira task, we need to find the author of actual changes of the textual fields with change log file, as in changelog every action is stored and the author of the change is tracked. "
   ]
  },
  {
   "cell_type": "code",
   "execution_count": 9,
   "metadata": {},
   "outputs": [
    {
     "name": "stderr",
     "output_type": "stream",
     "text": [
      "C:\\ProgramData\\Anaconda3\\lib\\site-packages\\ipykernel_launcher.py:12: SettingWithCopyWarning: \n",
      "A value is trying to be set on a copy of a slice from a DataFrame.\n",
      "Try using .loc[row_indexer,col_indexer] = value instead\n",
      "\n",
      "See the caveats in the documentation: http://pandas.pydata.org/pandas-docs/stable/indexing.html#indexing-view-versus-copy\n",
      "  if sys.path[0] == '':\n"
     ]
    },
    {
     "data": {
      "text/html": [
       "<div>\n",
       "<style scoped>\n",
       "    .dataframe tbody tr th:only-of-type {\n",
       "        vertical-align: middle;\n",
       "    }\n",
       "\n",
       "    .dataframe tbody tr th {\n",
       "        vertical-align: top;\n",
       "    }\n",
       "\n",
       "    .dataframe thead th {\n",
       "        text-align: right;\n",
       "    }\n",
       "</style>\n",
       "<table border=\"1\" class=\"dataframe\">\n",
       "  <thead>\n",
       "    <tr style=\"text-align: right;\">\n",
       "      <th></th>\n",
       "      <th>key</th>\n",
       "      <th>project</th>\n",
       "      <th>author</th>\n",
       "      <th>field</th>\n",
       "      <th>created</th>\n",
       "      <th>text</th>\n",
       "    </tr>\n",
       "  </thead>\n",
       "  <tbody>\n",
       "    <tr>\n",
       "      <th>3</th>\n",
       "      <td>XD-3750</td>\n",
       "      <td>xd</td>\n",
       "      <td>aliiqbal</td>\n",
       "      <td>summary</td>\n",
       "      <td>2016-02-29 10:00:55.086</td>\n",
       "      <td>Can completely remove custom module after putt...</td>\n",
       "    </tr>\n",
       "    <tr>\n",
       "      <th>5</th>\n",
       "      <td>XD-3750</td>\n",
       "      <td>xd</td>\n",
       "      <td>aliiqbal</td>\n",
       "      <td>summary</td>\n",
       "      <td>2016-02-29 10:03:14.662</td>\n",
       "      <td>Can completely remove custom module after putt...</td>\n",
       "    </tr>\n",
       "    <tr>\n",
       "      <th>6</th>\n",
       "      <td>XD-3750</td>\n",
       "      <td>xd</td>\n",
       "      <td>aliiqbal</td>\n",
       "      <td>summary</td>\n",
       "      <td>2016-03-13 10:24:15.636</td>\n",
       "      <td>Cant completely remove custom module after put...</td>\n",
       "    </tr>\n",
       "    <tr>\n",
       "      <th>7</th>\n",
       "      <td>XD-3749</td>\n",
       "      <td>xd</td>\n",
       "      <td>grussell</td>\n",
       "      <td>description</td>\n",
       "      <td>2016-02-26 15:59:57.698</td>\n",
       "      <td>Custom conversion is broken.\\r\\r\\n\\r\\r\\nIf the...</td>\n",
       "    </tr>\n",
       "    <tr>\n",
       "      <th>8</th>\n",
       "      <td>XD-3749</td>\n",
       "      <td>xd</td>\n",
       "      <td>grussell</td>\n",
       "      <td>description</td>\n",
       "      <td>2016-02-26 16:01:28.028</td>\n",
       "      <td>Custom conversion is broken.\\r\\r\\n\\r\\r\\nIf the...</td>\n",
       "    </tr>\n",
       "  </tbody>\n",
       "</table>\n",
       "</div>"
      ],
      "text/plain": [
       "       key project    author        field                  created  \\\n",
       "3  XD-3750      xd  aliiqbal      summary  2016-02-29 10:00:55.086   \n",
       "5  XD-3750      xd  aliiqbal      summary  2016-02-29 10:03:14.662   \n",
       "6  XD-3750      xd  aliiqbal      summary  2016-03-13 10:24:15.636   \n",
       "7  XD-3749      xd  grussell  description  2016-02-26 15:59:57.698   \n",
       "8  XD-3749      xd  grussell  description  2016-02-26 16:01:28.028   \n",
       "\n",
       "                                                text  \n",
       "3  Can completely remove custom module after putt...  \n",
       "5  Can completely remove custom module after putt...  \n",
       "6  Cant completely remove custom module after put...  \n",
       "7  Custom conversion is broken.\\r\\r\\n\\r\\r\\nIf the...  \n",
       "8  Custom conversion is broken.\\r\\r\\n\\r\\r\\nIf the...  "
      ]
     },
     "execution_count": 9,
     "metadata": {},
     "output_type": "execute_result"
    }
   ],
   "source": [
    "# filter changelog with the textual fields\n",
    "log_filtered = changelog[changelog['field'].isin(['summary', 'description', 'Acceptance Criteria', 'Comment', 'Epic Name',\n",
    " 'Out of Scope', 'QA Test Plan', 'Epic/Theme', 'Migration Impact', 'Business Value'])]\n",
    "\n",
    "# take only necessary columns - key (Jira task unique key-name), project (one of the eight project codes), \n",
    "# author (author of change), field (what field has been changed), created (date of the change action),\n",
    "# toString (what textual value was assigned to the field), \n",
    "# and from(what was the value of the field, this only works for comments)\n",
    "\n",
    "cols = ['key', 'project', 'author', 'field', 'created', 'toString', 'from']\n",
    "log_cols = log_filtered[cols].copy(deep=True)\n",
    "log_cols[log_cols['field']!='Comment']['from'] = np.NaN\n",
    "log_cols['text'] = log_cols['from'].combine_first(log_cols['toString'])\n",
    "\n",
    "newcols = ['key', 'project', 'author', 'field', 'created', 'text']\n",
    "log_cols = log_cols[newcols]\n",
    "log_cols.head()"
   ]
  },
  {
   "cell_type": "code",
   "execution_count": null,
   "metadata": {},
   "outputs": [],
   "source": []
  },
  {
   "cell_type": "markdown",
   "metadata": {},
   "source": [
    "<h3> 1.3. Get the unique textual values </h3> \n",
    "<br>discard all the duplicated texts, keep only the latest edits of the fields"
   ]
  },
  {
   "cell_type": "code",
   "execution_count": 10,
   "metadata": {},
   "outputs": [
    {
     "name": "stdout",
     "output_type": "stream",
     "text": [
      "12280 9050 9050\n"
     ]
    }
   ],
   "source": [
    "#1. in descriptions: only leave the latest edited descriptions per unique project key. \n",
    "###(get uniques issues, join log with 'project', 'key', 'status' and get the lates onr by created date.)\n",
    "log_grouped = log_cols.groupby((['project', 'key', 'field', 'author'])).agg({'created':'max'})\n",
    "log_grouped.reset_index(level= [0,1,2], inplace=True)\n",
    "\n",
    "latest_logs_from_issues = pd.merge(log_cols, log_grouped, how = 'inner',\n",
    "                                   left_on = ['project', 'key', 'field', 'created'],\n",
    "                                   right_on = ['project', 'key', 'field', 'created'])\n",
    "\n",
    "print(log_cols.shape[0], log_grouped.shape[0], latest_logs_from_issues.shape[0]) \n",
    "log_cols = latest_logs_from_issues"
   ]
  },
  {
   "cell_type": "code",
   "execution_count": null,
   "metadata": {},
   "outputs": [],
   "source": []
  },
  {
   "cell_type": "code",
   "execution_count": null,
   "metadata": {},
   "outputs": [],
   "source": []
  },
  {
   "cell_type": "code",
   "execution_count": 11,
   "metadata": {},
   "outputs": [
    {
     "data": {
      "text/html": [
       "<div>\n",
       "<style scoped>\n",
       "    .dataframe tbody tr th:only-of-type {\n",
       "        vertical-align: middle;\n",
       "    }\n",
       "\n",
       "    .dataframe tbody tr th {\n",
       "        vertical-align: top;\n",
       "    }\n",
       "\n",
       "    .dataframe thead th {\n",
       "        text-align: right;\n",
       "    }\n",
       "</style>\n",
       "<table border=\"1\" class=\"dataframe\">\n",
       "  <thead>\n",
       "    <tr style=\"text-align: right;\">\n",
       "      <th></th>\n",
       "      <th>key</th>\n",
       "      <th>project</th>\n",
       "      <th>author</th>\n",
       "      <th>field</th>\n",
       "      <th>created</th>\n",
       "      <th>text</th>\n",
       "    </tr>\n",
       "  </thead>\n",
       "  <tbody>\n",
       "    <tr>\n",
       "      <th>0</th>\n",
       "      <td>XD-3750</td>\n",
       "      <td>xd</td>\n",
       "      <td>aliiqbal</td>\n",
       "      <td>summary</td>\n",
       "      <td>2016-03-13 10:24:15.636</td>\n",
       "      <td>Cant completely remove custom module after put...</td>\n",
       "    </tr>\n",
       "    <tr>\n",
       "      <th>1</th>\n",
       "      <td>XD-3749</td>\n",
       "      <td>xd</td>\n",
       "      <td>grussell</td>\n",
       "      <td>description</td>\n",
       "      <td>2016-02-26 16:01:28.028</td>\n",
       "      <td>Custom conversion is broken.\\r\\r\\n\\r\\r\\nIf the...</td>\n",
       "    </tr>\n",
       "    <tr>\n",
       "      <th>2</th>\n",
       "      <td>XD-3748</td>\n",
       "      <td>xd</td>\n",
       "      <td>dgarcia</td>\n",
       "      <td>description</td>\n",
       "      <td>2016-02-24 10:51:45.747</td>\n",
       "      <td>If I try to use &lt;int:message-history/&gt; when de...</td>\n",
       "    </tr>\n",
       "  </tbody>\n",
       "</table>\n",
       "</div>"
      ],
      "text/plain": [
       "       key project    author        field                  created  \\\n",
       "0  XD-3750      xd  aliiqbal      summary  2016-03-13 10:24:15.636   \n",
       "1  XD-3749      xd  grussell  description  2016-02-26 16:01:28.028   \n",
       "2  XD-3748      xd   dgarcia  description  2016-02-24 10:51:45.747   \n",
       "\n",
       "                                                text  \n",
       "0  Cant completely remove custom module after put...  \n",
       "1  Custom conversion is broken.\\r\\r\\n\\r\\r\\nIf the...  \n",
       "2  If I try to use <int:message-history/> when de...  "
      ]
     },
     "execution_count": 11,
     "metadata": {},
     "output_type": "execute_result"
    }
   ],
   "source": [
    "# let's export the dataset before cleaning values, to compare afterwards.\n",
    "log_cols.to_csv('original_text_cols.csv')\n",
    "log_cols.head(3)"
   ]
  },
  {
   "cell_type": "markdown",
   "metadata": {},
   "source": [
    "<h3>1.4 Clean the texts from the unwanted parts and characters </h3> <br>\n",
    "Develoeprs tend to write the code snippets, error messages, system logs and traces and other kinds of technical information into the Jira system. On the other hand, to get the personality insights from the texts written by the developers, we need to have clean texts, therefore we need to detect and remove all the unneccessary parts from the texts."
   ]
  },
  {
   "cell_type": "code",
   "execution_count": 12,
   "metadata": {},
   "outputs": [],
   "source": [
    "# remove the whitespaces. \n",
    "#### ----  Clean the texts: remove the bad characters / similar to trim\n",
    "log_cols['text'] = log_cols['text'].str.replace('\\n', ' ')\n",
    "log_cols['text'] = log_cols['text'].str.replace('\\r', ' ')\n",
    "log_cols['text'] = log_cols['text'].str.replace('\\t', ' ')\n",
    "log_cols['text'] = log_cols['text'].str.replace('\\s', ' ')"
   ]
  },
  {
   "cell_type": "code",
   "execution_count": 13,
   "metadata": {},
   "outputs": [],
   "source": [
    "### --- Clean the texts: \n",
    "def removeCodeSnippet(text):\n",
    "    text = str(text).replace('&nbsp;', ' ')\n",
    "    text = str(text).replace('sp_executesql', ' ')\n",
    "    text = str(text).replace('exec', ' ')\n",
    "    # remove not formatted code and trace part\n",
    "    text = re.sub(\"{noformat}(.+?){noformat}\", '', str(text)) \n",
    "    # remove code snippet (Both, {code} and {code: [programming language]}:\n",
    "    text = re.sub(\"{code(.+?){code}\", '', str(text)) \n",
    "    # remove html tags:\n",
    "    text = re.sub(\"<(.+?)>\", '', str(text))\n",
    "    # remove another type code snippets:\n",
    "    text = re.sub(\"{{(.+?)}}\", '', str(text))\n",
    "    #remove tags\n",
    "    text = re.sub(\"{(.+?)}\", '', str(text))\n",
    "    #remove java calls \n",
    "    text = re.sub('\"jdbc(.+?)\"', \" \", str(text))\n",
    "    # remove module calls\n",
    "    text = re.sub('\"module(.+?)\"', '', str(text)) \n",
    "    # remove job calls\n",
    "    text = re.sub('\"job(.+?)\"', '', str(text)) \n",
    "    # remove SQL Begin-end transactions\n",
    "    text = re.sub('\\s*(B|b)(egin|EGIN)\\s+.+\\s+(E|e)(nd|ND)\\s*', '', str(text))\n",
    "    # remove SQL SELECT Statements\n",
    "    text = re.sub('\\s*(s|S)(elect|ELECT).+(f|F)(rom|ROM)\\s*\\S+(\\s*(w|W)(here|HERE)\\s*\\S+\\s*\\S*\\s*\\S*\\s|)', ' ', str(text))\n",
    "    # remove SQL INSERT statements\n",
    "    text = re.sub('\\s*(I|I)(nsert|NSERT)\\s*(I|i)(nto|NTO)\\s+.+(V|v)(alues|ALUES)\\s*.+\\(.+\\)\\s*', ' ', str(text)) \n",
    "    # remove SQL DELETE statements\n",
    "    text = re.sub('\\s*(d|D)(elete|ELETE)\\s*(f|F)(rom|ROM)\\s*\\S+(\\s*(w|W)(here|HERE)\\s*\\S+\\s*\\S*\\s*\\S*\\s|)', '***', str(text)) \n",
    "    # remove system version information part\n",
    "    text = re.sub('[*][*][*]Version(.+?)[*][*][*]', '***', str(text)) \n",
    "    # remove deployment system descriptions\n",
    "    text = re.sub('[*][*][*]Describe XD Deployment(.+?)[*][*][*]', '***', str(text)) \n",
    "    #remove system component descriptions\n",
    "    text = re.sub('[*][*][*]Describe Other Components(.+?)[*][*][*]', '***', str(text)) \n",
    "    # remove system generated headers within description\n",
    "    text = text.replace('***Description', '')\n",
    "    text = text.replace('***Steps to recreate the problem', '')\n",
    "    text = text.replace('***Error Message:', '')\n",
    "    # remove square brakets with one word in it (since they are tags)\n",
    "    text = re.sub('\\[([^[\\]{}()]+?)\\]', '', str(text))\n",
    "    #remove web links:\n",
    "    text = re.sub('http[s]?://\\S+', ' ', str(text))\n",
    "    #remove local path links (with slashes)\n",
    "    text = re.sub('\\S+?(?=\\/)\\/\\S*\\/\\S*', ' ', str(text))\n",
    "    #remove local path links (with backslashes)\n",
    "    text = re.sub(r'\\S+?(?=\\\\)\\\\\\S*\\\\\\S*', \" \", str(text))    \n",
    "    #remove logs within asterisks\n",
    "    text = re.sub('\\*{50,}(.+?)\\*{50,}', ' ', str(text)) \n",
    "    text = re.sub('\\*+(.+?)\\*+', ' ', str(text))\n",
    "    #remove text with more than 18 character, that usually are the command codes. \n",
    "    text = re.sub('.\\S{15,}.', \" \", str(text))  \n",
    "    # remove email addresses and commands containing @ (mainly used as sql function parameter)\n",
    "    text = re.sub('(\\s|\\S+(?=@))@\\S*', \" \", str(text))\n",
    "    #remove  call commands with \"--\"\n",
    "    text = re.sub(\"--(\\s{0,1})\\S*\", '', str(text))\n",
    "    #remove  call commands with \"-\" - PROBLEM it can also delete normal words that are listed\n",
    "    #text = re.sub(\"-\\S*\", '', str(text))\n",
    "    # remove call commands with \"--\"\n",
    "    text = re.sub(\"~(\\s{0,1})\\S*\", '', str(text))\n",
    "    # remove sql SELECT statements\n",
    "    text = re.sub('SELECT\\s\\S+\\sFROM\\s\\S+\\s(WHERE\\s\\S+\\s\\S+\\s\\S|)*', '', str(text))\n",
    "    # remove websites and one dotted version numbers\n",
    "    text = re.sub('\\S+\\.\\S+', '', str(text))\n",
    "    # remove words containing :\n",
    "    text = re.sub('\\S+\\:\\S+', '', str(text))\n",
    "    # remove command words and versions\n",
    "    text = re.sub('\\S*(_|-|:|\\.)\\S*(_|-|:|\\.)\\S+', '', str(text))\n",
    "    # remove multiple 'at' left after the code snippets cleaning\n",
    "    text = text.replace('at at ', ' ') \n",
    "    #remove multiple whitespaces (needed for removing 'at at' texts, regex is the next command below)\n",
    "    text = re.sub(\"\\s{2,}\", ' ', str(text))\n",
    "    # remove multiple 'at'\n",
    "    text = re.sub('at\\sat\\s', ' ', str(text))\n",
    "    # remove the non-textual characters\n",
    "    text = re.sub(r'(\\||~|=|>|_|\\[|\\]|{|}|--|\\/|\\\\|#)', ' ', str(text))\n",
    "    # remove non-unicode characters\n",
    "    text = re.sub(r'[^\\x00-\\x7F]+','', text)\n",
    "    # remove dates:\n",
    "    text = re.sub('[0-9][0-9](-|\\\\|.|\\/| )([0-9][0-9]|Jan|Feb|Mar|Apr|May|Jun|Jul|Aug|Sep|Oct|Nov|Dec)(-|\\\\|.|\\/| )[0-9][0-9][0-9][0-9] [0-9][0-9]:[0-9][0-9]:[0-9][0-9]', \" \", str(text))\n",
    "    text = re.sub('[0-9][0-9](-|\\\\|.|\\/| )([0-9][0-9]|Jan|Feb|Mar|Apr|May|Jun|Jul|Aug|Sep|Oct|Nov|Dec)(-|\\\\|.|\\/| )[0-9][0-9][0-9][0-9]', \" \", str(text))\n",
    "    text = re.sub('[0-9][0-9](-|\\\\|.|\\/| )([0-9][0-9]|Jan|Feb|Mar|Apr|May|Jun|Jul|Aug|Sep|Oct|Nov|Dec)(-|\\\\|.|\\/| )[0-9][0-9]', \" \", str(text))\n",
    "    text = re.sub('[0-9][0-9][0-9][0-9](-|\\\\|.|\\/| )([0-9][0-9]|Jan|Feb|Mar|Apr|May|Jun|Jul|Aug|Sep|Oct|Nov|Dec)(-|\\\\|.|\\/| )[0-9][0-9] [0-9][0-9]:[0-9][0-9]:[0-9][0-9]', \" \", str(text))\n",
    "    text = re.sub('[0-9][0-9][0-9][0-9](-|\\\\|.|\\/| )([0-9][0-9]|Jan|Feb|Mar|Apr|May|Jun|Jul|Aug|Sep|Oct|Nov|Dec)(-|\\\\|.|\\/| )[0-9][0-9]', \" \", str(text))\n",
    "    #remove multiple whitespaces\n",
    "    text = re.sub(\"\\s{2,}\", ' ', str(text))\n",
    "    \n",
    "    return text"
   ]
  },
  {
   "cell_type": "code",
   "execution_count": null,
   "metadata": {},
   "outputs": [],
   "source": []
  },
  {
   "cell_type": "code",
   "execution_count": null,
   "metadata": {},
   "outputs": [],
   "source": []
  },
  {
   "cell_type": "markdown",
   "metadata": {},
   "source": [
    "apply defined cleaning regex functions to actual text"
   ]
  },
  {
   "cell_type": "code",
   "execution_count": 14,
   "metadata": {},
   "outputs": [],
   "source": [
    "log_cols['text'] = log_cols['text'].apply(removeCodeSnippet)\n",
    "log_cols['text'] = log_cols['text'].apply(lambda x: str.strip(x))"
   ]
  },
  {
   "cell_type": "code",
   "execution_count": 15,
   "metadata": {},
   "outputs": [
    {
     "name": "stdout",
     "output_type": "stream",
     "text": [
      "field\n",
      "Acceptance Criteria      97\n",
      "Business Value            1\n",
      "Comment                 522\n",
      "Epic Name                57\n",
      "Epic/Theme              414\n",
      "Migration Impact          6\n",
      "Out of Scope             10\n",
      "QA Test Plan             21\n",
      "description            4227\n",
      "summary                3695\n",
      "dtype: int64\n"
     ]
    }
   ],
   "source": [
    "#Check the number of rows per field type\n",
    "print(log_cols.groupby('field').size())"
   ]
  },
  {
   "cell_type": "markdown",
   "metadata": {},
   "source": [
    "Based on the number of values, we can ignore all the fields except ***Description, summary and comments***\n",
    "let's export and manually check each of these separately"
   ]
  },
  {
   "cell_type": "code",
   "execution_count": 16,
   "metadata": {},
   "outputs": [],
   "source": [
    "log_cols = log_cols[log_cols['field'].isin(['summary', 'description', 'Comment',\n",
    "                                            'Acceptance Criteria', 'Migration Impact', 'QA Test Plan', 'Out of Scope'])]\n",
    "# create datasets for each field type\n",
    "descriptions = log_cols[log_cols['field'] == 'description']\n",
    "summaries = log_cols[log_cols['field'] == 'summary']\n",
    "comments = log_cols[log_cols['field'] == 'Comment']"
   ]
  },
  {
   "cell_type": "markdown",
   "metadata": {},
   "source": [
    "<h3> 1.5 filter the dataset rows </h3> <hr/>\n",
    "Add the text length column into the combined dataframe"
   ]
  },
  {
   "cell_type": "code",
   "execution_count": 17,
   "metadata": {},
   "outputs": [
    {
     "name": "stderr",
     "output_type": "stream",
     "text": [
      "C:\\ProgramData\\Anaconda3\\lib\\site-packages\\ipykernel_launcher.py:2: SettingWithCopyWarning: \n",
      "A value is trying to be set on a copy of a slice from a DataFrame.\n",
      "Try using .loc[row_indexer,col_indexer] = value instead\n",
      "\n",
      "See the caveats in the documentation: http://pandas.pydata.org/pandas-docs/stable/indexing.html#indexing-view-versus-copy\n",
      "  \n"
     ]
    }
   ],
   "source": [
    "# detect very long texts. likely, these are log traces, we can eliminate from them.\n",
    "log_cols['textLength'] = log_cols['text'].str.len()"
   ]
  },
  {
   "cell_type": "markdown",
   "metadata": {},
   "source": [
    "Check dataset for visible outliers "
   ]
  },
  {
   "cell_type": "code",
   "execution_count": 18,
   "metadata": {},
   "outputs": [
    {
     "data": {
      "text/html": [
       "<div>\n",
       "<style scoped>\n",
       "    .dataframe tbody tr th:only-of-type {\n",
       "        vertical-align: middle;\n",
       "    }\n",
       "\n",
       "    .dataframe tbody tr th {\n",
       "        vertical-align: top;\n",
       "    }\n",
       "\n",
       "    .dataframe thead th {\n",
       "        text-align: right;\n",
       "    }\n",
       "</style>\n",
       "<table border=\"1\" class=\"dataframe\">\n",
       "  <thead>\n",
       "    <tr style=\"text-align: right;\">\n",
       "      <th></th>\n",
       "      <th>key</th>\n",
       "      <th>project</th>\n",
       "      <th>author</th>\n",
       "      <th>field</th>\n",
       "      <th>created</th>\n",
       "      <th>text</th>\n",
       "      <th>textLength</th>\n",
       "    </tr>\n",
       "  </thead>\n",
       "  <tbody>\n",
       "    <tr>\n",
       "      <th>3923</th>\n",
       "      <td>MESOS-830</td>\n",
       "      <td>mesos</td>\n",
       "      <td>greggomann</td>\n",
       "      <td>description</td>\n",
       "      <td>2015-08-03 21:14:43.067</td>\n",
       "      <td>Identify the cause of the following test failu...</td>\n",
       "      <td>13503</td>\n",
       "    </tr>\n",
       "    <tr>\n",
       "      <th>1861</th>\n",
       "      <td>DNN-7299</td>\n",
       "      <td>dnn</td>\n",
       "      <td>zyhfish</td>\n",
       "      <td>description</td>\n",
       "      <td>2015-07-28 02:39:58.500</td>\n",
       "      <td>Clean build warnings in platform solution. War...</td>\n",
       "      <td>8622</td>\n",
       "    </tr>\n",
       "    <tr>\n",
       "      <th>3801</th>\n",
       "      <td>MESOS-2324</td>\n",
       "      <td>mesos</td>\n",
       "      <td>xujyan</td>\n",
       "      <td>description</td>\n",
       "      <td>2015-02-09 21:26:05.755</td>\n",
       "      <td>Using temporary directory I0206 15065 Opened d...</td>\n",
       "      <td>7666</td>\n",
       "    </tr>\n",
       "    <tr>\n",
       "      <th>2763</th>\n",
       "      <td>APSTUD-4677</td>\n",
       "      <td>apstud</td>\n",
       "      <td>ingo</td>\n",
       "      <td>description</td>\n",
       "      <td>2012-04-23 11:32:44</td>\n",
       "      <td>I've already tried to start Aptana as administ...</td>\n",
       "      <td>7001</td>\n",
       "    </tr>\n",
       "    <tr>\n",
       "      <th>7794</th>\n",
       "      <td>TISTUD-6258</td>\n",
       "      <td>tistud</td>\n",
       "      <td>cwilliams</td>\n",
       "      <td>Comment</td>\n",
       "      <td>2014-07-10 14:08:40</td>\n",
       "      <td>Unless I'm missing it, there is no way to atta...</td>\n",
       "      <td>6599</td>\n",
       "    </tr>\n",
       "    <tr>\n",
       "      <th>2689</th>\n",
       "      <td>APSTUD-4842</td>\n",
       "      <td>apstud</td>\n",
       "      <td>cwilliams</td>\n",
       "      <td>description</td>\n",
       "      <td>2012-05-29 11:13:24.000</td>\n",
       "      <td>Option JSHint Option a label ' ' is a statemen...</td>\n",
       "      <td>5648</td>\n",
       "    </tr>\n",
       "    <tr>\n",
       "      <th>2157</th>\n",
       "      <td>DNN-5978</td>\n",
       "      <td>dnn</td>\n",
       "      <td>francesco.rivola</td>\n",
       "      <td>description</td>\n",
       "      <td>2015-12-11 16:27:32.060</td>\n",
       "      <td>- Installed with CE - Log in as Host, in Host ...</td>\n",
       "      <td>4121</td>\n",
       "    </tr>\n",
       "    <tr>\n",
       "      <th>1877</th>\n",
       "      <td>DNN-7231</td>\n",
       "      <td>dnn</td>\n",
       "      <td>KenGrierson</td>\n",
       "      <td>Comment</td>\n",
       "      <td>2015-08-21 18:00:19.634</td>\n",
       "      <td>Upload a few dozen .txt files with unique file...</td>\n",
       "      <td>4093</td>\n",
       "    </tr>\n",
       "    <tr>\n",
       "      <th>5691</th>\n",
       "      <td>TIMOB-18956</td>\n",
       "      <td>timob</td>\n",
       "      <td>patakijv</td>\n",
       "      <td>description</td>\n",
       "      <td>2015-05-26 21:42:06</td>\n",
       "      <td>The documentation confirms that this is missin...</td>\n",
       "      <td>3635</td>\n",
       "    </tr>\n",
       "    <tr>\n",
       "      <th>1640</th>\n",
       "      <td>DNN-8141</td>\n",
       "      <td>dnn</td>\n",
       "      <td>george.alatrash</td>\n",
       "      <td>description</td>\n",
       "      <td>2015-12-22 00:45:21.859</td>\n",
       "      <td>A moniker is a simple name provided for an obj...</td>\n",
       "      <td>3537</td>\n",
       "    </tr>\n",
       "    <tr>\n",
       "      <th>2919</th>\n",
       "      <td>APSTUD-4113</td>\n",
       "      <td>apstud</td>\n",
       "      <td>klindsey</td>\n",
       "      <td>description</td>\n",
       "      <td>2012-05-17 13:38:37</td>\n",
       "      <td>refactor out utility classes to determine if a...</td>\n",
       "      <td>3284</td>\n",
       "    </tr>\n",
       "    <tr>\n",
       "      <th>4510</th>\n",
       "      <td>NEXUS-8883</td>\n",
       "      <td>nexus</td>\n",
       "      <td>jtom</td>\n",
       "      <td>description</td>\n",
       "      <td>2015-06-18 21:08:21.659</td>\n",
       "      <td>Testing NEXUS-8846, I noticed that sorting by ...</td>\n",
       "      <td>3208</td>\n",
       "    </tr>\n",
       "    <tr>\n",
       "      <th>2691</th>\n",
       "      <td>APSTUD-4840</td>\n",
       "      <td>apstud</td>\n",
       "      <td>neill</td>\n",
       "      <td>description</td>\n",
       "      <td>2012-05-21 06:16:55.000</td>\n",
       "      <td>This is a clone of bug APSTUD 4661 as I made t...</td>\n",
       "      <td>3188</td>\n",
       "    </tr>\n",
       "    <tr>\n",
       "      <th>1605</th>\n",
       "      <td>DNN-8530</td>\n",
       "      <td>dnn</td>\n",
       "      <td>KenGrierson</td>\n",
       "      <td>description</td>\n",
       "      <td>2016-04-06 21:01:23.972</td>\n",
       "      <td>Install InBone (Issimo Digital) customer site ...</td>\n",
       "      <td>2869</td>\n",
       "    </tr>\n",
       "    <tr>\n",
       "      <th>4428</th>\n",
       "      <td>NEXUS-9221</td>\n",
       "      <td>nexus</td>\n",
       "      <td>jtom</td>\n",
       "      <td>description</td>\n",
       "      <td>2015-09-23 17:54:15.312</td>\n",
       "      <td>Running proxy test against NX3, I found that I...</td>\n",
       "      <td>2776</td>\n",
       "    </tr>\n",
       "    <tr>\n",
       "      <th>2492</th>\n",
       "      <td>DNN-3344</td>\n",
       "      <td>dnn</td>\n",
       "      <td>Alexey.tregub</td>\n",
       "      <td>description</td>\n",
       "      <td>2013-08-14 17:57:59.894</td>\n",
       "      <td>Inconsistent behaviour of Update page URL butt...</td>\n",
       "      <td>2751</td>\n",
       "    </tr>\n",
       "    <tr>\n",
       "      <th>3874</th>\n",
       "      <td>MESOS-1817</td>\n",
       "      <td>mesos</td>\n",
       "      <td>nnielsen</td>\n",
       "      <td>description</td>\n",
       "      <td>2014-09-19 00:18:32.272</td>\n",
       "      <td>We have run into a problem that cause tasks wh...</td>\n",
       "      <td>2689</td>\n",
       "    </tr>\n",
       "    <tr>\n",
       "      <th>3587</th>\n",
       "      <td>MESOS-3072</td>\n",
       "      <td>mesos</td>\n",
       "      <td>arojas</td>\n",
       "      <td>description</td>\n",
       "      <td>2015-08-12 14:39:54.428</td>\n",
       "      <td>As it stands right now, default of modularized...</td>\n",
       "      <td>2664</td>\n",
       "    </tr>\n",
       "    <tr>\n",
       "      <th>2499</th>\n",
       "      <td>DNN-3263</td>\n",
       "      <td>dnn</td>\n",
       "      <td>philip.beadle</td>\n",
       "      <td>description</td>\n",
       "      <td>2013-08-05 22:46:53.636</td>\n",
       "      <td>Developers who want to build extensions for th...</td>\n",
       "      <td>2650</td>\n",
       "    </tr>\n",
       "    <tr>\n",
       "      <th>2361</th>\n",
       "      <td>DNN-4246</td>\n",
       "      <td>dnn</td>\n",
       "      <td>Alexey.tregub</td>\n",
       "      <td>description</td>\n",
       "      <td>2013-12-03 00:50:56.244</td>\n",
       "      <td>The page permission UI behavior is confusing (...</td>\n",
       "      <td>2630</td>\n",
       "    </tr>\n",
       "  </tbody>\n",
       "</table>\n",
       "</div>"
      ],
      "text/plain": [
       "              key project            author        field  \\\n",
       "3923    MESOS-830   mesos        greggomann  description   \n",
       "1861     DNN-7299     dnn           zyhfish  description   \n",
       "3801   MESOS-2324   mesos            xujyan  description   \n",
       "2763  APSTUD-4677  apstud              ingo  description   \n",
       "7794  TISTUD-6258  tistud         cwilliams      Comment   \n",
       "2689  APSTUD-4842  apstud         cwilliams  description   \n",
       "2157     DNN-5978     dnn  francesco.rivola  description   \n",
       "1877     DNN-7231     dnn       KenGrierson      Comment   \n",
       "5691  TIMOB-18956   timob          patakijv  description   \n",
       "1640     DNN-8141     dnn   george.alatrash  description   \n",
       "2919  APSTUD-4113  apstud          klindsey  description   \n",
       "4510   NEXUS-8883   nexus              jtom  description   \n",
       "2691  APSTUD-4840  apstud             neill  description   \n",
       "1605     DNN-8530     dnn       KenGrierson  description   \n",
       "4428   NEXUS-9221   nexus              jtom  description   \n",
       "2492     DNN-3344     dnn     Alexey.tregub  description   \n",
       "3874   MESOS-1817   mesos          nnielsen  description   \n",
       "3587   MESOS-3072   mesos            arojas  description   \n",
       "2499     DNN-3263     dnn     philip.beadle  description   \n",
       "2361     DNN-4246     dnn     Alexey.tregub  description   \n",
       "\n",
       "                      created  \\\n",
       "3923  2015-08-03 21:14:43.067   \n",
       "1861  2015-07-28 02:39:58.500   \n",
       "3801  2015-02-09 21:26:05.755   \n",
       "2763      2012-04-23 11:32:44   \n",
       "7794      2014-07-10 14:08:40   \n",
       "2689  2012-05-29 11:13:24.000   \n",
       "2157  2015-12-11 16:27:32.060   \n",
       "1877  2015-08-21 18:00:19.634   \n",
       "5691      2015-05-26 21:42:06   \n",
       "1640  2015-12-22 00:45:21.859   \n",
       "2919      2012-05-17 13:38:37   \n",
       "4510  2015-06-18 21:08:21.659   \n",
       "2691  2012-05-21 06:16:55.000   \n",
       "1605  2016-04-06 21:01:23.972   \n",
       "4428  2015-09-23 17:54:15.312   \n",
       "2492  2013-08-14 17:57:59.894   \n",
       "3874  2014-09-19 00:18:32.272   \n",
       "3587  2015-08-12 14:39:54.428   \n",
       "2499  2013-08-05 22:46:53.636   \n",
       "2361  2013-12-03 00:50:56.244   \n",
       "\n",
       "                                                   text  textLength  \n",
       "3923  Identify the cause of the following test failu...       13503  \n",
       "1861  Clean build warnings in platform solution. War...        8622  \n",
       "3801  Using temporary directory I0206 15065 Opened d...        7666  \n",
       "2763  I've already tried to start Aptana as administ...        7001  \n",
       "7794  Unless I'm missing it, there is no way to atta...        6599  \n",
       "2689  Option JSHint Option a label ' ' is a statemen...        5648  \n",
       "2157  - Installed with CE - Log in as Host, in Host ...        4121  \n",
       "1877  Upload a few dozen .txt files with unique file...        4093  \n",
       "5691  The documentation confirms that this is missin...        3635  \n",
       "1640  A moniker is a simple name provided for an obj...        3537  \n",
       "2919  refactor out utility classes to determine if a...        3284  \n",
       "4510  Testing NEXUS-8846, I noticed that sorting by ...        3208  \n",
       "2691  This is a clone of bug APSTUD 4661 as I made t...        3188  \n",
       "1605  Install InBone (Issimo Digital) customer site ...        2869  \n",
       "4428  Running proxy test against NX3, I found that I...        2776  \n",
       "2492  Inconsistent behaviour of Update page URL butt...        2751  \n",
       "3874  We have run into a problem that cause tasks wh...        2689  \n",
       "3587  As it stands right now, default of modularized...        2664  \n",
       "2499  Developers who want to build extensions for th...        2650  \n",
       "2361  The page permission UI behavior is confusing (...        2630  "
      ]
     },
     "execution_count": 18,
     "metadata": {},
     "output_type": "execute_result"
    }
   ],
   "source": [
    "log_cols.sort_values('textLength', ascending=False).head(20)"
   ]
  },
  {
   "cell_type": "code",
   "execution_count": 19,
   "metadata": {},
   "outputs": [],
   "source": [
    "#remove outliers\n",
    "# I have checked them manually, \n",
    "#these are the ones that the text cleaning functions could not properly clean and contain mostly the code snippet or logs\n",
    "#log_cols = log_cols.drop([3923, 1861, 3801, 2763, 7794, 2157])"
   ]
  },
  {
   "cell_type": "markdown",
   "metadata": {},
   "source": [
    "Export dataset to csv file and explore manually"
   ]
  },
  {
   "cell_type": "code",
   "execution_count": 20,
   "metadata": {},
   "outputs": [],
   "source": [
    "log_cols.to_csv('log_cols.csv')"
   ]
  },
  {
   "cell_type": "markdown",
   "metadata": {},
   "source": [
    "Plot the distribution of all text lengths.\n",
    "also let's take a look at the distribution of the text lengths which falls in the top 90% of all values, the bottom 10% of the values and the ones that fall in between."
   ]
  },
  {
   "cell_type": "code",
   "execution_count": 197,
   "metadata": {},
   "outputs": [
    {
     "name": "stdout",
     "output_type": "stream",
     "text": [
      "nr of rows from 5% to 95%:  7707\n",
      "nr of rows above 95% and minimum length of them:  429 839\n",
      "nr of rows below 5% and maximum length of them:  442 24\n",
      "Total number of rows in dataset 8578\n"
     ]
    }
   ],
   "source": [
    "cut_val = round((int(log_cols.shape[0]) * 0.05))\n",
    "cut_val_top_length = log_cols.sort_values('textLength', ascending=False).head(cut_val).iloc[cut_val-1].textLength\n",
    "cut_val_bottom_length = log_cols.sort_values('textLength', ascending=True).head(cut_val).iloc[cut_val-1].textLength\n",
    "\n",
    "print('nr of rows from 5% to 95%: ', log_cols[(log_cols['textLength']<cut_val_top_length) & (log_cols['textLength']>cut_val_bottom_length)].shape[0])\n",
    "print('nr of rows above 95% and minimum length of them: ', log_cols[log_cols['textLength']>=cut_val_top_length].shape[0], cut_val_top_length)\n",
    "print('nr of rows below 5% and maximum length of them: ',log_cols[log_cols['textLength']<=cut_val_bottom_length].shape[0], cut_val_bottom_length)\n",
    "print('Total number of rows in dataset', log_cols.shape[0])"
   ]
  },
  {
   "cell_type": "markdown",
   "metadata": {},
   "source": [
    "Define the histogram plot function that shows percentage of each bin"
   ]
  },
  {
   "cell_type": "code",
   "execution_count": 198,
   "metadata": {},
   "outputs": [],
   "source": [
    "def hist_with_perc(_data1, _bins1, _title1, _xlabel, _ylabel, _color,\n",
    "                  _data2, _bins2, _title2, \n",
    "                  _data3, _bins3, _title3, \n",
    "                  _data4, _bins4, _title4):\n",
    "\n",
    "    fig = plt.figure(figsize=(16, 10))\n",
    "    for i in range(0, 4):\n",
    "        if i ==0:\n",
    "            _data=_data1\n",
    "            _bins=_bins1\n",
    "            _title=_title1\n",
    "        elif i ==1:\n",
    "            _data=_data2\n",
    "            _bins=_bins2\n",
    "            _title=_title2\n",
    "        elif i ==2:\n",
    "            _data=_data3\n",
    "            _bins=_bins3\n",
    "            _title=_title3\n",
    "        elif i ==3:\n",
    "            _data=_data4\n",
    "            _bins=_bins4\n",
    "            _title=_title4\n",
    "        ax = fig.add_subplot(2,2,i+1)\n",
    "        counts, bins, patches = ax.hist(_data, facecolor=_color, edgecolor='gray', bins=_bins)\n",
    "        ax.set_xticks(bins.round(0))\n",
    "        plt.xticks(rotation=45)\n",
    "        plt.title(_title, fontsize=20)\n",
    "        plt.ylabel(_ylabel, fontsize=15)\n",
    "        plt.xlabel(_xlabel, fontsize=15)\n",
    "        plt.subplots_adjust(bottom=0.15, hspace=0.5)\n",
    "        bin_x_centers = 0.5 * np.diff(bins) + bins[:-1]\n",
    "        bin_y_centers = ax.get_yticks()[1] * 0.25\n",
    "        for i in range(len(bins)-1):\n",
    "            bin_label = \"{0:,}\".format(counts[i]) + \"  ({0:,.2f}%)\".format((counts[i]/counts.sum())*100)\n",
    "            plt.text(bin_x_centers[i], bin_y_centers, bin_label, rotation=90, rotation_mode='anchor')\n",
    "    plt.show()    "
   ]
  },
  {
   "cell_type": "code",
   "execution_count": 199,
   "metadata": {},
   "outputs": [
    {
     "data": {
      "image/png": "[encoded data removed]",
      "text/plain": [
       "<Figure size 1152x720 with 4 Axes>"
      ]
     },
     "metadata": {
      "needs_background": "light"
     },
     "output_type": "display_data"
    }
   ],
   "source": [
    "hist_with_perc(log_cols['textLength'], 15,'text lengths \\n in the whole dataset','text length','Count','lightblue'\n",
    "            , log_cols[log_cols['textLength']>=cut_val_top_length]['textLength'],15,'the longest 5%  texts lengths \\n in the dataset'\n",
    "            , log_cols[log_cols['textLength']<=cut_val_bottom_length]['textLength'],15,'shortest 5%  texts lengths \\n in the dataset'\n",
    "            , log_cols[(log_cols['textLength']<cut_val_top_length)&(log_cols['textLength']>cut_val_bottom_length)].textLength,15,'the texts between 5%-95% percentile length \\n in the dataset')"
   ]
  },
  {
   "cell_type": "markdown",
   "metadata": {},
   "source": [
    "**After analysis, need to decide to remove certain percent of the longest and shortest texts.**\n",
    "Currently, plan to remove top 1% and bottom 2% of rows. \n",
    "<hr/>\n",
    "*Remove the rows which have too long and too short texts code below*"
   ]
  },
  {
   "cell_type": "code",
   "execution_count": 200,
   "metadata": {},
   "outputs": [
    {
     "name": "stdout",
     "output_type": "stream",
     "text": [
      "Total number of rows in dataset: 8578\n",
      "Number of top 1% of the rows:  86\n",
      "Number of bottom 2% of the rows:  172\n",
      "length of the text, above which to filter out the rows:  1504\n",
      "length of the text, below which to filter out the rows:  13\n"
     ]
    }
   ],
   "source": [
    "#detect the number of rows that fall in top % and bottom %\n",
    "top= 0.01\n",
    "bottom = 0.02\n",
    "cutoff_percent_top = round((int(log_cols.shape[0]) * top))\n",
    "cutoff_percent_bottom = round((int(log_cols.shape[0]) * bottom))\n",
    "print('Total number of rows in dataset:', str(log_cols.shape[0]))\n",
    "print('Number of top '+str(round(top*100))+'% of the rows: ', str(cutoff_percent_top))\n",
    "print('Number of bottom '+str(round(bottom*100))+'% of the rows: ', str(cutoff_percent_bottom))\n",
    "\n",
    "value_Longest = log_cols.sort_values('textLength', ascending=False).head(cutoff_percent_top).iloc[cutoff_percent_top-1].textLength\n",
    "value_shortest = log_cols.sort_values('textLength', ascending=True).head(cutoff_percent_bottom).iloc[cutoff_percent_bottom-1].textLength\n",
    "\n",
    "print('length of the text, above which to filter out the rows: ', str(value_Longest))\n",
    "print('length of the text, below which to filter out the rows: ', str(value_shortest))\n",
    "\n",
    "#log_cols[log_cols['textLength']<=value_shortest].to_csv('shortest_3pct.csv')\n",
    "#log_cols[log_cols['textLength']>=value_Longest].to_csv('longest_7pct.csv')"
   ]
  },
  {
   "cell_type": "code",
   "execution_count": 28,
   "metadata": {},
   "outputs": [],
   "source": [
    "log_cut = log_cols[(log_cols['textLength']>value_shortest) & (log_cols['textLength']<value_Longest)]"
   ]
  },
  {
   "cell_type": "markdown",
   "metadata": {},
   "source": [
    "<h3> 1.6 Combine all texts by developers </h3><br>\n",
    "group the texts together that are manually written by the same developer in the same project. The whole texts willbe used as an input for third-party personality insights API. "
   ]
  },
  {
   "cell_type": "code",
   "execution_count": 29,
   "metadata": {},
   "outputs": [
    {
     "name": "stdout",
     "output_type": "stream",
     "text": [
      "(618, 6)\n"
     ]
    },
    {
     "data": {
      "text/html": [
       "<div>\n",
       "<style scoped>\n",
       "    .dataframe tbody tr th:only-of-type {\n",
       "        vertical-align: middle;\n",
       "    }\n",
       "\n",
       "    .dataframe tbody tr th {\n",
       "        vertical-align: top;\n",
       "    }\n",
       "\n",
       "    .dataframe thead th {\n",
       "        text-align: right;\n",
       "    }\n",
       "</style>\n",
       "<table border=\"1\" class=\"dataframe\">\n",
       "  <thead>\n",
       "    <tr style=\"text-align: right;\">\n",
       "      <th></th>\n",
       "      <th>project</th>\n",
       "      <th>user</th>\n",
       "      <th>text</th>\n",
       "      <th>count_of_texts</th>\n",
       "      <th>words_in_text</th>\n",
       "      <th>texts_length</th>\n",
       "    </tr>\n",
       "  </thead>\n",
       "  <tbody>\n",
       "    <tr>\n",
       "      <th>0</th>\n",
       "      <td>xd</td>\n",
       "      <td>aliiqbal</td>\n",
       "      <td>Cant completely remove custom module after put...</td>\n",
       "      <td>1</td>\n",
       "      <td>9</td>\n",
       "      <td>64</td>\n",
       "    </tr>\n",
       "    <tr>\n",
       "      <th>1</th>\n",
       "      <td>xd</td>\n",
       "      <td>grussell</td>\n",
       "      <td>Custom conversion is broken. If the custom doe...</td>\n",
       "      <td>59</td>\n",
       "      <td>1891</td>\n",
       "      <td>11088</td>\n",
       "    </tr>\n",
       "    <tr>\n",
       "      <th>2</th>\n",
       "      <td>xd</td>\n",
       "      <td>dgarcia</td>\n",
       "      <td>If I try to use when developing a Spring XD mo...</td>\n",
       "      <td>1</td>\n",
       "      <td>30</td>\n",
       "      <td>152</td>\n",
       "    </tr>\n",
       "  </tbody>\n",
       "</table>\n",
       "</div>"
      ],
      "text/plain": [
       "  project      user                                               text  \\\n",
       "0      xd  aliiqbal  Cant completely remove custom module after put...   \n",
       "1      xd  grussell  Custom conversion is broken. If the custom doe...   \n",
       "2      xd   dgarcia  If I try to use when developing a Spring XD mo...   \n",
       "\n",
       "   count_of_texts  words_in_text  texts_length  \n",
       "0               1              9            64  \n",
       "1              59           1891         11088  \n",
       "2               1             30           152  "
      ]
     },
     "execution_count": 29,
     "metadata": {},
     "output_type": "execute_result"
    }
   ],
   "source": [
    "\n",
    "# loop through the projects, then through the authors and combine the texts written by the given author in the given project\n",
    "# store the project, author and text data into series and form a data frame.\n",
    "\n",
    "df_proj_name = []\n",
    "df_user_name = []\n",
    "df_user_text = []\n",
    "df_texts_count = []\n",
    "df_texts_length = []\n",
    "df_words_in_text = []\n",
    "for project in log_cut['project'].unique():\n",
    "    for dev_user in log_cut[log_cut['project']==project]['author'].unique():\n",
    "        user_txt = ''       \n",
    "        texts_count = 0\n",
    "        texts_length = 0\n",
    "        words_in_text = 0\n",
    "        curr_df = log_cut[(log_cut['project']==project) & (log_cut['author']==dev_user)]\n",
    "        for index, row in curr_df.iterrows():\n",
    "            user_txt = str(user_txt) + str(row['text']) + '. '\n",
    "            texts_count = texts_count + 1\n",
    "            texts_length = texts_length + len(row['text'])\n",
    "            words_in_text = words_in_text + len(row['text'].split()) \n",
    "        df_proj_name.append(project)\n",
    "        df_user_name.append(dev_user)\n",
    "        df_user_text.append(user_txt)\n",
    "        df_texts_count.append(texts_count)\n",
    "        df_texts_length.append(texts_length)\n",
    "        df_words_in_text.append(words_in_text)\n",
    "    \n",
    "user_text_combined = pd.DataFrame({'project':df_proj_name,\n",
    "                   'user':df_user_name, \n",
    "                   'text':df_user_text,\n",
    "                    'count_of_texts':df_texts_count,\n",
    "                    'words_in_text':df_words_in_text,\n",
    "                    'texts_length':df_texts_length})\n",
    "     \n",
    "user_text_combined.to_csv('user_text_combined.csv')\n",
    "print(user_text_combined.shape)\n",
    "user_text_combined.head(3)"
   ]
  },
  {
   "cell_type": "markdown",
   "metadata": {},
   "source": [
    "**<font color=\"red\">!!! Important notice</font>** IBM Watson says that minimum of 600 words are required for the proper personality report."
   ]
  },
  {
   "cell_type": "code",
   "execution_count": 31,
   "metadata": {},
   "outputs": [
    {
     "data": {
      "text/plain": [
       "108"
      ]
     },
     "execution_count": 31,
     "metadata": {},
     "output_type": "execute_result"
    }
   ],
   "source": [
    "user_text_combined[user_text_combined['words_in_text']>=600].shape[0]"
   ]
  },
  {
   "cell_type": "markdown",
   "metadata": {},
   "source": [
    "<h3>Combine the texts of the users, that are present in different projects.</h3>"
   ]
  },
  {
   "cell_type": "markdown",
   "metadata": {},
   "source": [
    "get the unique users per Name(displayName), Email(emailAddress), Username(name), Project(project)"
   ]
  },
  {
   "cell_type": "code",
   "execution_count": 32,
   "metadata": {},
   "outputs": [],
   "source": [
    "users_df = users[['displayName','emailAddress','name','project']]\n",
    "users_df = users_df[['displayName','emailAddress','name','project']].drop_duplicates()"
   ]
  },
  {
   "cell_type": "markdown",
   "metadata": {},
   "source": [
    "Merge the users dataframe with the user_texts dataframe with username and project code <br/>\n",
    "Clean the email addresses, to match one normalized format."
   ]
  },
  {
   "cell_type": "code",
   "execution_count": 33,
   "metadata": {},
   "outputs": [],
   "source": [
    "user_all_texts_emails = pd.merge(user_text_combined, users_df, how = 'left',\n",
    "                                   left_on = ['project', 'user'],\n",
    "                                   right_on = ['project', 'name'])[['project','user','text','count_of_texts','words_in_text','texts_length','emailAddress']]\n",
    "user_all_texts_emails['emailAddress'] = user_all_texts_emails['emailAddress'].str.replace(' dot org', '.org')\n",
    "user_all_texts_emails['emailAddress'] = user_all_texts_emails['emailAddress'].str.replace(' dot io', '.io')\n",
    "user_all_texts_emails['emailAddress'] = user_all_texts_emails['emailAddress'].str.replace(' dot me', '.me')\n",
    "user_all_texts_emails['emailAddress'] = user_all_texts_emails['emailAddress'].str.replace(' dot com', '.com')\n",
    "user_all_texts_emails['emailAddress'] = user_all_texts_emails['emailAddress'].str.replace(' dot fr', '.fr')\n",
    "user_all_texts_emails['emailAddress'] = user_all_texts_emails['emailAddress'].str.replace(' dot ', '.')\n",
    "user_all_texts_emails['emailAddress'] = user_all_texts_emails['emailAddress'].str.replace(' at ', '@')\n",
    "user_all_texts_emails['emailAddress'] = user_all_texts_emails['emailAddress'].str.replace(' ', '')"
   ]
  },
  {
   "cell_type": "markdown",
   "metadata": {},
   "source": [
    "Identify the users with emails, that are present in more than one project.<br/>\n",
    "Identify the users with emails, that are present in only one project. <br />\n",
    "identify the users with no emails.<br>\n",
    "For the users that are present in more than one project, combine texts from all projects, and update the number of words/textlength columns."
   ]
  },
  {
   "cell_type": "code",
   "execution_count": 34,
   "metadata": {},
   "outputs": [],
   "source": [
    "users_proj = user_all_texts_emails[['user', 'emailAddress', 'project']].groupby(['user', 'emailAddress']).count()\n",
    "users_proj.reset_index(level= [0,1], inplace=True)\n",
    "\n",
    "users_with_duplicates = users_proj[users_proj['project']>1][['user', 'emailAddress']]\n",
    "users_with_single = users_proj[users_proj['project']==1][['user', 'emailAddress']]\n",
    "users_with_single_noemail=user_all_texts_emails[pd.isnull(user_all_texts_emails.emailAddress)==True][['user', 'emailAddress']]\n",
    "\n",
    "for i in range(0, users_with_duplicates.shape[0]):\n",
    "    user_name = users_with_duplicates.iloc[i]['user']\n",
    "    user_email = users_with_duplicates.iloc[i]['emailAddress']   \n",
    "    df = (user_all_texts_emails[(user_all_texts_emails['user']==user_name) & (user_all_texts_emails['emailAddress']==user_email)])\n",
    "    text_=''\n",
    "    count_of_texts_=0\n",
    "    words_in_text_=0\n",
    "    texts_length_=0\n",
    "    for k in range(0, df.shape[0]):\n",
    "        text_ = text_ + df.iloc[k]['text']\n",
    "        count_of_texts_ = count_of_texts_ + df.iloc[k]['count_of_texts']\n",
    "        words_in_text_ = words_in_text_ + df.iloc[k]['words_in_text']\n",
    "        texts_length_ = texts_length_ + df.iloc[k]['texts_length']\n",
    "    user_all_texts_emails.loc[(user_all_texts_emails['user']==user_name) \n",
    "                              & (user_all_texts_emails['emailAddress']==user_email), 'text']=text_\n",
    "    user_all_texts_emails.loc[(user_all_texts_emails['user']==user_name) \n",
    "                              & (user_all_texts_emails['emailAddress']==user_email), 'count_of_texts']=count_of_texts_\n",
    "    user_all_texts_emails.loc[(user_all_texts_emails['user']==user_name) \n",
    "                              & (user_all_texts_emails['emailAddress']==user_email), 'words_in_text']=words_in_text_\n",
    "    user_all_texts_emails.loc[(user_all_texts_emails['user']==user_name) \n",
    "                              & (user_all_texts_emails['emailAddress']==user_email), 'texts_length']=texts_length_"
   ]
  },
  {
   "cell_type": "markdown",
   "metadata": {},
   "source": [
    "Check, after these changes, how many users are valid for IBM Watson Personality Insights check"
   ]
  },
  {
   "cell_type": "code",
   "execution_count": 35,
   "metadata": {},
   "outputs": [
    {
     "name": "stdout",
     "output_type": "stream",
     "text": [
      "before these changes:  108 \n",
      " after these changes:  136\n"
     ]
    }
   ],
   "source": [
    "print('before these changes: ', user_text_combined[user_text_combined['words_in_text']>=600].shape[0], '\\n',\n",
    "      'after these changes: ', user_all_texts_emails[user_all_texts_emails['words_in_text']>=600].shape[0])"
   ]
  },
  {
   "cell_type": "code",
   "execution_count": 36,
   "metadata": {},
   "outputs": [
    {
     "data": {
      "text/html": [
       "<div>\n",
       "<style scoped>\n",
       "    .dataframe tbody tr th:only-of-type {\n",
       "        vertical-align: middle;\n",
       "    }\n",
       "\n",
       "    .dataframe tbody tr th {\n",
       "        vertical-align: top;\n",
       "    }\n",
       "\n",
       "    .dataframe thead th {\n",
       "        text-align: right;\n",
       "    }\n",
       "</style>\n",
       "<table border=\"1\" class=\"dataframe\">\n",
       "  <thead>\n",
       "    <tr style=\"text-align: right;\">\n",
       "      <th></th>\n",
       "      <th>project</th>\n",
       "      <th>user</th>\n",
       "      <th>text</th>\n",
       "      <th>count_of_texts</th>\n",
       "      <th>words_in_text</th>\n",
       "      <th>texts_length</th>\n",
       "      <th>emailAddress</th>\n",
       "    </tr>\n",
       "  </thead>\n",
       "  <tbody>\n",
       "    <tr>\n",
       "      <th>1</th>\n",
       "      <td>xd</td>\n",
       "      <td>grussell</td>\n",
       "      <td>Custom conversion is broken. If the custom doe...</td>\n",
       "      <td>59</td>\n",
       "      <td>1891</td>\n",
       "      <td>11088</td>\n",
       "      <td>grussell@gopivotal.com</td>\n",
       "    </tr>\n",
       "    <tr>\n",
       "      <th>3</th>\n",
       "      <td>xd</td>\n",
       "      <td>mark.pollack</td>\n",
       "      <td>Update Spring-AMQP to RabbitMQ Client to. Enab...</td>\n",
       "      <td>340</td>\n",
       "      <td>6429</td>\n",
       "      <td>38305</td>\n",
       "      <td>mpollack@gopivotal.com</td>\n",
       "    </tr>\n",
       "    <tr>\n",
       "      <th>4</th>\n",
       "      <td>xd</td>\n",
       "      <td>david_geary</td>\n",
       "      <td>All modules that allow groovy (filter, script,...</td>\n",
       "      <td>7</td>\n",
       "      <td>886</td>\n",
       "      <td>5063</td>\n",
       "      <td>d.geary@sophiasearch.com</td>\n",
       "    </tr>\n",
       "    <tr>\n",
       "      <th>5</th>\n",
       "      <td>xd</td>\n",
       "      <td>dturanski</td>\n",
       "      <td>User provides a jar file exposing a custom bea...</td>\n",
       "      <td>57</td>\n",
       "      <td>1409</td>\n",
       "      <td>8615</td>\n",
       "      <td>dturanski@gopivotal.com</td>\n",
       "    </tr>\n",
       "    <tr>\n",
       "      <th>6</th>\n",
       "      <td>xd</td>\n",
       "      <td>sabby</td>\n",
       "      <td>Spring flo issue with unexpected char. As a de...</td>\n",
       "      <td>390</td>\n",
       "      <td>7131</td>\n",
       "      <td>41490</td>\n",
       "      <td>sanandan@pivotal.io</td>\n",
       "    </tr>\n",
       "  </tbody>\n",
       "</table>\n",
       "</div>"
      ],
      "text/plain": [
       "  project          user                                               text  \\\n",
       "1      xd      grussell  Custom conversion is broken. If the custom doe...   \n",
       "3      xd  mark.pollack  Update Spring-AMQP to RabbitMQ Client to. Enab...   \n",
       "4      xd   david_geary  All modules that allow groovy (filter, script,...   \n",
       "5      xd     dturanski  User provides a jar file exposing a custom bea...   \n",
       "6      xd         sabby  Spring flo issue with unexpected char. As a de...   \n",
       "\n",
       "   count_of_texts  words_in_text  texts_length              emailAddress  \n",
       "1              59           1891         11088    grussell@gopivotal.com  \n",
       "3             340           6429         38305    mpollack@gopivotal.com  \n",
       "4               7            886          5063  d.geary@sophiasearch.com  \n",
       "5              57           1409          8615   dturanski@gopivotal.com  \n",
       "6             390           7131         41490       sanandan@pivotal.io  "
      ]
     },
     "execution_count": 36,
     "metadata": {},
     "output_type": "execute_result"
    }
   ],
   "source": [
    "user_all_texts_emails[user_all_texts_emails['words_in_text']>=600].head()"
   ]
  },
  {
   "cell_type": "markdown",
   "metadata": {},
   "source": [
    "<h3> Identify duplicated users accounts and show the unique users that meet words coutn criteria of IBM Watson </h3>"
   ]
  },
  {
   "cell_type": "markdown",
   "metadata": {},
   "source": [
    "Get the users with texts that match IBM Watson criteria - minimum 600 words. "
   ]
  },
  {
   "cell_type": "code",
   "execution_count": 37,
   "metadata": {},
   "outputs": [],
   "source": [
    "valid_user_texts = user_all_texts_emails[user_all_texts_emails['words_in_text']>=600]"
   ]
  },
  {
   "cell_type": "code",
   "execution_count": 38,
   "metadata": {},
   "outputs": [
    {
     "name": "stdout",
     "output_type": "stream",
     "text": [
      "136\n"
     ]
    },
    {
     "data": {
      "text/html": [
       "<div>\n",
       "<style scoped>\n",
       "    .dataframe tbody tr th:only-of-type {\n",
       "        vertical-align: middle;\n",
       "    }\n",
       "\n",
       "    .dataframe tbody tr th {\n",
       "        vertical-align: top;\n",
       "    }\n",
       "\n",
       "    .dataframe thead th {\n",
       "        text-align: right;\n",
       "    }\n",
       "</style>\n",
       "<table border=\"1\" class=\"dataframe\">\n",
       "  <thead>\n",
       "    <tr style=\"text-align: right;\">\n",
       "      <th></th>\n",
       "      <th>project</th>\n",
       "      <th>user</th>\n",
       "      <th>text</th>\n",
       "      <th>count_of_texts</th>\n",
       "      <th>words_in_text</th>\n",
       "      <th>texts_length</th>\n",
       "      <th>emailAddress</th>\n",
       "    </tr>\n",
       "  </thead>\n",
       "  <tbody>\n",
       "    <tr>\n",
       "      <th>1</th>\n",
       "      <td>xd</td>\n",
       "      <td>grussell</td>\n",
       "      <td>Custom conversion is broken. If the custom doe...</td>\n",
       "      <td>59</td>\n",
       "      <td>1891</td>\n",
       "      <td>11088</td>\n",
       "      <td>grussell@gopivotal.com</td>\n",
       "    </tr>\n",
       "    <tr>\n",
       "      <th>3</th>\n",
       "      <td>xd</td>\n",
       "      <td>mark.pollack</td>\n",
       "      <td>Update Spring-AMQP to RabbitMQ Client to. Enab...</td>\n",
       "      <td>340</td>\n",
       "      <td>6429</td>\n",
       "      <td>38305</td>\n",
       "      <td>mpollack@gopivotal.com</td>\n",
       "    </tr>\n",
       "    <tr>\n",
       "      <th>4</th>\n",
       "      <td>xd</td>\n",
       "      <td>david_geary</td>\n",
       "      <td>All modules that allow groovy (filter, script,...</td>\n",
       "      <td>7</td>\n",
       "      <td>886</td>\n",
       "      <td>5063</td>\n",
       "      <td>d.geary@sophiasearch.com</td>\n",
       "    </tr>\n",
       "  </tbody>\n",
       "</table>\n",
       "</div>"
      ],
      "text/plain": [
       "  project          user                                               text  \\\n",
       "1      xd      grussell  Custom conversion is broken. If the custom doe...   \n",
       "3      xd  mark.pollack  Update Spring-AMQP to RabbitMQ Client to. Enab...   \n",
       "4      xd   david_geary  All modules that allow groovy (filter, script,...   \n",
       "\n",
       "   count_of_texts  words_in_text  texts_length              emailAddress  \n",
       "1              59           1891         11088    grussell@gopivotal.com  \n",
       "3             340           6429         38305    mpollack@gopivotal.com  \n",
       "4               7            886          5063  d.geary@sophiasearch.com  "
      ]
     },
     "execution_count": 38,
     "metadata": {},
     "output_type": "execute_result"
    }
   ],
   "source": [
    "print(valid_user_texts.shape[0])\n",
    "valid_user_texts.head(3)"
   ]
  },
  {
   "cell_type": "markdown",
   "metadata": {},
   "source": [
    "Some users have emailAddress value missing ('NaN'), we need to transform NaN value to '-' to make sure duplicates and group_by functions work properly."
   ]
  },
  {
   "cell_type": "code",
   "execution_count": 39,
   "metadata": {},
   "outputs": [
    {
     "name": "stdout",
     "output_type": "stream",
     "text": [
      "Total number of unique users in valid user texts dataset:  100\n"
     ]
    },
    {
     "name": "stderr",
     "output_type": "stream",
     "text": [
      "C:\\ProgramData\\Anaconda3\\lib\\site-packages\\pandas\\core\\indexing.py:543: SettingWithCopyWarning: \n",
      "A value is trying to be set on a copy of a slice from a DataFrame.\n",
      "Try using .loc[row_indexer,col_indexer] = value instead\n",
      "\n",
      "See the caveats in the documentation: http://pandas.pydata.org/pandas-docs/stable/indexing.html#indexing-view-versus-copy\n",
      "  self.obj[item] = s\n"
     ]
    },
    {
     "data": {
      "text/html": [
       "<div>\n",
       "<style scoped>\n",
       "    .dataframe tbody tr th:only-of-type {\n",
       "        vertical-align: middle;\n",
       "    }\n",
       "\n",
       "    .dataframe tbody tr th {\n",
       "        vertical-align: top;\n",
       "    }\n",
       "\n",
       "    .dataframe thead th {\n",
       "        text-align: right;\n",
       "    }\n",
       "</style>\n",
       "<table border=\"1\" class=\"dataframe\">\n",
       "  <thead>\n",
       "    <tr style=\"text-align: right;\">\n",
       "      <th></th>\n",
       "      <th>user</th>\n",
       "      <th>emailAddress</th>\n",
       "    </tr>\n",
       "  </thead>\n",
       "  <tbody>\n",
       "    <tr>\n",
       "      <th>1</th>\n",
       "      <td>grussell</td>\n",
       "      <td>grussell@gopivotal.com</td>\n",
       "    </tr>\n",
       "    <tr>\n",
       "      <th>3</th>\n",
       "      <td>mark.pollack</td>\n",
       "      <td>mpollack@gopivotal.com</td>\n",
       "    </tr>\n",
       "    <tr>\n",
       "      <th>4</th>\n",
       "      <td>david_geary</td>\n",
       "      <td>d.geary@sophiasearch.com</td>\n",
       "    </tr>\n",
       "  </tbody>\n",
       "</table>\n",
       "</div>"
      ],
      "text/plain": [
       "           user              emailAddress\n",
       "1      grussell    grussell@gopivotal.com\n",
       "3  mark.pollack    mpollack@gopivotal.com\n",
       "4   david_geary  d.geary@sophiasearch.com"
      ]
     },
     "execution_count": 39,
     "metadata": {},
     "output_type": "execute_result"
    }
   ],
   "source": [
    "valid_user_texts.loc[pd.isnull(valid_user_texts.emailAddress)==True,'emailAddress'] = '-'\n",
    "#valid_user_texts[['user','emailAddress']].drop_duplicates().to_csv('valid_users_unique.csv')\n",
    "print('Total number of unique users in valid user texts dataset: ', valid_user_texts[['user','emailAddress']].drop_duplicates().shape[0])\n",
    "valid_user_texts[['user','emailAddress']].drop_duplicates().head(3)"
   ]
  },
  {
   "cell_type": "markdown",
   "metadata": {},
   "source": [
    "Now, let's see the unique users per each project"
   ]
  },
  {
   "cell_type": "code",
   "execution_count": 40,
   "metadata": {},
   "outputs": [
    {
     "data": {
      "text/html": [
       "<div>\n",
       "<style scoped>\n",
       "    .dataframe tbody tr th:only-of-type {\n",
       "        vertical-align: middle;\n",
       "    }\n",
       "\n",
       "    .dataframe tbody tr th {\n",
       "        vertical-align: top;\n",
       "    }\n",
       "\n",
       "    .dataframe thead th {\n",
       "        text-align: right;\n",
       "    }\n",
       "</style>\n",
       "<table border=\"1\" class=\"dataframe\">\n",
       "  <thead>\n",
       "    <tr style=\"text-align: right;\">\n",
       "      <th></th>\n",
       "      <th>user</th>\n",
       "    </tr>\n",
       "    <tr>\n",
       "      <th>project</th>\n",
       "      <th></th>\n",
       "    </tr>\n",
       "  </thead>\n",
       "  <tbody>\n",
       "    <tr>\n",
       "      <th>tistud</th>\n",
       "      <td>33</td>\n",
       "    </tr>\n",
       "    <tr>\n",
       "      <th>timob</th>\n",
       "      <td>30</td>\n",
       "    </tr>\n",
       "    <tr>\n",
       "      <th>dnn</th>\n",
       "      <td>20</td>\n",
       "    </tr>\n",
       "    <tr>\n",
       "      <th>xd</th>\n",
       "      <td>15</td>\n",
       "    </tr>\n",
       "    <tr>\n",
       "      <th>mesos</th>\n",
       "      <td>12</td>\n",
       "    </tr>\n",
       "    <tr>\n",
       "      <th>nexus</th>\n",
       "      <td>11</td>\n",
       "    </tr>\n",
       "    <tr>\n",
       "      <th>apstud</th>\n",
       "      <td>10</td>\n",
       "    </tr>\n",
       "    <tr>\n",
       "      <th>mule</th>\n",
       "      <td>5</td>\n",
       "    </tr>\n",
       "  </tbody>\n",
       "</table>\n",
       "</div>"
      ],
      "text/plain": [
       "         user\n",
       "project      \n",
       "tistud     33\n",
       "timob      30\n",
       "dnn        20\n",
       "xd         15\n",
       "mesos      12\n",
       "nexus      11\n",
       "apstud     10\n",
       "mule        5"
      ]
     },
     "execution_count": 40,
     "metadata": {},
     "output_type": "execute_result"
    }
   ],
   "source": [
    "#valid_user_texts.groupby(['project']).count().to_csv('project_users.csv')\n",
    "valid_user_texts[['project', 'user']].groupby(['project']).count().sort_values('user', ascending=False)"
   ]
  },
  {
   "cell_type": "markdown",
   "metadata": {},
   "source": [
    "<h2>Prepare data for watson</h2>"
   ]
  },
  {
   "cell_type": "markdown",
   "metadata": {},
   "source": [
    "Get the unique users and their texts."
   ]
  },
  {
   "cell_type": "code",
   "execution_count": 41,
   "metadata": {},
   "outputs": [
    {
     "name": "stdout",
     "output_type": "stream",
     "text": [
      "100\n"
     ]
    },
    {
     "data": {
      "text/html": [
       "<div>\n",
       "<style scoped>\n",
       "    .dataframe tbody tr th:only-of-type {\n",
       "        vertical-align: middle;\n",
       "    }\n",
       "\n",
       "    .dataframe tbody tr th {\n",
       "        vertical-align: top;\n",
       "    }\n",
       "\n",
       "    .dataframe thead th {\n",
       "        text-align: right;\n",
       "    }\n",
       "</style>\n",
       "<table border=\"1\" class=\"dataframe\">\n",
       "  <thead>\n",
       "    <tr style=\"text-align: right;\">\n",
       "      <th></th>\n",
       "      <th>user</th>\n",
       "      <th>emailAddress</th>\n",
       "      <th>text</th>\n",
       "    </tr>\n",
       "  </thead>\n",
       "  <tbody>\n",
       "    <tr>\n",
       "      <th>1</th>\n",
       "      <td>grussell</td>\n",
       "      <td>grussell@gopivotal.com</td>\n",
       "      <td>Custom conversion is broken. If the custom doe...</td>\n",
       "    </tr>\n",
       "    <tr>\n",
       "      <th>3</th>\n",
       "      <td>mark.pollack</td>\n",
       "      <td>mpollack@gopivotal.com</td>\n",
       "      <td>Update Spring-AMQP to RabbitMQ Client to. Enab...</td>\n",
       "    </tr>\n",
       "    <tr>\n",
       "      <th>4</th>\n",
       "      <td>david_geary</td>\n",
       "      <td>d.geary@sophiasearch.com</td>\n",
       "      <td>All modules that allow groovy (filter, script,...</td>\n",
       "    </tr>\n",
       "    <tr>\n",
       "      <th>5</th>\n",
       "      <td>dturanski</td>\n",
       "      <td>dturanski@gopivotal.com</td>\n",
       "      <td>User provides a jar file exposing a custom bea...</td>\n",
       "    </tr>\n",
       "    <tr>\n",
       "      <th>6</th>\n",
       "      <td>sabby</td>\n",
       "      <td>sanandan@pivotal.io</td>\n",
       "      <td>Spring flo issue with unexpected char. As a de...</td>\n",
       "    </tr>\n",
       "  </tbody>\n",
       "</table>\n",
       "</div>"
      ],
      "text/plain": [
       "           user              emailAddress  \\\n",
       "1      grussell    grussell@gopivotal.com   \n",
       "3  mark.pollack    mpollack@gopivotal.com   \n",
       "4   david_geary  d.geary@sophiasearch.com   \n",
       "5     dturanski   dturanski@gopivotal.com   \n",
       "6         sabby       sanandan@pivotal.io   \n",
       "\n",
       "                                                text  \n",
       "1  Custom conversion is broken. If the custom doe...  \n",
       "3  Update Spring-AMQP to RabbitMQ Client to. Enab...  \n",
       "4  All modules that allow groovy (filter, script,...  \n",
       "5  User provides a jar file exposing a custom bea...  \n",
       "6  Spring flo issue with unexpected char. As a de...  "
      ]
     },
     "execution_count": 41,
     "metadata": {},
     "output_type": "execute_result"
    }
   ],
   "source": [
    "valid_user_texts_unique = valid_user_texts[['user','emailAddress', 'text']].drop_duplicates()\n",
    "print(valid_user_texts_unique.shape[0])\n",
    "valid_user_texts_unique.head()"
   ]
  },
  {
   "cell_type": "code",
   "execution_count": 42,
   "metadata": {},
   "outputs": [],
   "source": [
    "#valid_user_texts_unique.to_csv('valid_user_texts_unique.csv')"
   ]
  },
  {
   "cell_type": "code",
   "execution_count": 45,
   "metadata": {},
   "outputs": [
    {
     "data": {
      "text/html": [
       "<div>\n",
       "<style scoped>\n",
       "    .dataframe tbody tr th:only-of-type {\n",
       "        vertical-align: middle;\n",
       "    }\n",
       "\n",
       "    .dataframe tbody tr th {\n",
       "        vertical-align: top;\n",
       "    }\n",
       "\n",
       "    .dataframe thead th {\n",
       "        text-align: right;\n",
       "    }\n",
       "</style>\n",
       "<table border=\"1\" class=\"dataframe\">\n",
       "  <thead>\n",
       "    <tr style=\"text-align: right;\">\n",
       "      <th></th>\n",
       "      <th>user</th>\n",
       "      <th>emailAddress</th>\n",
       "      <th>text</th>\n",
       "    </tr>\n",
       "  </thead>\n",
       "  <tbody>\n",
       "    <tr>\n",
       "      <th>1</th>\n",
       "      <td>grussell</td>\n",
       "      <td>grussell@gopivotal.com</td>\n",
       "      <td>Custom conversion is broken. If the custom doe...</td>\n",
       "    </tr>\n",
       "    <tr>\n",
       "      <th>3</th>\n",
       "      <td>mark.pollack</td>\n",
       "      <td>mpollack@gopivotal.com</td>\n",
       "      <td>Update Spring-AMQP to RabbitMQ Client to. Enab...</td>\n",
       "    </tr>\n",
       "    <tr>\n",
       "      <th>4</th>\n",
       "      <td>david_geary</td>\n",
       "      <td>d.geary@sophiasearch.com</td>\n",
       "      <td>All modules that allow groovy (filter, script,...</td>\n",
       "    </tr>\n",
       "    <tr>\n",
       "      <th>5</th>\n",
       "      <td>dturanski</td>\n",
       "      <td>dturanski@gopivotal.com</td>\n",
       "      <td>User provides a jar file exposing a custom bea...</td>\n",
       "    </tr>\n",
       "    <tr>\n",
       "      <th>6</th>\n",
       "      <td>sabby</td>\n",
       "      <td>sanandan@pivotal.io</td>\n",
       "      <td>Spring flo issue with unexpected char. As a de...</td>\n",
       "    </tr>\n",
       "  </tbody>\n",
       "</table>\n",
       "</div>"
      ],
      "text/plain": [
       "           user              emailAddress  \\\n",
       "1      grussell    grussell@gopivotal.com   \n",
       "3  mark.pollack    mpollack@gopivotal.com   \n",
       "4   david_geary  d.geary@sophiasearch.com   \n",
       "5     dturanski   dturanski@gopivotal.com   \n",
       "6         sabby       sanandan@pivotal.io   \n",
       "\n",
       "                                                text  \n",
       "1  Custom conversion is broken. If the custom doe...  \n",
       "3  Update Spring-AMQP to RabbitMQ Client to. Enab...  \n",
       "4  All modules that allow groovy (filter, script,...  \n",
       "5  User provides a jar file exposing a custom bea...  \n",
       "6  Spring flo issue with unexpected char. As a de...  "
      ]
     },
     "execution_count": 45,
     "metadata": {},
     "output_type": "execute_result"
    }
   ],
   "source": [
    "valid_user_texts_unique.head()"
   ]
  },
  {
   "cell_type": "markdown",
   "metadata": {},
   "source": [
    "<h2> Get IBM Watson personality insight results </h2>"
   ]
  },
  {
   "cell_type": "code",
   "execution_count": 48,
   "metadata": {},
   "outputs": [
    {
     "data": {
      "text/plain": [
       "'\\nanother account credentials:\\nBFsOsCFLvQgZHLicoAj_ywnJ_92h0ry0gTgKudmuDmjm\\nhttps://gateway-lon.watsonplatform.net/personality-insights/api\\n'"
      ]
     },
     "execution_count": 48,
     "metadata": {},
     "output_type": "execute_result"
    }
   ],
   "source": [
    "from __future__ import print_function\n",
    "import json\n",
    "from os.path import join, dirname\n",
    "from ibm_watson import PersonalityInsightsV3\n",
    "import csv\n",
    "import os\n",
    "from datetime import datetime\n",
    "\n",
    "service = PersonalityInsightsV3(\n",
    "    version='2017-10-13',\n",
    "    ## url is optional, and defaults to the URL below. Use the correct URL for your region.\n",
    "    url='https://gateway-lon.watsonplatform.net/personality-insights/api',\n",
    "    iam_apikey='oUImnq_VXfyDypESNM8rmtJOpzUzg6Zsp_TnZxmwHotR')\n",
    "\n",
    "'''\n",
    "another account credentials:\n",
    "BFsOsCFLvQgZHLicoAj_ywnJ_92h0ry0gTgKudmuDmjm\n",
    "https://gateway-lon.watsonplatform.net/personality-insights/api\n",
    "'''"
   ]
  },
  {
   "cell_type": "code",
   "execution_count": null,
   "metadata": {},
   "outputs": [],
   "source": []
  },
  {
   "cell_type": "code",
   "execution_count": 49,
   "metadata": {},
   "outputs": [],
   "source": [
    "user_personalities = pd.DataFrame(columns=('user', 'emailAddress', \n",
    "                                           'openness', 'o_raw', 'o_sign',\n",
    "                                           'conscientiousness', 'c_raw', 'c_sign',\n",
    "                                           'extraversion', 'e_raw', 'e_sign',\n",
    "                                           'agreeableness', 'a_raw', 'a_sign',\n",
    "                                           'neuroticism', 'n_raw', 'n_sign'))\n",
    "\n",
    "for i in range(0, valid_user_texts_unique.shape[0]):\n",
    "    user_ = valid_user_texts_unique.iloc[i]['user']\n",
    "    email_ = valid_user_texts_unique.iloc[i]['emailAddress']\n",
    "    text_ = valid_user_texts_unique.iloc[i]['text']\n",
    "    \n",
    "    # define destination json structure Save input JSON file for each user \n",
    "    data = {}\n",
    "    data['contentItems'] = []\n",
    "    data['contentItems'].append({\n",
    "        'content': text_,\n",
    "        'contenttype': 'application/json',\n",
    "        'created': datetime.now().toordinal(),\n",
    "        'id': i,\n",
    "        'language':'en',\n",
    "        'user_name':user_,\n",
    "        'email':email_\n",
    "    })\n",
    "\n",
    "    input_json_file = 'json_input/' + user_ + ';' + email_ + '.json'\n",
    "    with open(input_json_file, 'w') as outfile:\n",
    "        json.dump(data, outfile)\n",
    "\n",
    "    # Call IBM Watson Personality Insights for each user \n",
    "    with open(join(dirname('__file__'), input_json_file)) as \\\n",
    "        profile_json:\n",
    "        profile = service.profile(\n",
    "        profile_json.read(),\n",
    "        'application/json',\n",
    "        raw_scores=True,\n",
    "        consumption_preferences=False).get_result()\n",
    "\n",
    "    # Save the personality insights result into output JSON file for each user\n",
    "    output_json_file = 'json_output/' + user_ + ';' + email_ + '_result.json'\n",
    "    with open(output_json_file, 'w') as outfile:\n",
    "        json.dump(profile, outfile)\n",
    "    \n",
    "    # parse JSON, loop through each personality and get the scores\n",
    "    personalities = []\n",
    "    for p in range(0, 5):\n",
    "        trait_id = profile['personality'][p]['name']\n",
    "        percentile = profile['personality'][p]['percentile']\n",
    "        significant = profile['personality'][p]['significant']\n",
    "        raw_score = profile['personality'][p]['raw_score']\n",
    "\n",
    "        if trait_id == 'Openness':\n",
    "            big5_openness = percentile\n",
    "            big5_o_raw = raw_score\n",
    "            big5_o_sign = significant\n",
    "        elif trait_id=='Conscientiousness':\n",
    "            big5_conscientiousness = percentile\n",
    "            big5_c_raw = raw_score\n",
    "            big5_c_sign = significant\n",
    "        elif trait_id == 'Extraversion':\n",
    "            big5_extraversion = percentile\n",
    "            big5_e_raw = raw_score\n",
    "            big5_e_sign = significant\n",
    "        elif trait_id == 'Agreeableness':\n",
    "            big5_agreeableness = percentile\n",
    "            big5_a_raw = raw_score\n",
    "            big5_a_sign = significant\n",
    "        elif trait_id == 'Emotional range':\n",
    "            big5_neuroticism = percentile\n",
    "            big5_n_raw = raw_score\n",
    "            big5_n_sign = significant\n",
    "    \n",
    "    # Save the user personalities into dataset\n",
    "    user_personalities = user_personalities.append([{\n",
    "        'user':user_, 'emailAddress':email_, \n",
    "       'openness':big5_openness, 'o_raw':big5_o_raw, 'o_sign':big5_o_sign,\n",
    "       'conscientiousness':big5_conscientiousness, 'c_raw':big5_c_raw, 'c_sign':big5_c_sign,\n",
    "       'extraversion':big5_extraversion, 'e_raw':big5_e_raw, 'e_sign':big5_e_sign,\n",
    "       'agreeableness':big5_agreeableness, 'a_raw':big5_a_raw, 'a_sign':big5_a_sign,\n",
    "       'neuroticism':big5_neuroticism, 'n_raw':big5_n_raw, 'n_sign':big5_n_sign\n",
    "    }])"
   ]
  },
  {
   "cell_type": "markdown",
   "metadata": {},
   "source": [
    "<hr/><font color=\"red\" size=\"4\">**!!!** read about the raw scores here: </font> <pre>https://cloud.ibm.com/docs/services/personality-insights?topic=personality-insights-numeric#rawScores-numeric </pre><hr/> "
   ]
  },
  {
   "cell_type": "code",
   "execution_count": 50,
   "metadata": {},
   "outputs": [
    {
     "data": {
      "text/html": [
       "<div>\n",
       "<style scoped>\n",
       "    .dataframe tbody tr th:only-of-type {\n",
       "        vertical-align: middle;\n",
       "    }\n",
       "\n",
       "    .dataframe tbody tr th {\n",
       "        vertical-align: top;\n",
       "    }\n",
       "\n",
       "    .dataframe thead th {\n",
       "        text-align: right;\n",
       "    }\n",
       "</style>\n",
       "<table border=\"1\" class=\"dataframe\">\n",
       "  <thead>\n",
       "    <tr style=\"text-align: right;\">\n",
       "      <th></th>\n",
       "      <th>user</th>\n",
       "      <th>emailAddress</th>\n",
       "      <th>openness</th>\n",
       "      <th>o_raw</th>\n",
       "      <th>o_sign</th>\n",
       "      <th>conscientiousness</th>\n",
       "      <th>c_raw</th>\n",
       "      <th>c_sign</th>\n",
       "      <th>extraversion</th>\n",
       "      <th>e_raw</th>\n",
       "      <th>e_sign</th>\n",
       "      <th>agreeableness</th>\n",
       "      <th>a_raw</th>\n",
       "      <th>a_sign</th>\n",
       "      <th>neuroticism</th>\n",
       "      <th>n_raw</th>\n",
       "      <th>n_sign</th>\n",
       "    </tr>\n",
       "  </thead>\n",
       "  <tbody>\n",
       "    <tr>\n",
       "      <th>0</th>\n",
       "      <td>grussell</td>\n",
       "      <td>grussell@gopivotal.com</td>\n",
       "      <td>0.970</td>\n",
       "      <td>0.809</td>\n",
       "      <td>True</td>\n",
       "      <td>0.339</td>\n",
       "      <td>0.609</td>\n",
       "      <td>True</td>\n",
       "      <td>0.126</td>\n",
       "      <td>0.500</td>\n",
       "      <td>True</td>\n",
       "      <td>0.000</td>\n",
       "      <td>0.590</td>\n",
       "      <td>True</td>\n",
       "      <td>0.102</td>\n",
       "      <td>0.446</td>\n",
       "      <td>True</td>\n",
       "    </tr>\n",
       "    <tr>\n",
       "      <th>0</th>\n",
       "      <td>mark.pollack</td>\n",
       "      <td>mpollack@gopivotal.com</td>\n",
       "      <td>0.945</td>\n",
       "      <td>0.800</td>\n",
       "      <td>True</td>\n",
       "      <td>0.525</td>\n",
       "      <td>0.631</td>\n",
       "      <td>True</td>\n",
       "      <td>0.072</td>\n",
       "      <td>0.486</td>\n",
       "      <td>True</td>\n",
       "      <td>0.000</td>\n",
       "      <td>0.605</td>\n",
       "      <td>True</td>\n",
       "      <td>0.234</td>\n",
       "      <td>0.487</td>\n",
       "      <td>True</td>\n",
       "    </tr>\n",
       "    <tr>\n",
       "      <th>0</th>\n",
       "      <td>david_geary</td>\n",
       "      <td>d.geary@sophiasearch.com</td>\n",
       "      <td>0.965</td>\n",
       "      <td>0.807</td>\n",
       "      <td>True</td>\n",
       "      <td>0.555</td>\n",
       "      <td>0.634</td>\n",
       "      <td>True</td>\n",
       "      <td>0.310</td>\n",
       "      <td>0.529</td>\n",
       "      <td>True</td>\n",
       "      <td>0.002</td>\n",
       "      <td>0.630</td>\n",
       "      <td>True</td>\n",
       "      <td>0.658</td>\n",
       "      <td>0.573</td>\n",
       "      <td>True</td>\n",
       "    </tr>\n",
       "    <tr>\n",
       "      <th>0</th>\n",
       "      <td>dturanski</td>\n",
       "      <td>dturanski@gopivotal.com</td>\n",
       "      <td>0.963</td>\n",
       "      <td>0.806</td>\n",
       "      <td>True</td>\n",
       "      <td>0.483</td>\n",
       "      <td>0.626</td>\n",
       "      <td>True</td>\n",
       "      <td>0.097</td>\n",
       "      <td>0.493</td>\n",
       "      <td>True</td>\n",
       "      <td>0.000</td>\n",
       "      <td>0.606</td>\n",
       "      <td>True</td>\n",
       "      <td>0.115</td>\n",
       "      <td>0.451</td>\n",
       "      <td>True</td>\n",
       "    </tr>\n",
       "    <tr>\n",
       "      <th>0</th>\n",
       "      <td>sabby</td>\n",
       "      <td>sanandan@pivotal.io</td>\n",
       "      <td>0.823</td>\n",
       "      <td>0.778</td>\n",
       "      <td>True</td>\n",
       "      <td>0.349</td>\n",
       "      <td>0.610</td>\n",
       "      <td>True</td>\n",
       "      <td>0.096</td>\n",
       "      <td>0.493</td>\n",
       "      <td>True</td>\n",
       "      <td>0.000</td>\n",
       "      <td>0.610</td>\n",
       "      <td>True</td>\n",
       "      <td>0.314</td>\n",
       "      <td>0.505</td>\n",
       "      <td>True</td>\n",
       "    </tr>\n",
       "  </tbody>\n",
       "</table>\n",
       "</div>"
      ],
      "text/plain": [
       "           user              emailAddress  openness  o_raw o_sign  \\\n",
       "0      grussell    grussell@gopivotal.com     0.970  0.809   True   \n",
       "0  mark.pollack    mpollack@gopivotal.com     0.945  0.800   True   \n",
       "0   david_geary  d.geary@sophiasearch.com     0.965  0.807   True   \n",
       "0     dturanski   dturanski@gopivotal.com     0.963  0.806   True   \n",
       "0         sabby       sanandan@pivotal.io     0.823  0.778   True   \n",
       "\n",
       "   conscientiousness  c_raw c_sign  extraversion  e_raw e_sign  agreeableness  \\\n",
       "0              0.339  0.609   True         0.126  0.500   True          0.000   \n",
       "0              0.525  0.631   True         0.072  0.486   True          0.000   \n",
       "0              0.555  0.634   True         0.310  0.529   True          0.002   \n",
       "0              0.483  0.626   True         0.097  0.493   True          0.000   \n",
       "0              0.349  0.610   True         0.096  0.493   True          0.000   \n",
       "\n",
       "   a_raw a_sign  neuroticism  n_raw n_sign  \n",
       "0  0.590   True        0.102  0.446   True  \n",
       "0  0.605   True        0.234  0.487   True  \n",
       "0  0.630   True        0.658  0.573   True  \n",
       "0  0.606   True        0.115  0.451   True  \n",
       "0  0.610   True        0.314  0.505   True  "
      ]
     },
     "execution_count": 50,
     "metadata": {},
     "output_type": "execute_result"
    }
   ],
   "source": [
    "pd.set_option('display.float_format', lambda x: '%.3f' % x)\n",
    "user_personalities.to_csv('user_personalities.csv')\n",
    "user_personalities.head()"
   ]
  },
  {
   "cell_type": "code",
   "execution_count": 148,
   "metadata": {},
   "outputs": [
    {
     "data": {
      "image/png": "[encoded data removed]",
      "text/plain": [
       "<Figure size 1008x432 with 10 Axes>"
      ]
     },
     "metadata": {
      "needs_background": "light"
     },
     "output_type": "display_data"
    }
   ],
   "source": [
    "# Plot\n",
    "fig, axes = plt.subplots(2, 5, figsize=(14,6), sharex=False, sharey=False)\n",
    "colors = ['tab:blue', 'tab:purple', 'tab:red', 'tab:orange', 'tab:olive',\n",
    "         'tab:blue', 'tab:purple', 'tab:red', 'tab:orange', 'tab:olive']\n",
    "traits = ['openness', 'conscientiousness', 'extraversion', 'agreeableness', 'neuroticism',\n",
    "         'o_raw', 'c_raw', 'e_raw', 'a_raw', 'n_raw']\n",
    "\n",
    "for i, (axx, trait_) in enumerate(zip(axes.flatten(), traits)):\n",
    "    x = user_personalities[trait_]\n",
    "    axx.hist(x, alpha=0.8, bins=25, label=trait_, color=colors[i])\n",
    "    axx.set_title(trait_)\n",
    "\n",
    "plt.suptitle('Histogram of all users personality trait raw scores and percentiles', y=1.05, size=16)\n",
    "plt.tight_layout();"
   ]
  },
  {
   "cell_type": "markdown",
   "metadata": {},
   "source": [
    "join the personalities dataframe to projects "
   ]
  },
  {
   "cell_type": "code",
   "execution_count": 134,
   "metadata": {},
   "outputs": [
    {
     "name": "stdout",
     "output_type": "stream",
     "text": [
      "136 136\n"
     ]
    }
   ],
   "source": [
    "user_personalities.head()\n",
    "#valid_user_texts['project', 'user', 'emailAddress']\n",
    "p_cols = ['project']\n",
    "for col in user_personalities.columns:\n",
    "    p_cols.append(col)\n",
    "project_user_personalities = pd.merge(user_personalities, valid_user_texts, how = 'inner',\n",
    "                                   left_on = ['user', 'emailAddress'],\n",
    "                                   right_on = ['user', 'emailAddress'])[p_cols]\n",
    "\n",
    "print(valid_user_texts.shape[0], project_user_personalities.shape[0])"
   ]
  },
  {
   "cell_type": "markdown",
   "metadata": {},
   "source": [
    "Let's see the personality traits percentiles and raw scores distribution within the eight projects. <br>\n",
    "Define and show the plot with the projects/percentiles and scores "
   ]
  },
  {
   "cell_type": "code",
   "execution_count": 181,
   "metadata": {},
   "outputs": [],
   "source": [
    "def boxpl(dt, x_cols, y_cols, title):\n",
    "    n = 1\n",
    "    x_cnt = len(x_cols)\n",
    "    y_cnt = len(y_cols)\n",
    "    figure = plt.figure(figsize=(18, 3.5 * x_cnt))\n",
    "    for x_ax in x_cols:\n",
    "        for i in y_cols:\n",
    "            ax = figure.add_subplot(x_cnt, y_cnt, n)\n",
    "            #ax.set_title(i)\n",
    "            g = sns.boxplot(x = dt[x_ax], y = dt[i])\n",
    "            g.set_xticklabels(g.get_xticklabels(), rotation=30)\n",
    "            plt.suptitle(title, size=16)\n",
    "            plt.subplots_adjust(bottom=0.15, wspace=0.4)\n",
    "            n = n + 1"
   ]
  },
  {
   "cell_type": "code",
   "execution_count": 180,
   "metadata": {},
   "outputs": [
    {
     "data": {
      "image/png": "[encoded data removed]",
      "text/plain": [
       "<Figure size 1296x216 with 5 Axes>"
      ]
     },
     "metadata": {
      "needs_background": "light"
     },
     "output_type": "display_data"
    },
    {
     "data": {
      "image/png": "[encoded data removed]",
      "text/plain": [
       "<Figure size 1296x216 with 5 Axes>"
      ]
     },
     "metadata": {
      "needs_background": "light"
     },
     "output_type": "display_data"
    }
   ],
   "source": [
    "y_cols = ['openness', 'conscientiousness', 'extraversion', 'agreeableness', 'neuroticism']\n",
    "x_cols = ['project']\n",
    "title = 'Personality trait percentiles for projects'\n",
    "boxpl(project_user_personalities, x_cols, y_cols, title)\n",
    "\n",
    "y_cols = ['o_raw', 'c_raw', 'e_raw', 'a_raw', 'n_raw']\n",
    "x_cols = ['project']\n",
    "title = 'Perconality trait raw scores for projects'\n",
    "boxpl(project_user_personalities, x_cols, y_cols, title)"
   ]
  },
  {
   "cell_type": "code",
   "execution_count": null,
   "metadata": {},
   "outputs": [],
   "source": []
  },
  {
   "cell_type": "code",
   "execution_count": null,
   "metadata": {},
   "outputs": [],
   "source": []
  },
  {
   "cell_type": "code",
   "execution_count": null,
   "metadata": {},
   "outputs": [],
   "source": []
  },
  {
   "cell_type": "markdown",
   "metadata": {},
   "source": [
    "<h2> Calculation of metrics </h2>"
   ]
  },
  {
   "cell_type": "markdown",
   "metadata": {},
   "source": [
    "<h3> Time </h3>"
   ]
  },
  {
   "cell_type": "markdown",
   "metadata": {},
   "source": [
    "First, let's define the time spent per task by the developer: time that is passed while the task was set to 'In Progress' status.\n",
    "In technical terms, this is the time between the two log records when 1) the task status was set to 'In Progress'\n",
    "and 2)task status was changed from 'In Progress'. \n"
   ]
  },
  {
   "cell_type": "markdown",
   "metadata": {},
   "source": [
    "Get the records from Jira change log, that have status set from In Progress to something else, and the records that have set status set to In Progress from something else."
   ]
  },
  {
   "cell_type": "code",
   "execution_count": 498,
   "metadata": {},
   "outputs": [
    {
     "data": {
      "text/html": [
       "<div>\n",
       "<style scoped>\n",
       "    .dataframe tbody tr th:only-of-type {\n",
       "        vertical-align: middle;\n",
       "    }\n",
       "\n",
       "    .dataframe tbody tr th {\n",
       "        vertical-align: top;\n",
       "    }\n",
       "\n",
       "    .dataframe thead th {\n",
       "        text-align: right;\n",
       "    }\n",
       "</style>\n",
       "<table border=\"1\" class=\"dataframe\">\n",
       "  <thead>\n",
       "    <tr style=\"text-align: right;\">\n",
       "      <th></th>\n",
       "      <th>index</th>\n",
       "      <th>author</th>\n",
       "      <th>created</th>\n",
       "      <th>field</th>\n",
       "      <th>fieldtype</th>\n",
       "      <th>from</th>\n",
       "      <th>fromString</th>\n",
       "      <th>key</th>\n",
       "      <th>project</th>\n",
       "      <th>to</th>\n",
       "      <th>toString</th>\n",
       "    </tr>\n",
       "  </thead>\n",
       "  <tbody>\n",
       "    <tr>\n",
       "      <th>0</th>\n",
       "      <td>0</td>\n",
       "      <td>jvalkeal</td>\n",
       "      <td>2016-03-03 18:40:53.171</td>\n",
       "      <td>status</td>\n",
       "      <td>jira</td>\n",
       "      <td>10000</td>\n",
       "      <td>To Do</td>\n",
       "      <td>XD-3751</td>\n",
       "      <td>xd</td>\n",
       "      <td>3</td>\n",
       "      <td>In Progress</td>\n",
       "    </tr>\n",
       "    <tr>\n",
       "      <th>1</th>\n",
       "      <td>12</td>\n",
       "      <td>grussell</td>\n",
       "      <td>2016-02-29 19:43:42.553</td>\n",
       "      <td>status</td>\n",
       "      <td>jira</td>\n",
       "      <td>10000</td>\n",
       "      <td>To Do</td>\n",
       "      <td>XD-3748</td>\n",
       "      <td>xd</td>\n",
       "      <td>3</td>\n",
       "      <td>In Progress</td>\n",
       "    </tr>\n",
       "    <tr>\n",
       "      <th>2</th>\n",
       "      <td>19</td>\n",
       "      <td>mark.pollack</td>\n",
       "      <td>2016-02-23 18:18:59.225</td>\n",
       "      <td>status</td>\n",
       "      <td>jira</td>\n",
       "      <td>10000</td>\n",
       "      <td>To Do</td>\n",
       "      <td>XD-3746</td>\n",
       "      <td>xd</td>\n",
       "      <td>3</td>\n",
       "      <td>In Progress</td>\n",
       "    </tr>\n",
       "    <tr>\n",
       "      <th>3</th>\n",
       "      <td>25</td>\n",
       "      <td>mark.pollack</td>\n",
       "      <td>2016-02-23 18:04:22.616</td>\n",
       "      <td>status</td>\n",
       "      <td>jira</td>\n",
       "      <td>10000</td>\n",
       "      <td>To Do</td>\n",
       "      <td>XD-3745</td>\n",
       "      <td>xd</td>\n",
       "      <td>3</td>\n",
       "      <td>In Progress</td>\n",
       "    </tr>\n",
       "    <tr>\n",
       "      <th>4</th>\n",
       "      <td>37</td>\n",
       "      <td>grussell</td>\n",
       "      <td>2016-02-22 15:49:30.944</td>\n",
       "      <td>status</td>\n",
       "      <td>jira</td>\n",
       "      <td>10000</td>\n",
       "      <td>To Do</td>\n",
       "      <td>XD-3744</td>\n",
       "      <td>xd</td>\n",
       "      <td>3</td>\n",
       "      <td>In Progress</td>\n",
       "    </tr>\n",
       "  </tbody>\n",
       "</table>\n",
       "</div>"
      ],
      "text/plain": [
       "   index        author                  created   field fieldtype   from  \\\n",
       "0      0      jvalkeal  2016-03-03 18:40:53.171  status      jira  10000   \n",
       "1     12      grussell  2016-02-29 19:43:42.553  status      jira  10000   \n",
       "2     19  mark.pollack  2016-02-23 18:18:59.225  status      jira  10000   \n",
       "3     25  mark.pollack  2016-02-23 18:04:22.616  status      jira  10000   \n",
       "4     37      grussell  2016-02-22 15:49:30.944  status      jira  10000   \n",
       "\n",
       "  fromString      key project to     toString  \n",
       "0      To Do  XD-3751      xd  3  In Progress  \n",
       "1      To Do  XD-3748      xd  3  In Progress  \n",
       "2      To Do  XD-3746      xd  3  In Progress  \n",
       "3      To Do  XD-3745      xd  3  In Progress  \n",
       "4      To Do  XD-3744      xd  3  In Progress  "
      ]
     },
     "execution_count": 498,
     "metadata": {},
     "output_type": "execute_result"
    }
   ],
   "source": [
    "changelog_from_inprogress = changelog[(changelog['field']=='status') \n",
    "                                    & (changelog['fromString']=='In Progress')\n",
    "                                    & (changelog['toString']!='In Progress')].reset_index()\n",
    "changelog_to_inprogress = changelog[(changelog['field']=='status') \n",
    "                                    & (changelog['toString']=='In Progress') \n",
    "                                    & (changelog['fromString']!='In Progress')].reset_index()\n",
    "changelog_to_inprogress.head()"
   ]
  },
  {
   "cell_type": "markdown",
   "metadata": {},
   "source": [
    "let's join these two datasets, and have one row for each from-to in progress status record.\n",
    "Technically: loop through each record where task status was changed form 'In Progress' to some other status (this record indicates that developer has stopped working on it). For each of these records, find the one latest record, where task status was set to 'In Progress' (this record indicates that developer has started working on it). With this operation we will get starting and ending time of work on the task by developer, and we will just need to calculate time difference.\n",
    "<hr> In case when several developers have worked on one task - the function will calculate time for each of them separately.\n",
    "<br> In case when one developer has set status to 'In Progress' multiple times within one task, the function will calculate the sum amount, so that one developer will have one number of minutes spent for one task. "
   ]
  },
  {
   "cell_type": "code",
   "execution_count": 499,
   "metadata": {},
   "outputs": [],
   "source": [
    "changelog_from_inprogress['prev_status'] = np.nan\n",
    "changelog_from_inprogress['prev_status_created'] = np.nan\n",
    "changelog_from_inprogress['created'] = pd.to_datetime(changelog_from_inprogress['created'])\n",
    "changelog_to_inprogress['created'] = pd.to_datetime(changelog_to_inprogress['created'])\n",
    "\n",
    "for index, row in changelog_from_inprogress.iterrows():\n",
    "    _key = row['key']\n",
    "    _project = row['project']\n",
    "    _created = row['created']\n",
    "    _to_row = changelog_to_inprogress[(((changelog_to_inprogress['key'] == _key)\n",
    "                            & (changelog_to_inprogress['project'] == _project))\n",
    "                            & (pd.to_datetime(changelog_to_inprogress['created']) < pd.to_datetime(_created)))].sort_values('created', ascending=False).head(1)\n",
    "    for st in _to_row['fromString']:\n",
    "        _prev_st = st \n",
    "    for cr in _to_row['created']:\n",
    "        _prev_st_created = cr \n",
    "    \n",
    "    changelog_from_inprogress.loc[index,'prev_status'] = _prev_st\n",
    "    changelog_from_inprogress.loc[index,'prev_status_created'] = _prev_st_created"
   ]
  },
  {
   "cell_type": "markdown",
   "metadata": {},
   "source": [
    "Calcualte minutes spent on each task"
   ]
  },
  {
   "cell_type": "code",
   "execution_count": 500,
   "metadata": {},
   "outputs": [
    {
     "data": {
      "text/html": [
       "<div>\n",
       "<style scoped>\n",
       "    .dataframe tbody tr th:only-of-type {\n",
       "        vertical-align: middle;\n",
       "    }\n",
       "\n",
       "    .dataframe tbody tr th {\n",
       "        vertical-align: top;\n",
       "    }\n",
       "\n",
       "    .dataframe thead th {\n",
       "        text-align: right;\n",
       "    }\n",
       "</style>\n",
       "<table border=\"1\" class=\"dataframe\">\n",
       "  <thead>\n",
       "    <tr style=\"text-align: right;\">\n",
       "      <th></th>\n",
       "      <th>index</th>\n",
       "      <th>author</th>\n",
       "      <th>created</th>\n",
       "      <th>field</th>\n",
       "      <th>fieldtype</th>\n",
       "      <th>from</th>\n",
       "      <th>fromString</th>\n",
       "      <th>key</th>\n",
       "      <th>project</th>\n",
       "      <th>to</th>\n",
       "      <th>toString</th>\n",
       "      <th>prev_status</th>\n",
       "      <th>prev_status_created</th>\n",
       "      <th>minutes_spent</th>\n",
       "    </tr>\n",
       "  </thead>\n",
       "  <tbody>\n",
       "    <tr>\n",
       "      <th>0</th>\n",
       "      <td>2</td>\n",
       "      <td>jvalkeal</td>\n",
       "      <td>2016-03-03 18:41:19.429</td>\n",
       "      <td>status</td>\n",
       "      <td>jira</td>\n",
       "      <td>3</td>\n",
       "      <td>In Progress</td>\n",
       "      <td>XD-3751</td>\n",
       "      <td>xd</td>\n",
       "      <td>10006</td>\n",
       "      <td>In PR</td>\n",
       "      <td>To Do</td>\n",
       "      <td>2016-03-03 18:40:53.171000</td>\n",
       "      <td>0.438</td>\n",
       "    </tr>\n",
       "    <tr>\n",
       "      <th>1</th>\n",
       "      <td>14</td>\n",
       "      <td>grussell</td>\n",
       "      <td>2016-02-29 21:11:29.703</td>\n",
       "      <td>status</td>\n",
       "      <td>jira</td>\n",
       "      <td>3</td>\n",
       "      <td>In Progress</td>\n",
       "      <td>XD-3748</td>\n",
       "      <td>xd</td>\n",
       "      <td>10006</td>\n",
       "      <td>In PR</td>\n",
       "      <td>To Do</td>\n",
       "      <td>2016-02-29 19:43:42.553000</td>\n",
       "      <td>87.786</td>\n",
       "    </tr>\n",
       "    <tr>\n",
       "      <th>2</th>\n",
       "      <td>20</td>\n",
       "      <td>mark.pollack</td>\n",
       "      <td>2016-02-23 18:19:04.071</td>\n",
       "      <td>status</td>\n",
       "      <td>jira</td>\n",
       "      <td>3</td>\n",
       "      <td>In Progress</td>\n",
       "      <td>XD-3746</td>\n",
       "      <td>xd</td>\n",
       "      <td>10006</td>\n",
       "      <td>In PR</td>\n",
       "      <td>To Do</td>\n",
       "      <td>2016-02-23 18:18:59.225000</td>\n",
       "      <td>0.081</td>\n",
       "    </tr>\n",
       "  </tbody>\n",
       "</table>\n",
       "</div>"
      ],
      "text/plain": [
       "   index        author                 created   field fieldtype from  \\\n",
       "0      2      jvalkeal 2016-03-03 18:41:19.429  status      jira    3   \n",
       "1     14      grussell 2016-02-29 21:11:29.703  status      jira    3   \n",
       "2     20  mark.pollack 2016-02-23 18:19:04.071  status      jira    3   \n",
       "\n",
       "    fromString      key project     to toString prev_status  \\\n",
       "0  In Progress  XD-3751      xd  10006    In PR       To Do   \n",
       "1  In Progress  XD-3748      xd  10006    In PR       To Do   \n",
       "2  In Progress  XD-3746      xd  10006    In PR       To Do   \n",
       "\n",
       "          prev_status_created  minutes_spent  \n",
       "0  2016-03-03 18:40:53.171000          0.438  \n",
       "1  2016-02-29 19:43:42.553000         87.786  \n",
       "2  2016-02-23 18:18:59.225000          0.081  "
      ]
     },
     "execution_count": 500,
     "metadata": {},
     "output_type": "execute_result"
    }
   ],
   "source": [
    "changelog_from_inprogress['minutes_spent']=(pd.to_datetime(changelog_from_inprogress['created'])\n",
    "                            - pd.to_datetime(changelog_from_inprogress['prev_status_created'])) / np.timedelta64(1, 'm')\n",
    "changelog_from_inprogress.head(3)"
   ]
  },
  {
   "cell_type": "markdown",
   "metadata": {},
   "source": [
    "Sum up the time by the same users for the same tasks"
   ]
  },
  {
   "cell_type": "code",
   "execution_count": 502,
   "metadata": {},
   "outputs": [],
   "source": [
    "user_key_timespent=changelog_from_inprogress.groupby(['key', 'project', 'author']).agg({'minutes_spent':'sum'})\n",
    "user_key_timespent.reset_index(level= [0,1,2], inplace=True)"
   ]
  },
  {
   "cell_type": "code",
   "execution_count": 568,
   "metadata": {},
   "outputs": [
    {
     "data": {
      "text/html": [
       "<div>\n",
       "<style scoped>\n",
       "    .dataframe tbody tr th:only-of-type {\n",
       "        vertical-align: middle;\n",
       "    }\n",
       "\n",
       "    .dataframe tbody tr th {\n",
       "        vertical-align: top;\n",
       "    }\n",
       "\n",
       "    .dataframe thead th {\n",
       "        text-align: right;\n",
       "    }\n",
       "</style>\n",
       "<table border=\"1\" class=\"dataframe\">\n",
       "  <thead>\n",
       "    <tr style=\"text-align: right;\">\n",
       "      <th></th>\n",
       "      <th>key</th>\n",
       "      <th>project</th>\n",
       "      <th>author</th>\n",
       "      <th>minutes_spent</th>\n",
       "    </tr>\n",
       "  </thead>\n",
       "  <tbody>\n",
       "    <tr>\n",
       "      <th>0</th>\n",
       "      <td>APSTUD-1378</td>\n",
       "      <td>apstud</td>\n",
       "      <td>cwilliams</td>\n",
       "      <td>340.033</td>\n",
       "    </tr>\n",
       "    <tr>\n",
       "      <th>1</th>\n",
       "      <td>APSTUD-1469</td>\n",
       "      <td>apstud</td>\n",
       "      <td>mstepanov</td>\n",
       "      <td>121.633</td>\n",
       "    </tr>\n",
       "    <tr>\n",
       "      <th>2</th>\n",
       "      <td>APSTUD-1469</td>\n",
       "      <td>apstud</td>\n",
       "      <td>sgibly</td>\n",
       "      <td>54.717</td>\n",
       "    </tr>\n",
       "  </tbody>\n",
       "</table>\n",
       "</div>"
      ],
      "text/plain": [
       "           key project     author  minutes_spent\n",
       "0  APSTUD-1378  apstud  cwilliams        340.033\n",
       "1  APSTUD-1469  apstud  mstepanov        121.633\n",
       "2  APSTUD-1469  apstud     sgibly         54.717"
      ]
     },
     "execution_count": 568,
     "metadata": {},
     "output_type": "execute_result"
    }
   ],
   "source": [
    "user_key_timespent.head(3)"
   ]
  },
  {
   "cell_type": "markdown",
   "metadata": {},
   "source": [
    "Let's join the time spendings dataset with the users dataset, that are valid for personality traits check."
   ]
  },
  {
   "cell_type": "code",
   "execution_count": 665,
   "metadata": {},
   "outputs": [],
   "source": [
    "user_task_time = pd.merge(user_personalities, user_key_timespent, how = 'inner',\n",
    "        left_on = 'user', right_on = 'author')[['user', 'emailAddress', 'project', 'key', 'minutes_spent']]"
   ]
  },
  {
   "cell_type": "code",
   "execution_count": 667,
   "metadata": {},
   "outputs": [
    {
     "data": {
      "text/plain": [
       "8093"
      ]
     },
     "execution_count": 667,
     "metadata": {},
     "output_type": "execute_result"
    }
   ],
   "source": [
    "user_task_time.shape[0]"
   ]
  },
  {
   "cell_type": "code",
   "execution_count": 672,
   "metadata": {},
   "outputs": [
    {
     "name": "stdout",
     "output_type": "stream",
     "text": [
      "nr of rows from  20.0 % to  95.0 % :  6069\n",
      "nr of rows above  95.0 %:  405\n",
      "nr of rows below,  20.0 %:  1619\n",
      "Total number of rows in dataset:  8093\n"
     ]
    }
   ],
   "source": [
    "t=0.05\n",
    "b=0.20\n",
    "cut_val_t = round((int(user_task_time.shape[0]) * t))\n",
    "cut_val_b = round((int(user_task_time.shape[0]) * b))\n",
    "cut_val_top = user_task_time.sort_values('minutes_spent', ascending=False).head(cut_val_t).iloc[cut_val_t-1].minutes_spent\n",
    "cut_val_bottom = user_task_time.sort_values('minutes_spent', ascending=True).head(cut_val_b).iloc[cut_val_b-1].minutes_spent\n",
    "\n",
    "print('nr of rows from ', b*100, '% to ', str(100-100*t), '% : ', user_task_time[(user_task_time['minutes_spent']<cut_val_top) & (user_task_time['minutes_spent']>cut_val_bottom)].shape[0])\n",
    "print('nr of rows above ', str(100-100*t), '%: ',user_task_time[user_task_time['minutes_spent']>=cut_val_top].shape[0])\n",
    "print('nr of rows below, ', b*100, '%: ',user_task_time[user_task_time['minutes_spent']<=cut_val_bottom].shape[0])\n",
    "print('Total number of rows in dataset: ', user_task_time.shape[0])"
   ]
  },
  {
   "cell_type": "markdown",
   "metadata": {},
   "source": [
    "let's see how the spent times by the developers are distributed"
   ]
  },
  {
   "cell_type": "code",
   "execution_count": 673,
   "metadata": {},
   "outputs": [
    {
     "data": {
      "image/png": "[encoded data removed]",
      "text/plain": [
       "<Figure size 1152x720 with 4 Axes>"
      ]
     },
     "metadata": {
      "needs_background": "light"
     },
     "output_type": "display_data"
    }
   ],
   "source": [
    "hist_with_perc(user_task_time['minutes_spent'], 15,'spent minutes by developers \\n in the whole dataset','minute','occurences count','gold'\n",
    "            , user_task_time[user_task_time['minutes_spent']>=cut_val_top]['minutes_spent'],15,('the longest '+str(t*100)+'% spent \\n minutes by developers')\n",
    "            , user_task_time[user_task_time['minutes_spent']<=cut_val_bottom]['minutes_spent'],15,('the shortest '+str(b*100)+'% \\n spent minutes by developers')\n",
    "            , user_task_time[(user_task_time['minutes_spent']<cut_val_top)&(user_task_time['minutes_spent']>cut_val_bottom)].minutes_spent,15,('the minutes spent between \\n '+str(b*100)+'% - '+str(100-t*100)+'% percentile'))"
   ]
  },
  {
   "cell_type": "code",
   "execution_count": 674,
   "metadata": {},
   "outputs": [
    {
     "name": "stdout",
     "output_type": "stream",
     "text": [
      "100 10854\n"
     ]
    }
   ],
   "source": [
    "print(user_personalities.shape[0], user_key_timespent.shape[0])"
   ]
  },
  {
   "cell_type": "code",
   "execution_count": null,
   "metadata": {},
   "outputs": [],
   "source": []
  },
  {
   "cell_type": "code",
   "execution_count": null,
   "metadata": {},
   "outputs": [],
   "source": []
  },
  {
   "cell_type": "code",
   "execution_count": null,
   "metadata": {},
   "outputs": [],
   "source": []
  },
  {
   "cell_type": "code",
   "execution_count": null,
   "metadata": {},
   "outputs": [],
   "source": []
  },
  {
   "cell_type": "markdown",
   "metadata": {},
   "source": [
    "<h2> State </h2>"
   ]
  },
  {
   "cell_type": "markdown",
   "metadata": {},
   "source": [
    "First, let's check what statuses and status categories are present in issues and changelog datasets "
   ]
  },
  {
   "cell_type": "code",
   "execution_count": 677,
   "metadata": {
    "scrolled": true
   },
   "outputs": [
    {
     "data": {
      "text/html": [
       "<div>\n",
       "<style scoped>\n",
       "    .dataframe tbody tr th:only-of-type {\n",
       "        vertical-align: middle;\n",
       "    }\n",
       "\n",
       "    .dataframe tbody tr th {\n",
       "        vertical-align: top;\n",
       "    }\n",
       "\n",
       "    .dataframe thead th {\n",
       "        text-align: right;\n",
       "    }\n",
       "</style>\n",
       "<table border=\"1\" class=\"dataframe\">\n",
       "  <thead>\n",
       "    <tr style=\"text-align: right;\">\n",
       "      <th></th>\n",
       "      <th></th>\n",
       "      <th>project</th>\n",
       "    </tr>\n",
       "    <tr>\n",
       "      <th>fields.status.statusCategory.name</th>\n",
       "      <th>fields.status.name</th>\n",
       "      <th></th>\n",
       "    </tr>\n",
       "  </thead>\n",
       "  <tbody>\n",
       "    <tr>\n",
       "      <th rowspan=\"2\" valign=\"top\">Complete</th>\n",
       "      <th>Closed</th>\n",
       "      <td>1390</td>\n",
       "    </tr>\n",
       "    <tr>\n",
       "      <th>Resolved</th>\n",
       "      <td>1880</td>\n",
       "    </tr>\n",
       "    <tr>\n",
       "      <th rowspan=\"3\" valign=\"top\">Done</th>\n",
       "      <th>Closed</th>\n",
       "      <td>8389</td>\n",
       "    </tr>\n",
       "    <tr>\n",
       "      <th>Done</th>\n",
       "      <td>48</td>\n",
       "    </tr>\n",
       "    <tr>\n",
       "      <th>Resolved</th>\n",
       "      <td>1256</td>\n",
       "    </tr>\n",
       "    <tr>\n",
       "      <th rowspan=\"7\" valign=\"top\">In Progress</th>\n",
       "      <th>Accepted</th>\n",
       "      <td>186</td>\n",
       "    </tr>\n",
       "    <tr>\n",
       "      <th>Done</th>\n",
       "      <td>3136</td>\n",
       "    </tr>\n",
       "    <tr>\n",
       "      <th>In  Review</th>\n",
       "      <td>16</td>\n",
       "    </tr>\n",
       "    <tr>\n",
       "      <th>In PR</th>\n",
       "      <td>5</td>\n",
       "    </tr>\n",
       "    <tr>\n",
       "      <th>In Progress</th>\n",
       "      <td>99</td>\n",
       "    </tr>\n",
       "    <tr>\n",
       "      <th>Planned Development</th>\n",
       "      <td>3</td>\n",
       "    </tr>\n",
       "    <tr>\n",
       "      <th>Pull Request Submitted</th>\n",
       "      <td>8</td>\n",
       "    </tr>\n",
       "    <tr>\n",
       "      <th rowspan=\"4\" valign=\"top\">New</th>\n",
       "      <th>Open</th>\n",
       "      <td>66</td>\n",
       "    </tr>\n",
       "    <tr>\n",
       "      <th>Reopened</th>\n",
       "      <td>2</td>\n",
       "    </tr>\n",
       "    <tr>\n",
       "      <th>Reviewable</th>\n",
       "      <td>125</td>\n",
       "    </tr>\n",
       "    <tr>\n",
       "      <th>To Do</th>\n",
       "      <td>94</td>\n",
       "    </tr>\n",
       "    <tr>\n",
       "      <th rowspan=\"5\" valign=\"top\">To Do</th>\n",
       "      <th>Open</th>\n",
       "      <td>660</td>\n",
       "    </tr>\n",
       "    <tr>\n",
       "      <th>Raw</th>\n",
       "      <td>1</td>\n",
       "    </tr>\n",
       "    <tr>\n",
       "      <th>Refine</th>\n",
       "      <td>1</td>\n",
       "    </tr>\n",
       "    <tr>\n",
       "      <th>Reopened</th>\n",
       "      <td>103</td>\n",
       "    </tr>\n",
       "    <tr>\n",
       "      <th>To Do</th>\n",
       "      <td>622</td>\n",
       "    </tr>\n",
       "  </tbody>\n",
       "</table>\n",
       "</div>"
      ],
      "text/plain": [
       "                                                          project\n",
       "fields.status.statusCategory.name fields.status.name             \n",
       "Complete                          Closed                     1390\n",
       "                                  Resolved                   1880\n",
       "Done                              Closed                     8389\n",
       "                                  Done                         48\n",
       "                                  Resolved                   1256\n",
       "In Progress                       Accepted                    186\n",
       "                                  Done                       3136\n",
       "                                  In  Review                   16\n",
       "                                  In PR                         5\n",
       "                                  In Progress                  99\n",
       "                                  Planned Development           3\n",
       "                                  Pull Request Submitted        8\n",
       "New                               Open                         66\n",
       "                                  Reopened                      2\n",
       "                                  Reviewable                  125\n",
       "                                  To Do                        94\n",
       "To Do                             Open                        660\n",
       "                                  Raw                           1\n",
       "                                  Refine                        1\n",
       "                                  Reopened                    103\n",
       "                                  To Do                       622"
      ]
     },
     "execution_count": 677,
     "metadata": {},
     "output_type": "execute_result"
    }
   ],
   "source": [
    "issues[['fields.status.statusCategory.name', 'fields.status.name', 'project']].groupby(\n",
    "    ['fields.status.statusCategory.name', 'fields.status.name']).count()"
   ]
  },
  {
   "cell_type": "code",
   "execution_count": 678,
   "metadata": {},
   "outputs": [
    {
     "data": {
      "text/html": [
       "<div>\n",
       "<style scoped>\n",
       "    .dataframe tbody tr th:only-of-type {\n",
       "        vertical-align: middle;\n",
       "    }\n",
       "\n",
       "    .dataframe tbody tr th {\n",
       "        vertical-align: top;\n",
       "    }\n",
       "\n",
       "    .dataframe thead th {\n",
       "        text-align: right;\n",
       "    }\n",
       "</style>\n",
       "<table border=\"1\" class=\"dataframe\">\n",
       "  <thead>\n",
       "    <tr style=\"text-align: right;\">\n",
       "      <th></th>\n",
       "      <th>author</th>\n",
       "    </tr>\n",
       "    <tr>\n",
       "      <th>toString</th>\n",
       "      <th></th>\n",
       "    </tr>\n",
       "  </thead>\n",
       "  <tbody>\n",
       "    <tr>\n",
       "      <th>In Progress</th>\n",
       "      <td>11986</td>\n",
       "    </tr>\n",
       "    <tr>\n",
       "      <th>Closed</th>\n",
       "      <td>11236</td>\n",
       "    </tr>\n",
       "    <tr>\n",
       "      <th>Resolved</th>\n",
       "      <td>10583</td>\n",
       "    </tr>\n",
       "    <tr>\n",
       "      <th>Done</th>\n",
       "      <td>3201</td>\n",
       "    </tr>\n",
       "    <tr>\n",
       "      <th>Reopened</th>\n",
       "      <td>3171</td>\n",
       "    </tr>\n",
       "    <tr>\n",
       "      <th>Open</th>\n",
       "      <td>2550</td>\n",
       "    </tr>\n",
       "    <tr>\n",
       "      <th>Accepted</th>\n",
       "      <td>1347</td>\n",
       "    </tr>\n",
       "    <tr>\n",
       "      <th>Reviewable</th>\n",
       "      <td>1174</td>\n",
       "    </tr>\n",
       "    <tr>\n",
       "      <th>In Review</th>\n",
       "      <td>1144</td>\n",
       "    </tr>\n",
       "    <tr>\n",
       "      <th>To Be Tested</th>\n",
       "      <td>836</td>\n",
       "    </tr>\n",
       "    <tr>\n",
       "      <th>In  Review</th>\n",
       "      <td>807</td>\n",
       "    </tr>\n",
       "    <tr>\n",
       "      <th>Testing In Progress</th>\n",
       "      <td>738</td>\n",
       "    </tr>\n",
       "    <tr>\n",
       "      <th>In PR</th>\n",
       "      <td>675</td>\n",
       "    </tr>\n",
       "    <tr>\n",
       "      <th>Waiting for Review</th>\n",
       "      <td>665</td>\n",
       "    </tr>\n",
       "    <tr>\n",
       "      <th>Pull Request Submitted</th>\n",
       "      <td>379</td>\n",
       "    </tr>\n",
       "    <tr>\n",
       "      <th>To Do</th>\n",
       "      <td>233</td>\n",
       "    </tr>\n",
       "    <tr>\n",
       "      <th>To Be Merged</th>\n",
       "      <td>100</td>\n",
       "    </tr>\n",
       "    <tr>\n",
       "      <th>Pending 3rd-Party</th>\n",
       "      <td>67</td>\n",
       "    </tr>\n",
       "    <tr>\n",
       "      <th>Waiting for Response</th>\n",
       "      <td>41</td>\n",
       "    </tr>\n",
       "    <tr>\n",
       "      <th>Planned Development</th>\n",
       "      <td>27</td>\n",
       "    </tr>\n",
       "    <tr>\n",
       "      <th>Defered</th>\n",
       "      <td>11</td>\n",
       "    </tr>\n",
       "    <tr>\n",
       "      <th>Writing</th>\n",
       "      <td>8</td>\n",
       "    </tr>\n",
       "    <tr>\n",
       "      <th>Inactive - Pending Closure</th>\n",
       "      <td>8</td>\n",
       "    </tr>\n",
       "    <tr>\n",
       "      <th>Scoped</th>\n",
       "      <td>6</td>\n",
       "    </tr>\n",
       "    <tr>\n",
       "      <th>Refine</th>\n",
       "      <td>1</td>\n",
       "    </tr>\n",
       "    <tr>\n",
       "      <th>Triaged</th>\n",
       "      <td>1</td>\n",
       "    </tr>\n",
       "    <tr>\n",
       "      <th>New</th>\n",
       "      <td>1</td>\n",
       "    </tr>\n",
       "    <tr>\n",
       "      <th>Raw</th>\n",
       "      <td>1</td>\n",
       "    </tr>\n",
       "  </tbody>\n",
       "</table>\n",
       "</div>"
      ],
      "text/plain": [
       "                            author\n",
       "toString                          \n",
       "In Progress                  11986\n",
       "Closed                       11236\n",
       "Resolved                     10583\n",
       "Done                          3201\n",
       "Reopened                      3171\n",
       "Open                          2550\n",
       "Accepted                      1347\n",
       "Reviewable                    1174\n",
       "In Review                     1144\n",
       "To Be Tested                   836\n",
       "In  Review                     807\n",
       "Testing In Progress            738\n",
       "In PR                          675\n",
       "Waiting for Review             665\n",
       "Pull Request Submitted         379\n",
       "To Do                          233\n",
       "To Be Merged                   100\n",
       "Pending 3rd-Party               67\n",
       "Waiting for Response            41\n",
       "Planned Development             27\n",
       "Defered                         11\n",
       "Writing                          8\n",
       "Inactive - Pending Closure       8\n",
       "Scoped                           6\n",
       "Refine                           1\n",
       "Triaged                          1\n",
       "New                              1\n",
       "Raw                              1"
      ]
     },
     "execution_count": 678,
     "metadata": {},
     "output_type": "execute_result"
    }
   ],
   "source": [
    "changelog[changelog['field']=='status'][['toString', 'author']].groupby(\n",
    "    'toString').count().sort_values('author', ascending=False)"
   ]
  },
  {
   "cell_type": "markdown",
   "metadata": {},
   "source": [
    "Now, let's define our own categories and assign changelog abses status names to the ones we defined.\n",
    "Then, create separate datasets for each of these defined statuses, by filtering the changelog dataset, and then aggregate these datasets to take only the user and the number of the rows."
   ]
  },
  {
   "cell_type": "code",
   "execution_count": 575,
   "metadata": {},
   "outputs": [],
   "source": [
    "_todo = ['To Do', 'Open', 'Reopened', 'Reviewable', 'To Be Merged', 'Scoped', 'Refine', 'New', 'Raw'\n",
    "        , 'Waiting for Response', 'To Be Tested', 'Pending 3rd-Party']\n",
    "_inprogress = ['Pull Request Submitted', 'Planned Development', 'In Progress', 'In PR', 'In Review', 'In Review'\n",
    "               , 'Writing', 'Waiting for Review', 'Testing In Progress']\n",
    "_done = ['Closed', 'Resolved', 'Done', 'Triaged', 'Accepted', 'Inactive - Pending Closure', 'Defered']"
   ]
  },
  {
   "cell_type": "code",
   "execution_count": 607,
   "metadata": {},
   "outputs": [],
   "source": [
    "log_todo = changelog[(changelog['field']=='status') & (changelog['toString'].isin(_todo))]\n",
    "log_inprogress = changelog[(changelog['field']=='status') & (changelog['toString'].isin(_inprogress))]\n",
    "log_done = changelog[(changelog['field']=='status') & (changelog['toString'].isin(_done))]"
   ]
  },
  {
   "cell_type": "code",
   "execution_count": 616,
   "metadata": {},
   "outputs": [],
   "source": [
    "todo_actions = log_todo.groupby('author').agg({'created':'count'})\n",
    "todo_actions.reset_index(level= [0], inplace=True)\n",
    "inprogress_actions = log_inprogress.groupby('author').agg({'created':'count'})\n",
    "inprogress_actions.reset_index(level= [0], inplace=True)\n",
    "done_actions = log_done.groupby('author').agg({'created':'count'})\n",
    "done_actions.reset_index(level= [0], inplace=True)"
   ]
  },
  {
   "cell_type": "code",
   "execution_count": 617,
   "metadata": {},
   "outputs": [
    {
     "name": "stdout",
     "output_type": "stream",
     "text": [
      "320 247 320\n"
     ]
    }
   ],
   "source": [
    "print(todo_actions.shape[0], inprogress_actions.shape[0], done_actions.shape[0])"
   ]
  },
  {
   "cell_type": "markdown",
   "metadata": {},
   "source": [
    "Let's merge these status datasets into one with the users dataset that are valid for Personality traits check."
   ]
  },
  {
   "cell_type": "code",
   "execution_count": 635,
   "metadata": {},
   "outputs": [],
   "source": [
    "users_personalities_tasks = pd.merge(\n",
    "    pd.merge(\n",
    "        pd.merge(user_personalities, todo_actions, how = 'left', left_on = 'user', right_on = 'author'),\n",
    "            inprogress_actions, how = 'left', left_on = 'user', right_on = 'author'),\n",
    "                done_actions, how = 'left', left_on = 'user', right_on = 'author')[['user', 'emailAddress', 'created', 'created_x', 'created_y']]"
   ]
  },
  {
   "cell_type": "markdown",
   "metadata": {},
   "source": [
    "properly assign the status names to columns not to mix them"
   ]
  },
  {
   "cell_type": "code",
   "execution_count": 651,
   "metadata": {},
   "outputs": [
    {
     "name": "stdout",
     "output_type": "stream",
     "text": [
      "             user        emailAddress    done   todo  inprogress\n",
      "23  Alexey.tregub                   - 279.000 81.000      34.000\n",
      "26    KenGrierson                   - 318.000 85.000      10.000\n",
      "46     adam-mesos  adam@mesosphere.io 127.000 11.000      19.000 \n",
      "---todo below\n",
      "           author  created\n",
      "0   Alexey.tregub       81\n",
      "1  Amritpal.Manak       30\n",
      "2   Bartek Plotka        3 \n",
      "--done below\n",
      "           author  created\n",
      "0   Alexey.tregub      279\n",
      "1  Amritpal.Manak      130\n",
      "2       BobKruger        2 \n",
      "--inprogress below\n",
      "           author  created\n",
      "0   Alexey.tregub       34\n",
      "1  Amritpal.Manak       13\n",
      "2   Bartek Plotka        3\n"
     ]
    }
   ],
   "source": [
    "print(users_personalities_tasks.sort_values('user').head(3), '\\n---todo below')\n",
    "print(todo_actions.sort_values('author').head(3), '\\n--done below')\n",
    "print(done_actions.sort_values('author').head(3), '\\n--inprogress below')\n",
    "print(inprogress_actions.sort_values('author').head(3))"
   ]
  },
  {
   "cell_type": "code",
   "execution_count": 723,
   "metadata": {},
   "outputs": [],
   "source": [
    "users_personalities_tasks = users_personalities_tasks.rename(\n",
    "    columns={'created':'done', 'created_x':'todo', 'created_y':'inprogress'})"
   ]
  },
  {
   "cell_type": "code",
   "execution_count": 724,
   "metadata": {},
   "outputs": [
    {
     "data": {
      "text/html": [
       "<div>\n",
       "<style scoped>\n",
       "    .dataframe tbody tr th:only-of-type {\n",
       "        vertical-align: middle;\n",
       "    }\n",
       "\n",
       "    .dataframe tbody tr th {\n",
       "        vertical-align: top;\n",
       "    }\n",
       "\n",
       "    .dataframe thead th {\n",
       "        text-align: right;\n",
       "    }\n",
       "</style>\n",
       "<table border=\"1\" class=\"dataframe\">\n",
       "  <thead>\n",
       "    <tr style=\"text-align: right;\">\n",
       "      <th></th>\n",
       "      <th>user</th>\n",
       "      <th>emailAddress</th>\n",
       "      <th>done</th>\n",
       "      <th>todo</th>\n",
       "      <th>inprogress</th>\n",
       "    </tr>\n",
       "  </thead>\n",
       "  <tbody>\n",
       "    <tr>\n",
       "      <th>0</th>\n",
       "      <td>grussell</td>\n",
       "      <td>grussell@gopivotal.com</td>\n",
       "      <td>96.000</td>\n",
       "      <td>5.000</td>\n",
       "      <td>190.000</td>\n",
       "    </tr>\n",
       "    <tr>\n",
       "      <th>1</th>\n",
       "      <td>mark.pollack</td>\n",
       "      <td>mpollack@gopivotal.com</td>\n",
       "      <td>587.000</td>\n",
       "      <td>26.000</td>\n",
       "      <td>257.000</td>\n",
       "    </tr>\n",
       "    <tr>\n",
       "      <th>2</th>\n",
       "      <td>david_geary</td>\n",
       "      <td>d.geary@sophiasearch.com</td>\n",
       "      <td>nan</td>\n",
       "      <td>nan</td>\n",
       "      <td>nan</td>\n",
       "    </tr>\n",
       "    <tr>\n",
       "      <th>3</th>\n",
       "      <td>dturanski</td>\n",
       "      <td>dturanski@gopivotal.com</td>\n",
       "      <td>202.000</td>\n",
       "      <td>12.000</td>\n",
       "      <td>238.000</td>\n",
       "    </tr>\n",
       "    <tr>\n",
       "      <th>4</th>\n",
       "      <td>sabby</td>\n",
       "      <td>sanandan@pivotal.io</td>\n",
       "      <td>473.000</td>\n",
       "      <td>34.000</td>\n",
       "      <td>356.000</td>\n",
       "    </tr>\n",
       "  </tbody>\n",
       "</table>\n",
       "</div>"
      ],
      "text/plain": [
       "           user              emailAddress    done   todo  inprogress\n",
       "0      grussell    grussell@gopivotal.com  96.000  5.000     190.000\n",
       "1  mark.pollack    mpollack@gopivotal.com 587.000 26.000     257.000\n",
       "2   david_geary  d.geary@sophiasearch.com     nan    nan         nan\n",
       "3     dturanski   dturanski@gopivotal.com 202.000 12.000     238.000\n",
       "4         sabby       sanandan@pivotal.io 473.000 34.000     356.000"
      ]
     },
     "execution_count": 724,
     "metadata": {},
     "output_type": "execute_result"
    }
   ],
   "source": [
    "users_personalities_tasks.head()"
   ]
  },
  {
   "cell_type": "markdown",
   "metadata": {},
   "source": [
    "Check how many from these users have all three status tasks available, or at least one status task available:"
   ]
  },
  {
   "cell_type": "code",
   "execution_count": 729,
   "metadata": {},
   "outputs": [
    {
     "name": "stdout",
     "output_type": "stream",
     "text": [
      "78\n",
      "97\n"
     ]
    }
   ],
   "source": [
    "print(users_personalities_tasks[(pd.isnull(users_personalities_tasks['done'])==False)\n",
    "                         & (pd.isnull(users_personalities_tasks['todo'])==False)\n",
    "                         & (pd.isnull(users_personalities_tasks['inprogress'])==False)].shape[0])\n",
    "\n",
    "print(users_personalities_tasks[(pd.isnull(users_personalities_tasks['done'])==False)\n",
    "                         | (pd.isnull(users_personalities_tasks['todo'])==False)\n",
    "                         | (pd.isnull(users_personalities_tasks['inprogress'])==False)].shape[0])"
   ]
  },
  {
   "cell_type": "code",
   "execution_count": null,
   "metadata": {},
   "outputs": [],
   "source": []
  },
  {
   "cell_type": "markdown",
   "metadata": {},
   "source": [
    "<h2> Task Prioritization <h/2>"
   ]
  },
  {
   "cell_type": "code",
   "execution_count": 682,
   "metadata": {},
   "outputs": [
    {
     "data": {
      "text/html": [
       "<div>\n",
       "<style scoped>\n",
       "    .dataframe tbody tr th:only-of-type {\n",
       "        vertical-align: middle;\n",
       "    }\n",
       "\n",
       "    .dataframe tbody tr th {\n",
       "        vertical-align: top;\n",
       "    }\n",
       "\n",
       "    .dataframe thead th {\n",
       "        text-align: right;\n",
       "    }\n",
       "</style>\n",
       "<table border=\"1\" class=\"dataframe\">\n",
       "  <thead>\n",
       "    <tr style=\"text-align: right;\">\n",
       "      <th></th>\n",
       "      <th>author</th>\n",
       "      <th>created</th>\n",
       "      <th>field</th>\n",
       "      <th>fieldtype</th>\n",
       "      <th>from</th>\n",
       "      <th>fromString</th>\n",
       "      <th>key</th>\n",
       "      <th>project</th>\n",
       "      <th>to</th>\n",
       "      <th>toString</th>\n",
       "    </tr>\n",
       "  </thead>\n",
       "  <tbody>\n",
       "    <tr>\n",
       "      <th>0</th>\n",
       "      <td>jvalkeal</td>\n",
       "      <td>2016-03-03 18:40:53.171</td>\n",
       "      <td>status</td>\n",
       "      <td>jira</td>\n",
       "      <td>10000</td>\n",
       "      <td>To Do</td>\n",
       "      <td>XD-3751</td>\n",
       "      <td>xd</td>\n",
       "      <td>3</td>\n",
       "      <td>In Progress</td>\n",
       "    </tr>\n",
       "    <tr>\n",
       "      <th>1</th>\n",
       "      <td>jvalkeal</td>\n",
       "      <td>2016-03-03 18:41:19.429</td>\n",
       "      <td>Pull Request URL</td>\n",
       "      <td>custom</td>\n",
       "      <td>NaN</td>\n",
       "      <td>NaN</td>\n",
       "      <td>XD-3751</td>\n",
       "      <td>xd</td>\n",
       "      <td>NaN</td>\n",
       "      <td>https://github.com/spring-projects/spring-xd/p...</td>\n",
       "    </tr>\n",
       "    <tr>\n",
       "      <th>2</th>\n",
       "      <td>jvalkeal</td>\n",
       "      <td>2016-03-03 18:41:19.429</td>\n",
       "      <td>status</td>\n",
       "      <td>jira</td>\n",
       "      <td>3</td>\n",
       "      <td>In Progress</td>\n",
       "      <td>XD-3751</td>\n",
       "      <td>xd</td>\n",
       "      <td>10006</td>\n",
       "      <td>In PR</td>\n",
       "    </tr>\n",
       "    <tr>\n",
       "      <th>3</th>\n",
       "      <td>aliiqbal</td>\n",
       "      <td>2016-02-29 10:00:55.086</td>\n",
       "      <td>summary</td>\n",
       "      <td>jira</td>\n",
       "      <td>NaN</td>\n",
       "      <td>Can completely remove module after putting pro...</td>\n",
       "      <td>XD-3750</td>\n",
       "      <td>xd</td>\n",
       "      <td>NaN</td>\n",
       "      <td>Can completely remove custom module after putt...</td>\n",
       "    </tr>\n",
       "    <tr>\n",
       "      <th>4</th>\n",
       "      <td>aliiqbal</td>\n",
       "      <td>2016-02-29 10:01:41.067</td>\n",
       "      <td>issuetype</td>\n",
       "      <td>jira</td>\n",
       "      <td>8</td>\n",
       "      <td>Story</td>\n",
       "      <td>XD-3750</td>\n",
       "      <td>xd</td>\n",
       "      <td>1</td>\n",
       "      <td>Bug</td>\n",
       "    </tr>\n",
       "  </tbody>\n",
       "</table>\n",
       "</div>"
      ],
      "text/plain": [
       "     author                  created             field fieldtype   from  \\\n",
       "0  jvalkeal  2016-03-03 18:40:53.171            status      jira  10000   \n",
       "1  jvalkeal  2016-03-03 18:41:19.429  Pull Request URL    custom    NaN   \n",
       "2  jvalkeal  2016-03-03 18:41:19.429            status      jira      3   \n",
       "3  aliiqbal  2016-02-29 10:00:55.086           summary      jira    NaN   \n",
       "4  aliiqbal  2016-02-29 10:01:41.067         issuetype      jira      8   \n",
       "\n",
       "                                          fromString      key project     to  \\\n",
       "0                                              To Do  XD-3751      xd      3   \n",
       "1                                                NaN  XD-3751      xd    NaN   \n",
       "2                                        In Progress  XD-3751      xd  10006   \n",
       "3  Can completely remove module after putting pro...  XD-3750      xd    NaN   \n",
       "4                                              Story  XD-3750      xd      1   \n",
       "\n",
       "                                            toString  \n",
       "0                                        In Progress  \n",
       "1  https://github.com/spring-projects/spring-xd/p...  \n",
       "2                                              In PR  \n",
       "3  Can completely remove custom module after putt...  \n",
       "4                                                Bug  "
      ]
     },
     "execution_count": 682,
     "metadata": {},
     "output_type": "execute_result"
    }
   ],
   "source": [
    "changelog.head()"
   ]
  },
  {
   "cell_type": "markdown",
   "metadata": {},
   "source": [
    "Let's see what are the priority values in changelog dataset, and how many records has each of these priority value"
   ]
  },
  {
   "cell_type": "code",
   "execution_count": 707,
   "metadata": {},
   "outputs": [
    {
     "data": {
      "text/html": [
       "<div>\n",
       "<style scoped>\n",
       "    .dataframe tbody tr th:only-of-type {\n",
       "        vertical-align: middle;\n",
       "    }\n",
       "\n",
       "    .dataframe tbody tr th {\n",
       "        vertical-align: top;\n",
       "    }\n",
       "\n",
       "    .dataframe thead th {\n",
       "        text-align: right;\n",
       "    }\n",
       "</style>\n",
       "<table border=\"1\" class=\"dataframe\">\n",
       "  <thead>\n",
       "    <tr style=\"text-align: right;\">\n",
       "      <th></th>\n",
       "      <th>author</th>\n",
       "    </tr>\n",
       "    <tr>\n",
       "      <th>toString</th>\n",
       "      <th></th>\n",
       "    </tr>\n",
       "  </thead>\n",
       "  <tbody>\n",
       "    <tr>\n",
       "      <th>High</th>\n",
       "      <td>1978</td>\n",
       "    </tr>\n",
       "    <tr>\n",
       "      <th>Medium</th>\n",
       "      <td>1267</td>\n",
       "    </tr>\n",
       "    <tr>\n",
       "      <th>Critical</th>\n",
       "      <td>1031</td>\n",
       "    </tr>\n",
       "    <tr>\n",
       "      <th>Major</th>\n",
       "      <td>742</td>\n",
       "    </tr>\n",
       "    <tr>\n",
       "      <th>Low</th>\n",
       "      <td>670</td>\n",
       "    </tr>\n",
       "    <tr>\n",
       "      <th>Blocker</th>\n",
       "      <td>254</td>\n",
       "    </tr>\n",
       "    <tr>\n",
       "      <th>Minor</th>\n",
       "      <td>240</td>\n",
       "    </tr>\n",
       "    <tr>\n",
       "      <th>None</th>\n",
       "      <td>166</td>\n",
       "    </tr>\n",
       "    <tr>\n",
       "      <th>Trivial</th>\n",
       "      <td>89</td>\n",
       "    </tr>\n",
       "    <tr>\n",
       "      <th>To be reviewed</th>\n",
       "      <td>3</td>\n",
       "    </tr>\n",
       "  </tbody>\n",
       "</table>\n",
       "</div>"
      ],
      "text/plain": [
       "                author\n",
       "toString              \n",
       "High              1978\n",
       "Medium            1267\n",
       "Critical          1031\n",
       "Major              742\n",
       "Low                670\n",
       "Blocker            254\n",
       "Minor              240\n",
       "None               166\n",
       "Trivial             89\n",
       "To be reviewed       3"
      ]
     },
     "execution_count": 707,
     "metadata": {},
     "output_type": "execute_result"
    }
   ],
   "source": [
    "changelog[changelog['field']=='priority'][['toString', 'author']].groupby(\n",
    "    'toString').count().sort_values('author', ascending=False)"
   ]
  },
  {
   "cell_type": "markdown",
   "metadata": {},
   "source": [
    "Let's define our own priority categories and assign changelog priority names to the ones we defined. \n",
    "Then, create separate datasets for each of these defined priorities, by filtering the changelog dataset, and then aggregate these datasets to take only the user and the number of the rows."
   ]
  },
  {
   "cell_type": "code",
   "execution_count": 708,
   "metadata": {},
   "outputs": [],
   "source": [
    "_high = ['High', 'Critical', 'Blocker']\n",
    "_medium = ['Medium', 'Major']\n",
    "_low = ['Low', 'Minor', 'None', 'Trivial', 'To be reviewed']"
   ]
  },
  {
   "cell_type": "code",
   "execution_count": 709,
   "metadata": {},
   "outputs": [],
   "source": [
    "log_high = changelog[(changelog['field']=='priority') & (changelog['toString'].isin(_high))]\n",
    "log_medium = changelog[(changelog['field']=='priority') & (changelog['toString'].isin(_medium))]\n",
    "log_low = changelog[(changelog['field']=='priority') & (changelog['toString'].isin(_low))]"
   ]
  },
  {
   "cell_type": "code",
   "execution_count": 713,
   "metadata": {},
   "outputs": [],
   "source": [
    "high_prioritization = log_high.groupby('author').agg({'created':'count'})\n",
    "high_prioritization.reset_index(level= [0], inplace=True)\n",
    "\n",
    "medium_prioritization = log_medium.groupby('author').agg({'created':'count'})\n",
    "medium_prioritization.reset_index(level= [0], inplace=True)\n",
    "\n",
    "low_prioritization = log_low.groupby('author').agg({'created':'count'})\n",
    "low_prioritization.reset_index(level= [0], inplace=True)\n"
   ]
  },
  {
   "cell_type": "code",
   "execution_count": 714,
   "metadata": {},
   "outputs": [
    {
     "name": "stdout",
     "output_type": "stream",
     "text": [
      "162 116 107\n"
     ]
    }
   ],
   "source": [
    "print(high_prioritization.shape[0], medium_prioritization.shape[0], low_prioritization.shape[0])"
   ]
  },
  {
   "cell_type": "code",
   "execution_count": 715,
   "metadata": {},
   "outputs": [],
   "source": [
    "users_personalities_priorities = pd.merge(\n",
    "    pd.merge(\n",
    "        pd.merge(user_personalities, high_prioritization, how = 'left', left_on = 'user', right_on = 'author'),\n",
    "            medium_prioritization, how = 'left', left_on = 'user', right_on = 'author'),\n",
    "                low_prioritization, how = 'left', left_on = 'user', right_on = 'author')[['user', 'emailAddress', 'created', 'created_x', 'created_y']]"
   ]
  },
  {
   "cell_type": "code",
   "execution_count": 717,
   "metadata": {},
   "outputs": [
    {
     "data": {
      "text/html": [
       "<div>\n",
       "<style scoped>\n",
       "    .dataframe tbody tr th:only-of-type {\n",
       "        vertical-align: middle;\n",
       "    }\n",
       "\n",
       "    .dataframe tbody tr th {\n",
       "        vertical-align: top;\n",
       "    }\n",
       "\n",
       "    .dataframe thead th {\n",
       "        text-align: right;\n",
       "    }\n",
       "</style>\n",
       "<table border=\"1\" class=\"dataframe\">\n",
       "  <thead>\n",
       "    <tr style=\"text-align: right;\">\n",
       "      <th></th>\n",
       "      <th>user</th>\n",
       "      <th>emailAddress</th>\n",
       "      <th>created</th>\n",
       "      <th>created_x</th>\n",
       "      <th>created_y</th>\n",
       "    </tr>\n",
       "  </thead>\n",
       "  <tbody>\n",
       "    <tr>\n",
       "      <th>0</th>\n",
       "      <td>grussell</td>\n",
       "      <td>grussell@gopivotal.com</td>\n",
       "      <td>nan</td>\n",
       "      <td>1.000</td>\n",
       "      <td>nan</td>\n",
       "    </tr>\n",
       "    <tr>\n",
       "      <th>1</th>\n",
       "      <td>mark.pollack</td>\n",
       "      <td>mpollack@gopivotal.com</td>\n",
       "      <td>9.000</td>\n",
       "      <td>9.000</td>\n",
       "      <td>75.000</td>\n",
       "    </tr>\n",
       "    <tr>\n",
       "      <th>2</th>\n",
       "      <td>david_geary</td>\n",
       "      <td>d.geary@sophiasearch.com</td>\n",
       "      <td>nan</td>\n",
       "      <td>nan</td>\n",
       "      <td>nan</td>\n",
       "    </tr>\n",
       "    <tr>\n",
       "      <th>3</th>\n",
       "      <td>dturanski</td>\n",
       "      <td>dturanski@gopivotal.com</td>\n",
       "      <td>nan</td>\n",
       "      <td>nan</td>\n",
       "      <td>2.000</td>\n",
       "    </tr>\n",
       "    <tr>\n",
       "      <th>4</th>\n",
       "      <td>sabby</td>\n",
       "      <td>sanandan@pivotal.io</td>\n",
       "      <td>4.000</td>\n",
       "      <td>2.000</td>\n",
       "      <td>2.000</td>\n",
       "    </tr>\n",
       "  </tbody>\n",
       "</table>\n",
       "</div>"
      ],
      "text/plain": [
       "           user              emailAddress  created  created_x  created_y\n",
       "0      grussell    grussell@gopivotal.com      nan      1.000        nan\n",
       "1  mark.pollack    mpollack@gopivotal.com    9.000      9.000     75.000\n",
       "2   david_geary  d.geary@sophiasearch.com      nan        nan        nan\n",
       "3     dturanski   dturanski@gopivotal.com      nan        nan      2.000\n",
       "4         sabby       sanandan@pivotal.io    4.000      2.000      2.000"
      ]
     },
     "execution_count": 717,
     "metadata": {},
     "output_type": "execute_result"
    }
   ],
   "source": [
    "users_personalities_priorities.head()"
   ]
  },
  {
   "cell_type": "markdown",
   "metadata": {},
   "source": [
    "properly assign the priority names to columns not to mix them"
   ]
  },
  {
   "cell_type": "code",
   "execution_count": 719,
   "metadata": {},
   "outputs": [
    {
     "name": "stdout",
     "output_type": "stream",
     "text": [
      "             user        emailAddress  created  created_x  created_y\n",
      "23  Alexey.tregub                   -      nan      3.000      1.000\n",
      "26    KenGrierson                   -      nan     17.000      1.000\n",
      "46     adam-mesos  adam@mesosphere.io    2.000      8.000      2.000 \n",
      "---high below\n",
      "              author  created\n",
      "0      Alexey.tregub        3\n",
      "1        KenGrierson       17\n",
      "2  Natasha.zavorotny        1 \n",
      "--medium below\n",
      "          author  created\n",
      "0  Alexey.tregub        1\n",
      "1    KenGrierson        1\n",
      "2     abhineet27        1 \n",
      "--low below\n",
      "       author  created\n",
      "0        Will        1\n",
      "1  adam-mesos        2\n",
      "2  aeisenberg        1\n"
     ]
    }
   ],
   "source": [
    "print(users_personalities_priorities.sort_values('user').head(3), '\\n---high below')\n",
    "print(high_prioritization.sort_values('author').head(3), '\\n--medium below')\n",
    "print(medium_prioritization.sort_values('author').head(3), '\\n--low below')\n",
    "print(low_prioritization.sort_values('author').head(3))"
   ]
  },
  {
   "cell_type": "code",
   "execution_count": 725,
   "metadata": {},
   "outputs": [],
   "source": [
    "users_personalities_priorities = users_personalities_priorities.rename(\n",
    "    columns={'created':'low', 'created_x':'high', 'created_y':'medium'})"
   ]
  },
  {
   "cell_type": "code",
   "execution_count": 726,
   "metadata": {},
   "outputs": [
    {
     "data": {
      "text/html": [
       "<div>\n",
       "<style scoped>\n",
       "    .dataframe tbody tr th:only-of-type {\n",
       "        vertical-align: middle;\n",
       "    }\n",
       "\n",
       "    .dataframe tbody tr th {\n",
       "        vertical-align: top;\n",
       "    }\n",
       "\n",
       "    .dataframe thead th {\n",
       "        text-align: right;\n",
       "    }\n",
       "</style>\n",
       "<table border=\"1\" class=\"dataframe\">\n",
       "  <thead>\n",
       "    <tr style=\"text-align: right;\">\n",
       "      <th></th>\n",
       "      <th>user</th>\n",
       "      <th>emailAddress</th>\n",
       "      <th>low</th>\n",
       "      <th>high</th>\n",
       "      <th>medium</th>\n",
       "    </tr>\n",
       "  </thead>\n",
       "  <tbody>\n",
       "    <tr>\n",
       "      <th>0</th>\n",
       "      <td>grussell</td>\n",
       "      <td>grussell@gopivotal.com</td>\n",
       "      <td>nan</td>\n",
       "      <td>1.000</td>\n",
       "      <td>nan</td>\n",
       "    </tr>\n",
       "    <tr>\n",
       "      <th>1</th>\n",
       "      <td>mark.pollack</td>\n",
       "      <td>mpollack@gopivotal.com</td>\n",
       "      <td>9.000</td>\n",
       "      <td>9.000</td>\n",
       "      <td>75.000</td>\n",
       "    </tr>\n",
       "    <tr>\n",
       "      <th>2</th>\n",
       "      <td>david_geary</td>\n",
       "      <td>d.geary@sophiasearch.com</td>\n",
       "      <td>nan</td>\n",
       "      <td>nan</td>\n",
       "      <td>nan</td>\n",
       "    </tr>\n",
       "    <tr>\n",
       "      <th>3</th>\n",
       "      <td>dturanski</td>\n",
       "      <td>dturanski@gopivotal.com</td>\n",
       "      <td>nan</td>\n",
       "      <td>nan</td>\n",
       "      <td>2.000</td>\n",
       "    </tr>\n",
       "    <tr>\n",
       "      <th>4</th>\n",
       "      <td>sabby</td>\n",
       "      <td>sanandan@pivotal.io</td>\n",
       "      <td>4.000</td>\n",
       "      <td>2.000</td>\n",
       "      <td>2.000</td>\n",
       "    </tr>\n",
       "  </tbody>\n",
       "</table>\n",
       "</div>"
      ],
      "text/plain": [
       "           user              emailAddress   low  high  medium\n",
       "0      grussell    grussell@gopivotal.com   nan 1.000     nan\n",
       "1  mark.pollack    mpollack@gopivotal.com 9.000 9.000  75.000\n",
       "2   david_geary  d.geary@sophiasearch.com   nan   nan     nan\n",
       "3     dturanski   dturanski@gopivotal.com   nan   nan   2.000\n",
       "4         sabby       sanandan@pivotal.io 4.000 2.000   2.000"
      ]
     },
     "execution_count": 726,
     "metadata": {},
     "output_type": "execute_result"
    }
   ],
   "source": [
    "users_personalities_priorities.head()"
   ]
  },
  {
   "cell_type": "markdown",
   "metadata": {},
   "source": [
    "Check how many from these users have all three priority tasks available, and the number of users that have at least one piroritization available"
   ]
  },
  {
   "cell_type": "code",
   "execution_count": 728,
   "metadata": {},
   "outputs": [
    {
     "name": "stdout",
     "output_type": "stream",
     "text": [
      "33\n",
      "81\n"
     ]
    }
   ],
   "source": [
    "print(users_personalities_priorities[(pd.isnull(users_personalities_priorities['low'])==False)\n",
    "                         & (pd.isnull(users_personalities_priorities['medium'])==False)\n",
    "                         & (pd.isnull(users_personalities_priorities['high'])==False)].shape[0])\n",
    "print(users_personalities_priorities[(pd.isnull(users_personalities_priorities['low'])==False)\n",
    "                         | (pd.isnull(users_personalities_priorities['medium'])==False)\n",
    "                         | (pd.isnull(users_personalities_priorities['high'])==False)].shape[0])"
   ]
  },
  {
   "cell_type": "code",
   "execution_count": null,
   "metadata": {},
   "outputs": [],
   "source": []
  },
  {
   "cell_type": "code",
   "execution_count": null,
   "metadata": {},
   "outputs": [],
   "source": []
  },
  {
   "cell_type": "code",
   "execution_count": null,
   "metadata": {},
   "outputs": [],
   "source": []
  },
  {
   "cell_type": "code",
   "execution_count": null,
   "metadata": {},
   "outputs": [],
   "source": []
  },
  {
   "cell_type": "markdown",
   "metadata": {},
   "source": [
    "<h1> <font color='red'> !!!</font> </h1>\n",
    "<h2> All Code below is still under the development and experimental. Should not be taken into account yet <h2>"
   ]
  },
  {
   "cell_type": "code",
   "execution_count": 362,
   "metadata": {},
   "outputs": [
    {
     "name": "stdout",
     "output_type": "stream",
     "text": [
      "12011 11940\n"
     ]
    }
   ],
   "source": [
    "import pandasql as ps\n",
    "print(changelog_to_inprogress.shape[0], changelog_from_inprogress.shape[0])"
   ]
  },
  {
   "cell_type": "code",
   "execution_count": 372,
   "metadata": {},
   "outputs": [
    {
     "ename": "PandaSQLException",
     "evalue": "(sqlite3.OperationalError) near \"OUTTER\": syntax error\n[SQL: \nSELECT count(*)\nFROM changelog_from_inprogress AS F\nOUTTER APPLY (\n    SELECT * \n    FROM changelog_to_inprogress AS T\n    WHERE (1 = 1)\n        AND F.key = T.key \n        AND F.project = T.project \n        AND F.created > T.created\n    LIMIT 1) AS T\n]\n(Background on this error at: http://sqlalche.me/e/e3q8)",
     "output_type": "error",
     "traceback": [
      "\u001b[1;31m---------------------------------------------------------------------------\u001b[0m",
      "\u001b[1;31mOperationalError\u001b[0m                          Traceback (most recent call last)",
      "\u001b[1;32mC:\\ProgramData\\Anaconda3\\lib\\site-packages\\sqlalchemy\\engine\\base.py\u001b[0m in \u001b[0;36m_execute_context\u001b[1;34m(self, dialect, constructor, statement, parameters, *args)\u001b[0m\n\u001b[0;32m   1243\u001b[0m                     self.dialect.do_execute(\n\u001b[1;32m-> 1244\u001b[1;33m                         \u001b[0mcursor\u001b[0m\u001b[1;33m,\u001b[0m \u001b[0mstatement\u001b[0m\u001b[1;33m,\u001b[0m \u001b[0mparameters\u001b[0m\u001b[1;33m,\u001b[0m \u001b[0mcontext\u001b[0m\u001b[1;33m\u001b[0m\u001b[1;33m\u001b[0m\u001b[0m\n\u001b[0m\u001b[0;32m   1245\u001b[0m                     )\n",
      "\u001b[1;32mC:\\ProgramData\\Anaconda3\\lib\\site-packages\\sqlalchemy\\engine\\default.py\u001b[0m in \u001b[0;36mdo_execute\u001b[1;34m(self, cursor, statement, parameters, context)\u001b[0m\n\u001b[0;32m    551\u001b[0m     \u001b[1;32mdef\u001b[0m \u001b[0mdo_execute\u001b[0m\u001b[1;33m(\u001b[0m\u001b[0mself\u001b[0m\u001b[1;33m,\u001b[0m \u001b[0mcursor\u001b[0m\u001b[1;33m,\u001b[0m \u001b[0mstatement\u001b[0m\u001b[1;33m,\u001b[0m \u001b[0mparameters\u001b[0m\u001b[1;33m,\u001b[0m \u001b[0mcontext\u001b[0m\u001b[1;33m=\u001b[0m\u001b[1;32mNone\u001b[0m\u001b[1;33m)\u001b[0m\u001b[1;33m:\u001b[0m\u001b[1;33m\u001b[0m\u001b[1;33m\u001b[0m\u001b[0m\n\u001b[1;32m--> 552\u001b[1;33m         \u001b[0mcursor\u001b[0m\u001b[1;33m.\u001b[0m\u001b[0mexecute\u001b[0m\u001b[1;33m(\u001b[0m\u001b[0mstatement\u001b[0m\u001b[1;33m,\u001b[0m \u001b[0mparameters\u001b[0m\u001b[1;33m)\u001b[0m\u001b[1;33m\u001b[0m\u001b[1;33m\u001b[0m\u001b[0m\n\u001b[0m\u001b[0;32m    553\u001b[0m \u001b[1;33m\u001b[0m\u001b[0m\n",
      "\u001b[1;31mOperationalError\u001b[0m: near \"OUTTER\": syntax error",
      "\nThe above exception was the direct cause of the following exception:\n",
      "\u001b[1;31mOperationalError\u001b[0m                          Traceback (most recent call last)",
      "\u001b[1;32mC:\\ProgramData\\Anaconda3\\lib\\site-packages\\pandasql\\sqldf.py\u001b[0m in \u001b[0;36m__call__\u001b[1;34m(self, query, env)\u001b[0m\n\u001b[0;32m     60\u001b[0m             \u001b[1;32mtry\u001b[0m\u001b[1;33m:\u001b[0m\u001b[1;33m\u001b[0m\u001b[1;33m\u001b[0m\u001b[0m\n\u001b[1;32m---> 61\u001b[1;33m                 \u001b[0mresult\u001b[0m \u001b[1;33m=\u001b[0m \u001b[0mread_sql\u001b[0m\u001b[1;33m(\u001b[0m\u001b[0mquery\u001b[0m\u001b[1;33m,\u001b[0m \u001b[0mconn\u001b[0m\u001b[1;33m)\u001b[0m\u001b[1;33m\u001b[0m\u001b[1;33m\u001b[0m\u001b[0m\n\u001b[0m\u001b[0;32m     62\u001b[0m             \u001b[1;32mexcept\u001b[0m \u001b[0mDatabaseError\u001b[0m \u001b[1;32mas\u001b[0m \u001b[0mex\u001b[0m\u001b[1;33m:\u001b[0m\u001b[1;33m\u001b[0m\u001b[1;33m\u001b[0m\u001b[0m\n",
      "\u001b[1;32mC:\\ProgramData\\Anaconda3\\lib\\site-packages\\pandas\\io\\sql.py\u001b[0m in \u001b[0;36mread_sql\u001b[1;34m(sql, con, index_col, coerce_float, params, parse_dates, columns, chunksize)\u001b[0m\n\u001b[0;32m    396\u001b[0m             \u001b[0mcoerce_float\u001b[0m\u001b[1;33m=\u001b[0m\u001b[0mcoerce_float\u001b[0m\u001b[1;33m,\u001b[0m \u001b[0mparse_dates\u001b[0m\u001b[1;33m=\u001b[0m\u001b[0mparse_dates\u001b[0m\u001b[1;33m,\u001b[0m\u001b[1;33m\u001b[0m\u001b[1;33m\u001b[0m\u001b[0m\n\u001b[1;32m--> 397\u001b[1;33m             chunksize=chunksize)\n\u001b[0m\u001b[0;32m    398\u001b[0m \u001b[1;33m\u001b[0m\u001b[0m\n",
      "\u001b[1;32mC:\\ProgramData\\Anaconda3\\lib\\site-packages\\pandas\\io\\sql.py\u001b[0m in \u001b[0;36mread_query\u001b[1;34m(self, sql, index_col, coerce_float, parse_dates, params, chunksize)\u001b[0m\n\u001b[0;32m   1098\u001b[0m \u001b[1;33m\u001b[0m\u001b[0m\n\u001b[1;32m-> 1099\u001b[1;33m         \u001b[0mresult\u001b[0m \u001b[1;33m=\u001b[0m \u001b[0mself\u001b[0m\u001b[1;33m.\u001b[0m\u001b[0mexecute\u001b[0m\u001b[1;33m(\u001b[0m\u001b[1;33m*\u001b[0m\u001b[0margs\u001b[0m\u001b[1;33m)\u001b[0m\u001b[1;33m\u001b[0m\u001b[1;33m\u001b[0m\u001b[0m\n\u001b[0m\u001b[0;32m   1100\u001b[0m         \u001b[0mcolumns\u001b[0m \u001b[1;33m=\u001b[0m \u001b[0mresult\u001b[0m\u001b[1;33m.\u001b[0m\u001b[0mkeys\u001b[0m\u001b[1;33m(\u001b[0m\u001b[1;33m)\u001b[0m\u001b[1;33m\u001b[0m\u001b[1;33m\u001b[0m\u001b[0m\n",
      "\u001b[1;32mC:\\ProgramData\\Anaconda3\\lib\\site-packages\\pandas\\io\\sql.py\u001b[0m in \u001b[0;36mexecute\u001b[1;34m(self, *args, **kwargs)\u001b[0m\n\u001b[0;32m    989\u001b[0m         \u001b[1;34m\"\"\"Simple passthrough to SQLAlchemy connectable\"\"\"\u001b[0m\u001b[1;33m\u001b[0m\u001b[1;33m\u001b[0m\u001b[0m\n\u001b[1;32m--> 990\u001b[1;33m         \u001b[1;32mreturn\u001b[0m \u001b[0mself\u001b[0m\u001b[1;33m.\u001b[0m\u001b[0mconnectable\u001b[0m\u001b[1;33m.\u001b[0m\u001b[0mexecute\u001b[0m\u001b[1;33m(\u001b[0m\u001b[1;33m*\u001b[0m\u001b[0margs\u001b[0m\u001b[1;33m,\u001b[0m \u001b[1;33m**\u001b[0m\u001b[0mkwargs\u001b[0m\u001b[1;33m)\u001b[0m\u001b[1;33m\u001b[0m\u001b[1;33m\u001b[0m\u001b[0m\n\u001b[0m\u001b[0;32m    991\u001b[0m \u001b[1;33m\u001b[0m\u001b[0m\n",
      "\u001b[1;32mC:\\ProgramData\\Anaconda3\\lib\\site-packages\\sqlalchemy\\engine\\base.py\u001b[0m in \u001b[0;36mexecute\u001b[1;34m(self, object_, *multiparams, **params)\u001b[0m\n\u001b[0;32m    981\u001b[0m         \u001b[1;32mif\u001b[0m \u001b[0misinstance\u001b[0m\u001b[1;33m(\u001b[0m\u001b[0mobject_\u001b[0m\u001b[1;33m,\u001b[0m \u001b[0mutil\u001b[0m\u001b[1;33m.\u001b[0m\u001b[0mstring_types\u001b[0m\u001b[1;33m[\u001b[0m\u001b[1;36m0\u001b[0m\u001b[1;33m]\u001b[0m\u001b[1;33m)\u001b[0m\u001b[1;33m:\u001b[0m\u001b[1;33m\u001b[0m\u001b[1;33m\u001b[0m\u001b[0m\n\u001b[1;32m--> 982\u001b[1;33m             \u001b[1;32mreturn\u001b[0m \u001b[0mself\u001b[0m\u001b[1;33m.\u001b[0m\u001b[0m_execute_text\u001b[0m\u001b[1;33m(\u001b[0m\u001b[0mobject_\u001b[0m\u001b[1;33m,\u001b[0m \u001b[0mmultiparams\u001b[0m\u001b[1;33m,\u001b[0m \u001b[0mparams\u001b[0m\u001b[1;33m)\u001b[0m\u001b[1;33m\u001b[0m\u001b[1;33m\u001b[0m\u001b[0m\n\u001b[0m\u001b[0;32m    983\u001b[0m         \u001b[1;32mtry\u001b[0m\u001b[1;33m:\u001b[0m\u001b[1;33m\u001b[0m\u001b[1;33m\u001b[0m\u001b[0m\n",
      "\u001b[1;32mC:\\ProgramData\\Anaconda3\\lib\\site-packages\\sqlalchemy\\engine\\base.py\u001b[0m in \u001b[0;36m_execute_text\u001b[1;34m(self, statement, multiparams, params)\u001b[0m\n\u001b[0;32m   1154\u001b[0m             \u001b[0mstatement\u001b[0m\u001b[1;33m,\u001b[0m\u001b[1;33m\u001b[0m\u001b[1;33m\u001b[0m\u001b[0m\n\u001b[1;32m-> 1155\u001b[1;33m             \u001b[0mparameters\u001b[0m\u001b[1;33m,\u001b[0m\u001b[1;33m\u001b[0m\u001b[1;33m\u001b[0m\u001b[0m\n\u001b[0m\u001b[0;32m   1156\u001b[0m         )\n",
      "\u001b[1;32mC:\\ProgramData\\Anaconda3\\lib\\site-packages\\sqlalchemy\\engine\\base.py\u001b[0m in \u001b[0;36m_execute_context\u001b[1;34m(self, dialect, constructor, statement, parameters, *args)\u001b[0m\n\u001b[0;32m   1247\u001b[0m             self._handle_dbapi_exception(\n\u001b[1;32m-> 1248\u001b[1;33m                 \u001b[0me\u001b[0m\u001b[1;33m,\u001b[0m \u001b[0mstatement\u001b[0m\u001b[1;33m,\u001b[0m \u001b[0mparameters\u001b[0m\u001b[1;33m,\u001b[0m \u001b[0mcursor\u001b[0m\u001b[1;33m,\u001b[0m \u001b[0mcontext\u001b[0m\u001b[1;33m\u001b[0m\u001b[1;33m\u001b[0m\u001b[0m\n\u001b[0m\u001b[0;32m   1249\u001b[0m             )\n",
      "\u001b[1;32mC:\\ProgramData\\Anaconda3\\lib\\site-packages\\sqlalchemy\\engine\\base.py\u001b[0m in \u001b[0;36m_handle_dbapi_exception\u001b[1;34m(self, e, statement, parameters, cursor, context)\u001b[0m\n\u001b[0;32m   1465\u001b[0m             \u001b[1;32melif\u001b[0m \u001b[0mshould_wrap\u001b[0m\u001b[1;33m:\u001b[0m\u001b[1;33m\u001b[0m\u001b[1;33m\u001b[0m\u001b[0m\n\u001b[1;32m-> 1466\u001b[1;33m                 \u001b[0mutil\u001b[0m\u001b[1;33m.\u001b[0m\u001b[0mraise_from_cause\u001b[0m\u001b[1;33m(\u001b[0m\u001b[0msqlalchemy_exception\u001b[0m\u001b[1;33m,\u001b[0m \u001b[0mexc_info\u001b[0m\u001b[1;33m)\u001b[0m\u001b[1;33m\u001b[0m\u001b[1;33m\u001b[0m\u001b[0m\n\u001b[0m\u001b[0;32m   1467\u001b[0m             \u001b[1;32melse\u001b[0m\u001b[1;33m:\u001b[0m\u001b[1;33m\u001b[0m\u001b[1;33m\u001b[0m\u001b[0m\n",
      "\u001b[1;32mC:\\ProgramData\\Anaconda3\\lib\\site-packages\\sqlalchemy\\util\\compat.py\u001b[0m in \u001b[0;36mraise_from_cause\u001b[1;34m(exception, exc_info)\u001b[0m\n\u001b[0;32m    382\u001b[0m     \u001b[0mcause\u001b[0m \u001b[1;33m=\u001b[0m \u001b[0mexc_value\u001b[0m \u001b[1;32mif\u001b[0m \u001b[0mexc_value\u001b[0m \u001b[1;32mis\u001b[0m \u001b[1;32mnot\u001b[0m \u001b[0mexception\u001b[0m \u001b[1;32melse\u001b[0m \u001b[1;32mNone\u001b[0m\u001b[1;33m\u001b[0m\u001b[1;33m\u001b[0m\u001b[0m\n\u001b[1;32m--> 383\u001b[1;33m     \u001b[0mreraise\u001b[0m\u001b[1;33m(\u001b[0m\u001b[0mtype\u001b[0m\u001b[1;33m(\u001b[0m\u001b[0mexception\u001b[0m\u001b[1;33m)\u001b[0m\u001b[1;33m,\u001b[0m \u001b[0mexception\u001b[0m\u001b[1;33m,\u001b[0m \u001b[0mtb\u001b[0m\u001b[1;33m=\u001b[0m\u001b[0mexc_tb\u001b[0m\u001b[1;33m,\u001b[0m \u001b[0mcause\u001b[0m\u001b[1;33m=\u001b[0m\u001b[0mcause\u001b[0m\u001b[1;33m)\u001b[0m\u001b[1;33m\u001b[0m\u001b[1;33m\u001b[0m\u001b[0m\n\u001b[0m\u001b[0;32m    384\u001b[0m \u001b[1;33m\u001b[0m\u001b[0m\n",
      "\u001b[1;32mC:\\ProgramData\\Anaconda3\\lib\\site-packages\\sqlalchemy\\util\\compat.py\u001b[0m in \u001b[0;36mreraise\u001b[1;34m(tp, value, tb, cause)\u001b[0m\n\u001b[0;32m    127\u001b[0m         \u001b[1;32mif\u001b[0m \u001b[0mvalue\u001b[0m\u001b[1;33m.\u001b[0m\u001b[0m__traceback__\u001b[0m \u001b[1;32mis\u001b[0m \u001b[1;32mnot\u001b[0m \u001b[0mtb\u001b[0m\u001b[1;33m:\u001b[0m\u001b[1;33m\u001b[0m\u001b[1;33m\u001b[0m\u001b[0m\n\u001b[1;32m--> 128\u001b[1;33m             \u001b[1;32mraise\u001b[0m \u001b[0mvalue\u001b[0m\u001b[1;33m.\u001b[0m\u001b[0mwith_traceback\u001b[0m\u001b[1;33m(\u001b[0m\u001b[0mtb\u001b[0m\u001b[1;33m)\u001b[0m\u001b[1;33m\u001b[0m\u001b[1;33m\u001b[0m\u001b[0m\n\u001b[0m\u001b[0;32m    129\u001b[0m         \u001b[1;32mraise\u001b[0m \u001b[0mvalue\u001b[0m\u001b[1;33m\u001b[0m\u001b[1;33m\u001b[0m\u001b[0m\n",
      "\u001b[1;32mC:\\ProgramData\\Anaconda3\\lib\\site-packages\\sqlalchemy\\engine\\base.py\u001b[0m in \u001b[0;36m_execute_context\u001b[1;34m(self, dialect, constructor, statement, parameters, *args)\u001b[0m\n\u001b[0;32m   1243\u001b[0m                     self.dialect.do_execute(\n\u001b[1;32m-> 1244\u001b[1;33m                         \u001b[0mcursor\u001b[0m\u001b[1;33m,\u001b[0m \u001b[0mstatement\u001b[0m\u001b[1;33m,\u001b[0m \u001b[0mparameters\u001b[0m\u001b[1;33m,\u001b[0m \u001b[0mcontext\u001b[0m\u001b[1;33m\u001b[0m\u001b[1;33m\u001b[0m\u001b[0m\n\u001b[0m\u001b[0;32m   1245\u001b[0m                     )\n",
      "\u001b[1;32mC:\\ProgramData\\Anaconda3\\lib\\site-packages\\sqlalchemy\\engine\\default.py\u001b[0m in \u001b[0;36mdo_execute\u001b[1;34m(self, cursor, statement, parameters, context)\u001b[0m\n\u001b[0;32m    551\u001b[0m     \u001b[1;32mdef\u001b[0m \u001b[0mdo_execute\u001b[0m\u001b[1;33m(\u001b[0m\u001b[0mself\u001b[0m\u001b[1;33m,\u001b[0m \u001b[0mcursor\u001b[0m\u001b[1;33m,\u001b[0m \u001b[0mstatement\u001b[0m\u001b[1;33m,\u001b[0m \u001b[0mparameters\u001b[0m\u001b[1;33m,\u001b[0m \u001b[0mcontext\u001b[0m\u001b[1;33m=\u001b[0m\u001b[1;32mNone\u001b[0m\u001b[1;33m)\u001b[0m\u001b[1;33m:\u001b[0m\u001b[1;33m\u001b[0m\u001b[1;33m\u001b[0m\u001b[0m\n\u001b[1;32m--> 552\u001b[1;33m         \u001b[0mcursor\u001b[0m\u001b[1;33m.\u001b[0m\u001b[0mexecute\u001b[0m\u001b[1;33m(\u001b[0m\u001b[0mstatement\u001b[0m\u001b[1;33m,\u001b[0m \u001b[0mparameters\u001b[0m\u001b[1;33m)\u001b[0m\u001b[1;33m\u001b[0m\u001b[1;33m\u001b[0m\u001b[0m\n\u001b[0m\u001b[0;32m    553\u001b[0m \u001b[1;33m\u001b[0m\u001b[0m\n",
      "\u001b[1;31mOperationalError\u001b[0m: (sqlite3.OperationalError) near \"OUTTER\": syntax error\n[SQL: \nSELECT count(*)\nFROM changelog_from_inprogress AS F\nOUTTER APPLY (\n    SELECT * \n    FROM changelog_to_inprogress AS T\n    WHERE (1 = 1)\n        AND F.key = T.key \n        AND F.project = T.project \n        AND F.created > T.created\n    LIMIT 1) AS T\n]\n(Background on this error at: http://sqlalche.me/e/e3q8)",
      "\nDuring handling of the above exception, another exception occurred:\n",
      "\u001b[1;31mPandaSQLException\u001b[0m                         Traceback (most recent call last)",
      "\u001b[1;32m<ipython-input-372-08b56c6adae5>\u001b[0m in \u001b[0;36m<module>\u001b[1;34m\u001b[0m\n\u001b[0;32m     12\u001b[0m \"\"\"\n\u001b[0;32m     13\u001b[0m \u001b[1;33m\u001b[0m\u001b[0m\n\u001b[1;32m---> 14\u001b[1;33m \u001b[0mprint\u001b[0m\u001b[1;33m(\u001b[0m\u001b[0mps\u001b[0m\u001b[1;33m.\u001b[0m\u001b[0msqldf\u001b[0m\u001b[1;33m(\u001b[0m\u001b[0mq1\u001b[0m\u001b[1;33m,\u001b[0m \u001b[0mlocals\u001b[0m\u001b[1;33m(\u001b[0m\u001b[1;33m)\u001b[0m\u001b[1;33m)\u001b[0m\u001b[1;33m)\u001b[0m\u001b[1;33m\u001b[0m\u001b[1;33m\u001b[0m\u001b[0m\n\u001b[0m",
      "\u001b[1;32mC:\\ProgramData\\Anaconda3\\lib\\site-packages\\pandasql\\sqldf.py\u001b[0m in \u001b[0;36msqldf\u001b[1;34m(query, env, db_uri)\u001b[0m\n\u001b[0;32m    154\u001b[0m     \u001b[1;33m>>\u001b[0m\u001b[1;33m>\u001b[0m \u001b[0msqldf\u001b[0m\u001b[1;33m(\u001b[0m\u001b[1;34m\"select avg(x) from df;\"\u001b[0m\u001b[1;33m,\u001b[0m \u001b[0mlocals\u001b[0m\u001b[1;33m(\u001b[0m\u001b[1;33m)\u001b[0m\u001b[1;33m)\u001b[0m\u001b[1;33m\u001b[0m\u001b[1;33m\u001b[0m\u001b[0m\n\u001b[0;32m    155\u001b[0m     \"\"\"\n\u001b[1;32m--> 156\u001b[1;33m     \u001b[1;32mreturn\u001b[0m \u001b[0mPandaSQL\u001b[0m\u001b[1;33m(\u001b[0m\u001b[0mdb_uri\u001b[0m\u001b[1;33m)\u001b[0m\u001b[1;33m(\u001b[0m\u001b[0mquery\u001b[0m\u001b[1;33m,\u001b[0m \u001b[0menv\u001b[0m\u001b[1;33m)\u001b[0m\u001b[1;33m\u001b[0m\u001b[1;33m\u001b[0m\u001b[0m\n\u001b[0m",
      "\u001b[1;32mC:\\ProgramData\\Anaconda3\\lib\\site-packages\\pandasql\\sqldf.py\u001b[0m in \u001b[0;36m__call__\u001b[1;34m(self, query, env)\u001b[0m\n\u001b[0;32m     61\u001b[0m                 \u001b[0mresult\u001b[0m \u001b[1;33m=\u001b[0m \u001b[0mread_sql\u001b[0m\u001b[1;33m(\u001b[0m\u001b[0mquery\u001b[0m\u001b[1;33m,\u001b[0m \u001b[0mconn\u001b[0m\u001b[1;33m)\u001b[0m\u001b[1;33m\u001b[0m\u001b[1;33m\u001b[0m\u001b[0m\n\u001b[0;32m     62\u001b[0m             \u001b[1;32mexcept\u001b[0m \u001b[0mDatabaseError\u001b[0m \u001b[1;32mas\u001b[0m \u001b[0mex\u001b[0m\u001b[1;33m:\u001b[0m\u001b[1;33m\u001b[0m\u001b[1;33m\u001b[0m\u001b[0m\n\u001b[1;32m---> 63\u001b[1;33m                 \u001b[1;32mraise\u001b[0m \u001b[0mPandaSQLException\u001b[0m\u001b[1;33m(\u001b[0m\u001b[0mex\u001b[0m\u001b[1;33m)\u001b[0m\u001b[1;33m\u001b[0m\u001b[1;33m\u001b[0m\u001b[0m\n\u001b[0m\u001b[0;32m     64\u001b[0m             \u001b[1;32mexcept\u001b[0m \u001b[0mResourceClosedError\u001b[0m\u001b[1;33m:\u001b[0m\u001b[1;33m\u001b[0m\u001b[1;33m\u001b[0m\u001b[0m\n\u001b[0;32m     65\u001b[0m                 \u001b[1;31m# query returns nothing\u001b[0m\u001b[1;33m\u001b[0m\u001b[1;33m\u001b[0m\u001b[1;33m\u001b[0m\u001b[0m\n",
      "\u001b[1;31mPandaSQLException\u001b[0m: (sqlite3.OperationalError) near \"OUTTER\": syntax error\n[SQL: \nSELECT count(*)\nFROM changelog_from_inprogress AS F\nOUTTER APPLY (\n    SELECT * \n    FROM changelog_to_inprogress AS T\n    WHERE (1 = 1)\n        AND F.key = T.key \n        AND F.project = T.project \n        AND F.created > T.created\n    LIMIT 1) AS T\n]\n(Background on this error at: http://sqlalche.me/e/e3q8)"
     ]
    }
   ],
   "source": [
    "q1 = \"\"\"\n",
    "SELECT count(*)\n",
    "FROM changelog_from_inprogress AS F\n",
    "OUTTER APPLY (\n",
    "    SELECT * \n",
    "    FROM changelog_to_inprogress AS T\n",
    "    WHERE (1 = 1)\n",
    "        AND F.key = T.key \n",
    "        AND F.project = T.project \n",
    "        AND F.created > T.created\n",
    "    LIMIT 1) AS T\n",
    "\"\"\"\n",
    "\n",
    "print(ps.sqldf(q1, locals()))"
   ]
  },
  {
   "cell_type": "code",
   "execution_count": 120,
   "metadata": {},
   "outputs": [
    {
     "data": {
      "text/plain": [
       "\"\\n# filter changelog with the textual fields\\ntime_log_filtered = changelog[changelog['field'].isin(['timeestimate', 'timespent', 'Time Spent', 'timeoriginalestimate'])]\\n\\n# take only necessary columns \\ncols = ['key', 'project', 'author', 'field', 'created', 'to', 'toString']\\ntime_log_cols = time_log_filtered[cols]\\n\\ntime_log_cols.field.unique()\\n\\n\\n\\n#1. in descriptions: only leave the latest edited descriptions per unique project key. \\n        ###(get uniques issues, join log with 'project', 'key', 'status' and get the lates onr by created date.)\\ntime_log_grouped = time_log_cols.groupby((['project', 'key', 'field'])).agg({'created':'max'})\\ntime_log_grouped.reset_index(level= [0,1,2], inplace=True)\\n\\ntime_latest_logs_from_issues = pd.merge(time_log_cols, time_log_grouped, how = 'inner',\\n                                   left_on = ['project', 'key', 'field', 'created'],\\n                                   right_on = ['project', 'key', 'field', 'created'])\\n\\nprint(time_log_cols.shape[0], time_log_grouped.shape[0], time_latest_logs_from_issues.shape[0]) \\ntime_latest_logs_from_issues.head(6)\\ntime_log_cols = time_latest_logs_from_issues\\n\\n#Let's find out, how many of the issues have both, estimated time and actual time spent\\ntime_log_cols = time_log_cols[(time_log_cols['toString'] != '0') & (pd.isnull(time_log_cols['toString']) == False) ].sort_values('key')\\ntime_log_cols_gr = time_log_cols.groupby(['key', 'project', 'author']).agg({'created': 'count'})\\nime_log_cols_gr_ds = time_log_cols_gr.reset_index(level= [0, 1, 2], inplace=False)\\nime_log_cols_gr_ds[ime_log_cols_gr_ds['created']>1].shape[0]\\n\\n# TO-DO: \\n# 1) Calculate actual completion time by: Dataset Issues, column 'created', column 'resolutiondate' when 'resolution.name'=='Complete'\\n# 2) Calculate the story points for the issues calculated above.\\n# 3) \\n\""
      ]
     },
     "execution_count": 120,
     "metadata": {},
     "output_type": "execute_result"
    }
   ],
   "source": [
    "'''\n",
    "# filter changelog with the textual fields\n",
    "time_log_filtered = changelog[changelog['field'].isin(['timeestimate', 'timespent', 'Time Spent', 'timeoriginalestimate'])]\n",
    "\n",
    "# take only necessary columns \n",
    "cols = ['key', 'project', 'author', 'field', 'created', 'to', 'toString']\n",
    "time_log_cols = time_log_filtered[cols]\n",
    "\n",
    "time_log_cols.field.unique()\n",
    "\n",
    "\n",
    "\n",
    "#1. in descriptions: only leave the latest edited descriptions per unique project key. \n",
    "        ###(get uniques issues, join log with 'project', 'key', 'status' and get the lates onr by created date.)\n",
    "time_log_grouped = time_log_cols.groupby((['project', 'key', 'field'])).agg({'created':'max'})\n",
    "time_log_grouped.reset_index(level= [0,1,2], inplace=True)\n",
    "\n",
    "time_latest_logs_from_issues = pd.merge(time_log_cols, time_log_grouped, how = 'inner',\n",
    "                                   left_on = ['project', 'key', 'field', 'created'],\n",
    "                                   right_on = ['project', 'key', 'field', 'created'])\n",
    "\n",
    "print(time_log_cols.shape[0], time_log_grouped.shape[0], time_latest_logs_from_issues.shape[0]) \n",
    "time_latest_logs_from_issues.head(6)\n",
    "time_log_cols = time_latest_logs_from_issues\n",
    "\n",
    "#Let's find out, how many of the issues have both, estimated time and actual time spent\n",
    "time_log_cols = time_log_cols[(time_log_cols['toString'] != '0') & (pd.isnull(time_log_cols['toString']) == False) ].sort_values('key')\n",
    "time_log_cols_gr = time_log_cols.groupby(['key', 'project', 'author']).agg({'created': 'count'})\n",
    "ime_log_cols_gr_ds = time_log_cols_gr.reset_index(level= [0, 1, 2], inplace=False)\n",
    "ime_log_cols_gr_ds[ime_log_cols_gr_ds['created']>1].shape[0]\n",
    "\n",
    "# TO-DO: \n",
    "# 1) Calculate actual completion time by: Dataset Issues, column 'created', column 'resolutiondate' when 'resolution.name'=='Complete'\n",
    "# 2) Calculate the story points for the issues calculated above.\n",
    "# 3) \n",
    "'''"
   ]
  },
  {
   "cell_type": "code",
   "execution_count": null,
   "metadata": {},
   "outputs": [],
   "source": []
  },
  {
   "cell_type": "code",
   "execution_count": null,
   "metadata": {},
   "outputs": [],
   "source": []
  }
 ],
 "metadata": {
  "kernelspec": {
   "display_name": "Python 3",
   "language": "python",
   "name": "python3"
  },
  "language_info": {
   "codemirror_mode": {
    "name": "ipython",
    "version": 3
   },
   "file_extension": ".py",
   "mimetype": "text/x-python",
   "name": "python",
   "nbconvert_exporter": "python",
   "pygments_lexer": "ipython3",
   "version": "3.7.3"
  }
 },
 "nbformat": 4,
 "nbformat_minor": 2
}
